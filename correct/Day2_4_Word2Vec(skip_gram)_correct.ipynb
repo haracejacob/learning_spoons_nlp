{
 "cells": [
  {
   "cell_type": "markdown",
   "metadata": {
    "colab_type": "text",
    "id": "NyMh6il00dp_"
   },
   "source": [
    "# Word2Vec(skip gram)"
   ]
  },
  {
   "cell_type": "code",
   "execution_count": 1,
   "metadata": {
    "colab": {},
    "colab_type": "code",
    "id": "jTUGI6xu0YK0"
   },
   "outputs": [],
   "source": [
    "import tensorflow as tf\n",
    "import numpy as np\n",
    "import os"
   ]
  },
  {
   "cell_type": "code",
   "execution_count": 2,
   "metadata": {
    "colab": {},
    "colab_type": "code",
    "id": "cZUorLxYsYv3"
   },
   "outputs": [],
   "source": [
    "samples = [\"철수은 축구를 좋아한다\",\n",
    "          \"영희은 축구를 싫어한다\",\n",
    "          \"철수은 도서관을 좋아한다\",\n",
    "          \"영희은 도서관을 싫어한다\",\n",
    "          \"철수은 공부를 좋아한다\",\n",
    "          \"영희은 공부를 싫어한다\",\n",
    "          \"철수은 축구를 좋아한다 영희은 축구를 싫어한다\"]"
   ]
  },
  {
   "cell_type": "code",
   "execution_count": 3,
   "metadata": {
    "colab": {
     "base_uri": "https://localhost:8080/",
     "height": 70
    },
    "colab_type": "code",
    "executionInfo": {
     "elapsed": 46864,
     "status": "ok",
     "timestamp": 1559967679564,
     "user": {
      "displayName": "ChangWook Jun",
      "photoUrl": "https://lh6.googleusercontent.com/-NHLAhAbNfPg/AAAAAAAAAAI/AAAAAAAAAEc/NDLQ8z7-qns/s64/photo.jpg",
      "userId": "00685987924881157185"
     },
     "user_tz": -540
    },
    "id": "Iz-Q4h3GsgYm",
    "outputId": "e6008e70-f975-49e4-f6b3-d4bd660f328d"
   },
   "outputs": [],
   "source": [
    "from tensorflow.keras import preprocessing\n",
    "\n",
    "tokenizer = preprocessing.text.Tokenizer()\n",
    "tokenizer.fit_on_texts(samples) \n",
    "sequences = tokenizer.texts_to_sequences(samples) \n",
    "\n",
    "word_to_index = tokenizer.word_index"
   ]
  },
  {
   "cell_type": "code",
   "execution_count": 4,
   "metadata": {},
   "outputs": [
    {
     "name": "stdout",
     "output_type": "stream",
     "text": [
      "{1: '철수은', 2: '축구를', 3: '좋아한다', 4: '영희은', 5: '싫어한다', 6: '도서관을', 7: '공부를'}\n"
     ]
    }
   ],
   "source": [
    "index_to_word = dict((i, w) for w, i in word_to_index.items())\n",
    "print(index_to_word)"
   ]
  },
  {
   "cell_type": "code",
   "execution_count": 5,
   "metadata": {},
   "outputs": [
    {
     "name": "stdout",
     "output_type": "stream",
     "text": [
      "sequences: [[1, 2, 3], [4, 2, 5], [1, 6, 3], [4, 6, 5], [1, 7, 3], [4, 7, 5], [1, 2, 3, 4, 2, 5]]\n",
      "skip_gram_data\n",
      "[[1, 2], [3, 2], [4, 2], [5, 2], [1, 6], [3, 6], [4, 6], [5, 6], [1, 7], [3, 7], [4, 7], [5, 7], [1, 2], [3, 2], [2, 3], [4, 3], [3, 4], [2, 4], [4, 2], [5, 2]]\n"
     ]
    }
   ],
   "source": [
    "skip_gram_data = []\n",
    "print(f'sequences: {sequences}')\n",
    "\n",
    "for sequence in sequences:\n",
    "    for i in range(1, len(sequence) - 1):\n",
    "        context = sequence[i]\n",
    "        target = sequence[i - 1]\n",
    "        skip_gram_data.append([target, context])\n",
    "        target = sequence[i+1]\n",
    "        skip_gram_data.append([target, context])\n",
    "        \n",
    "print(f'skip_gram_data\\n{skip_gram_data}')"
   ]
  },
  {
   "cell_type": "code",
   "execution_count": 6,
   "metadata": {
    "colab": {},
    "colab_type": "code",
    "id": "JbMB4WHUuoCn"
   },
   "outputs": [],
   "source": [
    "context = []\n",
    "target = []\n",
    "for i in range(len(skip_gram_data)):\n",
    "    context.append(skip_gram_data[i][0])  # context\n",
    "    target.append(skip_gram_data[i][1])  # label"
   ]
  },
  {
   "cell_type": "code",
   "execution_count": 7,
   "metadata": {},
   "outputs": [],
   "source": [
    "def mapping_fn(context, target):\n",
    "    features = {\"context\": context}\n",
    "    return features, target"
   ]
  },
  {
   "cell_type": "code",
   "execution_count": 8,
   "metadata": {
    "colab": {},
    "colab_type": "code",
    "id": "qD-75Pscjnwm"
   },
   "outputs": [],
   "source": [
    "EPOCH_SIZE = 1500\n",
    "BATCH_SIZE = 2\n",
    "\n",
    "def train_input_fn():\n",
    "    dataset = tf.data.Dataset.from_tensor_slices((context, target))\n",
    "    dataset = dataset.repeat(EPOCH_SIZE)\n",
    "    dataset = dataset.batch(BATCH_SIZE)\n",
    "    dataset = dataset.shuffle(len(skip_gram_data))\n",
    "    dataset = dataset.map(mapping_fn)\n",
    "\n",
    "    return dataset"
   ]
  },
  {
   "cell_type": "code",
   "execution_count": 9,
   "metadata": {
    "colab": {},
    "colab_type": "code",
    "id": "8JFuOuUp1T-r"
   },
   "outputs": [],
   "source": [
    "VOCAB_SIZE = len(word_to_index) + 1\n",
    "EMB_SIZE = 128\n",
    "\n",
    "def model_fn(features, labels, mode):\n",
    "    \n",
    "    w_1 = tf.Variable(tf.random_uniform([VOCAB_SIZE, EMB_SIZE], -1.0, 1.0)) #(10, 2)\n",
    "    w_2 = tf.Variable(tf.random_uniform([EMB_SIZE, VOCAB_SIZE], -1.0, 1.0)) #(2, 10)\n",
    "\n",
    "    context = tf.one_hot(indices=features['context'], depth=VOCAB_SIZE) #(?, 10)\n",
    "    \n",
    "    hidden = tf.matmul(context, w_1)\n",
    "\n",
    "    output = tf.matmul(hidden, w_2) # (?, 2)*(2, 10) = (?, 10)\n",
    "                                   \n",
    "    targets = tf.one_hot(indices=labels, depth=VOCAB_SIZE)  \n",
    "                                                            \n",
    "    loss = tf.losses.softmax_cross_entropy(targets, output)\n",
    "\n",
    "    global_step = tf.train.get_global_step()\n",
    "    train_op = tf.train.AdamOptimizer(1e-3).minimize(loss, global_step)\n",
    "\n",
    "\n",
    "    return tf.estimator.EstimatorSpec(\n",
    "          mode=mode,\n",
    "          train_op=train_op,\n",
    "          loss=loss)"
   ]
  },
  {
   "cell_type": "code",
   "execution_count": 10,
   "metadata": {
    "colab": {
     "base_uri": "https://localhost:8080/",
     "height": 171
    },
    "colab_type": "code",
    "executionInfo": {
     "elapsed": 837,
     "status": "ok",
     "timestamp": 1559968021263,
     "user": {
      "displayName": "ChangWook Jun",
      "photoUrl": "https://lh6.googleusercontent.com/-NHLAhAbNfPg/AAAAAAAAAAI/AAAAAAAAAEc/NDLQ8z7-qns/s64/photo.jpg",
      "userId": "00685987924881157185"
     },
     "user_tz": -540
    },
    "id": "LkOq-ALqqGde",
    "outputId": "633db1f8-8924-49b5-a858-0992e2f2473c"
   },
   "outputs": [],
   "source": [
    "DATA_OUT_PATH = './data_out/'\n",
    "\n",
    "if not os.path.exists(DATA_OUT_PATH):\n",
    "    os.makedirs(DATA_OUT_PATH)\n",
    "\n",
    "estimator = tf.estimator.Estimator(model_fn = model_fn, model_dir = DATA_OUT_PATH + 'checkpoint/skip_gram')"
   ]
  },
  {
   "cell_type": "code",
   "execution_count": 11,
   "metadata": {},
   "outputs": [],
   "source": [
    "tf.logging.set_verbosity(tf.logging.INFO)"
   ]
  },
  {
   "cell_type": "code",
   "execution_count": 12,
   "metadata": {
    "colab": {
     "base_uri": "https://localhost:8080/",
     "height": 3145
    },
    "colab_type": "code",
    "executionInfo": {
     "elapsed": 8180,
     "status": "ok",
     "timestamp": 1559968030071,
     "user": {
      "displayName": "ChangWook Jun",
      "photoUrl": "https://lh6.googleusercontent.com/-NHLAhAbNfPg/AAAAAAAAAAI/AAAAAAAAAEc/NDLQ8z7-qns/s64/photo.jpg",
      "userId": "00685987924881157185"
     },
     "user_tz": -540
    },
    "id": "qXnB35dNqW9G",
    "outputId": "c25ba7fc-2d49-4e00-aaa0-bef740bc129a",
    "scrolled": true
   },
   "outputs": [
    {
     "name": "stderr",
     "output_type": "stream",
     "text": [
      "WARNING: Logging before flag parsing goes to stderr.\n",
      "W0831 01:21:48.429493 4356462016 deprecation.py:323] From /Users/chojunghyun/anaconda3/envs/tensorflow/lib/python3.6/site-packages/tensorflow/python/training/training_util.py:236: Variable.initialized_value (from tensorflow.python.ops.variables) is deprecated and will be removed in a future version.\n",
      "Instructions for updating:\n",
      "Use Variable.read_value. Variables in 2.X are initialized automatically both in eager and graph (inside tf.defun) contexts.\n",
      "I0831 01:21:48.467585 4356462016 estimator.py:1145] Calling model_fn.\n",
      "W0831 01:21:48.506525 4356462016 deprecation.py:323] From /Users/chojunghyun/anaconda3/envs/tensorflow/lib/python3.6/site-packages/tensorflow/python/ops/losses/losses_impl.py:121: add_dispatch_support.<locals>.wrapper (from tensorflow.python.ops.array_ops) is deprecated and will be removed in a future version.\n",
      "Instructions for updating:\n",
      "Use tf.where in 2.0, which has the same broadcast rule as np.where\n",
      "I0831 01:21:48.567984 4356462016 estimator.py:1147] Done calling model_fn.\n",
      "I0831 01:21:48.569695 4356462016 basic_session_run_hooks.py:541] Create CheckpointSaverHook.\n",
      "I0831 01:21:48.644083 4356462016 monitored_session.py:240] Graph was finalized.\n",
      "W0831 01:21:48.648724 4356462016 deprecation.py:323] From /Users/chojunghyun/anaconda3/envs/tensorflow/lib/python3.6/site-packages/tensorflow/python/training/saver.py:1276: checkpoint_exists (from tensorflow.python.training.checkpoint_management) is deprecated and will be removed in a future version.\n",
      "Instructions for updating:\n",
      "Use standard file APIs to check for files with this prefix.\n",
      "I0831 01:21:48.650145 4356462016 saver.py:1280] Restoring parameters from ./data_out/checkpoint/skip_gram/model.ckpt-30000\n",
      "W0831 01:21:48.666023 4356462016 deprecation.py:323] From /Users/chojunghyun/anaconda3/envs/tensorflow/lib/python3.6/site-packages/tensorflow/python/training/saver.py:1066: get_checkpoint_mtimes (from tensorflow.python.training.checkpoint_management) is deprecated and will be removed in a future version.\n",
      "Instructions for updating:\n",
      "Use standard file utilities to get mtimes.\n",
      "I0831 01:21:48.679601 4356462016 session_manager.py:500] Running local_init_op.\n",
      "I0831 01:21:48.684687 4356462016 session_manager.py:502] Done running local_init_op.\n",
      "I0831 01:21:48.788935 4356462016 basic_session_run_hooks.py:606] Saving checkpoints for 30000 into ./data_out/checkpoint/skip_gram/model.ckpt.\n",
      "I0831 01:21:48.872982 4356462016 basic_session_run_hooks.py:262] loss = 0.70693636, step = 30001\n",
      "I0831 01:21:48.946992 4356462016 basic_session_run_hooks.py:692] global_step/sec: 1347.17\n",
      "I0831 01:21:48.947685 4356462016 basic_session_run_hooks.py:260] loss = 1.076374, step = 30101 (0.075 sec)\n",
      "I0831 01:21:48.988793 4356462016 basic_session_run_hooks.py:692] global_step/sec: 2391.88\n",
      "I0831 01:21:48.989488 4356462016 basic_session_run_hooks.py:260] loss = 1.580379, step = 30201 (0.042 sec)\n",
      "I0831 01:21:49.031647 4356462016 basic_session_run_hooks.py:692] global_step/sec: 2333.51\n",
      "I0831 01:21:49.032320 4356462016 basic_session_run_hooks.py:260] loss = 1.3546175, step = 30301 (0.043 sec)\n",
      "I0831 01:21:49.075738 4356462016 basic_session_run_hooks.py:692] global_step/sec: 2268.18\n",
      "I0831 01:21:49.076439 4356462016 basic_session_run_hooks.py:260] loss = 1.0915034, step = 30401 (0.044 sec)\n",
      "I0831 01:21:49.118789 4356462016 basic_session_run_hooks.py:692] global_step/sec: 2322.67\n",
      "I0831 01:21:49.119472 4356462016 basic_session_run_hooks.py:260] loss = 1.2648478, step = 30501 (0.043 sec)\n",
      "I0831 01:21:49.163411 4356462016 basic_session_run_hooks.py:692] global_step/sec: 2241.1\n",
      "I0831 01:21:49.164118 4356462016 basic_session_run_hooks.py:260] loss = 1.483426, step = 30601 (0.045 sec)\n",
      "I0831 01:21:49.207587 4356462016 basic_session_run_hooks.py:692] global_step/sec: 2263.67\n",
      "I0831 01:21:49.208260 4356462016 basic_session_run_hooks.py:260] loss = 1.67876, step = 30701 (0.044 sec)\n",
      "I0831 01:21:49.250609 4356462016 basic_session_run_hooks.py:692] global_step/sec: 2324.46\n",
      "I0831 01:21:49.251309 4356462016 basic_session_run_hooks.py:260] loss = 1.1220305, step = 30801 (0.043 sec)\n",
      "I0831 01:21:49.295127 4356462016 basic_session_run_hooks.py:692] global_step/sec: 2246.43\n",
      "I0831 01:21:49.295858 4356462016 basic_session_run_hooks.py:260] loss = 0.75510645, step = 30901 (0.045 sec)\n",
      "I0831 01:21:49.339407 4356462016 basic_session_run_hooks.py:692] global_step/sec: 2258.11\n",
      "I0831 01:21:49.340106 4356462016 basic_session_run_hooks.py:260] loss = 0.82590175, step = 31001 (0.044 sec)\n",
      "I0831 01:21:49.384312 4356462016 basic_session_run_hooks.py:692] global_step/sec: 2227.32\n",
      "I0831 01:21:49.385128 4356462016 basic_session_run_hooks.py:260] loss = 1.0706735, step = 31101 (0.045 sec)\n",
      "I0831 01:21:49.428767 4356462016 basic_session_run_hooks.py:692] global_step/sec: 2249.45\n",
      "I0831 01:21:49.429561 4356462016 basic_session_run_hooks.py:260] loss = 1.3266551, step = 31201 (0.044 sec)\n",
      "I0831 01:21:49.473855 4356462016 basic_session_run_hooks.py:692] global_step/sec: 2217.69\n",
      "I0831 01:21:49.474608 4356462016 basic_session_run_hooks.py:260] loss = 0.74911726, step = 31301 (0.045 sec)\n",
      "I0831 01:21:49.518589 4356462016 basic_session_run_hooks.py:692] global_step/sec: 2235.39\n",
      "I0831 01:21:49.519368 4356462016 basic_session_run_hooks.py:260] loss = 1.2125757, step = 31401 (0.045 sec)\n",
      "I0831 01:21:49.563110 4356462016 basic_session_run_hooks.py:692] global_step/sec: 2246.13\n",
      "I0831 01:21:49.563909 4356462016 basic_session_run_hooks.py:260] loss = 0.96966547, step = 31501 (0.045 sec)\n",
      "I0831 01:21:49.606975 4356462016 basic_session_run_hooks.py:692] global_step/sec: 2279.51\n",
      "I0831 01:21:49.607728 4356462016 basic_session_run_hooks.py:260] loss = 0.83200204, step = 31601 (0.044 sec)\n",
      "I0831 01:21:49.652562 4356462016 basic_session_run_hooks.py:692] global_step/sec: 2193.66\n",
      "I0831 01:21:49.653283 4356462016 basic_session_run_hooks.py:260] loss = 1.2972777, step = 31701 (0.046 sec)\n",
      "I0831 01:21:49.696594 4356462016 basic_session_run_hooks.py:692] global_step/sec: 2271.54\n",
      "I0831 01:21:49.697296 4356462016 basic_session_run_hooks.py:260] loss = 1.3628545, step = 31801 (0.044 sec)\n",
      "I0831 01:21:49.740944 4356462016 basic_session_run_hooks.py:692] global_step/sec: 2254.59\n",
      "I0831 01:21:49.741679 4356462016 basic_session_run_hooks.py:260] loss = 0.9230716, step = 31901 (0.044 sec)\n",
      "I0831 01:21:49.786859 4356462016 basic_session_run_hooks.py:692] global_step/sec: 2177.74\n",
      "I0831 01:21:49.787702 4356462016 basic_session_run_hooks.py:260] loss = 1.5709713, step = 32001 (0.046 sec)\n",
      "I0831 01:21:49.829343 4356462016 basic_session_run_hooks.py:692] global_step/sec: 2353.84\n",
      "I0831 01:21:49.830051 4356462016 basic_session_run_hooks.py:260] loss = 0.71514916, step = 32101 (0.042 sec)\n",
      "I0831 01:21:49.876311 4356462016 basic_session_run_hooks.py:692] global_step/sec: 2129.29\n",
      "I0831 01:21:49.877095 4356462016 basic_session_run_hooks.py:260] loss = 1.5692463, step = 32201 (0.047 sec)\n",
      "I0831 01:21:49.920064 4356462016 basic_session_run_hooks.py:692] global_step/sec: 2285.39\n",
      "I0831 01:21:49.920844 4356462016 basic_session_run_hooks.py:260] loss = 1.5489216, step = 32301 (0.044 sec)\n",
      "I0831 01:21:49.964137 4356462016 basic_session_run_hooks.py:692] global_step/sec: 2269.69\n",
      "I0831 01:21:49.964815 4356462016 basic_session_run_hooks.py:260] loss = 1.4288807, step = 32401 (0.044 sec)\n",
      "I0831 01:21:50.008030 4356462016 basic_session_run_hooks.py:692] global_step/sec: 2277.64\n",
      "I0831 01:21:50.008752 4356462016 basic_session_run_hooks.py:260] loss = 0.76083493, step = 32501 (0.044 sec)\n",
      "I0831 01:21:50.051522 4356462016 basic_session_run_hooks.py:692] global_step/sec: 2299.11\n",
      "I0831 01:21:50.052239 4356462016 basic_session_run_hooks.py:260] loss = 1.5086354, step = 32601 (0.043 sec)\n",
      "I0831 01:21:50.094809 4356462016 basic_session_run_hooks.py:692] global_step/sec: 2310.27\n",
      "I0831 01:21:50.095561 4356462016 basic_session_run_hooks.py:260] loss = 0.75425637, step = 32701 (0.043 sec)\n",
      "I0831 01:21:50.143514 4356462016 basic_session_run_hooks.py:692] global_step/sec: 2055.25\n",
      "I0831 01:21:50.144775 4356462016 basic_session_run_hooks.py:260] loss = 1.596102, step = 32801 (0.049 sec)\n",
      "I0831 01:21:50.196264 4356462016 basic_session_run_hooks.py:692] global_step/sec: 1893.83\n",
      "I0831 01:21:50.196984 4356462016 basic_session_run_hooks.py:260] loss = 1.6220467, step = 32901 (0.052 sec)\n"
     ]
    },
    {
     "name": "stderr",
     "output_type": "stream",
     "text": [
      "I0831 01:21:50.241065 4356462016 basic_session_run_hooks.py:692] global_step/sec: 2232.34\n",
      "I0831 01:21:50.241863 4356462016 basic_session_run_hooks.py:260] loss = 1.4473563, step = 33001 (0.045 sec)\n",
      "I0831 01:21:50.284273 4356462016 basic_session_run_hooks.py:692] global_step/sec: 2314.18\n",
      "I0831 01:21:50.284973 4356462016 basic_session_run_hooks.py:260] loss = 1.04406, step = 33101 (0.043 sec)\n",
      "I0831 01:21:50.327982 4356462016 basic_session_run_hooks.py:692] global_step/sec: 2288.07\n",
      "I0831 01:21:50.328716 4356462016 basic_session_run_hooks.py:260] loss = 1.2274563, step = 33201 (0.044 sec)\n",
      "I0831 01:21:50.372297 4356462016 basic_session_run_hooks.py:692] global_step/sec: 2256.52\n",
      "I0831 01:21:50.373008 4356462016 basic_session_run_hooks.py:260] loss = 1.3065498, step = 33301 (0.044 sec)\n",
      "I0831 01:21:50.415932 4356462016 basic_session_run_hooks.py:692] global_step/sec: 2291.78\n",
      "I0831 01:21:50.416677 4356462016 basic_session_run_hooks.py:260] loss = 1.609859, step = 33401 (0.044 sec)\n",
      "I0831 01:21:50.460451 4356462016 basic_session_run_hooks.py:692] global_step/sec: 2246.14\n",
      "I0831 01:21:50.461168 4356462016 basic_session_run_hooks.py:260] loss = 1.6684263, step = 33501 (0.044 sec)\n",
      "I0831 01:21:50.503871 4356462016 basic_session_run_hooks.py:692] global_step/sec: 2303.03\n",
      "I0831 01:21:50.504565 4356462016 basic_session_run_hooks.py:260] loss = 0.77756625, step = 33601 (0.043 sec)\n",
      "I0831 01:21:50.548118 4356462016 basic_session_run_hooks.py:692] global_step/sec: 2260.14\n",
      "I0831 01:21:50.548875 4356462016 basic_session_run_hooks.py:260] loss = 1.5553588, step = 33701 (0.044 sec)\n",
      "I0831 01:21:50.592652 4356462016 basic_session_run_hooks.py:692] global_step/sec: 2245.98\n",
      "I0831 01:21:50.593353 4356462016 basic_session_run_hooks.py:260] loss = 0.61716974, step = 33801 (0.044 sec)\n",
      "I0831 01:21:50.636914 4356462016 basic_session_run_hooks.py:692] global_step/sec: 2258.61\n",
      "I0831 01:21:50.637610 4356462016 basic_session_run_hooks.py:260] loss = 0.7714539, step = 33901 (0.044 sec)\n",
      "I0831 01:21:50.680885 4356462016 basic_session_run_hooks.py:692] global_step/sec: 2274.49\n",
      "I0831 01:21:50.681594 4356462016 basic_session_run_hooks.py:260] loss = 0.7914841, step = 34001 (0.044 sec)\n",
      "I0831 01:21:50.724891 4356462016 basic_session_run_hooks.py:692] global_step/sec: 2272.15\n",
      "I0831 01:21:50.725605 4356462016 basic_session_run_hooks.py:260] loss = 1.3210421, step = 34101 (0.044 sec)\n",
      "I0831 01:21:50.767868 4356462016 basic_session_run_hooks.py:692] global_step/sec: 2326.83\n",
      "I0831 01:21:50.768544 4356462016 basic_session_run_hooks.py:260] loss = 0.73573387, step = 34201 (0.043 sec)\n",
      "I0831 01:21:50.811840 4356462016 basic_session_run_hooks.py:692] global_step/sec: 2275.57\n",
      "I0831 01:21:50.812581 4356462016 basic_session_run_hooks.py:260] loss = 0.6339988, step = 34301 (0.044 sec)\n",
      "I0831 01:21:50.857403 4356462016 basic_session_run_hooks.py:692] global_step/sec: 2193.32\n",
      "I0831 01:21:50.858175 4356462016 basic_session_run_hooks.py:260] loss = 0.93011814, step = 34401 (0.046 sec)\n",
      "I0831 01:21:50.900324 4356462016 basic_session_run_hooks.py:692] global_step/sec: 2330.03\n",
      "I0831 01:21:50.901056 4356462016 basic_session_run_hooks.py:260] loss = 1.3691628, step = 34501 (0.043 sec)\n",
      "I0831 01:21:50.944787 4356462016 basic_session_run_hooks.py:692] global_step/sec: 2250.18\n",
      "I0831 01:21:50.945510 4356462016 basic_session_run_hooks.py:260] loss = 1.492743, step = 34601 (0.044 sec)\n",
      "I0831 01:21:50.987739 4356462016 basic_session_run_hooks.py:692] global_step/sec: 2326.99\n",
      "I0831 01:21:50.988442 4356462016 basic_session_run_hooks.py:260] loss = 1.2750126, step = 34701 (0.043 sec)\n",
      "I0831 01:21:51.032063 4356462016 basic_session_run_hooks.py:692] global_step/sec: 2256.11\n",
      "I0831 01:21:51.032778 4356462016 basic_session_run_hooks.py:260] loss = 0.73964524, step = 34801 (0.044 sec)\n",
      "I0831 01:21:51.076033 4356462016 basic_session_run_hooks.py:692] global_step/sec: 2274.22\n",
      "I0831 01:21:51.076725 4356462016 basic_session_run_hooks.py:260] loss = 1.3390862, step = 34901 (0.044 sec)\n",
      "I0831 01:21:51.119763 4356462016 basic_session_run_hooks.py:692] global_step/sec: 2286.82\n",
      "I0831 01:21:51.120449 4356462016 basic_session_run_hooks.py:260] loss = 0.68693006, step = 35001 (0.044 sec)\n",
      "I0831 01:21:51.163640 4356462016 basic_session_run_hooks.py:692] global_step/sec: 2279.19\n",
      "I0831 01:21:51.164381 4356462016 basic_session_run_hooks.py:260] loss = 1.4431877, step = 35101 (0.044 sec)\n",
      "I0831 01:21:51.207834 4356462016 basic_session_run_hooks.py:692] global_step/sec: 2262.71\n",
      "I0831 01:21:51.208549 4356462016 basic_session_run_hooks.py:260] loss = 0.96955365, step = 35201 (0.044 sec)\n",
      "I0831 01:21:51.251172 4356462016 basic_session_run_hooks.py:692] global_step/sec: 2307.43\n",
      "I0831 01:21:51.251875 4356462016 basic_session_run_hooks.py:260] loss = 1.2588583, step = 35301 (0.043 sec)\n",
      "I0831 01:21:51.293968 4356462016 basic_session_run_hooks.py:692] global_step/sec: 2336.62\n",
      "I0831 01:21:51.294664 4356462016 basic_session_run_hooks.py:260] loss = 1.4108723, step = 35401 (0.043 sec)\n",
      "I0831 01:21:51.336238 4356462016 basic_session_run_hooks.py:692] global_step/sec: 2365.91\n",
      "I0831 01:21:51.336970 4356462016 basic_session_run_hooks.py:260] loss = 1.6973108, step = 35501 (0.042 sec)\n",
      "I0831 01:21:51.380227 4356462016 basic_session_run_hooks.py:692] global_step/sec: 2273.14\n",
      "I0831 01:21:51.380908 4356462016 basic_session_run_hooks.py:260] loss = 0.9181578, step = 35601 (0.044 sec)\n",
      "I0831 01:21:51.423074 4356462016 basic_session_run_hooks.py:692] global_step/sec: 2333.79\n",
      "I0831 01:21:51.423746 4356462016 basic_session_run_hooks.py:260] loss = 1.47118, step = 35701 (0.043 sec)\n",
      "I0831 01:21:51.466798 4356462016 basic_session_run_hooks.py:692] global_step/sec: 2287.33\n",
      "I0831 01:21:51.467571 4356462016 basic_session_run_hooks.py:260] loss = 0.78843284, step = 35801 (0.044 sec)\n",
      "I0831 01:21:51.510067 4356462016 basic_session_run_hooks.py:692] global_step/sec: 2311.08\n",
      "I0831 01:21:51.510769 4356462016 basic_session_run_hooks.py:260] loss = 1.2158046, step = 35901 (0.043 sec)\n",
      "I0831 01:21:51.553980 4356462016 basic_session_run_hooks.py:692] global_step/sec: 2277.01\n",
      "I0831 01:21:51.554655 4356462016 basic_session_run_hooks.py:260] loss = 0.82850826, step = 36001 (0.044 sec)\n",
      "I0831 01:21:51.597327 4356462016 basic_session_run_hooks.py:692] global_step/sec: 2307.12\n",
      "I0831 01:21:51.598024 4356462016 basic_session_run_hooks.py:260] loss = 1.6650883, step = 36101 (0.043 sec)\n",
      "I0831 01:21:51.641637 4356462016 basic_session_run_hooks.py:692] global_step/sec: 2256.79\n",
      "I0831 01:21:51.642348 4356462016 basic_session_run_hooks.py:260] loss = 0.80987406, step = 36201 (0.044 sec)\n",
      "I0831 01:21:51.685648 4356462016 basic_session_run_hooks.py:692] global_step/sec: 2272.36\n",
      "I0831 01:21:51.686398 4356462016 basic_session_run_hooks.py:260] loss = 1.050029, step = 36301 (0.044 sec)\n",
      "I0831 01:21:51.728477 4356462016 basic_session_run_hooks.py:692] global_step/sec: 2334.76\n",
      "I0831 01:21:51.729182 4356462016 basic_session_run_hooks.py:260] loss = 1.6357489, step = 36401 (0.043 sec)\n",
      "I0831 01:21:51.771612 4356462016 basic_session_run_hooks.py:692] global_step/sec: 2318.31\n",
      "I0831 01:21:51.772324 4356462016 basic_session_run_hooks.py:260] loss = 1.538465, step = 36501 (0.043 sec)\n",
      "I0831 01:21:51.815371 4356462016 basic_session_run_hooks.py:692] global_step/sec: 2285.29\n",
      "I0831 01:21:51.816167 4356462016 basic_session_run_hooks.py:260] loss = 1.3343105, step = 36601 (0.044 sec)\n",
      "I0831 01:21:51.858603 4356462016 basic_session_run_hooks.py:692] global_step/sec: 2312.99\n",
      "I0831 01:21:51.859313 4356462016 basic_session_run_hooks.py:260] loss = 0.8842621, step = 36701 (0.043 sec)\n",
      "I0831 01:21:51.901623 4356462016 basic_session_run_hooks.py:692] global_step/sec: 2324.62\n",
      "I0831 01:21:51.902330 4356462016 basic_session_run_hooks.py:260] loss = 1.5567567, step = 36801 (0.043 sec)\n",
      "I0831 01:21:51.944974 4356462016 basic_session_run_hooks.py:692] global_step/sec: 2306.69\n",
      "I0831 01:21:51.945667 4356462016 basic_session_run_hooks.py:260] loss = 0.76449883, step = 36901 (0.043 sec)\n",
      "I0831 01:21:51.988584 4356462016 basic_session_run_hooks.py:692] global_step/sec: 2292.95\n",
      "I0831 01:21:51.989259 4356462016 basic_session_run_hooks.py:260] loss = 1.1612549, step = 37001 (0.044 sec)\n",
      "I0831 01:21:52.031898 4356462016 basic_session_run_hooks.py:692] global_step/sec: 2308.74\n"
     ]
    },
    {
     "name": "stderr",
     "output_type": "stream",
     "text": [
      "I0831 01:21:52.032634 4356462016 basic_session_run_hooks.py:260] loss = 1.5043995, step = 37101 (0.043 sec)\n",
      "I0831 01:21:52.075236 4356462016 basic_session_run_hooks.py:692] global_step/sec: 2307.48\n",
      "I0831 01:21:52.076035 4356462016 basic_session_run_hooks.py:260] loss = 0.84947526, step = 37201 (0.043 sec)\n",
      "I0831 01:21:52.118571 4356462016 basic_session_run_hooks.py:692] global_step/sec: 2307.55\n",
      "I0831 01:21:52.119307 4356462016 basic_session_run_hooks.py:260] loss = 1.3775437, step = 37301 (0.043 sec)\n",
      "I0831 01:21:52.160456 4356462016 basic_session_run_hooks.py:692] global_step/sec: 2387.55\n",
      "I0831 01:21:52.161233 4356462016 basic_session_run_hooks.py:260] loss = 0.8520143, step = 37401 (0.042 sec)\n",
      "I0831 01:21:52.203954 4356462016 basic_session_run_hooks.py:692] global_step/sec: 2298.9\n",
      "I0831 01:21:52.204680 4356462016 basic_session_run_hooks.py:260] loss = 1.5859435, step = 37501 (0.043 sec)\n",
      "I0831 01:21:52.248435 4356462016 basic_session_run_hooks.py:692] global_step/sec: 2248.45\n",
      "I0831 01:21:52.249264 4356462016 basic_session_run_hooks.py:260] loss = 0.63829243, step = 37601 (0.045 sec)\n",
      "I0831 01:21:52.291522 4356462016 basic_session_run_hooks.py:692] global_step/sec: 2321.32\n",
      "I0831 01:21:52.292218 4356462016 basic_session_run_hooks.py:260] loss = 1.6113676, step = 37701 (0.043 sec)\n",
      "I0831 01:21:52.334384 4356462016 basic_session_run_hooks.py:692] global_step/sec: 2332.31\n",
      "I0831 01:21:52.335049 4356462016 basic_session_run_hooks.py:260] loss = 1.3631927, step = 37801 (0.043 sec)\n",
      "I0831 01:21:52.377489 4356462016 basic_session_run_hooks.py:692] global_step/sec: 2320.89\n",
      "I0831 01:21:52.378182 4356462016 basic_session_run_hooks.py:260] loss = 0.8634597, step = 37901 (0.043 sec)\n",
      "I0831 01:21:52.421893 4356462016 basic_session_run_hooks.py:692] global_step/sec: 2251.29\n",
      "I0831 01:21:52.422621 4356462016 basic_session_run_hooks.py:260] loss = 0.7494597, step = 38001 (0.044 sec)\n",
      "I0831 01:21:52.465743 4356462016 basic_session_run_hooks.py:692] global_step/sec: 2280.39\n",
      "I0831 01:21:52.466472 4356462016 basic_session_run_hooks.py:260] loss = 0.80648184, step = 38101 (0.044 sec)\n",
      "I0831 01:21:52.510186 4356462016 basic_session_run_hooks.py:692] global_step/sec: 2249.92\n",
      "I0831 01:21:52.510869 4356462016 basic_session_run_hooks.py:260] loss = 0.81702435, step = 38201 (0.044 sec)\n",
      "I0831 01:21:52.553457 4356462016 basic_session_run_hooks.py:692] global_step/sec: 2311.14\n",
      "I0831 01:21:52.554192 4356462016 basic_session_run_hooks.py:260] loss = 0.7382012, step = 38301 (0.043 sec)\n",
      "I0831 01:21:52.597491 4356462016 basic_session_run_hooks.py:692] global_step/sec: 2270.96\n",
      "I0831 01:21:52.598209 4356462016 basic_session_run_hooks.py:260] loss = 1.5350325, step = 38401 (0.044 sec)\n",
      "I0831 01:21:52.642435 4356462016 basic_session_run_hooks.py:692] global_step/sec: 2225.14\n",
      "I0831 01:21:52.643216 4356462016 basic_session_run_hooks.py:260] loss = 0.7261598, step = 38501 (0.045 sec)\n",
      "I0831 01:21:52.686285 4356462016 basic_session_run_hooks.py:692] global_step/sec: 2280.5\n",
      "I0831 01:21:52.686989 4356462016 basic_session_run_hooks.py:260] loss = 0.66811085, step = 38601 (0.044 sec)\n",
      "I0831 01:21:52.729485 4356462016 basic_session_run_hooks.py:692] global_step/sec: 2315.52\n",
      "I0831 01:21:52.730188 4356462016 basic_session_run_hooks.py:260] loss = 1.3975298, step = 38701 (0.043 sec)\n",
      "I0831 01:21:52.773550 4356462016 basic_session_run_hooks.py:692] global_step/sec: 2268.59\n",
      "I0831 01:21:52.774287 4356462016 basic_session_run_hooks.py:260] loss = 0.95955443, step = 38801 (0.044 sec)\n",
      "I0831 01:21:52.816905 4356462016 basic_session_run_hooks.py:692] global_step/sec: 2306.7\n",
      "I0831 01:21:52.817605 4356462016 basic_session_run_hooks.py:260] loss = 0.839663, step = 38901 (0.043 sec)\n",
      "I0831 01:21:52.859756 4356462016 basic_session_run_hooks.py:692] global_step/sec: 2333.45\n",
      "I0831 01:21:52.860470 4356462016 basic_session_run_hooks.py:260] loss = 1.8010558, step = 39001 (0.043 sec)\n",
      "I0831 01:21:52.903872 4356462016 basic_session_run_hooks.py:692] global_step/sec: 2266.86\n",
      "I0831 01:21:52.904598 4356462016 basic_session_run_hooks.py:260] loss = 1.1627836, step = 39101 (0.044 sec)\n",
      "I0831 01:21:52.948503 4356462016 basic_session_run_hooks.py:692] global_step/sec: 2240.39\n",
      "I0831 01:21:52.949217 4356462016 basic_session_run_hooks.py:260] loss = 0.9969269, step = 39201 (0.045 sec)\n",
      "I0831 01:21:52.992259 4356462016 basic_session_run_hooks.py:692] global_step/sec: 2285.46\n",
      "I0831 01:21:52.992990 4356462016 basic_session_run_hooks.py:260] loss = 0.9534953, step = 39301 (0.044 sec)\n",
      "I0831 01:21:53.035403 4356462016 basic_session_run_hooks.py:692] global_step/sec: 2318.78\n",
      "I0831 01:21:53.036164 4356462016 basic_session_run_hooks.py:260] loss = 0.9278635, step = 39401 (0.043 sec)\n",
      "I0831 01:21:53.080046 4356462016 basic_session_run_hooks.py:692] global_step/sec: 2239.18\n",
      "I0831 01:21:53.080797 4356462016 basic_session_run_hooks.py:260] loss = 0.75556386, step = 39501 (0.045 sec)\n",
      "I0831 01:21:53.122266 4356462016 basic_session_run_hooks.py:692] global_step/sec: 2368.55\n",
      "I0831 01:21:53.122956 4356462016 basic_session_run_hooks.py:260] loss = 1.2472128, step = 39601 (0.042 sec)\n",
      "I0831 01:21:53.165282 4356462016 basic_session_run_hooks.py:692] global_step/sec: 2325.58\n",
      "I0831 01:21:53.166069 4356462016 basic_session_run_hooks.py:260] loss = 0.78442323, step = 39701 (0.043 sec)\n",
      "I0831 01:21:53.209076 4356462016 basic_session_run_hooks.py:692] global_step/sec: 2282.69\n",
      "I0831 01:21:53.209841 4356462016 basic_session_run_hooks.py:260] loss = 1.2376617, step = 39801 (0.044 sec)\n",
      "I0831 01:21:53.253314 4356462016 basic_session_run_hooks.py:692] global_step/sec: 2260.7\n",
      "I0831 01:21:53.254196 4356462016 basic_session_run_hooks.py:260] loss = 0.7899169, step = 39901 (0.044 sec)\n",
      "I0831 01:21:53.297732 4356462016 basic_session_run_hooks.py:692] global_step/sec: 2251.13\n",
      "I0831 01:21:53.298408 4356462016 basic_session_run_hooks.py:260] loss = 0.8707715, step = 40001 (0.044 sec)\n",
      "I0831 01:21:53.340550 4356462016 basic_session_run_hooks.py:692] global_step/sec: 2335.58\n",
      "I0831 01:21:53.341351 4356462016 basic_session_run_hooks.py:260] loss = 0.6742673, step = 40101 (0.043 sec)\n",
      "I0831 01:21:53.380797 4356462016 basic_session_run_hooks.py:692] global_step/sec: 2484.35\n",
      "I0831 01:21:53.381505 4356462016 basic_session_run_hooks.py:260] loss = 0.7182746, step = 40201 (0.040 sec)\n",
      "I0831 01:21:53.421695 4356462016 basic_session_run_hooks.py:692] global_step/sec: 2445.23\n",
      "I0831 01:21:53.422407 4356462016 basic_session_run_hooks.py:260] loss = 1.5916257, step = 40301 (0.041 sec)\n",
      "I0831 01:21:53.462682 4356462016 basic_session_run_hooks.py:692] global_step/sec: 2439.78\n",
      "I0831 01:21:53.463428 4356462016 basic_session_run_hooks.py:260] loss = 1.5550945, step = 40401 (0.041 sec)\n",
      "I0831 01:21:53.505300 4356462016 basic_session_run_hooks.py:692] global_step/sec: 2346.39\n",
      "I0831 01:21:53.505998 4356462016 basic_session_run_hooks.py:260] loss = 0.7460445, step = 40501 (0.043 sec)\n",
      "I0831 01:21:53.545561 4356462016 basic_session_run_hooks.py:692] global_step/sec: 2483.91\n",
      "I0831 01:21:53.546261 4356462016 basic_session_run_hooks.py:260] loss = 1.5112333, step = 40601 (0.040 sec)\n",
      "I0831 01:21:53.585477 4356462016 basic_session_run_hooks.py:692] global_step/sec: 2505.26\n",
      "I0831 01:21:53.586154 4356462016 basic_session_run_hooks.py:260] loss = 1.8188193, step = 40701 (0.040 sec)\n",
      "I0831 01:21:53.625639 4356462016 basic_session_run_hooks.py:692] global_step/sec: 2489.67\n",
      "I0831 01:21:53.626333 4356462016 basic_session_run_hooks.py:260] loss = 0.9467505, step = 40801 (0.040 sec)\n",
      "I0831 01:21:53.666162 4356462016 basic_session_run_hooks.py:692] global_step/sec: 2467.86\n",
      "I0831 01:21:53.666877 4356462016 basic_session_run_hooks.py:260] loss = 0.81647563, step = 40901 (0.041 sec)\n",
      "I0831 01:21:53.706923 4356462016 basic_session_run_hooks.py:692] global_step/sec: 2453.5\n",
      "I0831 01:21:53.707706 4356462016 basic_session_run_hooks.py:260] loss = 1.1366148, step = 41001 (0.041 sec)\n",
      "I0831 01:21:53.747027 4356462016 basic_session_run_hooks.py:692] global_step/sec: 2493.33\n",
      "I0831 01:21:53.747749 4356462016 basic_session_run_hooks.py:260] loss = 1.2591593, step = 41101 (0.040 sec)\n",
      "I0831 01:21:53.787552 4356462016 basic_session_run_hooks.py:692] global_step/sec: 2467.62\n",
      "I0831 01:21:53.788258 4356462016 basic_session_run_hooks.py:260] loss = 1.7794299, step = 41201 (0.041 sec)\n"
     ]
    },
    {
     "name": "stderr",
     "output_type": "stream",
     "text": [
      "I0831 01:21:53.828143 4356462016 basic_session_run_hooks.py:692] global_step/sec: 2463.54\n",
      "I0831 01:21:53.828847 4356462016 basic_session_run_hooks.py:260] loss = 0.7216722, step = 41301 (0.041 sec)\n",
      "I0831 01:21:53.869039 4356462016 basic_session_run_hooks.py:692] global_step/sec: 2445.17\n",
      "I0831 01:21:53.869708 4356462016 basic_session_run_hooks.py:260] loss = 1.1136267, step = 41401 (0.041 sec)\n",
      "I0831 01:21:53.908746 4356462016 basic_session_run_hooks.py:692] global_step/sec: 2518.5\n",
      "I0831 01:21:53.909448 4356462016 basic_session_run_hooks.py:260] loss = 0.8810387, step = 41501 (0.040 sec)\n",
      "I0831 01:21:53.950378 4356462016 basic_session_run_hooks.py:692] global_step/sec: 2402.06\n",
      "I0831 01:21:53.951100 4356462016 basic_session_run_hooks.py:260] loss = 1.8093164, step = 41601 (0.042 sec)\n",
      "I0831 01:21:53.991194 4356462016 basic_session_run_hooks.py:692] global_step/sec: 2450.2\n",
      "I0831 01:21:53.991863 4356462016 basic_session_run_hooks.py:260] loss = 0.7532054, step = 41701 (0.041 sec)\n",
      "I0831 01:21:54.032006 4356462016 basic_session_run_hooks.py:692] global_step/sec: 2450.14\n",
      "I0831 01:21:54.032726 4356462016 basic_session_run_hooks.py:260] loss = 0.93310964, step = 41801 (0.041 sec)\n",
      "I0831 01:21:54.072833 4356462016 basic_session_run_hooks.py:692] global_step/sec: 2449.54\n",
      "I0831 01:21:54.073585 4356462016 basic_session_run_hooks.py:260] loss = 1.1782537, step = 41901 (0.041 sec)\n",
      "I0831 01:21:54.116232 4356462016 basic_session_run_hooks.py:692] global_step/sec: 2305.16\n",
      "I0831 01:21:54.117157 4356462016 basic_session_run_hooks.py:260] loss = 1.2745883, step = 42001 (0.044 sec)\n",
      "I0831 01:21:54.166032 4356462016 basic_session_run_hooks.py:692] global_step/sec: 2008.43\n",
      "I0831 01:21:54.166888 4356462016 basic_session_run_hooks.py:260] loss = 0.87515396, step = 42101 (0.050 sec)\n",
      "I0831 01:21:54.209628 4356462016 basic_session_run_hooks.py:692] global_step/sec: 2292.06\n",
      "I0831 01:21:54.210305 4356462016 basic_session_run_hooks.py:260] loss = 0.6426017, step = 42201 (0.043 sec)\n",
      "I0831 01:21:54.253914 4356462016 basic_session_run_hooks.py:692] global_step/sec: 2258.15\n",
      "I0831 01:21:54.254626 4356462016 basic_session_run_hooks.py:260] loss = 0.8795859, step = 42301 (0.044 sec)\n",
      "I0831 01:21:54.297551 4356462016 basic_session_run_hooks.py:692] global_step/sec: 2291.68\n",
      "I0831 01:21:54.298250 4356462016 basic_session_run_hooks.py:260] loss = 0.8427793, step = 42401 (0.044 sec)\n",
      "I0831 01:21:54.341202 4356462016 basic_session_run_hooks.py:692] global_step/sec: 2290.91\n",
      "I0831 01:21:54.341940 4356462016 basic_session_run_hooks.py:260] loss = 1.2445061, step = 42501 (0.044 sec)\n",
      "I0831 01:21:54.385600 4356462016 basic_session_run_hooks.py:692] global_step/sec: 2252.35\n",
      "I0831 01:21:54.386337 4356462016 basic_session_run_hooks.py:260] loss = 1.3746097, step = 42601 (0.044 sec)\n",
      "I0831 01:21:54.430029 4356462016 basic_session_run_hooks.py:692] global_step/sec: 2251.49\n",
      "I0831 01:21:54.430736 4356462016 basic_session_run_hooks.py:260] loss = 1.3517222, step = 42701 (0.044 sec)\n",
      "I0831 01:21:54.473536 4356462016 basic_session_run_hooks.py:692] global_step/sec: 2297.58\n",
      "I0831 01:21:54.474229 4356462016 basic_session_run_hooks.py:260] loss = 0.8316363, step = 42801 (0.043 sec)\n",
      "I0831 01:21:54.517441 4356462016 basic_session_run_hooks.py:692] global_step/sec: 2277.76\n",
      "I0831 01:21:54.518162 4356462016 basic_session_run_hooks.py:260] loss = 0.79252243, step = 42901 (0.044 sec)\n",
      "I0831 01:21:54.560277 4356462016 basic_session_run_hooks.py:692] global_step/sec: 2334.54\n",
      "I0831 01:21:54.561022 4356462016 basic_session_run_hooks.py:260] loss = 1.4161034, step = 43001 (0.043 sec)\n",
      "I0831 01:21:54.604324 4356462016 basic_session_run_hooks.py:692] global_step/sec: 2270.15\n",
      "I0831 01:21:54.605012 4356462016 basic_session_run_hooks.py:260] loss = 1.0920384, step = 43101 (0.044 sec)\n",
      "I0831 01:21:54.646888 4356462016 basic_session_run_hooks.py:692] global_step/sec: 2349.46\n",
      "I0831 01:21:54.647589 4356462016 basic_session_run_hooks.py:260] loss = 0.6469115, step = 43201 (0.043 sec)\n",
      "I0831 01:21:54.690407 4356462016 basic_session_run_hooks.py:692] global_step/sec: 2297.8\n",
      "I0831 01:21:54.691099 4356462016 basic_session_run_hooks.py:260] loss = 1.1762518, step = 43301 (0.044 sec)\n",
      "I0831 01:21:54.735122 4356462016 basic_session_run_hooks.py:692] global_step/sec: 2236.44\n",
      "I0831 01:21:54.735844 4356462016 basic_session_run_hooks.py:260] loss = 1.4469051, step = 43401 (0.045 sec)\n",
      "I0831 01:21:54.777938 4356462016 basic_session_run_hooks.py:692] global_step/sec: 2335.62\n",
      "I0831 01:21:54.778662 4356462016 basic_session_run_hooks.py:260] loss = 0.79224485, step = 43501 (0.043 sec)\n",
      "I0831 01:21:54.821413 4356462016 basic_session_run_hooks.py:692] global_step/sec: 2300.13\n",
      "I0831 01:21:54.822134 4356462016 basic_session_run_hooks.py:260] loss = 1.1419277, step = 43601 (0.043 sec)\n",
      "I0831 01:21:54.865012 4356462016 basic_session_run_hooks.py:692] global_step/sec: 2293.62\n",
      "I0831 01:21:54.865725 4356462016 basic_session_run_hooks.py:260] loss = 1.6553953, step = 43701 (0.044 sec)\n",
      "I0831 01:21:54.909167 4356462016 basic_session_run_hooks.py:692] global_step/sec: 2264.9\n",
      "I0831 01:21:54.909932 4356462016 basic_session_run_hooks.py:260] loss = 1.429454, step = 43801 (0.044 sec)\n",
      "I0831 01:21:54.951464 4356462016 basic_session_run_hooks.py:692] global_step/sec: 2364.19\n",
      "I0831 01:21:54.952197 4356462016 basic_session_run_hooks.py:260] loss = 0.88946605, step = 43901 (0.042 sec)\n",
      "I0831 01:21:54.994024 4356462016 basic_session_run_hooks.py:692] global_step/sec: 2349.68\n",
      "I0831 01:21:54.994772 4356462016 basic_session_run_hooks.py:260] loss = 1.2284869, step = 44001 (0.043 sec)\n",
      "I0831 01:21:55.035150 4356462016 basic_session_run_hooks.py:692] global_step/sec: 2431.54\n",
      "I0831 01:21:55.035861 4356462016 basic_session_run_hooks.py:260] loss = 1.5346105, step = 44101 (0.041 sec)\n",
      "I0831 01:21:55.075973 4356462016 basic_session_run_hooks.py:692] global_step/sec: 2449.79\n",
      "I0831 01:21:55.076751 4356462016 basic_session_run_hooks.py:260] loss = 1.4407028, step = 44201 (0.041 sec)\n",
      "I0831 01:21:55.117815 4356462016 basic_session_run_hooks.py:692] global_step/sec: 2389.59\n",
      "I0831 01:21:55.118537 4356462016 basic_session_run_hooks.py:260] loss = 0.7529937, step = 44301 (0.042 sec)\n",
      "I0831 01:21:55.159709 4356462016 basic_session_run_hooks.py:692] global_step/sec: 2387.16\n",
      "I0831 01:21:55.160458 4356462016 basic_session_run_hooks.py:260] loss = 1.4392434, step = 44401 (0.042 sec)\n",
      "I0831 01:21:55.200375 4356462016 basic_session_run_hooks.py:692] global_step/sec: 2458.86\n",
      "I0831 01:21:55.201072 4356462016 basic_session_run_hooks.py:260] loss = 1.4149499, step = 44501 (0.041 sec)\n",
      "I0831 01:21:55.242432 4356462016 basic_session_run_hooks.py:692] global_step/sec: 2377.79\n",
      "I0831 01:21:55.243146 4356462016 basic_session_run_hooks.py:260] loss = 1.4441055, step = 44601 (0.042 sec)\n",
      "I0831 01:21:55.282151 4356462016 basic_session_run_hooks.py:692] global_step/sec: 2517.88\n",
      "I0831 01:21:55.282863 4356462016 basic_session_run_hooks.py:260] loss = 1.1167687, step = 44701 (0.040 sec)\n",
      "I0831 01:21:55.323131 4356462016 basic_session_run_hooks.py:692] global_step/sec: 2439.87\n",
      "I0831 01:21:55.323814 4356462016 basic_session_run_hooks.py:260] loss = 1.347907, step = 44801 (0.041 sec)\n",
      "I0831 01:21:55.362779 4356462016 basic_session_run_hooks.py:692] global_step/sec: 2522.19\n",
      "I0831 01:21:55.363494 4356462016 basic_session_run_hooks.py:260] loss = 1.7618313, step = 44901 (0.040 sec)\n",
      "I0831 01:21:55.411412 4356462016 basic_session_run_hooks.py:606] Saving checkpoints for 45000 into ./data_out/checkpoint/skip_gram/model.ckpt.\n",
      "I0831 01:21:55.439908 4356462016 estimator.py:368] Loss for final step: 1.4545894.\n"
     ]
    },
    {
     "data": {
      "text/plain": [
       "<tensorflow_estimator.python.estimator.estimator.Estimator at 0x7fd450681128>"
      ]
     },
     "execution_count": 12,
     "metadata": {},
     "output_type": "execute_result"
    }
   ],
   "source": [
    "estimator.train(train_input_fn)"
   ]
  },
  {
   "cell_type": "code",
   "execution_count": 13,
   "metadata": {
    "colab": {},
    "colab_type": "code",
    "id": "794wCbdUkGCI"
   },
   "outputs": [],
   "source": [
    "variable_names = estimator.get_variable_names()"
   ]
  },
  {
   "cell_type": "code",
   "execution_count": 14,
   "metadata": {
    "colab": {
     "base_uri": "https://localhost:8080/",
     "height": 168
    },
    "colab_type": "code",
    "executionInfo": {
     "elapsed": 545,
     "status": "ok",
     "timestamp": 1559968035514,
     "user": {
      "displayName": "ChangWook Jun",
      "photoUrl": "https://lh6.googleusercontent.com/-NHLAhAbNfPg/AAAAAAAAAAI/AAAAAAAAAEc/NDLQ8z7-qns/s64/photo.jpg",
      "userId": "00685987924881157185"
     },
     "user_tz": -540
    },
    "id": "g6tg2Bv9l6Lb",
    "outputId": "1a288113-d2aa-4173-895c-2537952a5a5b"
   },
   "outputs": [
    {
     "data": {
      "text/plain": [
       "['Variable',\n",
       " 'Variable/Adam',\n",
       " 'Variable/Adam_1',\n",
       " 'Variable_1',\n",
       " 'Variable_1/Adam',\n",
       " 'Variable_1/Adam_1',\n",
       " 'beta1_power',\n",
       " 'beta2_power',\n",
       " 'global_step']"
      ]
     },
     "execution_count": 14,
     "metadata": {},
     "output_type": "execute_result"
    }
   ],
   "source": [
    "variable_names"
   ]
  },
  {
   "cell_type": "code",
   "execution_count": 15,
   "metadata": {
    "colab": {},
    "colab_type": "code",
    "id": "G6UB0kKukMzV"
   },
   "outputs": [],
   "source": [
    "embdding_matrix = estimator.get_variable_value(variable_names[0])"
   ]
  },
  {
   "cell_type": "code",
   "execution_count": 16,
   "metadata": {
    "colab": {
     "base_uri": "https://localhost:8080/",
     "height": 185
    },
    "colab_type": "code",
    "executionInfo": {
     "elapsed": 1098,
     "status": "ok",
     "timestamp": 1559968039818,
     "user": {
      "displayName": "ChangWook Jun",
      "photoUrl": "https://lh6.googleusercontent.com/-NHLAhAbNfPg/AAAAAAAAAAI/AAAAAAAAAEc/NDLQ8z7-qns/s64/photo.jpg",
      "userId": "00685987924881157185"
     },
     "user_tz": -540
    },
    "id": "EurXE2OJz2s0",
    "outputId": "36829ab2-9890-442a-fc24-f499279d39a8",
    "scrolled": true
   },
   "outputs": [
    {
     "data": {
      "text/plain": [
       "array([[ 0.4942081 , -0.85810184, -0.14055753, ..., -0.22707224,\n",
       "         0.66614723, -0.4228208 ],\n",
       "       [-0.0047226 , -0.00613434,  0.12893662, ..., -0.19093569,\n",
       "         0.46958482, -0.81023234],\n",
       "       [-0.2193254 ,  0.4729734 ,  0.9744705 , ...,  0.11870677,\n",
       "        -0.16299435,  0.6304814 ],\n",
       "       ...,\n",
       "       [ 0.00798151, -0.11523698, -0.97504747, ..., -0.28516373,\n",
       "        -0.02607911, -0.3011307 ],\n",
       "       [ 0.27876806, -0.9701109 , -0.40487242, ...,  0.80195165,\n",
       "        -0.3487978 , -0.46751952],\n",
       "       [ 0.45532703,  0.1942625 , -0.5549154 , ..., -0.59458303,\n",
       "        -0.714447  ,  0.9176166 ]], dtype=float32)"
      ]
     },
     "execution_count": 16,
     "metadata": {},
     "output_type": "execute_result"
    }
   ],
   "source": [
    "embdding_matrix"
   ]
  },
  {
   "cell_type": "markdown",
   "metadata": {
    "colab_type": "text",
    "id": "ofSWZVrxqZZ8"
   },
   "source": [
    "### 임베딩 그림 그리기"
   ]
  },
  {
   "cell_type": "code",
   "execution_count": 17,
   "metadata": {
    "colab": {
     "base_uri": "https://localhost:8080/",
     "height": 353
    },
    "colab_type": "code",
    "executionInfo": {
     "elapsed": 28227,
     "status": "ok",
     "timestamp": 1559968103397,
     "user": {
      "displayName": "ChangWook Jun",
      "photoUrl": "https://lh6.googleusercontent.com/-NHLAhAbNfPg/AAAAAAAAAAI/AAAAAAAAAEc/NDLQ8z7-qns/s64/photo.jpg",
      "userId": "00685987924881157185"
     },
     "user_tz": -540
    },
    "id": "Eh_qZPZdV8jL",
    "outputId": "1ccc42fa-bd36-49db-bf65-f07de77dc0e7"
   },
   "outputs": [],
   "source": [
    "%matplotlib inline  \n",
    "\n",
    "import matplotlib.pyplot as plt  "
   ]
  },
  {
   "cell_type": "code",
   "execution_count": 18,
   "metadata": {
    "colab": {
     "base_uri": "https://localhost:8080/",
     "height": 34
    },
    "colab_type": "code",
    "executionInfo": {
     "elapsed": 11853,
     "status": "ok",
     "timestamp": 1559968103398,
     "user": {
      "displayName": "ChangWook Jun",
      "photoUrl": "https://lh6.googleusercontent.com/-NHLAhAbNfPg/AAAAAAAAAAI/AAAAAAAAAEc/NDLQ8z7-qns/s64/photo.jpg",
      "userId": "00685987924881157185"
     },
     "user_tz": -540
    },
    "id": "RFyQwiBs2b4-",
    "outputId": "30e6939d-3724-4410-db46-a53475e5da3b"
   },
   "outputs": [],
   "source": [
    "from sklearn.manifold import TSNE"
   ]
  },
  {
   "cell_type": "code",
   "execution_count": 19,
   "metadata": {
    "colab": {},
    "colab_type": "code",
    "id": "-XoQF3ic2fV4"
   },
   "outputs": [
    {
     "data": {
      "image/png": "[encoded data removed]",
      "text/plain": [
       "<Figure size 432x288 with 1 Axes>"
      ]
     },
     "metadata": {
      "needs_background": "light"
     },
     "output_type": "display_data"
    }
   ],
   "source": [
    "model = TSNE(learning_rate=100)\n",
    "transformed = model.fit_transform(embdding_matrix)\n",
    "\n",
    "xs = transformed[:,0]\n",
    "ys = transformed[:,1]\n",
    "\n",
    "for i, offset in enumerate(transformed[1:]):\n",
    "    x, y = offset\n",
    "    plt.scatter(x, y)\n",
    "    plt.annotate(index_to_word[i+1], xy=(x, y), xytext=(6, 4),\n",
    "                 textcoords='offset points', ha='right', va='bottom')\n",
    "\n",
    "plt.show()"
   ]
  },
  {
   "cell_type": "code",
   "execution_count": 20,
   "metadata": {
    "colab": {},
    "colab_type": "code",
    "id": "lq10JDqNrX39"
   },
   "outputs": [],
   "source": [
    "import matplotlib.font_manager as fm  "
   ]
  },
  {
   "cell_type": "code",
   "execution_count": 21,
   "metadata": {},
   "outputs": [],
   "source": [
    "path = './NanumBarunGothic.ttf'\n",
    "fontprop = fm.FontProperties(fname=path, size=12)"
   ]
  },
  {
   "cell_type": "code",
   "execution_count": 22,
   "metadata": {},
   "outputs": [
    {
     "data": {
      "image/png": "[encoded data removed]",
      "text/plain": [
       "<Figure size 432x288 with 1 Axes>"
      ]
     },
     "metadata": {
      "needs_background": "light"
     },
     "output_type": "display_data"
    }
   ],
   "source": [
    "model = TSNE(learning_rate=100)\n",
    "transformed = model.fit_transform(embdding_matrix)\n",
    "\n",
    "xs = transformed[:,0]\n",
    "ys = transformed[:,1]\n",
    "\n",
    "for i, offset in enumerate(transformed[1:]):\n",
    "    x, y = offset\n",
    "    plt.scatter(x, y)\n",
    "    plt.annotate(index_to_word[i+1], xy=(x, y), xytext=(6, 4),\n",
    "                 textcoords='offset points', ha='right', va='bottom', fontproperties=fontprop)\n",
    "\n",
    "plt.show()"
   ]
  }
 ],
 "metadata": {
  "colab": {
   "collapsed_sections": [],
   "name": "Day2_4_Word2Vec(skip_gram).ipynb",
   "provenance": [],
   "version": "0.3.2"
  },
  "kernelspec": {
   "display_name": "Python 3",
   "language": "python",
   "name": "python3"
  },
  "language_info": {
   "codemirror_mode": {
    "name": "ipython",
    "version": 3
   },
   "file_extension": ".py",
   "mimetype": "text/x-python",
   "name": "python",
   "nbconvert_exporter": "python",
   "pygments_lexer": "ipython3",
   "version": "3.6.8"
  }
 },
 "nbformat": 4,
 "nbformat_minor": 1
}

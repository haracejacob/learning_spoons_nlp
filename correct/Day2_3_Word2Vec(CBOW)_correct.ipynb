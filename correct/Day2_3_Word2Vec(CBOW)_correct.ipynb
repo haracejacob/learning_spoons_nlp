{
 "cells": [
  {
   "cell_type": "markdown",
   "metadata": {
    "colab_type": "text",
    "id": "04smeG30KmAV"
   },
   "source": [
    "# Word2Vec(CBOW)"
   ]
  },
  {
   "cell_type": "code",
   "execution_count": 1,
   "metadata": {
    "colab": {},
    "colab_type": "code",
    "id": "5sImvpS59bi9"
   },
   "outputs": [],
   "source": [
    "import tensorflow as tf\n",
    "import numpy as np\n",
    "import os"
   ]
  },
  {
   "cell_type": "code",
   "execution_count": 2,
   "metadata": {
    "colab": {},
    "colab_type": "code",
    "id": "_nQHOs7iKuzC"
   },
   "outputs": [],
   "source": [
    "samples = [\"철수은 축구를 좋아한다\",\n",
    "          \"영희은 축구를 싫어한다\",\n",
    "          \"철수은 도서관을 좋아한다\",\n",
    "          \"영희은 도서관을 싫어한다\",\n",
    "          \"철수은 공부를 좋아한다\",\n",
    "          \"영희은 공부를 싫어한다\",\n",
    "          \"철수은 축구를 좋아한다 영희은 축구를 싫어한다\"]"
   ]
  },
  {
   "cell_type": "code",
   "execution_count": 3,
   "metadata": {
    "colab": {
     "base_uri": "https://localhost:8080/",
     "height": 70
    },
    "colab_type": "code",
    "executionInfo": {
     "elapsed": 884,
     "status": "ok",
     "timestamp": 1559966263240,
     "user": {
      "displayName": "ChangWook Jun",
      "photoUrl": "https://lh6.googleusercontent.com/-NHLAhAbNfPg/AAAAAAAAAAI/AAAAAAAAAEc/NDLQ8z7-qns/s64/photo.jpg",
      "userId": "00685987924881157185"
     },
     "user_tz": -540
    },
    "id": "jvV4yJMnKwRC",
    "outputId": "fe995772-5c47-495f-c8b0-3726ab512c4d"
   },
   "outputs": [],
   "source": [
    "from tensorflow.keras import preprocessing\n",
    "\n",
    "tokenizer = preprocessing.text.Tokenizer()\n",
    "tokenizer.fit_on_texts(samples) \n",
    "sequences = tokenizer.texts_to_sequences(samples) \n",
    "\n",
    "word_to_index = tokenizer.word_index"
   ]
  },
  {
   "cell_type": "code",
   "execution_count": 4,
   "metadata": {},
   "outputs": [
    {
     "data": {
      "text/plain": [
       "{'철수은': 1, '축구를': 2, '좋아한다': 3, '영희은': 4, '싫어한다': 5, '도서관을': 6, '공부를': 7}"
      ]
     },
     "execution_count": 4,
     "metadata": {},
     "output_type": "execute_result"
    }
   ],
   "source": [
    "word_to_index"
   ]
  },
  {
   "cell_type": "code",
   "execution_count": 5,
   "metadata": {
    "colab": {
     "base_uri": "https://localhost:8080/",
     "height": 54
    },
    "colab_type": "code",
    "executionInfo": {
     "elapsed": 706,
     "status": "ok",
     "timestamp": 1559966318640,
     "user": {
      "displayName": "ChangWook Jun",
      "photoUrl": "https://lh6.googleusercontent.com/-NHLAhAbNfPg/AAAAAAAAAAI/AAAAAAAAAEc/NDLQ8z7-qns/s64/photo.jpg",
      "userId": "00685987924881157185"
     },
     "user_tz": -540
    },
    "id": "ewtHb4vmK0o5",
    "outputId": "4c8021bd-c709-4112-e4ad-7e9c46343df6"
   },
   "outputs": [
    {
     "name": "stdout",
     "output_type": "stream",
     "text": [
      "{1: '철수은', 2: '축구를', 3: '좋아한다', 4: '영희은', 5: '싫어한다', 6: '도서관을', 7: '공부를'}\n"
     ]
    }
   ],
   "source": [
    "index_to_word = dict((i, w) for w, i in word_to_index.items())\n",
    "print(index_to_word)"
   ]
  },
  {
   "cell_type": "code",
   "execution_count": 6,
   "metadata": {
    "colab": {
     "base_uri": "https://localhost:8080/",
     "height": 87
    },
    "colab_type": "code",
    "executionInfo": {
     "elapsed": 978,
     "status": "ok",
     "timestamp": 1559966422468,
     "user": {
      "displayName": "ChangWook Jun",
      "photoUrl": "https://lh6.googleusercontent.com/-NHLAhAbNfPg/AAAAAAAAAAI/AAAAAAAAAEc/NDLQ8z7-qns/s64/photo.jpg",
      "userId": "00685987924881157185"
     },
     "user_tz": -540
    },
    "id": "YyzqgczgMbPC",
    "outputId": "ce191f5c-ee17-47fc-baef-d06b2ee3d6d0"
   },
   "outputs": [
    {
     "name": "stdout",
     "output_type": "stream",
     "text": [
      "sequences: [[1, 2, 3], [4, 2, 5], [1, 6, 3], [4, 6, 5], [1, 7, 3], [4, 7, 5], [1, 2, 3, 4, 2, 5]]\n",
      "cbow_data\n",
      "[[2, [1, 3]], [2, [4, 5]], [6, [1, 3]], [6, [4, 5]], [7, [1, 3]], [7, [4, 5]], [2, [1, 3]], [3, [2, 4]], [4, [3, 2]], [2, [4, 5]]]\n"
     ]
    }
   ],
   "source": [
    "cbow_data = []\n",
    "print(f'sequences: {sequences}')\n",
    "\n",
    "for sequence in sequences:\n",
    "    for i in range(1, len(sequence) - 1):\n",
    "        target = sequence[i]\n",
    "        context = [sequence[i - 1], sequence[i + 1]]\n",
    "        cbow_data.append([target, context])\n",
    "        \n",
    "print(f'cbow_data\\n{cbow_data}')"
   ]
  },
  {
   "cell_type": "code",
   "execution_count": 7,
   "metadata": {
    "colab": {},
    "colab_type": "code",
    "id": "lJljzCV_PB-j"
   },
   "outputs": [],
   "source": [
    "context_left = []\n",
    "context_right = []\n",
    "target = []\n",
    "for i in range(len(cbow_data)):\n",
    "    context_left.append(cbow_data[i][1][0])  # input1\n",
    "    context_right.append(cbow_data[i][1][1])  # input2\n",
    "    target.append(cbow_data[i][0])  # label"
   ]
  },
  {
   "cell_type": "code",
   "execution_count": 8,
   "metadata": {
    "colab": {},
    "colab_type": "code",
    "id": "BOyEUezOUEqF"
   },
   "outputs": [],
   "source": [
    "def mapping_fn(context_left, context_right, target):\n",
    "    features = {\"context_left\": context_left, \"context_right\": context_right}\n",
    "    return features, target"
   ]
  },
  {
   "cell_type": "code",
   "execution_count": 9,
   "metadata": {
    "colab": {},
    "colab_type": "code",
    "id": "5V1-b28KQ2wI"
   },
   "outputs": [],
   "source": [
    "EPOCH_SIZE = 1500\n",
    "BATCH_SIZE = 2\n",
    "\n",
    "def train_input_fn():\n",
    "    dataset = tf.data.Dataset.from_tensor_slices((context_left, context_right, target))\n",
    "    dataset = dataset.repeat(EPOCH_SIZE)\n",
    "    dataset = dataset.batch(BATCH_SIZE)\n",
    "    dataset = dataset.shuffle(len(cbow_data))\n",
    "    dataset = dataset.map(mapping_fn)\n",
    "\n",
    "    return dataset"
   ]
  },
  {
   "cell_type": "code",
   "execution_count": 10,
   "metadata": {
    "colab": {},
    "colab_type": "code",
    "id": "uUITRq1ZF0Ks"
   },
   "outputs": [],
   "source": [
    "VOCAB_SIZE = len(word_to_index) + 1\n",
    "EMB_SIZE = 128\n",
    "\n",
    "def model_fn(features, labels, mode):\n",
    "    \n",
    "    w_1 = tf.Variable(tf.random_uniform([VOCAB_SIZE, EMB_SIZE], -1.0, 1.0)) #(10, 2)\n",
    "    w_2 = tf.Variable(tf.random_uniform([EMB_SIZE, VOCAB_SIZE], -1.0, 1.0)) #(2, 10)\n",
    "\n",
    "    context_left = tf.one_hot(indices=features['context_left'], depth=VOCAB_SIZE) #(?, 10)\n",
    "    context_right = tf.one_hot(indices=features['context_right'], depth=VOCAB_SIZE) #(?, 10)\n",
    "    \n",
    "    h_1 = tf.matmul(context_left, w_1)\n",
    "    h_2 = tf.matmul(context_right, w_1)\n",
    "    hidden = (h_1 + h_2) / 2\n",
    "\n",
    "    output = tf.matmul(hidden, w_2) # (?, 2)*(2, 10) = (?, 10)\n",
    "                                   \n",
    "    targets = tf.one_hot(indices=labels, depth=VOCAB_SIZE)  \n",
    "                                                            \n",
    "    loss = tf.losses.softmax_cross_entropy(targets, output)\n",
    "\n",
    "    global_step = tf.train.get_global_step()\n",
    "    train_op = tf.train.AdamOptimizer(1e-3).minimize(loss, global_step)\n",
    "\n",
    "    return tf.estimator.EstimatorSpec(\n",
    "          mode=mode,\n",
    "          train_op=train_op,\n",
    "          loss=loss)"
   ]
  },
  {
   "cell_type": "code",
   "execution_count": 11,
   "metadata": {
    "colab": {
     "base_uri": "https://localhost:8080/",
     "height": 171
    },
    "colab_type": "code",
    "executionInfo": {
     "elapsed": 586,
     "status": "ok",
     "timestamp": 1559967273761,
     "user": {
      "displayName": "ChangWook Jun",
      "photoUrl": "https://lh6.googleusercontent.com/-NHLAhAbNfPg/AAAAAAAAAAI/AAAAAAAAAEc/NDLQ8z7-qns/s64/photo.jpg",
      "userId": "00685987924881157185"
     },
     "user_tz": -540
    },
    "id": "MvJy2iE2RYea",
    "outputId": "a6d4d3b8-034e-4dd7-e4c4-b6fa9f44c3dd"
   },
   "outputs": [],
   "source": [
    "DATA_OUT_PATH = './data_out/'\n",
    "\n",
    "if not os.path.exists(DATA_OUT_PATH):\n",
    "    os.makedirs(DATA_OUT_PATH)\n",
    "\n",
    "estimator = tf.estimator.Estimator(model_fn = model_fn, model_dir = DATA_OUT_PATH + 'checkpoint/cbow')"
   ]
  },
  {
   "cell_type": "code",
   "execution_count": 12,
   "metadata": {},
   "outputs": [],
   "source": [
    "tf.logging.set_verbosity(tf.logging.INFO)"
   ]
  },
  {
   "cell_type": "code",
   "execution_count": 13,
   "metadata": {
    "colab": {
     "base_uri": "https://localhost:8080/",
     "height": 1750
    },
    "colab_type": "code",
    "executionInfo": {
     "elapsed": 8876,
     "status": "ok",
     "timestamp": 1559967284485,
     "user": {
      "displayName": "ChangWook Jun",
      "photoUrl": "https://lh6.googleusercontent.com/-NHLAhAbNfPg/AAAAAAAAAAI/AAAAAAAAAEc/NDLQ8z7-qns/s64/photo.jpg",
      "userId": "00685987924881157185"
     },
     "user_tz": -540
    },
    "id": "oQQT8WjWRlDY",
    "outputId": "12b27495-98d5-4e0e-cd9c-49816254a222",
    "scrolled": true
   },
   "outputs": [
    {
     "name": "stderr",
     "output_type": "stream",
     "text": [
      "WARNING: Logging before flag parsing goes to stderr.\n",
      "W0831 01:20:57.646819 4607636928 deprecation.py:323] From /Users/chojunghyun/anaconda3/envs/tensorflow/lib/python3.6/site-packages/tensorflow/python/training/training_util.py:236: Variable.initialized_value (from tensorflow.python.ops.variables) is deprecated and will be removed in a future version.\n",
      "Instructions for updating:\n",
      "Use Variable.read_value. Variables in 2.X are initialized automatically both in eager and graph (inside tf.defun) contexts.\n",
      "I0831 01:20:57.686842 4607636928 estimator.py:1145] Calling model_fn.\n",
      "W0831 01:20:57.730337 4607636928 deprecation.py:323] From /Users/chojunghyun/anaconda3/envs/tensorflow/lib/python3.6/site-packages/tensorflow/python/ops/losses/losses_impl.py:121: add_dispatch_support.<locals>.wrapper (from tensorflow.python.ops.array_ops) is deprecated and will be removed in a future version.\n",
      "Instructions for updating:\n",
      "Use tf.where in 2.0, which has the same broadcast rule as np.where\n",
      "I0831 01:20:57.805758 4607636928 estimator.py:1147] Done calling model_fn.\n",
      "I0831 01:20:57.807473 4607636928 basic_session_run_hooks.py:541] Create CheckpointSaverHook.\n",
      "I0831 01:20:57.885498 4607636928 monitored_session.py:240] Graph was finalized.\n",
      "I0831 01:20:57.916306 4607636928 session_manager.py:500] Running local_init_op.\n",
      "I0831 01:20:57.921277 4607636928 session_manager.py:502] Done running local_init_op.\n",
      "I0831 01:20:58.034678 4607636928 basic_session_run_hooks.py:606] Saving checkpoints for 0 into ./data_out/checkpoint/cbow/model.ckpt.\n",
      "I0831 01:20:58.141300 4607636928 basic_session_run_hooks.py:262] loss = 2.4268255, step = 1\n",
      "I0831 01:20:58.227758 4607636928 basic_session_run_hooks.py:692] global_step/sec: 1154.07\n",
      "I0831 01:20:58.228742 4607636928 basic_session_run_hooks.py:260] loss = 1.2768965, step = 101 (0.087 sec)\n",
      "I0831 01:20:58.278150 4607636928 basic_session_run_hooks.py:692] global_step/sec: 1982.29\n",
      "I0831 01:20:58.278958 4607636928 basic_session_run_hooks.py:260] loss = 0.78572774, step = 201 (0.050 sec)\n",
      "I0831 01:20:58.325184 4607636928 basic_session_run_hooks.py:692] global_step/sec: 2125.94\n",
      "I0831 01:20:58.325977 4607636928 basic_session_run_hooks.py:260] loss = 0.399451, step = 301 (0.047 sec)\n",
      "I0831 01:20:58.370999 4607636928 basic_session_run_hooks.py:692] global_step/sec: 2182.59\n",
      "I0831 01:20:58.371724 4607636928 basic_session_run_hooks.py:260] loss = 0.40587258, step = 401 (0.046 sec)\n",
      "I0831 01:20:58.418859 4607636928 basic_session_run_hooks.py:692] global_step/sec: 2089.43\n",
      "I0831 01:20:58.419577 4607636928 basic_session_run_hooks.py:260] loss = 1.5196766, step = 501 (0.048 sec)\n",
      "I0831 01:20:58.464888 4607636928 basic_session_run_hooks.py:692] global_step/sec: 2172.35\n",
      "I0831 01:20:58.465631 4607636928 basic_session_run_hooks.py:260] loss = 1.4402175, step = 601 (0.046 sec)\n",
      "I0831 01:20:58.509903 4607636928 basic_session_run_hooks.py:692] global_step/sec: 2221.49\n",
      "I0831 01:20:58.510608 4607636928 basic_session_run_hooks.py:260] loss = 0.75017583, step = 701 (0.045 sec)\n",
      "I0831 01:20:58.554455 4607636928 basic_session_run_hooks.py:692] global_step/sec: 2244.61\n",
      "I0831 01:20:58.555186 4607636928 basic_session_run_hooks.py:260] loss = 0.43671232, step = 801 (0.045 sec)\n",
      "I0831 01:20:58.600355 4607636928 basic_session_run_hooks.py:692] global_step/sec: 2178.6\n",
      "I0831 01:20:58.601085 4607636928 basic_session_run_hooks.py:260] loss = 1.4412988, step = 901 (0.046 sec)\n",
      "I0831 01:20:58.649645 4607636928 basic_session_run_hooks.py:692] global_step/sec: 2029.44\n",
      "I0831 01:20:58.650516 4607636928 basic_session_run_hooks.py:260] loss = 0.39039102, step = 1001 (0.049 sec)\n",
      "I0831 01:20:58.705797 4607636928 basic_session_run_hooks.py:692] global_step/sec: 1780.72\n",
      "I0831 01:20:58.706544 4607636928 basic_session_run_hooks.py:260] loss = 1.3429849, step = 1101 (0.056 sec)\n",
      "I0831 01:20:58.758622 4607636928 basic_session_run_hooks.py:692] global_step/sec: 1892.86\n",
      "I0831 01:20:58.759399 4607636928 basic_session_run_hooks.py:260] loss = 0.41465026, step = 1201 (0.053 sec)\n",
      "I0831 01:20:58.807173 4607636928 basic_session_run_hooks.py:692] global_step/sec: 2059.69\n",
      "I0831 01:20:58.807979 4607636928 basic_session_run_hooks.py:260] loss = 1.2879963, step = 1301 (0.049 sec)\n",
      "I0831 01:20:58.855627 4607636928 basic_session_run_hooks.py:692] global_step/sec: 2063.73\n",
      "I0831 01:20:58.856335 4607636928 basic_session_run_hooks.py:260] loss = 0.7008135, step = 1401 (0.048 sec)\n",
      "I0831 01:20:58.905282 4607636928 basic_session_run_hooks.py:692] global_step/sec: 2013.94\n",
      "I0831 01:20:58.906062 4607636928 basic_session_run_hooks.py:260] loss = 0.65060794, step = 1501 (0.050 sec)\n",
      "I0831 01:20:58.953344 4607636928 basic_session_run_hooks.py:692] global_step/sec: 2080.52\n",
      "I0831 01:20:58.954143 4607636928 basic_session_run_hooks.py:260] loss = 1.3912733, step = 1601 (0.048 sec)\n",
      "I0831 01:20:59.002815 4607636928 basic_session_run_hooks.py:692] global_step/sec: 2021.75\n",
      "I0831 01:20:59.003587 4607636928 basic_session_run_hooks.py:260] loss = 1.4904561, step = 1701 (0.049 sec)\n",
      "I0831 01:20:59.051374 4607636928 basic_session_run_hooks.py:692] global_step/sec: 2059.01\n",
      "I0831 01:20:59.052081 4607636928 basic_session_run_hooks.py:260] loss = 0.3608936, step = 1801 (0.049 sec)\n",
      "I0831 01:20:59.098602 4607636928 basic_session_run_hooks.py:692] global_step/sec: 2117.39\n",
      "I0831 01:20:59.099301 4607636928 basic_session_run_hooks.py:260] loss = 0.37046465, step = 1901 (0.047 sec)\n",
      "I0831 01:20:59.146007 4607636928 basic_session_run_hooks.py:692] global_step/sec: 2110.69\n",
      "I0831 01:20:59.146735 4607636928 basic_session_run_hooks.py:260] loss = 0.3771261, step = 2001 (0.047 sec)\n",
      "I0831 01:20:59.192173 4607636928 basic_session_run_hooks.py:692] global_step/sec: 2164.77\n",
      "I0831 01:20:59.192929 4607636928 basic_session_run_hooks.py:260] loss = 0.38296726, step = 2101 (0.046 sec)\n",
      "I0831 01:20:59.239120 4607636928 basic_session_run_hooks.py:692] global_step/sec: 2130.15\n",
      "I0831 01:20:59.239850 4607636928 basic_session_run_hooks.py:260] loss = 0.6954498, step = 2201 (0.047 sec)\n",
      "I0831 01:20:59.285216 4607636928 basic_session_run_hooks.py:692] global_step/sec: 2169.35\n",
      "I0831 01:20:59.285931 4607636928 basic_session_run_hooks.py:260] loss = 0.4222182, step = 2301 (0.046 sec)\n",
      "I0831 01:20:59.331161 4607636928 basic_session_run_hooks.py:692] global_step/sec: 2176.65\n",
      "I0831 01:20:59.331955 4607636928 basic_session_run_hooks.py:260] loss = 0.40106213, step = 2401 (0.046 sec)\n",
      "I0831 01:20:59.377159 4607636928 basic_session_run_hooks.py:692] global_step/sec: 2173.92\n",
      "I0831 01:20:59.377886 4607636928 basic_session_run_hooks.py:260] loss = 0.39427233, step = 2501 (0.046 sec)\n",
      "I0831 01:20:59.423655 4607636928 basic_session_run_hooks.py:692] global_step/sec: 2150.58\n",
      "I0831 01:20:59.424364 4607636928 basic_session_run_hooks.py:260] loss = 0.31693065, step = 2601 (0.046 sec)\n",
      "I0831 01:20:59.469213 4607636928 basic_session_run_hooks.py:692] global_step/sec: 2195.24\n",
      "I0831 01:20:59.469953 4607636928 basic_session_run_hooks.py:260] loss = 0.6580254, step = 2701 (0.046 sec)\n",
      "I0831 01:20:59.514914 4607636928 basic_session_run_hooks.py:692] global_step/sec: 2187.89\n",
      "I0831 01:20:59.515622 4607636928 basic_session_run_hooks.py:260] loss = 1.374305, step = 2801 (0.046 sec)\n",
      "I0831 01:20:59.561676 4607636928 basic_session_run_hooks.py:692] global_step/sec: 2138.67\n",
      "I0831 01:20:59.562509 4607636928 basic_session_run_hooks.py:260] loss = 0.36009958, step = 2901 (0.047 sec)\n",
      "I0831 01:20:59.610089 4607636928 basic_session_run_hooks.py:692] global_step/sec: 2065.57\n",
      "I0831 01:20:59.610867 4607636928 basic_session_run_hooks.py:260] loss = 0.32518625, step = 3001 (0.048 sec)\n",
      "I0831 01:20:59.657169 4607636928 basic_session_run_hooks.py:692] global_step/sec: 2123.82\n",
      "I0831 01:20:59.657898 4607636928 basic_session_run_hooks.py:260] loss = 0.3727375, step = 3101 (0.047 sec)\n",
      "I0831 01:20:59.703197 4607636928 basic_session_run_hooks.py:692] global_step/sec: 2172.73\n",
      "I0831 01:20:59.703922 4607636928 basic_session_run_hooks.py:260] loss = 1.4538143, step = 3201 (0.046 sec)\n",
      "I0831 01:20:59.749304 4607636928 basic_session_run_hooks.py:692] global_step/sec: 2169.1\n",
      "I0831 01:20:59.750117 4607636928 basic_session_run_hooks.py:260] loss = 1.45277, step = 3301 (0.046 sec)\n",
      "I0831 01:20:59.796530 4607636928 basic_session_run_hooks.py:692] global_step/sec: 2117.16\n"
     ]
    },
    {
     "name": "stderr",
     "output_type": "stream",
     "text": [
      "I0831 01:20:59.797267 4607636928 basic_session_run_hooks.py:260] loss = 0.38637227, step = 3401 (0.047 sec)\n",
      "I0831 01:20:59.843379 4607636928 basic_session_run_hooks.py:692] global_step/sec: 2134.71\n",
      "I0831 01:20:59.844098 4607636928 basic_session_run_hooks.py:260] loss = 0.31784675, step = 3501 (0.047 sec)\n",
      "I0831 01:20:59.889208 4607636928 basic_session_run_hooks.py:692] global_step/sec: 2181.96\n",
      "I0831 01:20:59.889943 4607636928 basic_session_run_hooks.py:260] loss = 1.4215217, step = 3601 (0.046 sec)\n",
      "I0831 01:20:59.935276 4607636928 basic_session_run_hooks.py:692] global_step/sec: 2170.71\n",
      "I0831 01:20:59.936043 4607636928 basic_session_run_hooks.py:260] loss = 0.377186, step = 3701 (0.046 sec)\n",
      "I0831 01:20:59.980009 4607636928 basic_session_run_hooks.py:692] global_step/sec: 2235.39\n",
      "I0831 01:20:59.980709 4607636928 basic_session_run_hooks.py:260] loss = 0.3580846, step = 3801 (0.045 sec)\n",
      "I0831 01:21:00.025390 4607636928 basic_session_run_hooks.py:692] global_step/sec: 2203.5\n",
      "I0831 01:21:00.026148 4607636928 basic_session_run_hooks.py:260] loss = 0.62480354, step = 3901 (0.045 sec)\n",
      "I0831 01:21:00.076953 4607636928 basic_session_run_hooks.py:692] global_step/sec: 1943.41\n",
      "I0831 01:21:00.077847 4607636928 basic_session_run_hooks.py:260] loss = 0.30952176, step = 4001 (0.052 sec)\n",
      "I0831 01:21:00.124959 4607636928 basic_session_run_hooks.py:692] global_step/sec: 2078.4\n",
      "I0831 01:21:00.125643 4607636928 basic_session_run_hooks.py:260] loss = 1.4187872, step = 4101 (0.048 sec)\n",
      "I0831 01:21:00.171645 4607636928 basic_session_run_hooks.py:692] global_step/sec: 2142.11\n",
      "I0831 01:21:00.172346 4607636928 basic_session_run_hooks.py:260] loss = 1.4489477, step = 4201 (0.047 sec)\n",
      "I0831 01:21:00.217302 4607636928 basic_session_run_hooks.py:692] global_step/sec: 2190.19\n",
      "I0831 01:21:00.218048 4607636928 basic_session_run_hooks.py:260] loss = 1.3232958, step = 4301 (0.046 sec)\n",
      "I0831 01:21:00.263378 4607636928 basic_session_run_hooks.py:692] global_step/sec: 2170.18\n",
      "I0831 01:21:00.264060 4607636928 basic_session_run_hooks.py:260] loss = 0.35536575, step = 4401 (0.046 sec)\n",
      "I0831 01:21:00.309771 4607636928 basic_session_run_hooks.py:692] global_step/sec: 2155.65\n",
      "I0831 01:21:00.310469 4607636928 basic_session_run_hooks.py:260] loss = 0.403555, step = 4501 (0.046 sec)\n",
      "I0831 01:21:00.355309 4607636928 basic_session_run_hooks.py:692] global_step/sec: 2195.91\n",
      "I0831 01:21:00.356001 4607636928 basic_session_run_hooks.py:260] loss = 1.3739209, step = 4601 (0.046 sec)\n",
      "I0831 01:21:00.401237 4607636928 basic_session_run_hooks.py:692] global_step/sec: 2177.28\n",
      "I0831 01:21:00.401952 4607636928 basic_session_run_hooks.py:260] loss = 0.33418378, step = 4701 (0.046 sec)\n",
      "I0831 01:21:00.448538 4607636928 basic_session_run_hooks.py:692] global_step/sec: 2114.3\n",
      "I0831 01:21:00.449270 4607636928 basic_session_run_hooks.py:260] loss = 0.62293196, step = 4801 (0.047 sec)\n",
      "I0831 01:21:00.493511 4607636928 basic_session_run_hooks.py:692] global_step/sec: 2223.47\n",
      "I0831 01:21:00.494234 4607636928 basic_session_run_hooks.py:260] loss = 1.3525153, step = 4901 (0.045 sec)\n",
      "I0831 01:21:00.539666 4607636928 basic_session_run_hooks.py:692] global_step/sec: 2166.46\n",
      "I0831 01:21:00.540343 4607636928 basic_session_run_hooks.py:260] loss = 0.35387254, step = 5001 (0.046 sec)\n",
      "I0831 01:21:00.585842 4607636928 basic_session_run_hooks.py:692] global_step/sec: 2165.88\n",
      "I0831 01:21:00.586581 4607636928 basic_session_run_hooks.py:260] loss = 1.4544668, step = 5101 (0.046 sec)\n",
      "I0831 01:21:00.632211 4607636928 basic_session_run_hooks.py:692] global_step/sec: 2156.51\n",
      "I0831 01:21:00.632905 4607636928 basic_session_run_hooks.py:260] loss = 0.6981542, step = 5201 (0.046 sec)\n",
      "I0831 01:21:00.678597 4607636928 basic_session_run_hooks.py:692] global_step/sec: 2155.78\n",
      "I0831 01:21:00.679296 4607636928 basic_session_run_hooks.py:260] loss = 1.479291, step = 5301 (0.046 sec)\n",
      "I0831 01:21:00.724458 4607636928 basic_session_run_hooks.py:692] global_step/sec: 2180.55\n",
      "I0831 01:21:00.725228 4607636928 basic_session_run_hooks.py:260] loss = 0.39348838, step = 5401 (0.046 sec)\n",
      "I0831 01:21:00.769969 4607636928 basic_session_run_hooks.py:692] global_step/sec: 2197.22\n",
      "I0831 01:21:00.770699 4607636928 basic_session_run_hooks.py:260] loss = 0.37681386, step = 5501 (0.045 sec)\n",
      "I0831 01:21:00.815582 4607636928 basic_session_run_hooks.py:692] global_step/sec: 2192.64\n",
      "I0831 01:21:00.816398 4607636928 basic_session_run_hooks.py:260] loss = 1.2350605, step = 5601 (0.046 sec)\n",
      "I0831 01:21:00.861132 4607636928 basic_session_run_hooks.py:692] global_step/sec: 2195.2\n",
      "I0831 01:21:00.861848 4607636928 basic_session_run_hooks.py:260] loss = 0.4315416, step = 5701 (0.045 sec)\n",
      "I0831 01:21:00.907868 4607636928 basic_session_run_hooks.py:692] global_step/sec: 2139.81\n",
      "I0831 01:21:00.908583 4607636928 basic_session_run_hooks.py:260] loss = 0.3767359, step = 5801 (0.047 sec)\n",
      "I0831 01:21:00.954865 4607636928 basic_session_run_hooks.py:692] global_step/sec: 2127.58\n",
      "I0831 01:21:00.955587 4607636928 basic_session_run_hooks.py:260] loss = 1.298662, step = 5901 (0.047 sec)\n",
      "I0831 01:21:01.001736 4607636928 basic_session_run_hooks.py:692] global_step/sec: 2133.7\n",
      "I0831 01:21:01.002671 4607636928 basic_session_run_hooks.py:260] loss = 0.3310151, step = 6001 (0.047 sec)\n",
      "I0831 01:21:01.048369 4607636928 basic_session_run_hooks.py:692] global_step/sec: 2144.39\n",
      "I0831 01:21:01.049083 4607636928 basic_session_run_hooks.py:260] loss = 1.3782456, step = 6101 (0.046 sec)\n",
      "I0831 01:21:01.093481 4607636928 basic_session_run_hooks.py:692] global_step/sec: 2216.77\n",
      "I0831 01:21:01.094184 4607636928 basic_session_run_hooks.py:260] loss = 0.34699818, step = 6201 (0.045 sec)\n",
      "I0831 01:21:01.140342 4607636928 basic_session_run_hooks.py:692] global_step/sec: 2133.83\n",
      "I0831 01:21:01.141097 4607636928 basic_session_run_hooks.py:260] loss = 0.37968668, step = 6301 (0.047 sec)\n",
      "I0831 01:21:01.187106 4607636928 basic_session_run_hooks.py:692] global_step/sec: 2138.39\n",
      "I0831 01:21:01.187836 4607636928 basic_session_run_hooks.py:260] loss = 1.4980834, step = 6401 (0.047 sec)\n",
      "I0831 01:21:01.234060 4607636928 basic_session_run_hooks.py:692] global_step/sec: 2129.65\n",
      "I0831 01:21:01.234791 4607636928 basic_session_run_hooks.py:260] loss = 1.3925121, step = 6501 (0.047 sec)\n",
      "I0831 01:21:01.280357 4607636928 basic_session_run_hooks.py:692] global_step/sec: 2160.06\n",
      "I0831 01:21:01.281097 4607636928 basic_session_run_hooks.py:260] loss = 0.38494706, step = 6601 (0.046 sec)\n",
      "I0831 01:21:01.327021 4607636928 basic_session_run_hooks.py:692] global_step/sec: 2142.94\n",
      "I0831 01:21:01.327789 4607636928 basic_session_run_hooks.py:260] loss = 0.35410437, step = 6701 (0.047 sec)\n",
      "I0831 01:21:01.374125 4607636928 basic_session_run_hooks.py:692] global_step/sec: 2123.19\n",
      "I0831 01:21:01.374907 4607636928 basic_session_run_hooks.py:260] loss = 1.2958608, step = 6801 (0.047 sec)\n",
      "I0831 01:21:01.420969 4607636928 basic_session_run_hooks.py:692] global_step/sec: 2134.42\n",
      "I0831 01:21:01.421647 4607636928 basic_session_run_hooks.py:260] loss = 0.3813785, step = 6901 (0.047 sec)\n",
      "I0831 01:21:01.466047 4607636928 basic_session_run_hooks.py:692] global_step/sec: 2219.22\n",
      "I0831 01:21:01.466760 4607636928 basic_session_run_hooks.py:260] loss = 0.65125036, step = 7001 (0.045 sec)\n",
      "I0831 01:21:01.512336 4607636928 basic_session_run_hooks.py:692] global_step/sec: 2159.5\n",
      "I0831 01:21:01.513035 4607636928 basic_session_run_hooks.py:260] loss = 1.3134421, step = 7101 (0.046 sec)\n",
      "I0831 01:21:01.558203 4607636928 basic_session_run_hooks.py:692] global_step/sec: 2180.4\n",
      "I0831 01:21:01.558933 4607636928 basic_session_run_hooks.py:260] loss = 0.3000314, step = 7201 (0.046 sec)\n",
      "I0831 01:21:01.605274 4607636928 basic_session_run_hooks.py:692] global_step/sec: 2124.55\n",
      "I0831 01:21:01.606000 4607636928 basic_session_run_hooks.py:260] loss = 1.1429207, step = 7301 (0.047 sec)\n",
      "I0831 01:21:01.651624 4607636928 basic_session_run_hooks.py:692] global_step/sec: 2157.31\n",
      "I0831 01:21:01.652307 4607636928 basic_session_run_hooks.py:260] loss = 0.35902485, step = 7401 (0.046 sec)\n",
      "I0831 01:21:01.704527 4607636928 basic_session_run_hooks.py:606] Saving checkpoints for 7500 into ./data_out/checkpoint/cbow/model.ckpt.\n",
      "I0831 01:21:01.735625 4607636928 estimator.py:368] Loss for final step: 0.34137833.\n"
     ]
    },
    {
     "data": {
      "text/plain": [
       "<tensorflow_estimator.python.estimator.estimator.Estimator at 0x7fcf23d44a20>"
      ]
     },
     "execution_count": 13,
     "metadata": {},
     "output_type": "execute_result"
    }
   ],
   "source": [
    "estimator.train(train_input_fn)"
   ]
  },
  {
   "cell_type": "code",
   "execution_count": 14,
   "metadata": {
    "colab": {},
    "colab_type": "code",
    "id": "9tKfzJevRnxo"
   },
   "outputs": [],
   "source": [
    "variable_names = estimator.get_variable_names()"
   ]
  },
  {
   "cell_type": "code",
   "execution_count": 15,
   "metadata": {
    "colab": {
     "base_uri": "https://localhost:8080/",
     "height": 168
    },
    "colab_type": "code",
    "executionInfo": {
     "elapsed": 1052,
     "status": "ok",
     "timestamp": 1559967322094,
     "user": {
      "displayName": "ChangWook Jun",
      "photoUrl": "https://lh6.googleusercontent.com/-NHLAhAbNfPg/AAAAAAAAAAI/AAAAAAAAAEc/NDLQ8z7-qns/s64/photo.jpg",
      "userId": "00685987924881157185"
     },
     "user_tz": -540
    },
    "id": "YnQlYU0RHap2",
    "outputId": "e487c3de-4063-4dd3-ba85-8e77e9132588"
   },
   "outputs": [
    {
     "data": {
      "text/plain": [
       "['Variable',\n",
       " 'Variable/Adam',\n",
       " 'Variable/Adam_1',\n",
       " 'Variable_1',\n",
       " 'Variable_1/Adam',\n",
       " 'Variable_1/Adam_1',\n",
       " 'beta1_power',\n",
       " 'beta2_power',\n",
       " 'global_step']"
      ]
     },
     "execution_count": 15,
     "metadata": {},
     "output_type": "execute_result"
    }
   ],
   "source": [
    "variable_names"
   ]
  },
  {
   "cell_type": "code",
   "execution_count": 16,
   "metadata": {
    "colab": {},
    "colab_type": "code",
    "id": "b3jCKr8zHbwG"
   },
   "outputs": [],
   "source": [
    "embdding_matrix = estimator.get_variable_value(variable_names[0])"
   ]
  },
  {
   "cell_type": "code",
   "execution_count": 17,
   "metadata": {
    "colab": {
     "base_uri": "https://localhost:8080/",
     "height": 185
    },
    "colab_type": "code",
    "executionInfo": {
     "elapsed": 844,
     "status": "ok",
     "timestamp": 1559969329139,
     "user": {
      "displayName": "ChangWook Jun",
      "photoUrl": "https://lh6.googleusercontent.com/-NHLAhAbNfPg/AAAAAAAAAAI/AAAAAAAAAEc/NDLQ8z7-qns/s64/photo.jpg",
      "userId": "00685987924881157185"
     },
     "user_tz": -540
    },
    "id": "74KYYRfbasDf",
    "outputId": "8de994c7-d3a6-4f92-b188-bfab494ac4aa",
    "scrolled": true
   },
   "outputs": [
    {
     "data": {
      "text/plain": [
       "array([[-0.8806546 ,  0.7565675 , -0.12319875, ...,  0.45693564,\n",
       "         0.96262217,  0.6291461 ],\n",
       "       [ 0.51407266, -0.42106834,  0.48850328, ...,  0.32744572,\n",
       "        -0.62830365,  0.5505082 ],\n",
       "       [ 0.36807016,  0.698665  , -0.5535178 , ...,  0.13537794,\n",
       "         0.4569425 ,  0.77492106],\n",
       "       ...,\n",
       "       [-0.6562179 , -0.23970582,  0.23593532, ..., -0.82058924,\n",
       "        -0.9375541 ,  0.67885166],\n",
       "       [ 0.6846812 , -0.5475366 , -0.23856354, ..., -0.45956373,\n",
       "         0.9979906 , -0.53087664],\n",
       "       [-0.1177001 ,  0.6672051 , -0.67502165, ..., -0.01041055,\n",
       "        -0.43277168, -0.04295516]], dtype=float32)"
      ]
     },
     "execution_count": 17,
     "metadata": {},
     "output_type": "execute_result"
    }
   ],
   "source": [
    "embdding_matrix"
   ]
  },
  {
   "cell_type": "markdown",
   "metadata": {
    "colab_type": "text",
    "id": "1ykcnjQrpuCJ"
   },
   "source": [
    "### 임베딩 그림 그리기"
   ]
  },
  {
   "cell_type": "code",
   "execution_count": 18,
   "metadata": {
    "colab": {
     "base_uri": "https://localhost:8080/",
     "height": 84
    },
    "colab_type": "code",
    "executionInfo": {
     "elapsed": 883,
     "status": "ok",
     "timestamp": 1559967475546,
     "user": {
      "displayName": "ChangWook Jun",
      "photoUrl": "https://lh6.googleusercontent.com/-NHLAhAbNfPg/AAAAAAAAAAI/AAAAAAAAAEc/NDLQ8z7-qns/s64/photo.jpg",
      "userId": "00685987924881157185"
     },
     "user_tz": -540
    },
    "id": "15UYjxjghtjY",
    "outputId": "a8659864-0f8c-495d-8eeb-32807cb8cffa"
   },
   "outputs": [],
   "source": [
    "%matplotlib inline  \n",
    "\n",
    "import matplotlib.pyplot as plt  "
   ]
  },
  {
   "cell_type": "code",
   "execution_count": 19,
   "metadata": {},
   "outputs": [],
   "source": [
    "from sklearn.manifold import TSNE"
   ]
  },
  {
   "cell_type": "code",
   "execution_count": 20,
   "metadata": {
    "scrolled": true
   },
   "outputs": [
    {
     "data": {
      "image/png": "[encoded data removed]",
      "text/plain": [
       "<Figure size 432x288 with 1 Axes>"
      ]
     },
     "metadata": {
      "needs_background": "light"
     },
     "output_type": "display_data"
    }
   ],
   "source": [
    "model = TSNE(learning_rate=100)\n",
    "transformed = model.fit_transform(embdding_matrix)\n",
    "\n",
    "xs = transformed[:,0]\n",
    "ys = transformed[:,1]\n",
    "\n",
    "for i, offset in enumerate(transformed[1:]):\n",
    "    x, y = offset\n",
    "    plt.scatter(x, y)\n",
    "    plt.annotate(index_to_word[i+1], xy=(x, y), xytext=(6, 4),\n",
    "                 textcoords='offset points', ha='right', va='bottom')\n",
    "\n",
    "plt.show()"
   ]
  },
  {
   "cell_type": "code",
   "execution_count": 21,
   "metadata": {},
   "outputs": [],
   "source": [
    "import matplotlib.font_manager as fm  "
   ]
  },
  {
   "cell_type": "code",
   "execution_count": 22,
   "metadata": {
    "colab": {},
    "colab_type": "code",
    "id": "_asKRYDyoYcs"
   },
   "outputs": [],
   "source": [
    "path = './NanumBarunGothic.ttf'\n",
    "fontprop = fm.FontProperties(fname=path, size=12)"
   ]
  },
  {
   "cell_type": "code",
   "execution_count": 23,
   "metadata": {},
   "outputs": [
    {
     "data": {
      "image/png": "[encoded data removed]",
      "text/plain": [
       "<Figure size 432x288 with 1 Axes>"
      ]
     },
     "metadata": {
      "needs_background": "light"
     },
     "output_type": "display_data"
    }
   ],
   "source": [
    "model = TSNE(learning_rate=100)\n",
    "transformed = model.fit_transform(embdding_matrix)\n",
    "\n",
    "xs = transformed[:,0]\n",
    "ys = transformed[:,1]\n",
    "\n",
    "for i, offset in enumerate(transformed[1:]):\n",
    "    x, y = offset\n",
    "    plt.scatter(x, y)\n",
    "    plt.annotate(index_to_word[i+1], xy=(x, y), xytext=(6, 4),\n",
    "                 textcoords='offset points', ha='right', va='bottom', fontproperties=fontprop)\n",
    "\n",
    "plt.show()"
   ]
  }
 ],
 "metadata": {
  "accelerator": "GPU",
  "colab": {
   "collapsed_sections": [],
   "name": "Day2_3_Word2Vec(CBOW).ipynb",
   "provenance": [],
   "version": "0.3.2"
  },
  "kernelspec": {
   "display_name": "Python 3",
   "language": "python",
   "name": "python3"
  },
  "language_info": {
   "codemirror_mode": {
    "name": "ipython",
    "version": 3
   },
   "file_extension": ".py",
   "mimetype": "text/x-python",
   "name": "python",
   "nbconvert_exporter": "python",
   "pygments_lexer": "ipython3",
   "version": "3.6.8"
  }
 },
 "nbformat": 4,
 "nbformat_minor": 1
}

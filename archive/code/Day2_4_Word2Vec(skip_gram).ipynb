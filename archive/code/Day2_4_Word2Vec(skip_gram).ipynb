{
 "cells": [
  {
   "cell_type": "markdown",
   "metadata": {
    "colab_type": "text",
    "id": "NyMh6il00dp_"
   },
   "source": [
    "# Word2Vec(skip gram)"
   ]
  },
  {
   "cell_type": "code",
   "execution_count": 1,
   "metadata": {
    "colab": {},
    "colab_type": "code",
    "id": "jTUGI6xu0YK0"
   },
   "outputs": [],
   "source": [
    "import tensorflow as tf\n",
    "import numpy as np\n",
    "import os"
   ]
  },
  {
   "cell_type": "code",
   "execution_count": 2,
   "metadata": {
    "colab": {},
    "colab_type": "code",
    "id": "cZUorLxYsYv3"
   },
   "outputs": [],
   "source": [
    "samples = [\"철수은 축구를 좋아한다\",\n",
    "          \"영희은 축구를 싫어한다\",\n",
    "          \"철수은 도서관을 좋아한다\",\n",
    "          \"영희은 도서관을 싫어한다\",\n",
    "          \"철수은 공부를 좋아한다\",\n",
    "          \"영희은 공부를 싫어한다\",\n",
    "          \"철수은 축구를 좋아한다 영희은 축구를 싫어한다\"]"
   ]
  },
  {
   "cell_type": "code",
   "execution_count": 3,
   "metadata": {
    "colab": {
     "base_uri": "https://localhost:8080/",
     "height": 70
    },
    "colab_type": "code",
    "executionInfo": {
     "elapsed": 46864,
     "status": "ok",
     "timestamp": 1559967679564,
     "user": {
      "displayName": "ChangWook Jun",
      "photoUrl": "https://lh6.googleusercontent.com/-NHLAhAbNfPg/AAAAAAAAAAI/AAAAAAAAAEc/NDLQ8z7-qns/s64/photo.jpg",
      "userId": "00685987924881157185"
     },
     "user_tz": -540
    },
    "id": "Iz-Q4h3GsgYm",
    "outputId": "e6008e70-f975-49e4-f6b3-d4bd660f328d"
   },
   "outputs": [],
   "source": [
    "from tensorflow.keras import preprocessing\n",
    "\n",
    "tokenizer = preprocessing.text.Tokenizer()\n",
    "tokenizer.fit_on_texts(samples) \n",
    "sequences = tokenizer.texts_to_sequences(samples) \n",
    "\n",
    "word_to_index = tokenizer.word_index"
   ]
  },
  {
   "cell_type": "code",
   "execution_count": 4,
   "metadata": {},
   "outputs": [
    {
     "name": "stdout",
     "output_type": "stream",
     "text": [
      "{1: '철수은', 2: '축구를', 3: '좋아한다', 4: '영희은', 5: '싫어한다', 6: '도서관을', 7: '공부를'}\n"
     ]
    }
   ],
   "source": [
    "index_to_word = dict((i, w) for w, i in word_to_index.items())\n",
    "print(index_to_word)"
   ]
  },
  {
   "cell_type": "code",
   "execution_count": 6,
   "metadata": {},
   "outputs": [
    {
     "name": "stdout",
     "output_type": "stream",
     "text": [
      "sequences: [[1, 2, 3], [4, 2, 5], [1, 6, 3], [4, 6, 5], [1, 7, 3], [4, 7, 5], [1, 2, 3, 4, 2, 5]]\n",
      "skip_gram_data\n",
      "[[1, 2], [3, 2], [4, 2], [5, 2], [1, 6], [3, 6], [4, 6], [5, 6], [1, 7], [3, 7], [4, 7], [5, 7], [1, 2], [3, 2], [2, 3], [4, 3], [3, 4], [2, 4], [4, 2], [5, 2]]\n"
     ]
    }
   ],
   "source": [
    "skip_gram_data = []\n",
    "print(f'sequences: {sequences}')\n",
    "\n",
    "for sequence in sequences:\n",
    "    for i in range(1, len(sequence) - 1):\n",
    "        context = sequence[i]\n",
    "        target = sequence[i - 1]\n",
    "        skip_gram_data.append([target, context])\n",
    "        target = sequence[i+1]\n",
    "        skip_gram_data.append([target, context])\n",
    "        \n",
    "print(f'skip_gram_data\\n{skip_gram_data}')"
   ]
  },
  {
   "cell_type": "code",
   "execution_count": 7,
   "metadata": {
    "colab": {},
    "colab_type": "code",
    "id": "JbMB4WHUuoCn"
   },
   "outputs": [],
   "source": [
    "context = []\n",
    "target = []\n",
    "for i in range(len(skip_gram_data)):\n",
    "    context.append(skip_gram_data[i][0])  # context\n",
    "    target.append(skip_gram_data[i][1])  # label"
   ]
  },
  {
   "cell_type": "code",
   "execution_count": 8,
   "metadata": {},
   "outputs": [],
   "source": [
    "def mapping_fn(context, target):\n",
    "    features = {\"context\": context}\n",
    "    return features, target"
   ]
  },
  {
   "cell_type": "code",
   "execution_count": 9,
   "metadata": {
    "colab": {},
    "colab_type": "code",
    "id": "qD-75Pscjnwm"
   },
   "outputs": [],
   "source": [
    "EPOCH_SIZE = 1500\n",
    "BATCH_SIZE = 2\n",
    "\n",
    "def train_input_fn():\n",
    "    dataset = tf.data.Dataset.from_tensor_slices((context, target))\n",
    "    dataset = dataset.repeat(EPOCH_SIZE)\n",
    "    dataset = dataset.batch(BATCH_SIZE)\n",
    "    dataset = dataset.shuffle(len(skip_gram_data))\n",
    "    dataset = dataset.map(mapping_fn)\n",
    "\n",
    "    return dataset"
   ]
  },
  {
   "cell_type": "code",
   "execution_count": 10,
   "metadata": {
    "colab": {},
    "colab_type": "code",
    "id": "8JFuOuUp1T-r"
   },
   "outputs": [],
   "source": [
    "VOCAB_SIZE = len(word_to_index) + 1\n",
    "EMB_SIZE = 128\n",
    "\n",
    "def model_fn(features, labels, mode):\n",
    "    \n",
    "    w_1 = tf.Variable(tf.random_uniform([VOCAB_SIZE, EMB_SIZE], -1.0, 1.0)) #(10, 2)\n",
    "    w_2 = tf.Variable(tf.random_uniform([EMB_SIZE, VOCAB_SIZE], -1.0, 1.0)) #(2, 10)\n",
    "\n",
    "    context = tf.one_hot(indices=features['context'], depth=VOCAB_SIZE) #(?, 10)\n",
    "    \n",
    "    hidden = tf.matmul(context, w_1)\n",
    "\n",
    "    output = tf.matmul(hidden, w_2) # (?, 2)*(2, 10) = (?, 10)\n",
    "                                   \n",
    "    targets = tf.one_hot(indices=labels, depth=VOCAB_SIZE)  \n",
    "                                                            \n",
    "    loss = tf.losses.softmax_cross_entropy(targets, output)\n",
    "\n",
    "    global_step = tf.train.get_global_step()\n",
    "    train_op = tf.train.AdamOptimizer(1e-3).minimize(loss, global_step)\n",
    "\n",
    "\n",
    "    return tf.estimator.EstimatorSpec(\n",
    "          mode=mode,\n",
    "          train_op=train_op,\n",
    "          loss=loss)"
   ]
  },
  {
   "cell_type": "code",
   "execution_count": 11,
   "metadata": {
    "colab": {
     "base_uri": "https://localhost:8080/",
     "height": 171
    },
    "colab_type": "code",
    "executionInfo": {
     "elapsed": 837,
     "status": "ok",
     "timestamp": 1559968021263,
     "user": {
      "displayName": "ChangWook Jun",
      "photoUrl": "https://lh6.googleusercontent.com/-NHLAhAbNfPg/AAAAAAAAAAI/AAAAAAAAAEc/NDLQ8z7-qns/s64/photo.jpg",
      "userId": "00685987924881157185"
     },
     "user_tz": -540
    },
    "id": "LkOq-ALqqGde",
    "outputId": "633db1f8-8924-49b5-a858-0992e2f2473c"
   },
   "outputs": [],
   "source": [
    "DATA_OUT_PATH = './data_out/'\n",
    "\n",
    "if not os.path.exists(DATA_OUT_PATH):\n",
    "    os.makedirs(DATA_OUT_PATH)\n",
    "\n",
    "estimator = tf.estimator.Estimator(model_fn = model_fn, model_dir = DATA_OUT_PATH + 'checkpoint/skip_gram')"
   ]
  },
  {
   "cell_type": "code",
   "execution_count": 12,
   "metadata": {},
   "outputs": [],
   "source": [
    "tf.logging.set_verbosity(tf.logging.INFO)"
   ]
  },
  {
   "cell_type": "code",
   "execution_count": 13,
   "metadata": {
    "colab": {
     "base_uri": "https://localhost:8080/",
     "height": 3145
    },
    "colab_type": "code",
    "executionInfo": {
     "elapsed": 8180,
     "status": "ok",
     "timestamp": 1559968030071,
     "user": {
      "displayName": "ChangWook Jun",
      "photoUrl": "https://lh6.googleusercontent.com/-NHLAhAbNfPg/AAAAAAAAAAI/AAAAAAAAAEc/NDLQ8z7-qns/s64/photo.jpg",
      "userId": "00685987924881157185"
     },
     "user_tz": -540
    },
    "id": "qXnB35dNqW9G",
    "outputId": "c25ba7fc-2d49-4e00-aaa0-bef740bc129a",
    "scrolled": true
   },
   "outputs": [
    {
     "name": "stderr",
     "output_type": "stream",
     "text": [
      "WARNING: Logging before flag parsing goes to stderr.\n",
      "W0831 01:18:25.737586 4681942464 deprecation.py:323] From /Users/chojunghyun/anaconda3/envs/tensorflow/lib/python3.6/site-packages/tensorflow/python/training/training_util.py:236: Variable.initialized_value (from tensorflow.python.ops.variables) is deprecated and will be removed in a future version.\n",
      "Instructions for updating:\n",
      "Use Variable.read_value. Variables in 2.X are initialized automatically both in eager and graph (inside tf.defun) contexts.\n",
      "I0831 01:18:25.775840 4681942464 estimator.py:1145] Calling model_fn.\n",
      "W0831 01:18:25.813663 4681942464 deprecation.py:323] From /Users/chojunghyun/anaconda3/envs/tensorflow/lib/python3.6/site-packages/tensorflow/python/ops/losses/losses_impl.py:121: add_dispatch_support.<locals>.wrapper (from tensorflow.python.ops.array_ops) is deprecated and will be removed in a future version.\n",
      "Instructions for updating:\n",
      "Use tf.where in 2.0, which has the same broadcast rule as np.where\n",
      "I0831 01:18:25.877351 4681942464 estimator.py:1147] Done calling model_fn.\n",
      "I0831 01:18:25.879089 4681942464 basic_session_run_hooks.py:541] Create CheckpointSaverHook.\n",
      "I0831 01:18:25.951673 4681942464 monitored_session.py:240] Graph was finalized.\n",
      "I0831 01:18:25.981395 4681942464 session_manager.py:500] Running local_init_op.\n",
      "I0831 01:18:25.986093 4681942464 session_manager.py:502] Done running local_init_op.\n",
      "I0831 01:18:26.091266 4681942464 basic_session_run_hooks.py:606] Saving checkpoints for 0 into ./data_out/checkpoint/skip_gram/model.ckpt.\n",
      "I0831 01:18:26.182490 4681942464 basic_session_run_hooks.py:262] loss = 9.296589, step = 1\n",
      "I0831 01:18:26.257647 4681942464 basic_session_run_hooks.py:692] global_step/sec: 1326.05\n",
      "I0831 01:18:26.258430 4681942464 basic_session_run_hooks.py:260] loss = 6.40922, step = 101 (0.076 sec)\n",
      "I0831 01:18:26.303217 4681942464 basic_session_run_hooks.py:692] global_step/sec: 2194.22\n",
      "I0831 01:18:26.303990 4681942464 basic_session_run_hooks.py:260] loss = 1.4082801, step = 201 (0.046 sec)\n",
      "I0831 01:18:26.348110 4681942464 basic_session_run_hooks.py:692] global_step/sec: 2227.22\n",
      "I0831 01:18:26.348831 4681942464 basic_session_run_hooks.py:260] loss = 1.3688674, step = 301 (0.045 sec)\n",
      "I0831 01:18:26.392964 4681942464 basic_session_run_hooks.py:692] global_step/sec: 2229.51\n",
      "I0831 01:18:26.393725 4681942464 basic_session_run_hooks.py:260] loss = 0.97341156, step = 401 (0.045 sec)\n",
      "I0831 01:18:26.436605 4681942464 basic_session_run_hooks.py:692] global_step/sec: 2292.16\n",
      "I0831 01:18:26.437294 4681942464 basic_session_run_hooks.py:260] loss = 0.9074975, step = 501 (0.044 sec)\n",
      "I0831 01:18:26.478657 4681942464 basic_session_run_hooks.py:692] global_step/sec: 2377.22\n",
      "I0831 01:18:26.479417 4681942464 basic_session_run_hooks.py:260] loss = 1.2484318, step = 601 (0.042 sec)\n",
      "I0831 01:18:26.522958 4681942464 basic_session_run_hooks.py:692] global_step/sec: 2261.42\n",
      "I0831 01:18:26.524023 4681942464 basic_session_run_hooks.py:260] loss = 0.8698381, step = 701 (0.045 sec)\n",
      "I0831 01:18:26.565491 4681942464 basic_session_run_hooks.py:692] global_step/sec: 2346.53\n",
      "I0831 01:18:26.566170 4681942464 basic_session_run_hooks.py:260] loss = 1.013963, step = 801 (0.042 sec)\n",
      "I0831 01:18:26.609216 4681942464 basic_session_run_hooks.py:692] global_step/sec: 2287.13\n",
      "I0831 01:18:26.609925 4681942464 basic_session_run_hooks.py:260] loss = 0.72827214, step = 901 (0.044 sec)\n",
      "I0831 01:18:26.652229 4681942464 basic_session_run_hooks.py:692] global_step/sec: 2324.92\n",
      "I0831 01:18:26.652939 4681942464 basic_session_run_hooks.py:260] loss = 0.9372492, step = 1001 (0.043 sec)\n",
      "I0831 01:18:26.695342 4681942464 basic_session_run_hooks.py:692] global_step/sec: 2319.37\n",
      "I0831 01:18:26.696063 4681942464 basic_session_run_hooks.py:260] loss = 0.8678678, step = 1101 (0.043 sec)\n",
      "I0831 01:18:26.738621 4681942464 basic_session_run_hooks.py:692] global_step/sec: 2311.03\n",
      "I0831 01:18:26.739329 4681942464 basic_session_run_hooks.py:260] loss = 1.6710294, step = 1201 (0.043 sec)\n",
      "I0831 01:18:26.787019 4681942464 basic_session_run_hooks.py:692] global_step/sec: 2066.15\n",
      "I0831 01:18:26.787962 4681942464 basic_session_run_hooks.py:260] loss = 0.8944, step = 1301 (0.049 sec)\n",
      "I0831 01:18:26.835037 4681942464 basic_session_run_hooks.py:692] global_step/sec: 2082.51\n",
      "I0831 01:18:26.835868 4681942464 basic_session_run_hooks.py:260] loss = 0.76354975, step = 1401 (0.048 sec)\n",
      "I0831 01:18:26.877466 4681942464 basic_session_run_hooks.py:692] global_step/sec: 2356.5\n",
      "I0831 01:18:26.878178 4681942464 basic_session_run_hooks.py:260] loss = 1.7377124, step = 1501 (0.042 sec)\n",
      "I0831 01:18:26.920542 4681942464 basic_session_run_hooks.py:692] global_step/sec: 2321.59\n",
      "I0831 01:18:26.921278 4681942464 basic_session_run_hooks.py:260] loss = 1.3726938, step = 1601 (0.043 sec)\n",
      "I0831 01:18:26.967318 4681942464 basic_session_run_hooks.py:692] global_step/sec: 2137.99\n",
      "I0831 01:18:26.968064 4681942464 basic_session_run_hooks.py:260] loss = 0.8094187, step = 1701 (0.047 sec)\n",
      "I0831 01:18:27.012261 4681942464 basic_session_run_hooks.py:692] global_step/sec: 2224.69\n",
      "I0831 01:18:27.012959 4681942464 basic_session_run_hooks.py:260] loss = 1.3877296, step = 1801 (0.045 sec)\n",
      "I0831 01:18:27.054395 4681942464 basic_session_run_hooks.py:692] global_step/sec: 2373.77\n",
      "I0831 01:18:27.055109 4681942464 basic_session_run_hooks.py:260] loss = 1.5015141, step = 1901 (0.042 sec)\n",
      "I0831 01:18:27.097707 4681942464 basic_session_run_hooks.py:692] global_step/sec: 2308.67\n",
      "I0831 01:18:27.098489 4681942464 basic_session_run_hooks.py:260] loss = 1.5794045, step = 2001 (0.043 sec)\n",
      "I0831 01:18:27.146533 4681942464 basic_session_run_hooks.py:692] global_step/sec: 2048.08\n",
      "I0831 01:18:27.147260 4681942464 basic_session_run_hooks.py:260] loss = 1.2692254, step = 2101 (0.049 sec)\n",
      "I0831 01:18:27.189701 4681942464 basic_session_run_hooks.py:692] global_step/sec: 2317.18\n",
      "I0831 01:18:27.190408 4681942464 basic_session_run_hooks.py:260] loss = 1.0958587, step = 2201 (0.043 sec)\n",
      "I0831 01:18:27.231936 4681942464 basic_session_run_hooks.py:692] global_step/sec: 2366.98\n",
      "I0831 01:18:27.232661 4681942464 basic_session_run_hooks.py:260] loss = 0.82089096, step = 2301 (0.042 sec)\n",
      "I0831 01:18:27.278149 4681942464 basic_session_run_hooks.py:692] global_step/sec: 2163.99\n",
      "I0831 01:18:27.278885 4681942464 basic_session_run_hooks.py:260] loss = 1.6354955, step = 2401 (0.046 sec)\n",
      "I0831 01:18:27.321100 4681942464 basic_session_run_hooks.py:692] global_step/sec: 2328.51\n",
      "I0831 01:18:27.321853 4681942464 basic_session_run_hooks.py:260] loss = 1.4333346, step = 2501 (0.043 sec)\n",
      "I0831 01:18:27.365292 4681942464 basic_session_run_hooks.py:692] global_step/sec: 2262.64\n",
      "I0831 01:18:27.366011 4681942464 basic_session_run_hooks.py:260] loss = 1.196614, step = 2601 (0.044 sec)\n",
      "I0831 01:18:27.407253 4681942464 basic_session_run_hooks.py:692] global_step/sec: 2382.83\n",
      "I0831 01:18:27.407969 4681942464 basic_session_run_hooks.py:260] loss = 1.7102171, step = 2701 (0.042 sec)\n",
      "I0831 01:18:27.450015 4681942464 basic_session_run_hooks.py:692] global_step/sec: 2339.01\n",
      "I0831 01:18:27.450767 4681942464 basic_session_run_hooks.py:260] loss = 1.2870338, step = 2801 (0.043 sec)\n",
      "I0831 01:18:27.493980 4681942464 basic_session_run_hooks.py:692] global_step/sec: 2274.19\n",
      "I0831 01:18:27.494708 4681942464 basic_session_run_hooks.py:260] loss = 1.6029855, step = 2901 (0.044 sec)\n",
      "I0831 01:18:27.536589 4681942464 basic_session_run_hooks.py:692] global_step/sec: 2346.91\n",
      "I0831 01:18:27.537278 4681942464 basic_session_run_hooks.py:260] loss = 0.8664111, step = 3001 (0.043 sec)\n",
      "I0831 01:18:27.580572 4681942464 basic_session_run_hooks.py:692] global_step/sec: 2273.82\n",
      "I0831 01:18:27.581286 4681942464 basic_session_run_hooks.py:260] loss = 1.4833088, step = 3101 (0.044 sec)\n",
      "I0831 01:18:27.624345 4681942464 basic_session_run_hooks.py:692] global_step/sec: 2284.35\n",
      "I0831 01:18:27.625066 4681942464 basic_session_run_hooks.py:260] loss = 1.0626228, step = 3201 (0.044 sec)\n",
      "I0831 01:18:27.667943 4681942464 basic_session_run_hooks.py:692] global_step/sec: 2293.59\n",
      "I0831 01:18:27.668790 4681942464 basic_session_run_hooks.py:260] loss = 1.5681267, step = 3301 (0.044 sec)\n",
      "I0831 01:18:27.712063 4681942464 basic_session_run_hooks.py:692] global_step/sec: 2266.81\n"
     ]
    },
    {
     "name": "stderr",
     "output_type": "stream",
     "text": [
      "I0831 01:18:27.712866 4681942464 basic_session_run_hooks.py:260] loss = 2.002514, step = 3401 (0.044 sec)\n",
      "I0831 01:18:27.754029 4681942464 basic_session_run_hooks.py:692] global_step/sec: 2382.59\n",
      "I0831 01:18:27.754703 4681942464 basic_session_run_hooks.py:260] loss = 1.4161478, step = 3501 (0.042 sec)\n",
      "I0831 01:18:27.797722 4681942464 basic_session_run_hooks.py:692] global_step/sec: 2289\n",
      "I0831 01:18:27.798540 4681942464 basic_session_run_hooks.py:260] loss = 1.2546675, step = 3601 (0.044 sec)\n",
      "I0831 01:18:27.840996 4681942464 basic_session_run_hooks.py:692] global_step/sec: 2310.69\n",
      "I0831 01:18:27.841768 4681942464 basic_session_run_hooks.py:260] loss = 1.5030037, step = 3701 (0.043 sec)\n",
      "I0831 01:18:27.883385 4681942464 basic_session_run_hooks.py:692] global_step/sec: 2358.99\n",
      "I0831 01:18:27.884088 4681942464 basic_session_run_hooks.py:260] loss = 0.8571882, step = 3801 (0.042 sec)\n",
      "I0831 01:18:27.925336 4681942464 basic_session_run_hooks.py:692] global_step/sec: 2383.7\n",
      "I0831 01:18:27.926031 4681942464 basic_session_run_hooks.py:260] loss = 0.82046634, step = 3901 (0.042 sec)\n",
      "I0831 01:18:27.967047 4681942464 basic_session_run_hooks.py:692] global_step/sec: 2397.44\n",
      "I0831 01:18:27.967755 4681942464 basic_session_run_hooks.py:260] loss = 0.9147287, step = 4001 (0.042 sec)\n",
      "I0831 01:18:28.009915 4681942464 basic_session_run_hooks.py:692] global_step/sec: 2332.96\n",
      "I0831 01:18:28.010668 4681942464 basic_session_run_hooks.py:260] loss = 1.3587103, step = 4101 (0.043 sec)\n",
      "I0831 01:18:28.053080 4681942464 basic_session_run_hooks.py:692] global_step/sec: 2316.64\n",
      "I0831 01:18:28.053813 4681942464 basic_session_run_hooks.py:260] loss = 0.8651527, step = 4201 (0.043 sec)\n",
      "I0831 01:18:28.095357 4681942464 basic_session_run_hooks.py:692] global_step/sec: 2365.19\n",
      "I0831 01:18:28.096027 4681942464 basic_session_run_hooks.py:260] loss = 0.7740796, step = 4301 (0.042 sec)\n",
      "I0831 01:18:28.137638 4681942464 basic_session_run_hooks.py:692] global_step/sec: 2365.19\n",
      "I0831 01:18:28.138329 4681942464 basic_session_run_hooks.py:260] loss = 0.91242516, step = 4401 (0.042 sec)\n",
      "I0831 01:18:28.180421 4681942464 basic_session_run_hooks.py:692] global_step/sec: 2337.64\n",
      "I0831 01:18:28.181264 4681942464 basic_session_run_hooks.py:260] loss = 1.32984, step = 4501 (0.043 sec)\n",
      "I0831 01:18:28.224197 4681942464 basic_session_run_hooks.py:692] global_step/sec: 2284.17\n",
      "I0831 01:18:28.224927 4681942464 basic_session_run_hooks.py:260] loss = 0.8235775, step = 4601 (0.044 sec)\n",
      "I0831 01:18:28.268910 4681942464 basic_session_run_hooks.py:692] global_step/sec: 2236.57\n",
      "I0831 01:18:28.269654 4681942464 basic_session_run_hooks.py:260] loss = 1.223215, step = 4701 (0.045 sec)\n",
      "I0831 01:18:28.311301 4681942464 basic_session_run_hooks.py:692] global_step/sec: 2359.05\n",
      "I0831 01:18:28.311980 4681942464 basic_session_run_hooks.py:260] loss = 1.5931833, step = 4801 (0.042 sec)\n",
      "I0831 01:18:28.352735 4681942464 basic_session_run_hooks.py:692] global_step/sec: 2414.13\n",
      "I0831 01:18:28.353430 4681942464 basic_session_run_hooks.py:260] loss = 0.71092314, step = 4901 (0.041 sec)\n",
      "I0831 01:18:28.396848 4681942464 basic_session_run_hooks.py:692] global_step/sec: 2266.19\n",
      "I0831 01:18:28.397562 4681942464 basic_session_run_hooks.py:260] loss = 1.2432736, step = 5001 (0.044 sec)\n",
      "I0831 01:18:28.440557 4681942464 basic_session_run_hooks.py:692] global_step/sec: 2287.89\n",
      "I0831 01:18:28.441265 4681942464 basic_session_run_hooks.py:260] loss = 0.7845807, step = 5101 (0.044 sec)\n",
      "I0831 01:18:28.483998 4681942464 basic_session_run_hooks.py:692] global_step/sec: 2301.82\n",
      "I0831 01:18:28.484697 4681942464 basic_session_run_hooks.py:260] loss = 0.89813906, step = 5201 (0.043 sec)\n",
      "I0831 01:18:28.530074 4681942464 basic_session_run_hooks.py:692] global_step/sec: 2170.62\n",
      "I0831 01:18:28.530920 4681942464 basic_session_run_hooks.py:260] loss = 1.5363735, step = 5301 (0.046 sec)\n",
      "I0831 01:18:28.575828 4681942464 basic_session_run_hooks.py:692] global_step/sec: 2185.35\n",
      "I0831 01:18:28.576607 4681942464 basic_session_run_hooks.py:260] loss = 0.64576447, step = 5401 (0.046 sec)\n",
      "I0831 01:18:28.621414 4681942464 basic_session_run_hooks.py:692] global_step/sec: 2193.8\n",
      "I0831 01:18:28.622132 4681942464 basic_session_run_hooks.py:260] loss = 1.5304068, step = 5501 (0.046 sec)\n",
      "I0831 01:18:28.667881 4681942464 basic_session_run_hooks.py:692] global_step/sec: 2152.07\n",
      "I0831 01:18:28.668624 4681942464 basic_session_run_hooks.py:260] loss = 1.7706254, step = 5601 (0.046 sec)\n",
      "I0831 01:18:28.712867 4681942464 basic_session_run_hooks.py:692] global_step/sec: 2223.01\n",
      "I0831 01:18:28.713693 4681942464 basic_session_run_hooks.py:260] loss = 0.7865151, step = 5701 (0.045 sec)\n",
      "I0831 01:18:28.756801 4681942464 basic_session_run_hooks.py:692] global_step/sec: 2275.99\n",
      "I0831 01:18:28.757591 4681942464 basic_session_run_hooks.py:260] loss = 0.927441, step = 5801 (0.044 sec)\n",
      "I0831 01:18:28.801529 4681942464 basic_session_run_hooks.py:692] global_step/sec: 2235.94\n",
      "I0831 01:18:28.802343 4681942464 basic_session_run_hooks.py:260] loss = 1.1459367, step = 5901 (0.045 sec)\n",
      "I0831 01:18:28.847049 4681942464 basic_session_run_hooks.py:692] global_step/sec: 2196.7\n",
      "I0831 01:18:28.847854 4681942464 basic_session_run_hooks.py:260] loss = 1.5964801, step = 6001 (0.046 sec)\n",
      "I0831 01:18:28.897070 4681942464 basic_session_run_hooks.py:692] global_step/sec: 1999.44\n",
      "I0831 01:18:28.897855 4681942464 basic_session_run_hooks.py:260] loss = 1.5725608, step = 6101 (0.050 sec)\n",
      "I0831 01:18:28.942131 4681942464 basic_session_run_hooks.py:692] global_step/sec: 2218.96\n",
      "I0831 01:18:28.942919 4681942464 basic_session_run_hooks.py:260] loss = 1.7568316, step = 6201 (0.045 sec)\n",
      "I0831 01:18:28.985784 4681942464 basic_session_run_hooks.py:692] global_step/sec: 2290.86\n",
      "I0831 01:18:28.986557 4681942464 basic_session_run_hooks.py:260] loss = 1.267894, step = 6301 (0.044 sec)\n",
      "I0831 01:18:29.029191 4681942464 basic_session_run_hooks.py:692] global_step/sec: 2303.93\n",
      "I0831 01:18:29.030000 4681942464 basic_session_run_hooks.py:260] loss = 1.5857928, step = 6401 (0.043 sec)\n",
      "I0831 01:18:29.074006 4681942464 basic_session_run_hooks.py:692] global_step/sec: 2231.14\n",
      "I0831 01:18:29.074790 4681942464 basic_session_run_hooks.py:260] loss = 1.4196184, step = 6501 (0.045 sec)\n",
      "I0831 01:18:29.119988 4681942464 basic_session_run_hooks.py:692] global_step/sec: 2174.68\n",
      "I0831 01:18:29.120730 4681942464 basic_session_run_hooks.py:260] loss = 1.5112736, step = 6601 (0.046 sec)\n",
      "I0831 01:18:29.162751 4681942464 basic_session_run_hooks.py:692] global_step/sec: 2338.85\n",
      "I0831 01:18:29.163545 4681942464 basic_session_run_hooks.py:260] loss = 0.99122345, step = 6701 (0.043 sec)\n",
      "I0831 01:18:29.206305 4681942464 basic_session_run_hooks.py:692] global_step/sec: 2296.1\n",
      "I0831 01:18:29.207077 4681942464 basic_session_run_hooks.py:260] loss = 0.709704, step = 6801 (0.044 sec)\n",
      "I0831 01:18:29.251536 4681942464 basic_session_run_hooks.py:692] global_step/sec: 2210.63\n",
      "I0831 01:18:29.252303 4681942464 basic_session_run_hooks.py:260] loss = 0.94135684, step = 6901 (0.045 sec)\n",
      "I0831 01:18:29.293433 4681942464 basic_session_run_hooks.py:692] global_step/sec: 2386.75\n",
      "I0831 01:18:29.294156 4681942464 basic_session_run_hooks.py:260] loss = 0.6356318, step = 7001 (0.042 sec)\n",
      "I0831 01:18:29.338170 4681942464 basic_session_run_hooks.py:692] global_step/sec: 2235.13\n",
      "I0831 01:18:29.338863 4681942464 basic_session_run_hooks.py:260] loss = 1.0819393, step = 7101 (0.045 sec)\n",
      "I0831 01:18:29.382189 4681942464 basic_session_run_hooks.py:692] global_step/sec: 2273.67\n",
      "I0831 01:18:29.383044 4681942464 basic_session_run_hooks.py:260] loss = 1.5084133, step = 7201 (0.044 sec)\n",
      "I0831 01:18:29.429085 4681942464 basic_session_run_hooks.py:692] global_step/sec: 2131.24\n",
      "I0831 01:18:29.430067 4681942464 basic_session_run_hooks.py:260] loss = 1.4043281, step = 7301 (0.047 sec)\n",
      "I0831 01:18:29.477313 4681942464 basic_session_run_hooks.py:692] global_step/sec: 2072.92\n",
      "I0831 01:18:29.478056 4681942464 basic_session_run_hooks.py:260] loss = 0.9088752, step = 7401 (0.048 sec)\n",
      "I0831 01:18:29.524358 4681942464 basic_session_run_hooks.py:692] global_step/sec: 2125.95\n",
      "I0831 01:18:29.525094 4681942464 basic_session_run_hooks.py:260] loss = 1.7384064, step = 7501 (0.047 sec)\n",
      "I0831 01:18:29.569715 4681942464 basic_session_run_hooks.py:692] global_step/sec: 2204.67\n"
     ]
    },
    {
     "name": "stderr",
     "output_type": "stream",
     "text": [
      "I0831 01:18:29.570513 4681942464 basic_session_run_hooks.py:260] loss = 1.6980708, step = 7601 (0.045 sec)\n",
      "I0831 01:18:29.616171 4681942464 basic_session_run_hooks.py:692] global_step/sec: 2153.47\n",
      "I0831 01:18:29.617091 4681942464 basic_session_run_hooks.py:260] loss = 1.4169452, step = 7701 (0.047 sec)\n",
      "I0831 01:18:29.660654 4681942464 basic_session_run_hooks.py:692] global_step/sec: 2246.98\n",
      "I0831 01:18:29.661424 4681942464 basic_session_run_hooks.py:260] loss = 0.7297051, step = 7801 (0.044 sec)\n",
      "I0831 01:18:29.702243 4681942464 basic_session_run_hooks.py:692] global_step/sec: 2404.49\n",
      "I0831 01:18:29.702949 4681942464 basic_session_run_hooks.py:260] loss = 0.9954741, step = 7901 (0.042 sec)\n",
      "I0831 01:18:29.744786 4681942464 basic_session_run_hooks.py:692] global_step/sec: 2350.28\n",
      "I0831 01:18:29.745501 4681942464 basic_session_run_hooks.py:260] loss = 1.1184871, step = 8001 (0.043 sec)\n",
      "I0831 01:18:29.787955 4681942464 basic_session_run_hooks.py:692] global_step/sec: 2316.59\n",
      "I0831 01:18:29.788769 4681942464 basic_session_run_hooks.py:260] loss = 0.74392307, step = 8101 (0.043 sec)\n",
      "I0831 01:18:29.832964 4681942464 basic_session_run_hooks.py:692] global_step/sec: 2221.77\n",
      "I0831 01:18:29.833722 4681942464 basic_session_run_hooks.py:260] loss = 0.92873895, step = 8201 (0.045 sec)\n",
      "I0831 01:18:29.879317 4681942464 basic_session_run_hooks.py:692] global_step/sec: 2158.1\n",
      "I0831 01:18:29.880141 4681942464 basic_session_run_hooks.py:260] loss = 1.826614, step = 8301 (0.046 sec)\n",
      "I0831 01:18:29.926250 4681942464 basic_session_run_hooks.py:692] global_step/sec: 2129.89\n",
      "I0831 01:18:29.927031 4681942464 basic_session_run_hooks.py:260] loss = 0.6908164, step = 8401 (0.047 sec)\n",
      "I0831 01:18:29.970233 4681942464 basic_session_run_hooks.py:692] global_step/sec: 2273.82\n",
      "I0831 01:18:29.970957 4681942464 basic_session_run_hooks.py:260] loss = 0.7935974, step = 8501 (0.044 sec)\n",
      "I0831 01:18:30.014490 4681942464 basic_session_run_hooks.py:692] global_step/sec: 2259.63\n",
      "I0831 01:18:30.015305 4681942464 basic_session_run_hooks.py:260] loss = 1.4841894, step = 8601 (0.044 sec)\n",
      "I0831 01:18:30.058836 4681942464 basic_session_run_hooks.py:692] global_step/sec: 2254.8\n",
      "I0831 01:18:30.059621 4681942464 basic_session_run_hooks.py:260] loss = 1.9056442, step = 8701 (0.044 sec)\n",
      "I0831 01:18:30.103911 4681942464 basic_session_run_hooks.py:692] global_step/sec: 2218.61\n",
      "I0831 01:18:30.104614 4681942464 basic_session_run_hooks.py:260] loss = 1.5638909, step = 8801 (0.045 sec)\n",
      "I0831 01:18:30.147186 4681942464 basic_session_run_hooks.py:692] global_step/sec: 2310.61\n",
      "I0831 01:18:30.147893 4681942464 basic_session_run_hooks.py:260] loss = 1.4561174, step = 8901 (0.043 sec)\n",
      "I0831 01:18:30.190058 4681942464 basic_session_run_hooks.py:692] global_step/sec: 2333.28\n",
      "I0831 01:18:30.190746 4681942464 basic_session_run_hooks.py:260] loss = 0.8690156, step = 9001 (0.043 sec)\n",
      "I0831 01:18:30.233572 4681942464 basic_session_run_hooks.py:692] global_step/sec: 2298.11\n",
      "I0831 01:18:30.234300 4681942464 basic_session_run_hooks.py:260] loss = 1.0229261, step = 9101 (0.044 sec)\n",
      "I0831 01:18:30.276767 4681942464 basic_session_run_hooks.py:692] global_step/sec: 2314.55\n",
      "I0831 01:18:30.277485 4681942464 basic_session_run_hooks.py:260] loss = 1.4469874, step = 9201 (0.043 sec)\n",
      "I0831 01:18:30.323880 4681942464 basic_session_run_hooks.py:692] global_step/sec: 2122.38\n",
      "I0831 01:18:30.324660 4681942464 basic_session_run_hooks.py:260] loss = 0.8685395, step = 9301 (0.047 sec)\n",
      "I0831 01:18:30.367125 4681942464 basic_session_run_hooks.py:692] global_step/sec: 2312.4\n",
      "I0831 01:18:30.367835 4681942464 basic_session_run_hooks.py:260] loss = 1.7343242, step = 9401 (0.043 sec)\n",
      "I0831 01:18:30.410000 4681942464 basic_session_run_hooks.py:692] global_step/sec: 2332.25\n",
      "I0831 01:18:30.410711 4681942464 basic_session_run_hooks.py:260] loss = 0.8836102, step = 9501 (0.043 sec)\n",
      "I0831 01:18:30.455170 4681942464 basic_session_run_hooks.py:692] global_step/sec: 2214.1\n",
      "I0831 01:18:30.455919 4681942464 basic_session_run_hooks.py:260] loss = 1.0873344, step = 9601 (0.045 sec)\n",
      "I0831 01:18:30.500538 4681942464 basic_session_run_hooks.py:692] global_step/sec: 2204.2\n",
      "I0831 01:18:30.501257 4681942464 basic_session_run_hooks.py:260] loss = 1.1130809, step = 9701 (0.045 sec)\n",
      "I0831 01:18:30.545580 4681942464 basic_session_run_hooks.py:692] global_step/sec: 2220.1\n",
      "I0831 01:18:30.546356 4681942464 basic_session_run_hooks.py:260] loss = 1.5018137, step = 9801 (0.045 sec)\n",
      "I0831 01:18:30.591539 4681942464 basic_session_run_hooks.py:692] global_step/sec: 2175.85\n",
      "I0831 01:18:30.592236 4681942464 basic_session_run_hooks.py:260] loss = 0.7573138, step = 9901 (0.046 sec)\n",
      "I0831 01:18:30.637720 4681942464 basic_session_run_hooks.py:692] global_step/sec: 2166.33\n",
      "I0831 01:18:30.638500 4681942464 basic_session_run_hooks.py:260] loss = 1.2622633, step = 10001 (0.046 sec)\n",
      "I0831 01:18:30.682011 4681942464 basic_session_run_hooks.py:692] global_step/sec: 2256.92\n",
      "I0831 01:18:30.682796 4681942464 basic_session_run_hooks.py:260] loss = 0.882164, step = 10101 (0.044 sec)\n",
      "I0831 01:18:30.724676 4681942464 basic_session_run_hooks.py:692] global_step/sec: 2343.79\n",
      "I0831 01:18:30.725409 4681942464 basic_session_run_hooks.py:260] loss = 1.6370902, step = 10201 (0.043 sec)\n",
      "I0831 01:18:30.767901 4681942464 basic_session_run_hooks.py:692] global_step/sec: 2313.49\n",
      "I0831 01:18:30.768667 4681942464 basic_session_run_hooks.py:260] loss = 1.333224, step = 10301 (0.043 sec)\n",
      "I0831 01:18:30.811513 4681942464 basic_session_run_hooks.py:692] global_step/sec: 2293\n",
      "I0831 01:18:30.812325 4681942464 basic_session_run_hooks.py:260] loss = 0.7853979, step = 10401 (0.044 sec)\n",
      "I0831 01:18:30.856668 4681942464 basic_session_run_hooks.py:692] global_step/sec: 2214.74\n",
      "I0831 01:18:30.857426 4681942464 basic_session_run_hooks.py:260] loss = 1.4494959, step = 10501 (0.045 sec)\n",
      "I0831 01:18:30.899060 4681942464 basic_session_run_hooks.py:692] global_step/sec: 2358.6\n",
      "I0831 01:18:30.899772 4681942464 basic_session_run_hooks.py:260] loss = 1.508421, step = 10601 (0.042 sec)\n",
      "I0831 01:18:30.939928 4681942464 basic_session_run_hooks.py:692] global_step/sec: 2447.2\n",
      "I0831 01:18:30.940653 4681942464 basic_session_run_hooks.py:260] loss = 1.3184938, step = 10701 (0.041 sec)\n",
      "I0831 01:18:30.982943 4681942464 basic_session_run_hooks.py:692] global_step/sec: 2324.76\n",
      "I0831 01:18:30.983747 4681942464 basic_session_run_hooks.py:260] loss = 1.1244324, step = 10801 (0.043 sec)\n",
      "I0831 01:18:31.028290 4681942464 basic_session_run_hooks.py:692] global_step/sec: 2205.32\n",
      "I0831 01:18:31.029105 4681942464 basic_session_run_hooks.py:260] loss = 1.2539873, step = 10901 (0.045 sec)\n",
      "I0831 01:18:31.075236 4681942464 basic_session_run_hooks.py:692] global_step/sec: 2129.92\n",
      "I0831 01:18:31.076014 4681942464 basic_session_run_hooks.py:260] loss = 1.9357723, step = 11001 (0.047 sec)\n",
      "I0831 01:18:31.119997 4681942464 basic_session_run_hooks.py:692] global_step/sec: 2235.14\n",
      "I0831 01:18:31.120858 4681942464 basic_session_run_hooks.py:260] loss = 1.217624, step = 11101 (0.045 sec)\n",
      "I0831 01:18:31.161397 4681942464 basic_session_run_hooks.py:692] global_step/sec: 2414.13\n",
      "I0831 01:18:31.162174 4681942464 basic_session_run_hooks.py:260] loss = 1.0786892, step = 11201 (0.041 sec)\n",
      "I0831 01:18:31.202430 4681942464 basic_session_run_hooks.py:692] global_step/sec: 2437.23\n",
      "I0831 01:18:31.203240 4681942464 basic_session_run_hooks.py:260] loss = 1.7419766, step = 11301 (0.041 sec)\n",
      "I0831 01:18:31.244368 4681942464 basic_session_run_hooks.py:692] global_step/sec: 2384.24\n",
      "I0831 01:18:31.245134 4681942464 basic_session_run_hooks.py:260] loss = 0.85966754, step = 11401 (0.042 sec)\n",
      "I0831 01:18:31.284335 4681942464 basic_session_run_hooks.py:692] global_step/sec: 2502.08\n",
      "I0831 01:18:31.285033 4681942464 basic_session_run_hooks.py:260] loss = 0.8356588, step = 11501 (0.040 sec)\n",
      "I0831 01:18:31.324653 4681942464 basic_session_run_hooks.py:692] global_step/sec: 2480.09\n",
      "I0831 01:18:31.325366 4681942464 basic_session_run_hooks.py:260] loss = 1.3977714, step = 11601 (0.040 sec)\n",
      "I0831 01:18:31.365039 4681942464 basic_session_run_hooks.py:692] global_step/sec: 2476.36\n",
      "I0831 01:18:31.365765 4681942464 basic_session_run_hooks.py:260] loss = 0.80899096, step = 11701 (0.040 sec)\n",
      "I0831 01:18:31.406373 4681942464 basic_session_run_hooks.py:692] global_step/sec: 2419.21\n"
     ]
    },
    {
     "name": "stderr",
     "output_type": "stream",
     "text": [
      "I0831 01:18:31.407073 4681942464 basic_session_run_hooks.py:260] loss = 1.195015, step = 11801 (0.041 sec)\n",
      "I0831 01:18:31.446509 4681942464 basic_session_run_hooks.py:692] global_step/sec: 2491.58\n",
      "I0831 01:18:31.447203 4681942464 basic_session_run_hooks.py:260] loss = 1.6308267, step = 11901 (0.040 sec)\n",
      "I0831 01:18:31.486838 4681942464 basic_session_run_hooks.py:692] global_step/sec: 2479.67\n",
      "I0831 01:18:31.487565 4681942464 basic_session_run_hooks.py:260] loss = 1.3013184, step = 12001 (0.040 sec)\n",
      "I0831 01:18:31.527626 4681942464 basic_session_run_hooks.py:692] global_step/sec: 2451.52\n",
      "I0831 01:18:31.528321 4681942464 basic_session_run_hooks.py:260] loss = 0.8342742, step = 12101 (0.041 sec)\n",
      "I0831 01:18:31.571521 4681942464 basic_session_run_hooks.py:692] global_step/sec: 2278.27\n",
      "I0831 01:18:31.572212 4681942464 basic_session_run_hooks.py:260] loss = 1.0703999, step = 12201 (0.044 sec)\n",
      "I0831 01:18:31.615298 4681942464 basic_session_run_hooks.py:692] global_step/sec: 2284.24\n",
      "I0831 01:18:31.615991 4681942464 basic_session_run_hooks.py:260] loss = 0.738611, step = 12301 (0.044 sec)\n",
      "I0831 01:18:31.657757 4681942464 basic_session_run_hooks.py:692] global_step/sec: 2355.05\n",
      "I0831 01:18:31.658441 4681942464 basic_session_run_hooks.py:260] loss = 1.467469, step = 12401 (0.042 sec)\n",
      "I0831 01:18:31.702208 4681942464 basic_session_run_hooks.py:692] global_step/sec: 2249.92\n",
      "I0831 01:18:31.703028 4681942464 basic_session_run_hooks.py:260] loss = 0.8942104, step = 12501 (0.045 sec)\n",
      "I0831 01:18:31.745758 4681942464 basic_session_run_hooks.py:692] global_step/sec: 2296.47\n",
      "I0831 01:18:31.746484 4681942464 basic_session_run_hooks.py:260] loss = 1.5196762, step = 12601 (0.043 sec)\n",
      "I0831 01:18:31.790222 4681942464 basic_session_run_hooks.py:692] global_step/sec: 2248.7\n",
      "I0831 01:18:31.790920 4681942464 basic_session_run_hooks.py:260] loss = 0.9575303, step = 12701 (0.044 sec)\n",
      "I0831 01:18:31.833189 4681942464 basic_session_run_hooks.py:692] global_step/sec: 2327.27\n",
      "I0831 01:18:31.833938 4681942464 basic_session_run_hooks.py:260] loss = 0.7699672, step = 12801 (0.043 sec)\n",
      "I0831 01:18:31.875643 4681942464 basic_session_run_hooks.py:692] global_step/sec: 2355.49\n",
      "I0831 01:18:31.876352 4681942464 basic_session_run_hooks.py:260] loss = 0.836398, step = 12901 (0.042 sec)\n",
      "I0831 01:18:31.919307 4681942464 basic_session_run_hooks.py:692] global_step/sec: 2290.37\n",
      "I0831 01:18:31.920038 4681942464 basic_session_run_hooks.py:260] loss = 1.7069038, step = 13001 (0.044 sec)\n",
      "I0831 01:18:31.962846 4681942464 basic_session_run_hooks.py:692] global_step/sec: 2296.63\n",
      "I0831 01:18:31.963540 4681942464 basic_session_run_hooks.py:260] loss = 1.7247832, step = 13101 (0.044 sec)\n",
      "I0831 01:18:32.006605 4681942464 basic_session_run_hooks.py:692] global_step/sec: 2285.3\n",
      "I0831 01:18:32.007306 4681942464 basic_session_run_hooks.py:260] loss = 1.3318264, step = 13201 (0.044 sec)\n",
      "I0831 01:18:32.050292 4681942464 basic_session_run_hooks.py:692] global_step/sec: 2290.22\n",
      "I0831 01:18:32.051003 4681942464 basic_session_run_hooks.py:260] loss = 1.5507977, step = 13301 (0.044 sec)\n",
      "I0831 01:18:32.093884 4681942464 basic_session_run_hooks.py:692] global_step/sec: 2292.8\n",
      "I0831 01:18:32.094638 4681942464 basic_session_run_hooks.py:260] loss = 1.1856446, step = 13401 (0.044 sec)\n",
      "I0831 01:18:32.139889 4681942464 basic_session_run_hooks.py:692] global_step/sec: 2173.95\n",
      "I0831 01:18:32.140651 4681942464 basic_session_run_hooks.py:260] loss = 1.0046207, step = 13501 (0.046 sec)\n",
      "I0831 01:18:32.183075 4681942464 basic_session_run_hooks.py:692] global_step/sec: 2315.2\n",
      "I0831 01:18:32.183753 4681942464 basic_session_run_hooks.py:260] loss = 0.88110954, step = 13601 (0.043 sec)\n",
      "I0831 01:18:32.228336 4681942464 basic_session_run_hooks.py:692] global_step/sec: 2209.6\n",
      "I0831 01:18:32.229060 4681942464 basic_session_run_hooks.py:260] loss = 0.76434076, step = 13701 (0.045 sec)\n",
      "I0831 01:18:32.271959 4681942464 basic_session_run_hooks.py:692] global_step/sec: 2292.21\n",
      "I0831 01:18:32.272696 4681942464 basic_session_run_hooks.py:260] loss = 0.84948874, step = 13801 (0.044 sec)\n",
      "I0831 01:18:32.315087 4681942464 basic_session_run_hooks.py:692] global_step/sec: 2318.79\n",
      "I0831 01:18:32.315833 4681942464 basic_session_run_hooks.py:260] loss = 1.4676455, step = 13901 (0.043 sec)\n",
      "I0831 01:18:32.355877 4681942464 basic_session_run_hooks.py:692] global_step/sec: 2451.58\n",
      "I0831 01:18:32.356613 4681942464 basic_session_run_hooks.py:260] loss = 0.8500904, step = 14001 (0.041 sec)\n",
      "I0831 01:18:32.396648 4681942464 basic_session_run_hooks.py:692] global_step/sec: 2452.55\n",
      "I0831 01:18:32.397369 4681942464 basic_session_run_hooks.py:260] loss = 0.8066652, step = 14101 (0.041 sec)\n",
      "I0831 01:18:32.438863 4681942464 basic_session_run_hooks.py:692] global_step/sec: 2369.05\n",
      "I0831 01:18:32.439610 4681942464 basic_session_run_hooks.py:260] loss = 1.5077388, step = 14201 (0.042 sec)\n",
      "I0831 01:18:32.479130 4681942464 basic_session_run_hooks.py:692] global_step/sec: 2483.36\n",
      "I0831 01:18:32.479826 4681942464 basic_session_run_hooks.py:260] loss = 0.99470097, step = 14301 (0.040 sec)\n",
      "I0831 01:18:32.521649 4681942464 basic_session_run_hooks.py:692] global_step/sec: 2352.16\n",
      "I0831 01:18:32.522394 4681942464 basic_session_run_hooks.py:260] loss = 0.74013686, step = 14401 (0.043 sec)\n",
      "I0831 01:18:32.566314 4681942464 basic_session_run_hooks.py:692] global_step/sec: 2238.74\n",
      "I0831 01:18:32.567097 4681942464 basic_session_run_hooks.py:260] loss = 1.703166, step = 14501 (0.045 sec)\n",
      "I0831 01:18:32.609723 4681942464 basic_session_run_hooks.py:692] global_step/sec: 2303.78\n",
      "I0831 01:18:32.610518 4681942464 basic_session_run_hooks.py:260] loss = 1.0317903, step = 14601 (0.043 sec)\n",
      "I0831 01:18:32.654982 4681942464 basic_session_run_hooks.py:692] global_step/sec: 2209.35\n",
      "I0831 01:18:32.655781 4681942464 basic_session_run_hooks.py:260] loss = 0.9408812, step = 14701 (0.045 sec)\n",
      "I0831 01:18:32.698278 4681942464 basic_session_run_hooks.py:692] global_step/sec: 2309.68\n",
      "I0831 01:18:32.699012 4681942464 basic_session_run_hooks.py:260] loss = 0.7506136, step = 14801 (0.043 sec)\n",
      "I0831 01:18:32.742033 4681942464 basic_session_run_hooks.py:692] global_step/sec: 2285.67\n",
      "I0831 01:18:32.742840 4681942464 basic_session_run_hooks.py:260] loss = 0.9237944, step = 14901 (0.044 sec)\n",
      "I0831 01:18:32.793281 4681942464 basic_session_run_hooks.py:606] Saving checkpoints for 15000 into ./data_out/checkpoint/skip_gram/model.ckpt.\n",
      "I0831 01:18:32.830993 4681942464 estimator.py:368] Loss for final step: 0.7912054.\n"
     ]
    },
    {
     "data": {
      "text/plain": [
       "<tensorflow_estimator.python.estimator.estimator.Estimator at 0x7fd840753898>"
      ]
     },
     "execution_count": 13,
     "metadata": {},
     "output_type": "execute_result"
    }
   ],
   "source": [
    "estimator.train(train_input_fn)"
   ]
  },
  {
   "cell_type": "code",
   "execution_count": 14,
   "metadata": {
    "colab": {},
    "colab_type": "code",
    "id": "794wCbdUkGCI"
   },
   "outputs": [],
   "source": [
    "variable_names = estimator.get_variable_names()"
   ]
  },
  {
   "cell_type": "code",
   "execution_count": 15,
   "metadata": {
    "colab": {
     "base_uri": "https://localhost:8080/",
     "height": 168
    },
    "colab_type": "code",
    "executionInfo": {
     "elapsed": 545,
     "status": "ok",
     "timestamp": 1559968035514,
     "user": {
      "displayName": "ChangWook Jun",
      "photoUrl": "https://lh6.googleusercontent.com/-NHLAhAbNfPg/AAAAAAAAAAI/AAAAAAAAAEc/NDLQ8z7-qns/s64/photo.jpg",
      "userId": "00685987924881157185"
     },
     "user_tz": -540
    },
    "id": "g6tg2Bv9l6Lb",
    "outputId": "1a288113-d2aa-4173-895c-2537952a5a5b"
   },
   "outputs": [
    {
     "data": {
      "text/plain": [
       "['Variable',\n",
       " 'Variable/Adam',\n",
       " 'Variable/Adam_1',\n",
       " 'Variable_1',\n",
       " 'Variable_1/Adam',\n",
       " 'Variable_1/Adam_1',\n",
       " 'beta1_power',\n",
       " 'beta2_power',\n",
       " 'global_step']"
      ]
     },
     "execution_count": 15,
     "metadata": {},
     "output_type": "execute_result"
    }
   ],
   "source": [
    "variable_names"
   ]
  },
  {
   "cell_type": "code",
   "execution_count": 16,
   "metadata": {
    "colab": {},
    "colab_type": "code",
    "id": "G6UB0kKukMzV"
   },
   "outputs": [],
   "source": [
    "embdding_matrix = estimator.get_variable_value(variable_names[0])"
   ]
  },
  {
   "cell_type": "code",
   "execution_count": 17,
   "metadata": {
    "colab": {
     "base_uri": "https://localhost:8080/",
     "height": 185
    },
    "colab_type": "code",
    "executionInfo": {
     "elapsed": 1098,
     "status": "ok",
     "timestamp": 1559968039818,
     "user": {
      "displayName": "ChangWook Jun",
      "photoUrl": "https://lh6.googleusercontent.com/-NHLAhAbNfPg/AAAAAAAAAAI/AAAAAAAAAEc/NDLQ8z7-qns/s64/photo.jpg",
      "userId": "00685987924881157185"
     },
     "user_tz": -540
    },
    "id": "EurXE2OJz2s0",
    "outputId": "36829ab2-9890-442a-fc24-f499279d39a8",
    "scrolled": true
   },
   "outputs": [
    {
     "data": {
      "text/plain": [
       "array([[ 0.8028474 ,  0.85521436,  0.5184512 , ..., -0.60787606,\n",
       "        -0.6954031 , -0.46987796],\n",
       "       [-0.4420694 , -0.649924  , -0.14036438, ..., -0.6803831 ,\n",
       "         0.28558588, -0.5069637 ],\n",
       "       [-0.880475  ,  0.57259476,  0.34701905, ..., -0.6269412 ,\n",
       "         0.7958463 , -0.83279026],\n",
       "       ...,\n",
       "       [-0.5300158 ,  0.575054  ,  0.31964675, ...,  0.43842757,\n",
       "         0.92096287, -0.04506041],\n",
       "       [-0.89772224,  0.18824673, -0.85243344, ..., -0.08613658,\n",
       "        -0.5065973 , -0.8063369 ],\n",
       "       [ 0.87899256, -0.27922177, -0.87606883, ..., -0.4657266 ,\n",
       "        -0.75240445, -0.09334016]], dtype=float32)"
      ]
     },
     "execution_count": 17,
     "metadata": {},
     "output_type": "execute_result"
    }
   ],
   "source": [
    "embdding_matrix"
   ]
  },
  {
   "cell_type": "markdown",
   "metadata": {
    "colab_type": "text",
    "id": "ofSWZVrxqZZ8"
   },
   "source": [
    "### 임베딩 그림 그리기"
   ]
  },
  {
   "cell_type": "code",
   "execution_count": 18,
   "metadata": {
    "colab": {
     "base_uri": "https://localhost:8080/",
     "height": 353
    },
    "colab_type": "code",
    "executionInfo": {
     "elapsed": 28227,
     "status": "ok",
     "timestamp": 1559968103397,
     "user": {
      "displayName": "ChangWook Jun",
      "photoUrl": "https://lh6.googleusercontent.com/-NHLAhAbNfPg/AAAAAAAAAAI/AAAAAAAAAEc/NDLQ8z7-qns/s64/photo.jpg",
      "userId": "00685987924881157185"
     },
     "user_tz": -540
    },
    "id": "Eh_qZPZdV8jL",
    "outputId": "1ccc42fa-bd36-49db-bf65-f07de77dc0e7"
   },
   "outputs": [],
   "source": [
    "%matplotlib inline  \n",
    "\n",
    "import matplotlib.pyplot as plt  "
   ]
  },
  {
   "cell_type": "code",
   "execution_count": 19,
   "metadata": {
    "colab": {
     "base_uri": "https://localhost:8080/",
     "height": 34
    },
    "colab_type": "code",
    "executionInfo": {
     "elapsed": 11853,
     "status": "ok",
     "timestamp": 1559968103398,
     "user": {
      "displayName": "ChangWook Jun",
      "photoUrl": "https://lh6.googleusercontent.com/-NHLAhAbNfPg/AAAAAAAAAAI/AAAAAAAAAEc/NDLQ8z7-qns/s64/photo.jpg",
      "userId": "00685987924881157185"
     },
     "user_tz": -540
    },
    "id": "RFyQwiBs2b4-",
    "outputId": "30e6939d-3724-4410-db46-a53475e5da3b"
   },
   "outputs": [],
   "source": [
    "from sklearn.manifold import TSNE"
   ]
  },
  {
   "cell_type": "code",
   "execution_count": 21,
   "metadata": {
    "colab": {},
    "colab_type": "code",
    "id": "lq10JDqNrX39"
   },
   "outputs": [],
   "source": [
    "import matplotlib.font_manager as fm  "
   ]
  },
  {
   "cell_type": "code",
   "execution_count": 22,
   "metadata": {},
   "outputs": [],
   "source": [
    "path = './NanumBarunGothic.ttf'\n",
    "fontprop = fm.FontProperties(fname=path, size=12)"
   ]
  },
  {
   "cell_type": "code",
   "execution_count": 23,
   "metadata": {},
   "outputs": [
    {
     "data": {
      "image/png": "[encoded data removed]",
      "text/plain": [
       "<Figure size 432x288 with 1 Axes>"
      ]
     },
     "metadata": {
      "needs_background": "light"
     },
     "output_type": "display_data"
    }
   ],
   "source": [
    "model = TSNE(learning_rate=100)\n",
    "transformed = model.fit_transform(embdding_matrix)\n",
    "\n",
    "xs = transformed[:,0]\n",
    "ys = transformed[:,1]\n",
    "\n",
    "for i, offset in enumerate(transformed[1:]):\n",
    "    x, y = offset\n",
    "    plt.scatter(x, y)\n",
    "    plt.annotate(index_to_word[i+1], xy=(x, y), xytext=(6, 4),\n",
    "                 textcoords='offset points', ha='right', va='bottom', fontproperties=fontprop)\n",
    "\n",
    "plt.show()"
   ]
  }
 ],
 "metadata": {
  "colab": {
   "collapsed_sections": [],
   "name": "Day2_4_Word2Vec(skip_gram).ipynb",
   "provenance": [],
   "version": "0.3.2"
  },
  "kernelspec": {
   "display_name": "Python 3",
   "language": "python",
   "name": "python3"
  },
  "language_info": {
   "codemirror_mode": {
    "name": "ipython",
    "version": 3
   },
   "file_extension": ".py",
   "mimetype": "text/x-python",
   "name": "python",
   "nbconvert_exporter": "python",
   "pygments_lexer": "ipython3",
   "version": "3.6.8"
  }
 },
 "nbformat": 4,
 "nbformat_minor": 1
}

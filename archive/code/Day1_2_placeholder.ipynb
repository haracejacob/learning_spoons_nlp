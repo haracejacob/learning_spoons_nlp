{
 "cells": [
  {
   "cell_type": "markdown",
   "metadata": {
    "colab_type": "text",
    "id": "aQ8_Dhi9XId1"
   },
   "source": [
    "# placeholder  구현 하기"
   ]
  },
  {
   "cell_type": "markdown",
   "metadata": {
    "colab_type": "text",
    "id": "rB8DvIZuXeBh"
   },
   "source": [
    "### 긍정/부정 Make data (긍정: 1, 부정: 0)\n",
    "\n",
    "---\n",
    "\n"
   ]
  },
  {
   "cell_type": "code",
   "execution_count": 24,
   "metadata": {
    "colab": {},
    "colab_type": "code",
    "id": "1KaV7-g_sUxD"
   },
   "outputs": [],
   "source": [
    "samples = ['너 오늘 이뻐 보인다',\n",
    "          '나는 오늘 기분이 더러워',\n",
    "          '끝내주는데, 좋은 일이 있나봐',\n",
    "          '나 오늘 좋은 일이 생겼어',\n",
    "          '아 진짜 짜증나',\n",
    "          '오, 이거 진짜 좋은 것 같은데']\n",
    "\n",
    "targets = [[1], [0], [1], [1], [0], [1]]"
   ]
  },
  {
   "cell_type": "markdown",
   "metadata": {
    "colab_type": "text",
    "id": "avcrNuViXphK"
   },
   "source": [
    "### load need modules"
   ]
  },
  {
   "cell_type": "code",
   "execution_count": 25,
   "metadata": {
    "colab": {},
    "colab_type": "code",
    "id": "BOg4fPGasi6o"
   },
   "outputs": [],
   "source": [
    "import os\n",
    "import tensorflow as tf\n",
    "import numpy as np\n",
    "\n",
    "from tensorflow.keras import preprocessing"
   ]
  },
  {
   "cell_type": "markdown",
   "metadata": {
    "colab_type": "text",
    "id": "OVtVn1D0Xsq5"
   },
   "source": [
    "### Data Preprocessing"
   ]
  },
  {
   "cell_type": "code",
   "execution_count": 29,
   "metadata": {
    "colab": {
     "base_uri": "https://localhost:8080/",
     "height": 68
    },
    "colab_type": "code",
    "executionInfo": {
     "elapsed": 671,
     "status": "ok",
     "timestamp": 1559358796367,
     "user": {
      "displayName": "조중현",
      "photoUrl": "",
      "userId": "04275587646849861321"
     },
     "user_tz": -540
    },
    "id": "Uc1BvbDosk5n",
    "outputId": "6aa81321-fb0c-4e02-d7ff-20d0e0eec7dd"
   },
   "outputs": [
    {
     "name": "stdout",
     "output_type": "stream",
     "text": [
      "index text data : \n",
      " [[ 4  1  5  6  0  0]\n",
      " [ 7  1  8  9  0  0]\n",
      " [10  2  3 11  0  0]\n",
      " [12  2  3 13  0  0]\n",
      " [14  1 15 16  0  0]\n",
      " [17 18 19 20  0  0]]\n",
      "shape of sequences: (6, 6)\n"
     ]
    }
   ],
   "source": [
    "tokenizer = preprocessing.text.Tokenizer() \n",
    "tokenizer.fit_on_texts(samples) \n",
    "sequences = tokenizer.texts_to_sequences(samples)\n",
    "sequences = preprocessing.sequence.pad_sequences(sequences, maxlen = 6, padding='post')\n",
    "\n",
    "targets = np.array(targets)\n",
    "\n",
    "print(\"index text data : \\n\", sequences)\n",
    "print(\"shape of sequences:\", sequences.shape)"
   ]
  },
  {
   "cell_type": "code",
   "execution_count": 30,
   "metadata": {
    "colab": {
     "base_uri": "https://localhost:8080/",
     "height": 71
    },
    "colab_type": "code",
    "executionInfo": {
     "elapsed": 636,
     "status": "ok",
     "timestamp": 1559353861535,
     "user": {
      "displayName": "조중현",
      "photoUrl": "",
      "userId": "04275587646849861321"
     },
     "user_tz": -540
    },
    "id": "e6mqFlRmsmx2",
    "outputId": "2ac2eb58-8cae-4ad5-9592-6ce3d303af58"
   },
   "outputs": [
    {
     "name": "stdout",
     "output_type": "stream",
     "text": [
      "index of each word : \n",
      " {'오늘': 1, '좋은': 2, '일이': 3, '너': 4, '이뻐': 5, '보인다': 6, '나는': 7, '기분이': 8, '더러워': 9, '끝내주는데': 10, '있나봐': 11, '나': 12, '생겼어': 13, '아': 14, '진짜': 15, '짜증나': 16, '환상적인데': 17, '정말': 18, '좋은거': 19, '같아': 20}\n"
     ]
    }
   ],
   "source": [
    "word_index = tokenizer.word_index\n",
    "\n",
    "print(\"index of each word : \\n\", word_index)"
   ]
  },
  {
   "cell_type": "code",
   "execution_count": 35,
   "metadata": {
    "colab": {
     "base_uri": "https://localhost:8080/",
     "height": 51
    },
    "colab_type": "code",
    "executionInfo": {
     "elapsed": 622,
     "status": "ok",
     "timestamp": 1559353868018,
     "user": {
      "displayName": "조중현",
      "photoUrl": "",
      "userId": "04275587646849861321"
     },
     "user_tz": -540
    },
    "id": "exaWwfOaswHt",
    "outputId": "18188913-42fe-4117-e30e-674f87654ca6"
   },
   "outputs": [
    {
     "name": "stdout",
     "output_type": "stream",
     "text": [
      "targets: \n",
      " [[1]\n",
      " [0]\n",
      " [1]\n",
      " [1]\n",
      " [0]\n",
      " [1]]\n",
      "shape of targets: (6, 1)\n"
     ]
    }
   ],
   "source": [
    "print(\"targets: \\n\", targets)\n",
    "print(\"shape of targets:\", targets.shape) "
   ]
  },
  {
   "cell_type": "markdown",
   "metadata": {
    "colab_type": "text",
    "id": "nGaCIz-oXxrb"
   },
   "source": [
    "### feed_dict data processing\n",
    "<b> 장점 : TensorFlow 외부에서 데이터 처리를 수행하여 Python으로 쉽게 처리 할 수 있다.  \n",
    "<b> 단점 : 사용자는 종종 단일 스레드에서 데이터를 처리하고 실행 속도를 저하시키는 데이터 병목 현상을 만든다."
   ]
  },
  {
   "cell_type": "markdown",
   "metadata": {
    "colab_type": "text",
    "id": "L3sR9ltXX0XF"
   },
   "source": [
    "### placeholder define"
   ]
  },
  {
   "cell_type": "code",
   "execution_count": 76,
   "metadata": {
    "colab": {},
    "colab_type": "code",
    "id": "bKHZmNHXsxwt"
   },
   "outputs": [],
   "source": [
    "inputs_ph = tf.placeholder(dtype=tf.int32, shape=[6], name='sequences')\n",
    "labels_ph = tf.placeholder(dtype=tf.int32, shape=[1], name='labels')"
   ]
  },
  {
   "cell_type": "markdown",
   "metadata": {
    "colab_type": "text",
    "id": "bst9d1gPYAu4"
   },
   "source": [
    "### Session run\n",
    "\n"
   ]
  },
  {
   "cell_type": "code",
   "execution_count": 77,
   "metadata": {},
   "outputs": [
    {
     "name": "stdout",
     "output_type": "stream",
     "text": [
      "========================================\n",
      "Sequence input: [4 1 5 6 0 0]\n",
      "Label: [1]\n",
      "========================================\n",
      "Sequence input: [7 1 8 9 0 0]\n",
      "Label: [0]\n",
      "========================================\n",
      "Sequence input: [10  2  3 11  0  0]\n",
      "Label: [1]\n",
      "========================================\n",
      "Sequence input: [12  2  3 13  0  0]\n",
      "Label: [1]\n",
      "========================================\n",
      "Sequence input: [14  1 15 16  0  0]\n",
      "Label: [0]\n",
      "========================================\n",
      "Sequence input: [17 18 19 20  0  0]\n",
      "Label: [1]\n",
      "========================================\n"
     ]
    }
   ],
   "source": [
    "with tf.Session() as sess:\n",
    "    for i in range(len(sequences)):\n",
    "        sequence_input, label = sess.run([inputs_ph, labels_ph],\n",
    "                                         feed_dict = {inputs_ph: sequences[i], labels_ph: targets[i]})\n",
    "        print('='*40)\n",
    "        print('Sequence input:', sequence_input)\n",
    "        print('Label:', label)\n",
    "    print('='*40)"
   ]
  },
  {
   "cell_type": "markdown",
   "metadata": {
    "colab_type": "text",
    "id": "z9mZLLfK6bJb"
   },
   "source": [
    "### shuffle data"
   ]
  },
  {
   "cell_type": "code",
   "execution_count": null,
   "metadata": {},
   "outputs": [],
   "source": [
    "# <Your code>\n",
    "\n",
    "with tf.Session() as sess:\n",
    "    for i in random_index:\n",
    "        # <Your code>\n",
    "        print('='*40)\n",
    "        print('Sequence input:', sequence_input)\n",
    "        print('Label:', label)\n",
    "    print('='*40)"
   ]
  },
  {
   "cell_type": "markdown",
   "metadata": {
    "colab_type": "text",
    "id": "gNblO2xaPaKg"
   },
   "source": [
    "### make batch"
   ]
  },
  {
   "cell_type": "code",
   "execution_count": null,
   "metadata": {},
   "outputs": [],
   "source": [
    "batch_size = 2\n",
    "\n",
    "# <Your code>\n",
    "    \n",
    "with tf.Session() as sess:\n",
    "    for i in range(0, len(sequences), batch_size):\n",
    "        # <Your code>\n",
    "        print('='*40)\n",
    "        print('Sequence input:', sequence_input)\n",
    "        print('Label:', label)\n",
    "    print('='*40)"
   ]
  },
  {
   "cell_type": "markdown",
   "metadata": {
    "colab_type": "text",
    "id": "q8g7nqTG6U1Z"
   },
   "source": [
    "###  2 epoch"
   ]
  },
  {
   "cell_type": "code",
   "execution_count": 82,
   "metadata": {
    "colab": {
     "base_uri": "https://localhost:8080/",
     "height": 665
    },
    "colab_type": "code",
    "executionInfo": {
     "elapsed": 671,
     "status": "ok",
     "timestamp": 1559191623980,
     "user": {
      "displayName": "ChangWook Jun",
      "photoUrl": "https://lh6.googleusercontent.com/-NHLAhAbNfPg/AAAAAAAAAAI/AAAAAAAAAEc/NDLQ8z7-qns/s64/photo.jpg",
      "userId": "00685987924881157185"
     },
     "user_tz": -540
    },
    "id": "hFEBbkjQB_cs",
    "outputId": "21502518-3125-4b53-c461-bee5fedbe7f7"
   },
   "outputs": [
    {
     "name": "stdout",
     "output_type": "stream",
     "text": [
      "\n",
      "0epoch start\n",
      "========================================\n",
      "Sequence input: [4 1 5 6 0 0]\n",
      "Label: [1]\n",
      "========================================\n",
      "Sequence input: [7 1 8 9 0 0]\n",
      "Label: [0]\n",
      "========================================\n",
      "Sequence input: [10  2  3 11  0  0]\n",
      "Label: [1]\n",
      "========================================\n",
      "Sequence input: [12  2  3 13  0  0]\n",
      "Label: [1]\n",
      "========================================\n",
      "Sequence input: [14  1 15 16  0  0]\n",
      "Label: [0]\n",
      "========================================\n",
      "Sequence input: [17 18 19 20  0  0]\n",
      "Label: [1]\n",
      "========================================\n",
      "\n",
      "1epoch start\n",
      "========================================\n",
      "Sequence input: [4 1 5 6 0 0]\n",
      "Label: [1]\n",
      "========================================\n",
      "Sequence input: [7 1 8 9 0 0]\n",
      "Label: [0]\n",
      "========================================\n",
      "Sequence input: [10  2  3 11  0  0]\n",
      "Label: [1]\n",
      "========================================\n",
      "Sequence input: [12  2  3 13  0  0]\n",
      "Label: [1]\n",
      "========================================\n",
      "Sequence input: [14  1 15 16  0  0]\n",
      "Label: [0]\n",
      "========================================\n",
      "Sequence input: [17 18 19 20  0  0]\n",
      "Label: [1]\n",
      "========================================\n"
     ]
    }
   ],
   "source": [
    "total_epoch = 2\n",
    "\n",
    "with tf.Session() as sess:\n",
    "    for epoch in range(total_epoch):\n",
    "        print(f'\\n{epoch}epoch start')\n",
    "        for i in range(len(sequences)):\n",
    "            sequence_input, label = sess.run([inputs_ph, labels_ph],\n",
    "                                             feed_dict = {inputs_ph: sequences[i], labels_ph: targets[i]})\n",
    "            print('='*40)\n",
    "            print('Sequence input:', sequence_input)\n",
    "            print('Label:', label)\n",
    "        print('='*40)"
   ]
  }
 ],
 "metadata": {
  "colab": {
   "collapsed_sections": [],
   "name": "Day1_2_placeholder",
   "provenance": [],
   "version": "0.3.2"
  },
  "kernelspec": {
   "display_name": "Python 3",
   "language": "python",
   "name": "python3"
  },
  "language_info": {
   "codemirror_mode": {
    "name": "ipython",
    "version": 3
   },
   "file_extension": ".py",
   "mimetype": "text/x-python",
   "name": "python",
   "nbconvert_exporter": "python",
   "pygments_lexer": "ipython3",
   "version": "3.7.1"
  }
 },
 "nbformat": 4,
 "nbformat_minor": 1
}

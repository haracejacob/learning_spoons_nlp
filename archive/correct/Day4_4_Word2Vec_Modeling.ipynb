{
 "cells": [
  {
   "cell_type": "code",
   "execution_count": 0,
   "metadata": {
    "colab": {},
    "colab_type": "code",
    "id": "5oseaIbcX8vq"
   },
   "outputs": [],
   "source": [
    "import pandas as pd\n",
    "import numpy as np\n",
    "import re\n",
    "import json\n",
    "import gensim\n",
    "from tensorflow.python.keras.preprocessing.sequence import pad_sequences"
   ]
  },
  {
   "cell_type": "code",
   "execution_count": 0,
   "metadata": {
    "colab": {
     "base_uri": "https://localhost:8080/",
     "height": 54
    },
    "colab_type": "code",
    "executionInfo": {
     "elapsed": 8769,
     "status": "ok",
     "timestamp": 1561177999068,
     "user": {
      "displayName": "ChangWook Jun",
      "photoUrl": "https://lh6.googleusercontent.com/-NHLAhAbNfPg/AAAAAAAAAAI/AAAAAAAAAEc/NDLQ8z7-qns/s64/photo.jpg",
      "userId": "00685987924881157185"
     },
     "user_tz": -540
    },
    "id": "48iU4cJtXH6i",
    "outputId": "6285a088-0969-4139-c69f-09b6d2ab2b96"
   },
   "outputs": [
    {
     "name": "stdout",
     "output_type": "stream",
     "text": [
      "Drive already mounted at /content/gdrive; to attempt to forcibly remount, call drive.mount(\"/content/gdrive\", force_remount=True).\n"
     ]
    }
   ],
   "source": [
    "from google.colab import auth\n",
    "auth.authenticate_user()\n",
    "\n",
    "from google.colab import drive\n",
    "drive.mount('/content/gdrive')"
   ]
  },
  {
   "cell_type": "code",
   "execution_count": 0,
   "metadata": {
    "colab": {},
    "colab_type": "code",
    "id": "GMBtPn2sXgde"
   },
   "outputs": [],
   "source": [
    "DATA_IN_PATH = './data_in/'\n",
    "DATA_OUT_PATH = './data_out/'"
   ]
  },
  {
   "cell_type": "markdown",
   "metadata": {
    "colab_type": "text",
    "id": "rJBFJfe7EpuL"
   },
   "source": []
  },
  {
   "cell_type": "code",
   "execution_count": 0,
   "metadata": {
    "colab": {},
    "colab_type": "code",
    "id": "WdaXMFkdX-Ei"
   },
   "outputs": [],
   "source": [
    "FILTERS = \"([~.,!?\\\"':;)(])\"\n",
    "MAX_SEQUENCE_LENGTH = 31"
   ]
  },
  {
   "cell_type": "code",
   "execution_count": 0,
   "metadata": {
    "colab": {},
    "colab_type": "code",
    "id": "lq4JvcjuX-Hi"
   },
   "outputs": [],
   "source": [
    "train_data = pd.read_csv(DATA_IN_PATH + 'train.csv', encoding='utf-8')"
   ]
  },
  {
   "cell_type": "code",
   "execution_count": 0,
   "metadata": {
    "colab": {},
    "colab_type": "code",
    "id": "oFI749C_X-KM"
   },
   "outputs": [],
   "source": [
    "train_pos_data = train_data.loc[train_data['is_duplicate'] == 1]\n",
    "train_neg_data = train_data.loc[train_data['is_duplicate'] == 0]\n",
    "\n",
    "class_difference = len(train_neg_data) - len(train_pos_data)\n",
    "sample_frac = 1 - (class_difference / len(train_neg_data))\n",
    "train_neg_data = train_neg_data.sample(frac = sample_frac)"
   ]
  },
  {
   "cell_type": "code",
   "execution_count": 0,
   "metadata": {
    "colab": {},
    "colab_type": "code",
    "id": "BoiMLFIDX-Mr"
   },
   "outputs": [],
   "source": [
    "train_data = pd.concat([train_neg_data, train_pos_data])"
   ]
  },
  {
   "cell_type": "code",
   "execution_count": 0,
   "metadata": {
    "colab": {},
    "colab_type": "code",
    "id": "2_b0ipf2X-O7"
   },
   "outputs": [],
   "source": [
    "change_filter = re.compile(FILTERS)\n",
    "\n",
    "questions1 = [str(s) for s in train_data['question1']]\n",
    "questions2 = [str(s) for s in train_data['question2']]\n",
    "\n",
    "filtered_questions1 = list()\n",
    "filtered_questions2 = list()\n",
    "\n",
    "for q in questions1:\n",
    "     filtered_questions1.append(re.sub(change_filter, \"\", q).lower())\n",
    "        \n",
    "for q in questions2:\n",
    "     filtered_questions2.append(re.sub(change_filter, \"\", q).lower())"
   ]
  },
  {
   "cell_type": "code",
   "execution_count": 0,
   "metadata": {
    "colab": {},
    "colab_type": "code",
    "id": "mOFCN6TmawZD"
   },
   "outputs": [],
   "source": [
    "def extract_questions(df):\n",
    "    for data in df:\n",
    "       yield gensim.utils.simple_preprocess(data)"
   ]
  },
  {
   "cell_type": "code",
   "execution_count": 0,
   "metadata": {
    "colab": {},
    "colab_type": "code",
    "id": "Y49NKqDNa04i"
   },
   "outputs": [],
   "source": [
    "documents_1 = list(extract_questions(filtered_questions1))\n",
    "documents_2 = list(extract_questions(filtered_questions2))"
   ]
  },
  {
   "cell_type": "code",
   "execution_count": 0,
   "metadata": {
    "colab": {
     "base_uri": "https://localhost:8080/",
     "height": 34
    },
    "colab_type": "code",
    "executionInfo": {
     "elapsed": 15685,
     "status": "ok",
     "timestamp": 1561178020853,
     "user": {
      "displayName": "ChangWook Jun",
      "photoUrl": "https://lh6.googleusercontent.com/-NHLAhAbNfPg/AAAAAAAAAAI/AAAAAAAAAEc/NDLQ8z7-qns/s64/photo.jpg",
      "userId": "00685987924881157185"
     },
     "user_tz": -540
    },
    "id": "NDVMGfKXcpkh",
    "outputId": "e9c70915-18dc-450d-c782-3a45f01b675f"
   },
   "outputs": [
    {
     "data": {
      "text/plain": [
       "298526"
      ]
     },
     "execution_count": 11,
     "metadata": {
      "tags": []
     },
     "output_type": "execute_result"
    }
   ],
   "source": [
    "len(documents_1)"
   ]
  },
  {
   "cell_type": "code",
   "execution_count": 0,
   "metadata": {
    "colab": {
     "base_uri": "https://localhost:8080/",
     "height": 34
    },
    "colab_type": "code",
    "executionInfo": {
     "elapsed": 15261,
     "status": "ok",
     "timestamp": 1561178020853,
     "user": {
      "displayName": "ChangWook Jun",
      "photoUrl": "https://lh6.googleusercontent.com/-NHLAhAbNfPg/AAAAAAAAAAI/AAAAAAAAAEc/NDLQ8z7-qns/s64/photo.jpg",
      "userId": "00685987924881157185"
     },
     "user_tz": -540
    },
    "id": "pkbWON4ScvFB",
    "outputId": "59670d09-052f-4d61-e157-025eb7d3a271"
   },
   "outputs": [
    {
     "data": {
      "text/plain": [
       "298526"
      ]
     },
     "execution_count": 12,
     "metadata": {
      "tags": []
     },
     "output_type": "execute_result"
    }
   ],
   "source": [
    "len(documents_2)"
   ]
  },
  {
   "cell_type": "code",
   "execution_count": 0,
   "metadata": {
    "colab": {
     "base_uri": "https://localhost:8080/",
     "height": 34
    },
    "colab_type": "code",
    "executionInfo": {
     "elapsed": 14768,
     "status": "ok",
     "timestamp": 1561178020854,
     "user": {
      "displayName": "ChangWook Jun",
      "photoUrl": "https://lh6.googleusercontent.com/-NHLAhAbNfPg/AAAAAAAAAAI/AAAAAAAAAEc/NDLQ8z7-qns/s64/photo.jpg",
      "userId": "00685987924881157185"
     },
     "user_tz": -540
    },
    "id": "uZZ9udYua07Z",
    "outputId": "ec807fe9-390f-4c27-e3b6-70da7ef0f1b9"
   },
   "outputs": [
    {
     "data": {
      "text/plain": [
       "597052"
      ]
     },
     "execution_count": 13,
     "metadata": {
      "tags": []
     },
     "output_type": "execute_result"
    }
   ],
   "source": [
    "documents  = documents_1 + documents_2\n",
    "len(documents)"
   ]
  },
  {
   "cell_type": "code",
   "execution_count": 0,
   "metadata": {
    "colab": {},
    "colab_type": "code",
    "id": "qjJ7ZrJGa0-K"
   },
   "outputs": [],
   "source": [
    "model = gensim.models.Word2Vec(documents, size=128)"
   ]
  },
  {
   "cell_type": "code",
   "execution_count": 0,
   "metadata": {
    "colab": {},
    "colab_type": "code",
    "id": "8DtS4P3IlqVL"
   },
   "outputs": [],
   "source": [
    "word_vectors = model.wv"
   ]
  },
  {
   "cell_type": "code",
   "execution_count": 0,
   "metadata": {
    "colab": {
     "base_uri": "https://localhost:8080/",
     "height": 34
    },
    "colab_type": "code",
    "executionInfo": {
     "elapsed": 84968,
     "status": "ok",
     "timestamp": 1561178107360,
     "user": {
      "displayName": "ChangWook Jun",
      "photoUrl": "https://lh6.googleusercontent.com/-NHLAhAbNfPg/AAAAAAAAAAI/AAAAAAAAAEc/NDLQ8z7-qns/s64/photo.jpg",
      "userId": "00685987924881157185"
     },
     "user_tz": -540
    },
    "id": "WYENTaFBlta7",
    "outputId": "95885254-2561-42cf-d436-05dc60a23ed2"
   },
   "outputs": [
    {
     "name": "stdout",
     "output_type": "stream",
     "text": [
      "Number of word vectors: 24259\n"
     ]
    }
   ],
   "source": [
    "print(\"Number of word vectors: {}\".format(len(word_vectors.vocab)))"
   ]
  },
  {
   "cell_type": "code",
   "execution_count": 0,
   "metadata": {
    "colab": {},
    "colab_type": "code",
    "id": "FuYtUeWol3bC"
   },
   "outputs": [],
   "source": [
    "MAX_NB_WORDS = len(word_vectors.vocab)"
   ]
  },
  {
   "cell_type": "code",
   "execution_count": 0,
   "metadata": {
    "colab": {
     "base_uri": "https://localhost:8080/",
     "height": 87
    },
    "colab_type": "code",
    "executionInfo": {
     "elapsed": 188017,
     "status": "ok",
     "timestamp": 1561178321023,
     "user": {
      "displayName": "ChangWook Jun",
      "photoUrl": "https://lh6.googleusercontent.com/-NHLAhAbNfPg/AAAAAAAAAAI/AAAAAAAAAEc/NDLQ8z7-qns/s64/photo.jpg",
      "userId": "00685987924881157185"
     },
     "user_tz": -540
    },
    "id": "76kWSnfBa1Ay",
    "outputId": "4b6b0e56-1c9e-4854-a4c1-e3a869f3378f"
   },
   "outputs": [
    {
     "name": "stderr",
     "output_type": "stream",
     "text": [
      "WARNING: Logging before flag parsing goes to stderr.\n",
      "W0622 04:35:33.249613 140049650235264 base_any2vec.py:1182] Effective 'alpha' higher than previous training cycles\n"
     ]
    },
    {
     "data": {
      "text/plain": [
       "(43165332, 60749550)"
      ]
     },
     "execution_count": 18,
     "metadata": {
      "tags": []
     },
     "output_type": "execute_result"
    }
   ],
   "source": [
    "model.train(documents, total_examples=len(documents), epochs=10)"
   ]
  },
  {
   "cell_type": "code",
   "execution_count": 0,
   "metadata": {
    "colab": {
     "base_uri": "https://localhost:8080/",
     "height": 70
    },
    "colab_type": "code",
    "executionInfo": {
     "elapsed": 184077,
     "status": "ok",
     "timestamp": 1561178321507,
     "user": {
      "displayName": "ChangWook Jun",
      "photoUrl": "https://lh6.googleusercontent.com/-NHLAhAbNfPg/AAAAAAAAAAI/AAAAAAAAAEc/NDLQ8z7-qns/s64/photo.jpg",
      "userId": "00685987924881157185"
     },
     "user_tz": -540
    },
    "id": "WcsdrsAWc5n3",
    "outputId": "87e2cd4c-3071-4bbe-928b-2fedbf27ec86"
   },
   "outputs": [
    {
     "name": "stderr",
     "output_type": "stream",
     "text": [
      "/usr/local/lib/python3.6/dist-packages/smart_open/smart_open_lib.py:398: UserWarning: This function is deprecated, use smart_open.open instead. See the migration notes for details: https://github.com/RaRe-Technologies/smart_open/blob/master/README.rst#migrating-to-the-new-open-function\n",
      "  'See the migration notes for details: %s' % _MIGRATION_NOTES_URL\n"
     ]
    }
   ],
   "source": [
    "model.save(DATA_IN_PATH+\"Quora-Question-Pairs.w2v\")"
   ]
  },
  {
   "cell_type": "code",
   "execution_count": 0,
   "metadata": {
    "colab": {
     "base_uri": "https://localhost:8080/",
     "height": 70
    },
    "colab_type": "code",
    "executionInfo": {
     "elapsed": 175291,
     "status": "ok",
     "timestamp": 1561178322007,
     "user": {
      "displayName": "ChangWook Jun",
      "photoUrl": "https://lh6.googleusercontent.com/-NHLAhAbNfPg/AAAAAAAAAAI/AAAAAAAAAEc/NDLQ8z7-qns/s64/photo.jpg",
      "userId": "00685987924881157185"
     },
     "user_tz": -540
    },
    "id": "kOOmj12et6gW",
    "outputId": "0032bafc-7065-421d-aa39-44475d5ba8ba"
   },
   "outputs": [
    {
     "name": "stderr",
     "output_type": "stream",
     "text": [
      "/usr/local/lib/python3.6/dist-packages/ipykernel_launcher.py:2: DeprecationWarning: Call to deprecated `__getitem__` (Method will be removed in 4.0.0, use self.wv.__getitem__() instead).\n",
      "  \n"
     ]
    }
   ],
   "source": [
    "vocab = list(model.wv.vocab)\n",
    "word_list = model[vocab]"
   ]
  },
  {
   "cell_type": "code",
   "execution_count": 0,
   "metadata": {
    "colab": {
     "base_uri": "https://localhost:8080/",
     "height": 34
    },
    "colab_type": "code",
    "executionInfo": {
     "elapsed": 157159,
     "status": "ok",
     "timestamp": 1561178322008,
     "user": {
      "displayName": "ChangWook Jun",
      "photoUrl": "https://lh6.googleusercontent.com/-NHLAhAbNfPg/AAAAAAAAAAI/AAAAAAAAAEc/NDLQ8z7-qns/s64/photo.jpg",
      "userId": "00685987924881157185"
     },
     "user_tz": -540
    },
    "id": "6BOz4k3fw59G",
    "outputId": "2ce68a29-dd36-4c19-829e-c52a058cb118"
   },
   "outputs": [
    {
     "data": {
      "text/plain": [
       "(128,)"
      ]
     },
     "execution_count": 21,
     "metadata": {
      "tags": []
     },
     "output_type": "execute_result"
    }
   ],
   "source": [
    "word_list[0].shape"
   ]
  },
  {
   "cell_type": "code",
   "execution_count": 0,
   "metadata": {
    "colab": {
     "base_uri": "https://localhost:8080/",
     "height": 34
    },
    "colab_type": "code",
    "executionInfo": {
     "elapsed": 1118,
     "status": "ok",
     "timestamp": 1561133897121,
     "user": {
      "displayName": "ChangWook Jun",
      "photoUrl": "https://lh6.googleusercontent.com/-NHLAhAbNfPg/AAAAAAAAAAI/AAAAAAAAAEc/NDLQ8z7-qns/s64/photo.jpg",
      "userId": "00685987924881157185"
     },
     "user_tz": -540
    },
    "id": "jKhdHtDk1Kyn",
    "outputId": "bda146cd-95bc-43b7-c7a2-047d9245c666"
   },
   "outputs": [
    {
     "data": {
      "text/plain": [
       "(24349, 128)"
      ]
     },
     "execution_count": 41,
     "metadata": {
      "tags": []
     },
     "output_type": "execute_result"
    }
   ],
   "source": [
    "word_list.shape"
   ]
  },
  {
   "cell_type": "code",
   "execution_count": 0,
   "metadata": {
    "colab": {
     "base_uri": "https://localhost:8080/",
     "height": 185
    },
    "colab_type": "code",
    "executionInfo": {
     "elapsed": 88548,
     "status": "ok",
     "timestamp": 1561133684138,
     "user": {
      "displayName": "ChangWook Jun",
      "photoUrl": "https://lh6.googleusercontent.com/-NHLAhAbNfPg/AAAAAAAAAAI/AAAAAAAAAEc/NDLQ8z7-qns/s64/photo.jpg",
      "userId": "00685987924881157185"
     },
     "user_tz": -540
    },
    "id": "RuxNodJodoTj",
    "outputId": "ff797cf9-e5f5-4683-9df0-f36280fcd4e8"
   },
   "outputs": [
    {
     "name": "stdout",
     "output_type": "stream",
     "text": [
      "total 570416\n",
      "drwxr-xr-x 2 root root      4096 Jun 21 16:14 .\n",
      "drwxr-xr-x 1 root root      4096 Jun 21 16:11 ..\n",
      "-rw-r--r-- 1 root root  38993494 Jun 21 16:14 Quora-Question-Pairs.w2v\n",
      "-rw-r--r-- 1 root root  22346871 Jun 21 16:11 sample_submission.csv\n",
      "-rw------- 1 root root   5190322 Jun 21 16:11 sample_submission.csv.zip\n",
      "-rw-r--r-- 1 root root 314015126 Jun 21 16:11 test.csv\n",
      "-rw------- 1 root root 117931806 Jun 21 16:11 test.csv.zip\n",
      "-rw-r--r-- 1 root root  63399110 Jun 21 16:11 train.csv\n",
      "-rw------- 1 root root  22202741 Jun 21 16:11 train.csv.zip\n"
     ]
    }
   ],
   "source": [
    "!ls -al ./data_in/"
   ]
  },
  {
   "cell_type": "code",
   "execution_count": 0,
   "metadata": {
    "colab": {
     "base_uri": "https://localhost:8080/",
     "height": 34
    },
    "colab_type": "code",
    "executionInfo": {
     "elapsed": 86363,
     "status": "ok",
     "timestamp": 1561133684139,
     "user": {
      "displayName": "ChangWook Jun",
      "photoUrl": "https://lh6.googleusercontent.com/-NHLAhAbNfPg/AAAAAAAAAAI/AAAAAAAAAEc/NDLQ8z7-qns/s64/photo.jpg",
      "userId": "00685987924881157185"
     },
     "user_tz": -540
    },
    "id": "Vk8DSh3odtAt",
    "outputId": "1463a63e-0f67-4da2-bb8f-1c044e07d1a5"
   },
   "outputs": [
    {
     "data": {
      "text/plain": [
       "24349"
      ]
     },
     "execution_count": 23,
     "metadata": {
      "tags": []
     },
     "output_type": "execute_result"
    }
   ],
   "source": [
    "len(model.wv.vocab)"
   ]
  },
  {
   "cell_type": "code",
   "execution_count": 0,
   "metadata": {
    "colab": {},
    "colab_type": "code",
    "id": "UPQ0cg5Hgu4n"
   },
   "outputs": [],
   "source": [
    "word2index = {token: token_index for token_index, token in enumerate(model.wv.index2word)}"
   ]
  },
  {
   "cell_type": "code",
   "execution_count": 0,
   "metadata": {
    "colab": {},
    "colab_type": "code",
    "id": "paJazF1ogdsH"
   },
   "outputs": [],
   "source": [
    "def sequences(documents):\n",
    "  sequence_output_index = []\n",
    "  for sequence in documents:\n",
    "    #print(sequence)\n",
    "    sequence_index = []\n",
    "    for word in sequence:\n",
    "      if word not in model.wv.vocab:\n",
    "        continue\n",
    "      sequence_index.append(word2index[word])\n",
    "\n",
    "    if len(sequence_index) > MAX_SEQUENCE_LENGTH:\n",
    "      sequence_index = sequence_index[:MAX_SEQUENCE_LENGTH]\n",
    "      \n",
    "    #sequence_index += (MAX_SEQUENCE_LENGTH - len(sequence_index)) * [PAD]\n",
    "    #print(sequence_index)\n",
    "    sequence_output_index.append(sequence_index)    \n",
    "  return np.asarray(sequence_output_index)\n",
    "                     "
   ]
  },
  {
   "cell_type": "code",
   "execution_count": 0,
   "metadata": {
    "colab": {
     "base_uri": "https://localhost:8080/",
     "height": 297
    },
    "colab_type": "code",
    "executionInfo": {
     "elapsed": 57734,
     "status": "error",
     "timestamp": 1561178323789,
     "user": {
      "displayName": "ChangWook Jun",
      "photoUrl": "https://lh6.googleusercontent.com/-NHLAhAbNfPg/AAAAAAAAAAI/AAAAAAAAAEc/NDLQ8z7-qns/s64/photo.jpg",
      "userId": "00685987924881157185"
     },
     "user_tz": -540
    },
    "id": "Tq4arXTkgdvl",
    "outputId": "bc68ae50-bebc-437b-8827-4dce50821a04"
   },
   "outputs": [
    {
     "ename": "NameError",
     "evalue": "ignored",
     "output_type": "error",
     "traceback": [
      "\u001b[0;31m---------------------------------------------------------------------------\u001b[0m",
      "\u001b[0;31mNameError\u001b[0m                                 Traceback (most recent call last)",
      "\u001b[0;32m<ipython-input-23-4d228f3bec2e>\u001b[0m in \u001b[0;36m<module>\u001b[0;34m()\u001b[0m\n\u001b[0;32m----> 1\u001b[0;31m \u001b[0mq1_data\u001b[0m \u001b[0;34m=\u001b[0m \u001b[0msequences\u001b[0m\u001b[0;34m(\u001b[0m\u001b[0mdocuments_1\u001b[0m\u001b[0;34m)\u001b[0m\u001b[0;34m\u001b[0m\u001b[0;34m\u001b[0m\u001b[0m\n\u001b[0m\u001b[1;32m      2\u001b[0m \u001b[0mq2_data\u001b[0m \u001b[0;34m=\u001b[0m \u001b[0msequences\u001b[0m\u001b[0;34m(\u001b[0m\u001b[0mdocuments_2\u001b[0m\u001b[0;34m)\u001b[0m\u001b[0;34m\u001b[0m\u001b[0;34m\u001b[0m\u001b[0m\n",
      "\u001b[0;32m<ipython-input-22-0c2eeb237b5d>\u001b[0m in \u001b[0;36msequences\u001b[0;34m(documents)\u001b[0m\n\u001b[1;32m      7\u001b[0m       \u001b[0;32mif\u001b[0m \u001b[0mword\u001b[0m \u001b[0;32mnot\u001b[0m \u001b[0;32min\u001b[0m \u001b[0mmodel\u001b[0m\u001b[0;34m.\u001b[0m\u001b[0mwv\u001b[0m\u001b[0;34m.\u001b[0m\u001b[0mvocab\u001b[0m\u001b[0;34m:\u001b[0m\u001b[0;34m\u001b[0m\u001b[0;34m\u001b[0m\u001b[0m\n\u001b[1;32m      8\u001b[0m         \u001b[0;32mcontinue\u001b[0m\u001b[0;34m\u001b[0m\u001b[0;34m\u001b[0m\u001b[0m\n\u001b[0;32m----> 9\u001b[0;31m       \u001b[0msequence_index\u001b[0m\u001b[0;34m.\u001b[0m\u001b[0mappend\u001b[0m\u001b[0;34m(\u001b[0m\u001b[0mword2index\u001b[0m\u001b[0;34m[\u001b[0m\u001b[0mword\u001b[0m\u001b[0;34m]\u001b[0m\u001b[0;34m)\u001b[0m\u001b[0;34m\u001b[0m\u001b[0;34m\u001b[0m\u001b[0m\n\u001b[0m\u001b[1;32m     10\u001b[0m \u001b[0;34m\u001b[0m\u001b[0m\n\u001b[1;32m     11\u001b[0m     \u001b[0;32mif\u001b[0m \u001b[0mlen\u001b[0m\u001b[0;34m(\u001b[0m\u001b[0msequence_index\u001b[0m\u001b[0;34m)\u001b[0m \u001b[0;34m>\u001b[0m \u001b[0mMAX_SEQUENCE_LENGTH\u001b[0m\u001b[0;34m:\u001b[0m\u001b[0;34m\u001b[0m\u001b[0;34m\u001b[0m\u001b[0m\n",
      "\u001b[0;31mNameError\u001b[0m: name 'word2index' is not defined"
     ]
    }
   ],
   "source": [
    "q1_data = sequences(documents_1)\n",
    "q2_data = sequences(documents_2)"
   ]
  },
  {
   "cell_type": "code",
   "execution_count": 0,
   "metadata": {
    "colab": {},
    "colab_type": "code",
    "id": "hGThdsgZrzFF"
   },
   "outputs": [],
   "source": [
    "q1_data"
   ]
  },
  {
   "cell_type": "code",
   "execution_count": 0,
   "metadata": {
    "colab": {},
    "colab_type": "code",
    "id": "yrh_981h6F5s"
   },
   "outputs": [],
   "source": [
    "q1_data = pad_sequences(q1_data, maxlen=MAX_SEQUENCE_LENGTH, padding='post')\n",
    "q2_data = pad_sequences(q2_data, maxlen=MAX_SEQUENCE_LENGTH, padding='post')"
   ]
  },
  {
   "cell_type": "code",
   "execution_count": 0,
   "metadata": {
    "colab": {},
    "colab_type": "code",
    "id": "XC-81FgiqfNk"
   },
   "outputs": [],
   "source": [
    "labels = np.array(train_data['is_duplicate'], dtype=int)"
   ]
  },
  {
   "cell_type": "code",
   "execution_count": 0,
   "metadata": {
    "colab": {},
    "colab_type": "code",
    "id": "AuIpJyj_YPGT"
   },
   "outputs": [],
   "source": [
    "data_configs = {}\n",
    "data_configs['vocab'] = word2index\n",
    "data_configs['vocab_size'] = len(word2index)"
   ]
  },
  {
   "cell_type": "code",
   "execution_count": 0,
   "metadata": {
    "colab": {},
    "colab_type": "code",
    "id": "RiJ4LTWoYPJt"
   },
   "outputs": [],
   "source": [
    "TRAIN_Q1_DATA = 'train_q1.npy'\n",
    "TRAIN_Q2_DATA = 'train_q2.npy'\n",
    "TRAIN_LABEL_DATA = 'train_label.npy'\n",
    "DATA_CONFIGS = 'data_configs.json'\n",
    "\n",
    "np.save(open(DATA_IN_PATH + TRAIN_Q1_DATA, 'wb'), q1_data)\n",
    "np.save(open(DATA_IN_PATH + TRAIN_Q2_DATA , 'wb'), q2_data)\n",
    "np.save(open(DATA_IN_PATH + TRAIN_LABEL_DATA , 'wb'), labels)\n",
    "\n",
    "json.dump(data_configs, open(DATA_IN_PATH + DATA_CONFIGS, 'w'))"
   ]
  },
  {
   "cell_type": "code",
   "execution_count": 0,
   "metadata": {
    "colab": {},
    "colab_type": "code",
    "id": "rtpO91sPq3FL"
   },
   "outputs": [],
   "source": [
    "import sys\n",
    "import tensorflow as tf\n",
    "import numpy as np\n",
    "import os\n",
    "import pandas as pd\n",
    "\n",
    "from sklearn.model_selection import train_test_split\n",
    "\n",
    "import json"
   ]
  },
  {
   "cell_type": "code",
   "execution_count": 0,
   "metadata": {
    "colab": {},
    "colab_type": "code",
    "id": "I2nZ2tQ1q9Ww"
   },
   "outputs": [],
   "source": [
    "DATA_IN_PATH = './data_in/'\n",
    "DATA_OUT_PATH = './data_out/'"
   ]
  },
  {
   "cell_type": "code",
   "execution_count": 0,
   "metadata": {
    "colab": {
     "base_uri": "https://localhost:8080/",
     "height": 168
    },
    "colab_type": "code",
    "executionInfo": {
     "elapsed": 4255,
     "status": "ok",
     "timestamp": 1561135655451,
     "user": {
      "displayName": "ChangWook Jun",
      "photoUrl": "https://lh6.googleusercontent.com/-NHLAhAbNfPg/AAAAAAAAAAI/AAAAAAAAAEc/NDLQ8z7-qns/s64/photo.jpg",
      "userId": "00685987924881157185"
     },
     "user_tz": -540
    },
    "id": "L_pFS85Eq9Zj",
    "outputId": "cf3ce21e-9e39-4e89-b9f4-ea801a63f954"
   },
   "outputs": [
    {
     "name": "stdout",
     "output_type": "stream",
     "text": [
      "total 40\n",
      "drwxr-xr-x 1 root root 4096 Jun 21 16:11 .\n",
      "drwxr-xr-x 1 root root 4096 Jun 21 16:01 ..\n",
      "-rw-r--r-- 1 root root 2487 Jun 21 16:11 adc.json\n",
      "drwxr-xr-x 1 root root 4096 Jun 21 16:11 .config\n",
      "drwxr-xr-x 2 root root 4096 Jun 21 16:15 data_in\n",
      "drwxr-xr-x 3 root root 4096 Jun 21 16:18 data_out\n",
      "drwx------ 3 root root 4096 Jun 21 16:11 gdrive\n",
      "drwxr-xr-x 1 root root 4096 Jun 18 16:14 sample_data\n"
     ]
    }
   ],
   "source": [
    "!ls -al"
   ]
  },
  {
   "cell_type": "code",
   "execution_count": 0,
   "metadata": {
    "colab": {},
    "colab_type": "code",
    "id": "ehwnQ-_Jq9cQ"
   },
   "outputs": [],
   "source": [
    "TRAIN_Q1_DATA_FILE = 'train_q1.npy'\n",
    "TRAIN_Q2_DATA_FILE = 'train_q2.npy'\n",
    "TRAIN_LABEL_DATA_FILE = 'train_label.npy'\n",
    "NB_WORDS_DATA_FILE = 'data_configs.json'\n",
    "\n",
    "## 학습에 필요한 파라메터들에 대해서 지정하는 부분이다.\n",
    "\n",
    "BATCH_SIZE = 4096\n",
    "EPOCH = 2\n",
    "HIDDEN = 64\n",
    "BUFFER_SIZE = 10000\n",
    "\n",
    "NUM_LAYERS = 3\n",
    "DROPOUT_RATIO = 0.3\n",
    "\n",
    "TEST_SPLIT = 0.1\n",
    "RNG_SEED = 13371447\n",
    "EMBEDDING_DIM = 128\n",
    "MAX_SEQ_LEN = 31"
   ]
  },
  {
   "cell_type": "code",
   "execution_count": 0,
   "metadata": {
    "colab": {},
    "colab_type": "code",
    "id": "krJ5Zychq9eo"
   },
   "outputs": [],
   "source": [
    "## 데이터를 불러오는 부분이다. 효과적인 데이터 불러오기를 위해, 미리 넘파이 형태로 저장시킨 데이터를 로드한다.\n",
    "\n",
    "q1_data = np.load(open(DATA_IN_PATH + TRAIN_Q1_DATA_FILE, 'rb'))\n",
    "q2_data = np.load(open(DATA_IN_PATH + TRAIN_Q2_DATA_FILE, 'rb'))\n",
    "labels = np.load(open(DATA_IN_PATH + TRAIN_LABEL_DATA_FILE, 'rb'))\n",
    "prepro_configs = None\n",
    "\n",
    "with open(DATA_IN_PATH + NB_WORDS_DATA_FILE, 'r') as f:\n",
    "    prepro_configs = json.load(f)"
   ]
  },
  {
   "cell_type": "code",
   "execution_count": 0,
   "metadata": {
    "colab": {
     "base_uri": "https://localhost:8080/",
     "height": 34
    },
    "colab_type": "code",
    "executionInfo": {
     "elapsed": 538,
     "status": "ok",
     "timestamp": 1561135657370,
     "user": {
      "displayName": "ChangWook Jun",
      "photoUrl": "https://lh6.googleusercontent.com/-NHLAhAbNfPg/AAAAAAAAAAI/AAAAAAAAAEc/NDLQ8z7-qns/s64/photo.jpg",
      "userId": "00685987924881157185"
     },
     "user_tz": -540
    },
    "id": "oWl_E5Zjq9hC",
    "outputId": "7804cc33-646f-47b6-ef43-df9af14b0218"
   },
   "outputs": [
    {
     "data": {
      "text/plain": [
       "24349"
      ]
     },
     "execution_count": 83,
     "metadata": {
      "tags": []
     },
     "output_type": "execute_result"
    }
   ],
   "source": [
    "VOCAB_SIZE = prepro_configs['vocab_size']\n",
    "VOCAB_SIZE"
   ]
  },
  {
   "cell_type": "code",
   "execution_count": 0,
   "metadata": {
    "colab": {},
    "colab_type": "code",
    "id": "Ty8bnq6_q9jX"
   },
   "outputs": [],
   "source": [
    "q1_data_len = np.array([min(len(x), MAX_SEQ_LEN) for x in q1_data])\n",
    "q2_data_len = np.array([min(len(x), MAX_SEQ_LEN) for x in q2_data])"
   ]
  },
  {
   "cell_type": "code",
   "execution_count": 0,
   "metadata": {
    "colab": {},
    "colab_type": "code",
    "id": "OqiHfNTdq9lw"
   },
   "outputs": [],
   "source": [
    "## 데이터를 나누어 저장하자. sklearn의 train_test_split을 사용하면 유용하다. 하지만, 쿼라 데이터의 경우는\n",
    "## 입력이 1개가 아니라 2개이다. 따라서, np.stack을 사용하여 두개를 하나로 쌓은다음 활용하여 분류한다.\n",
    "\n",
    "X = np.stack((q1_data, q2_data), axis=1)\n",
    "y = labels\n",
    "train_X, test_X, train_y, test_y = train_test_split(X, y, test_size=TEST_SPLIT, random_state=RNG_SEED)\n",
    "\n",
    "train_Q1 = train_X[:,0]\n",
    "train_Q2 = train_X[:,1]\n",
    "test_Q1 = test_X[:,0]\n",
    "test_Q2 = test_X[:,1]"
   ]
  },
  {
   "cell_type": "code",
   "execution_count": 0,
   "metadata": {
    "colab": {
     "base_uri": "https://localhost:8080/",
     "height": 134
    },
    "colab_type": "code",
    "executionInfo": {
     "elapsed": 710,
     "status": "ok",
     "timestamp": 1561135662552,
     "user": {
      "displayName": "ChangWook Jun",
      "photoUrl": "https://lh6.googleusercontent.com/-NHLAhAbNfPg/AAAAAAAAAAI/AAAAAAAAAEc/NDLQ8z7-qns/s64/photo.jpg",
      "userId": "00685987924881157185"
     },
     "user_tz": -540
    },
    "id": "1_wxXI7x0qCm",
    "outputId": "95c67877-496a-49ec-b482-b3a21c8a554c"
   },
   "outputs": [
    {
     "data": {
      "text/plain": [
       "array([[   3,    2,   53, ...,    0,    0,    0],\n",
       "       [   2,  132, 1636, ...,    0,    0,    0],\n",
       "       [   1,   56, 2486, ...,    0,    0,    0],\n",
       "       ...,\n",
       "       [  13,  715,   15, ...,    0,    0,    0],\n",
       "       [   3,    6,   24, ...,    0,    0,    0],\n",
       "       [   1,    6,   12, ...,    0,    0,    0]], dtype=int32)"
      ]
     },
     "execution_count": 86,
     "metadata": {
      "tags": []
     },
     "output_type": "execute_result"
    }
   ],
   "source": [
    "train_Q1"
   ]
  },
  {
   "cell_type": "code",
   "execution_count": 0,
   "metadata": {
    "colab": {},
    "colab_type": "code",
    "id": "78wN7Cvlq9oc"
   },
   "outputs": [],
   "source": [
    "\n",
    "def rearrange(base, hypothesis, labels):\n",
    "    features = {\"base\": base, \"hypothesis\": hypothesis}\n",
    "    return features, labels\n",
    "\n",
    "def train_input_fn():\n",
    "    dataset = tf.data.Dataset.from_tensor_slices((train_Q1, train_Q2, train_y))\n",
    "    dataset = dataset.shuffle(buffer_size=len(train_Q1))\n",
    "    dataset = dataset.batch(BATCH_SIZE) #4096\n",
    "    dataset = dataset.map(rearrange)\n",
    "    dataset = dataset.repeat(EPOCH) # 2\n",
    "    iterator = dataset.make_one_shot_iterator()\n",
    "    \n",
    "    return iterator.get_next()\n",
    "\n",
    "def eval_input_fn():\n",
    "    dataset = tf.data.Dataset.from_tensor_slices((test_Q1, test_Q2, test_y))\n",
    "    dataset = dataset.batch(BATCH_SIZE) #4096\n",
    "    dataset = dataset.map(rearrange)\n",
    "    iterator = dataset.make_one_shot_iterator()\n",
    "    \n",
    "    return iterator.get_next()"
   ]
  },
  {
   "cell_type": "code",
   "execution_count": 0,
   "metadata": {
    "colab": {},
    "colab_type": "code",
    "id": "si8ol35hq9q1"
   },
   "outputs": [],
   "source": [
    "\n",
    "from tensorflow.python.keras.layers import Embedding\n",
    "\n",
    "def Malstm(features, labels, mode):\n",
    "        \n",
    "    TRAIN = mode == tf.estimator.ModeKeys.TRAIN\n",
    "    EVAL = mode == tf.estimator.ModeKeys.EVAL\n",
    "    PREDICT = mode == tf.estimator.ModeKeys.PREDICT\n",
    "    # VOCAB_SIZE : 24349   EMBEDDING_DIM : 128   \n",
    "    embedding = Embedding(VOCAB_SIZE,\n",
    "                     EMBEDDING_DIM,\n",
    "                     mask_zero=False,\n",
    "                     weights=[word_list],\n",
    "                     input_length=MAX_SEQUENCE_LENGTH,\n",
    "                     trainable=False)\n",
    "    \n",
    "    base_embedded_matrix = embedding(features['base']) \n",
    "    \n",
    "    hypothesis_embedded_matrix = embedding(features['hypothesis']) \n",
    "    \n",
    "    q_lstm_cell = tf.nn.rnn_cell.BasicLSTMCell(num_units = HIDDEN, activation = tf.nn.tanh , state_is_tuple=False) \n",
    "\n",
    "    q, q_output_states = tf.nn.dynamic_rnn(cell = q_lstm_cell, \n",
    "                                           inputs = base_embedded_matrix, \n",
    "                                           dtype = tf.float32,\n",
    "                                           scope='query')       \n",
    "\n",
    "    s_lstm_cell = tf.nn.rnn_cell.BasicLSTMCell(num_units = HIDDEN, activation = tf.nn.tanh, state_is_tuple=False) \n",
    "    s, s_output_states = tf.nn.dynamic_rnn(cell = s_lstm_cell, \n",
    "                                           inputs = hypothesis_embedded_matrix, \n",
    "                                           dtype = tf.float32,\n",
    "                                           scope='sim_query')     \n",
    "\n",
    "    with tf.variable_scope('output_layer'):\n",
    "        logit_layer = tf.exp(-tf.reduce_sum(tf.abs(q_output_states - s_output_states), axis=1, keepdims=True)) \n",
    "    \n",
    "        logit_layer = tf.squeeze(logit_layer, axis=-1) \n",
    "       \n",
    "    if PREDICT:\n",
    "        return tf.estimator.EstimatorSpec(\n",
    "                  mode=mode,\n",
    "                  predictions={\n",
    "                      'is_duplicate':logit_layer\n",
    "                  })\n",
    "    \n",
    "    #prediction 진행 시, None\n",
    "    if labels is not None:\n",
    "        labels = tf.to_float(labels)\n",
    "    \n",
    "    loss = tf.losses.mean_squared_error(labels=labels, predictions=logit_layer)\n",
    "\n",
    "    if EVAL:\n",
    "        accuracy = tf.metrics.accuracy(labels, tf.round(logit_layer))\n",
    "        eval_metric_ops = {'acc': accuracy}\n",
    "        return tf.estimator.EstimatorSpec(\n",
    "                  mode=mode,\n",
    "                  eval_metric_ops= eval_metric_ops,\n",
    "                  loss=loss)\n",
    "\n",
    "    elif TRAIN:\n",
    "\n",
    "        global_step = tf.train.get_global_step()\n",
    "        train_op = tf.train.AdamOptimizer(1e-3).minimize(loss, global_step)\n",
    "\n",
    "        return tf.estimator.EstimatorSpec(\n",
    "                  mode=mode,\n",
    "                  train_op=train_op,\n",
    "                  loss=loss)"
   ]
  },
  {
   "cell_type": "code",
   "execution_count": 0,
   "metadata": {
    "colab": {},
    "colab_type": "code",
    "id": "WW0NTbCJq9th"
   },
   "outputs": [],
   "source": [
    "!rm -rf /checkpoint/malstm/"
   ]
  },
  {
   "cell_type": "code",
   "execution_count": 0,
   "metadata": {
    "colab": {},
    "colab_type": "code",
    "id": "pVCpnYMbrfkS"
   },
   "outputs": [],
   "source": [
    "model_dir = os.path.join(os.getcwd(), DATA_OUT_PATH + \"/checkpoint/malstm/\")\n",
    "os.makedirs(model_dir, exist_ok=True)\n",
    "\n",
    "config_tf = tf.estimator.RunConfig()\n",
    "\n",
    "lstm_est = tf.estimator.Estimator(Malstm, model_dir=model_dir)"
   ]
  },
  {
   "cell_type": "code",
   "execution_count": 0,
   "metadata": {
    "colab": {
     "base_uri": "https://localhost:8080/",
     "height": 373
    },
    "colab_type": "code",
    "executionInfo": {
     "elapsed": 378007,
     "status": "ok",
     "timestamp": 1561136047537,
     "user": {
      "displayName": "ChangWook Jun",
      "photoUrl": "https://lh6.googleusercontent.com/-NHLAhAbNfPg/AAAAAAAAAAI/AAAAAAAAAEc/NDLQ8z7-qns/s64/photo.jpg",
      "userId": "00685987924881157185"
     },
     "user_tz": -540
    },
    "id": "0Y4uHTOgrg-7",
    "outputId": "b729327a-a308-4f3f-c1fa-b678ff9587ca"
   },
   "outputs": [
    {
     "name": "stdout",
     "output_type": "stream",
     "text": [
      "embedding:  <tensorflow.python.keras.layers.embeddings.Embedding object at 0x7f33a7df9f60>\n"
     ]
    },
    {
     "name": "stderr",
     "output_type": "stream",
     "text": [
      "W0621 16:47:52.906411 139861576632192 rnn_cell_impl.py:697] <tensorflow.python.ops.rnn_cell_impl.BasicLSTMCell object at 0x7f33a7dc9048>: Using a concatenated state is slower and will soon be deprecated.  Use state_is_tuple=True.\n",
      "W0621 16:47:53.026030 139861576632192 rnn_cell_impl.py:697] <tensorflow.python.ops.rnn_cell_impl.BasicLSTMCell object at 0x7f33a7d9bf28>: Using a concatenated state is slower and will soon be deprecated.  Use state_is_tuple=True.\n"
     ]
    },
    {
     "name": "stdout",
     "output_type": "stream",
     "text": [
      "base_embedded_matrix:  Tensor(\"embedding/embedding_lookup/Identity_1:0\", shape=(?, 31, 128), dtype=float32)\n",
      "hypothesis_embedded_matrix:  Tensor(\"embedding_1/embedding_lookup/Identity_1:0\", shape=(?, 31, 128), dtype=float32)\n",
      "q_lstm_cell:  <tensorflow.python.ops.rnn_cell_impl.BasicLSTMCell object at 0x7f33a7dc9048>\n",
      "q:  Tensor(\"query/transpose_1:0\", shape=(?, 31, 64), dtype=float32)\n",
      "q_output_states:  Tensor(\"query/while/Exit_3:0\", shape=(?, 128), dtype=float32)\n",
      "s_lstm_cell:  <tensorflow.python.ops.rnn_cell_impl.BasicLSTMCell object at 0x7f33a7d9bf28>\n",
      "s:  Tensor(\"sim_query/transpose_1:0\", shape=(?, 31, 64), dtype=float32)\n",
      "s_output_states:  Tensor(\"sim_query/while/Exit_3:0\", shape=(?, 128), dtype=float32)\n",
      "logit_layer:  Tensor(\"output_layer/Exp:0\", shape=(?, 1), dtype=float32)\n",
      "logit_layer:  Tensor(\"output_layer/Squeeze:0\", shape=(?,), dtype=float32)\n"
     ]
    },
    {
     "name": "stderr",
     "output_type": "stream",
     "text": [
      "W0621 16:47:54.611497 139861576632192 deprecation.py:323] From /usr/local/lib/python3.6/dist-packages/tensorflow/python/training/saver.py:1276: checkpoint_exists (from tensorflow.python.training.checkpoint_management) is deprecated and will be removed in a future version.\n",
      "Instructions for updating:\n",
      "Use standard file APIs to check for files with this prefix.\n",
      "W0621 16:47:54.884833 139861576632192 deprecation.py:323] From /usr/local/lib/python3.6/dist-packages/tensorflow/python/training/saver.py:1066: get_checkpoint_mtimes (from tensorflow.python.training.checkpoint_management) is deprecated and will be removed in a future version.\n",
      "Instructions for updating:\n",
      "Use standard file utilities to get mtimes.\n"
     ]
    },
    {
     "data": {
      "text/plain": [
       "<tensorflow_estimator.python.estimator.estimator.Estimator at 0x7f33a7a4aeb8>"
      ]
     },
     "execution_count": 91,
     "metadata": {
      "tags": []
     },
     "output_type": "execute_result"
    }
   ],
   "source": [
    "lstm_est.train(train_input_fn)"
   ]
  },
  {
   "cell_type": "code",
   "execution_count": 0,
   "metadata": {
    "colab": {
     "base_uri": "https://localhost:8080/",
     "height": 272
    },
    "colab_type": "code",
    "executionInfo": {
     "elapsed": 382039,
     "status": "ok",
     "timestamp": 1561136054212,
     "user": {
      "displayName": "ChangWook Jun",
      "photoUrl": "https://lh6.googleusercontent.com/-NHLAhAbNfPg/AAAAAAAAAAI/AAAAAAAAAEc/NDLQ8z7-qns/s64/photo.jpg",
      "userId": "00685987924881157185"
     },
     "user_tz": -540
    },
    "id": "riaczfTdri3K",
    "outputId": "285e165c-7eda-470c-d39a-947109117327"
   },
   "outputs": [
    {
     "name": "stderr",
     "output_type": "stream",
     "text": [
      "W0621 16:54:06.948600 139861576632192 rnn_cell_impl.py:697] <tensorflow.python.ops.rnn_cell_impl.BasicLSTMCell object at 0x7f33a36b9780>: Using a concatenated state is slower and will soon be deprecated.  Use state_is_tuple=True.\n"
     ]
    },
    {
     "name": "stdout",
     "output_type": "stream",
     "text": [
      "embedding:  <tensorflow.python.keras.layers.embeddings.Embedding object at 0x7f33a79c5ef0>\n",
      "base_embedded_matrix:  Tensor(\"embedding/embedding_lookup/Identity_1:0\", shape=(?, 31, 128), dtype=float32)\n",
      "hypothesis_embedded_matrix:  Tensor(\"embedding_1/embedding_lookup/Identity_1:0\", shape=(?, 31, 128), dtype=float32)\n",
      "q_lstm_cell:  <tensorflow.python.ops.rnn_cell_impl.BasicLSTMCell object at 0x7f33a36b9780>\n"
     ]
    },
    {
     "name": "stderr",
     "output_type": "stream",
     "text": [
      "W0621 16:54:07.066392 139861576632192 rnn_cell_impl.py:697] <tensorflow.python.ops.rnn_cell_impl.BasicLSTMCell object at 0x7f33a497be10>: Using a concatenated state is slower and will soon be deprecated.  Use state_is_tuple=True.\n"
     ]
    },
    {
     "name": "stdout",
     "output_type": "stream",
     "text": [
      "q:  Tensor(\"query/transpose_1:0\", shape=(?, 31, 64), dtype=float32)\n",
      "q_output_states:  Tensor(\"query/while/Exit_3:0\", shape=(?, 128), dtype=float32)\n",
      "s_lstm_cell:  <tensorflow.python.ops.rnn_cell_impl.BasicLSTMCell object at 0x7f33a497be10>\n",
      "s:  Tensor(\"sim_query/transpose_1:0\", shape=(?, 31, 64), dtype=float32)\n",
      "s_output_states:  Tensor(\"sim_query/while/Exit_3:0\", shape=(?, 128), dtype=float32)\n",
      "logit_layer:  Tensor(\"output_layer/Exp:0\", shape=(?, 1), dtype=float32)\n",
      "logit_layer:  Tensor(\"output_layer/Squeeze:0\", shape=(?,), dtype=float32)\n"
     ]
    },
    {
     "data": {
      "text/plain": [
       "{'acc': 0.70883995, 'global_step': 132, 'loss': 0.19398028}"
      ]
     },
     "execution_count": 92,
     "metadata": {
      "tags": []
     },
     "output_type": "execute_result"
    }
   ],
   "source": [
    "lstm_est.evaluate(eval_input_fn)"
   ]
  },
  {
   "cell_type": "code",
   "execution_count": 0,
   "metadata": {
    "colab": {},
    "colab_type": "code",
    "id": "9hvO4v69rk4K"
   },
   "outputs": [],
   "source": []
  }
 ],
 "metadata": {
  "colab": {
   "collapsed_sections": [],
   "name": "Day4_Word2Vec_Modeling.ipynb",
   "provenance": [],
   "version": "0.3.2"
  },
  "kernelspec": {
   "display_name": "Python 3",
   "language": "python",
   "name": "python3"
  },
  "language_info": {
   "codemirror_mode": {
    "name": "ipython",
    "version": 3
   },
   "file_extension": ".py",
   "mimetype": "text/x-python",
   "name": "python",
   "nbconvert_exporter": "python",
   "pygments_lexer": "ipython3",
   "version": "3.6.8"
  }
 },
 "nbformat": 4,
 "nbformat_minor": 1
}

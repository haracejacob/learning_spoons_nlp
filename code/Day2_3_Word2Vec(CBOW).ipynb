{
 "cells": [
  {
   "cell_type": "markdown",
   "metadata": {
    "colab_type": "text",
    "id": "04smeG30KmAV"
   },
   "source": [
    "# Word2Vec(CBOW)"
   ]
  },
  {
   "cell_type": "code",
   "execution_count": 1,
   "metadata": {
    "colab": {},
    "colab_type": "code",
    "id": "5sImvpS59bi9"
   },
   "outputs": [],
   "source": [
    "import tensorflow as tf\n",
    "import numpy as np\n",
    "import os"
   ]
  },
  {
   "cell_type": "code",
   "execution_count": 2,
   "metadata": {
    "colab": {},
    "colab_type": "code",
    "id": "_nQHOs7iKuzC"
   },
   "outputs": [],
   "source": [
    "samples = [\"철수은 축구를 좋아한다\",\n",
    "          \"영희은 축구를 싫어한다\",\n",
    "          \"철수은 도서관을 좋아한다\",\n",
    "          \"영희은 도서관을 싫어한다\",\n",
    "          \"철수은 공부를 좋아한다\",\n",
    "          \"영희은 공부를 싫어한다\",\n",
    "          \"철수은 축구를 좋아한다 영희은 축구를 싫어한다\"]"
   ]
  },
  {
   "cell_type": "code",
   "execution_count": 3,
   "metadata": {
    "colab": {
     "base_uri": "https://localhost:8080/",
     "height": 70
    },
    "colab_type": "code",
    "executionInfo": {
     "elapsed": 884,
     "status": "ok",
     "timestamp": 1559966263240,
     "user": {
      "displayName": "ChangWook Jun",
      "photoUrl": "https://lh6.googleusercontent.com/-NHLAhAbNfPg/AAAAAAAAAAI/AAAAAAAAAEc/NDLQ8z7-qns/s64/photo.jpg",
      "userId": "00685987924881157185"
     },
     "user_tz": -540
    },
    "id": "jvV4yJMnKwRC",
    "outputId": "fe995772-5c47-495f-c8b0-3726ab512c4d"
   },
   "outputs": [],
   "source": [
    "from tensorflow.keras import preprocessing\n",
    "\n",
    "tokenizer = preprocessing.text.Tokenizer()\n",
    "tokenizer.fit_on_texts(samples) \n",
    "sequences = tokenizer.texts_to_sequences(samples) \n",
    "\n",
    "word_to_index = tokenizer.word_index"
   ]
  },
  {
   "cell_type": "code",
   "execution_count": 4,
   "metadata": {},
   "outputs": [
    {
     "data": {
      "text/plain": [
       "{'철수은': 1, '축구를': 2, '좋아한다': 3, '영희은': 4, '싫어한다': 5, '도서관을': 6, '공부를': 7}"
      ]
     },
     "execution_count": 4,
     "metadata": {},
     "output_type": "execute_result"
    }
   ],
   "source": [
    "word_to_index"
   ]
  },
  {
   "cell_type": "code",
   "execution_count": 5,
   "metadata": {
    "colab": {
     "base_uri": "https://localhost:8080/",
     "height": 54
    },
    "colab_type": "code",
    "executionInfo": {
     "elapsed": 706,
     "status": "ok",
     "timestamp": 1559966318640,
     "user": {
      "displayName": "ChangWook Jun",
      "photoUrl": "https://lh6.googleusercontent.com/-NHLAhAbNfPg/AAAAAAAAAAI/AAAAAAAAAEc/NDLQ8z7-qns/s64/photo.jpg",
      "userId": "00685987924881157185"
     },
     "user_tz": -540
    },
    "id": "ewtHb4vmK0o5",
    "outputId": "4c8021bd-c709-4112-e4ad-7e9c46343df6"
   },
   "outputs": [
    {
     "name": "stdout",
     "output_type": "stream",
     "text": [
      "{1: '철수은', 2: '축구를', 3: '좋아한다', 4: '영희은', 5: '싫어한다', 6: '도서관을', 7: '공부를'}\n"
     ]
    }
   ],
   "source": [
    "index_to_word = dict((i, w) for w, i in word_to_index.items())\n",
    "print(index_to_word)"
   ]
  },
  {
   "cell_type": "code",
   "execution_count": 6,
   "metadata": {
    "colab": {
     "base_uri": "https://localhost:8080/",
     "height": 87
    },
    "colab_type": "code",
    "executionInfo": {
     "elapsed": 978,
     "status": "ok",
     "timestamp": 1559966422468,
     "user": {
      "displayName": "ChangWook Jun",
      "photoUrl": "https://lh6.googleusercontent.com/-NHLAhAbNfPg/AAAAAAAAAAI/AAAAAAAAAEc/NDLQ8z7-qns/s64/photo.jpg",
      "userId": "00685987924881157185"
     },
     "user_tz": -540
    },
    "id": "YyzqgczgMbPC",
    "outputId": "ce191f5c-ee17-47fc-baef-d06b2ee3d6d0"
   },
   "outputs": [
    {
     "name": "stdout",
     "output_type": "stream",
     "text": [
      "sequences: [[1, 2, 3], [4, 2, 5], [1, 6, 3], [4, 6, 5], [1, 7, 3], [4, 7, 5], [1, 2, 3, 4, 2, 5]]\n",
      "cbow_data\n",
      "[[2, [1, 3]], [2, [4, 5]], [6, [1, 3]], [6, [4, 5]], [7, [1, 3]], [7, [4, 5]], [2, [1, 3]], [3, [2, 4]], [4, [3, 2]], [2, [4, 5]]]\n"
     ]
    }
   ],
   "source": [
    "cbow_data = []\n",
    "print(f'sequences: {sequences}')\n",
    "\n",
    "for sequence in sequences:\n",
    "    for i in range(1, len(sequence) - 1):\n",
    "        target = sequence[i]\n",
    "        context = [sequence[i - 1], sequence[i + 1]]\n",
    "        cbow_data.append([target, context])\n",
    "        \n",
    "print(f'cbow_data\\n{cbow_data}')"
   ]
  },
  {
   "cell_type": "code",
   "execution_count": 8,
   "metadata": {
    "colab": {},
    "colab_type": "code",
    "id": "lJljzCV_PB-j"
   },
   "outputs": [],
   "source": [
    "context_left = []\n",
    "context_right = []\n",
    "target = []\n",
    "for i in range(len(cbow_data)):\n",
    "    context_left.append(cbow_data[i][1][0])  # input1\n",
    "    context_right.append(cbow_data[i][1][1])  # input2\n",
    "    target.append(cbow_data[i][0])  # label"
   ]
  },
  {
   "cell_type": "code",
   "execution_count": 9,
   "metadata": {},
   "outputs": [],
   "source": [
    "num_epochs = 1000\n",
    "batch_size = 2"
   ]
  },
  {
   "cell_type": "code",
   "execution_count": 68,
   "metadata": {},
   "outputs": [],
   "source": [
    "def mapping_function(left_inputs, right_inputs, labels):\n",
    "    features = {'left': left_inputs, 'right': right_inputs}\n",
    "    \n",
    "    return features, labels"
   ]
  },
  {
   "cell_type": "code",
   "execution_count": 83,
   "metadata": {
    "colab": {},
    "colab_type": "code",
    "id": "BOyEUezOUEqF"
   },
   "outputs": [],
   "source": [
    "dataset = tf.data.Dataset.from_tensor_slices((context_left, context_right, target))\n",
    "dataset = dataset.batch(batch_size)\n",
    "dataset = dataset.shuffle(len(cbow_data))\n",
    "dataset = dataset.map(mapping_function)"
   ]
  },
  {
   "cell_type": "code",
   "execution_count": 97,
   "metadata": {},
   "outputs": [],
   "source": [
    "vocab_size = len(word_to_index) + 1\n",
    "emb_size = 128"
   ]
  },
  {
   "cell_type": "code",
   "execution_count": 98,
   "metadata": {},
   "outputs": [],
   "source": [
    "from tensorflow.keras import layers"
   ]
  },
  {
   "cell_type": "code",
   "execution_count": 102,
   "metadata": {},
   "outputs": [],
   "source": [
    "class CBOWModel(tf.keras.Model):\n",
    "    \n",
    "    def __init__(self, vocab_size, emb_size):\n",
    "        super(CBOWModel, self).__init__(name='cbow')\n",
    "        self.vocab_size = vocab_size\n",
    "        self.w_1 = tf.Variable(tf.random.uniform([vocab_size, emb_size], -1.0, 1.0))\n",
    "        self.w_2 = tf.Variable(tf.random.uniform([emb_size, vocab_size], -1.0, 1.0))\n",
    "    \n",
    "    def call(self, inputs):\n",
    "        one_hot_left_inputs = tf.one_hot(indices=inputs['left'], depth=self.vocab_size)\n",
    "        one_hot_right_inputs = tf.one_hot(indices=inputs['right'], depth=self.vocab_size)\n",
    "        one_hot_left_inputs = tf.squeeze(one_hot_left_inputs, axis=1)\n",
    "        one_hot_right_inputs = tf.squeeze(one_hot_right_inputs, axis=1)\n",
    "        \n",
    "        h_1 = tf.matmul(one_hot_left_inputs, self.w_1)\n",
    "        h_2 = tf.matmul(one_hot_right_inputs, self.w_1)\n",
    "        hidden = (h_1 + h_2) / 2\n",
    "        \n",
    "        return tf.matmul(hidden, self.w_2)"
   ]
  },
  {
   "cell_type": "code",
   "execution_count": 104,
   "metadata": {},
   "outputs": [
    {
     "name": "stdout",
     "output_type": "stream",
     "text": [
      "Epoch 1/100\n",
      "5/5 [==============================] - 0s 82ms/step - loss: 230.2351 - accuracy: 0.0000e+00\n",
      "Epoch 2/100\n",
      "5/5 [==============================] - 0s 3ms/step - loss: 249.9519 - accuracy: 0.0000e+00\n",
      "Epoch 3/100\n",
      "5/5 [==============================] - 0s 3ms/step - loss: 192.7716 - accuracy: 0.0000e+00\n",
      "Epoch 4/100\n",
      "5/5 [==============================] - 0s 4ms/step - loss: 245.7170 - accuracy: 0.0000e+00\n",
      "Epoch 5/100\n",
      "5/5 [==============================] - 0s 4ms/step - loss: 245.5620 - accuracy: 0.0000e+00\n",
      "Epoch 6/100\n",
      "5/5 [==============================] - 0s 4ms/step - loss: 203.5479 - accuracy: 0.0000e+00\n",
      "Epoch 7/100\n",
      "5/5 [==============================] - 0s 4ms/step - loss: 245.3596 - accuracy: 0.0000e+00\n",
      "Epoch 8/100\n",
      "5/5 [==============================] - 0s 5ms/step - loss: 248.2793 - accuracy: 0.0000e+00\n",
      "Epoch 9/100\n",
      "5/5 [==============================] - 0s 5ms/step - loss: 191.6528 - accuracy: 0.0000e+00\n",
      "Epoch 10/100\n",
      "5/5 [==============================] - 0s 5ms/step - loss: 202.6557 - accuracy: 0.0000e+00\n",
      "Epoch 11/100\n",
      "5/5 [==============================] - 0s 5ms/step - loss: 244.6202 - accuracy: 0.0000e+00\n",
      "Epoch 12/100\n",
      "5/5 [==============================] - 0s 5ms/step - loss: 225.9349 - accuracy: 0.0000e+00\n",
      "Epoch 13/100\n",
      "5/5 [==============================] - 0s 5ms/step - loss: 298.6045 - accuracy: 0.0000e+00\n",
      "Epoch 14/100\n",
      "5/5 [==============================] - 0s 5ms/step - loss: 298.3784 - accuracy: 0.0000e+00\n",
      "Epoch 15/100\n",
      "5/5 [==============================] - 0s 5ms/step - loss: 298.2966 - accuracy: 0.0000e+00\n",
      "Epoch 16/100\n",
      "5/5 [==============================] - 0s 5ms/step - loss: 298.1362 - accuracy: 0.0000e+00\n",
      "Epoch 17/100\n",
      "5/5 [==============================] - 0s 5ms/step - loss: 319.9305 - accuracy: 0.0000e+00\n",
      "Epoch 18/100\n",
      "5/5 [==============================] - 0s 5ms/step - loss: 261.7453 - accuracy: 0.0000e+00\n",
      "Epoch 19/100\n",
      "5/5 [==============================] - 0s 5ms/step - loss: 261.6038 - accuracy: 0.0000e+00\n",
      "Epoch 20/100\n",
      "5/5 [==============================] - 0s 5ms/step - loss: 261.4193 - accuracy: 0.0000e+00\n",
      "Epoch 21/100\n",
      "5/5 [==============================] - 0s 5ms/step - loss: 275.5367 - accuracy: 0.0000e+00\n",
      "Epoch 22/100\n",
      "5/5 [==============================] - 0s 5ms/step - loss: 214.8702 - accuracy: 0.0000e+00\n",
      "Epoch 23/100\n",
      "5/5 [==============================] - 0s 4ms/step - loss: 258.2031 - accuracy: 0.0000e+00\n",
      "Epoch 24/100\n",
      "5/5 [==============================] - 0s 5ms/step - loss: 258.1914 - accuracy: 0.0000e+00\n",
      "Epoch 25/100\n",
      "5/5 [==============================] - 0s 5ms/step - loss: 240.2237 - accuracy: 0.0000e+00\n",
      "Epoch 26/100\n",
      "5/5 [==============================] - 0s 5ms/step - loss: 316.1177 - accuracy: 0.0000e+00\n",
      "Epoch 27/100\n",
      "5/5 [==============================] - 0s 5ms/step - loss: 260.0495 - accuracy: 0.0000e+00\n",
      "Epoch 28/100\n",
      "5/5 [==============================] - 0s 5ms/step - loss: 298.4245 - accuracy: 0.0000e+00\n",
      "Epoch 29/100\n",
      "5/5 [==============================] - 0s 6ms/step - loss: 297.8784 - accuracy: 0.0000e+00\n",
      "Epoch 30/100\n",
      "5/5 [==============================] - 0s 6ms/step - loss: 259.2506 - accuracy: 0.0000e+00\n",
      "Epoch 31/100\n",
      "5/5 [==============================] - 0s 6ms/step - loss: 323.6514 - accuracy: 0.0000e+00\n",
      "Epoch 32/100\n",
      "5/5 [==============================] - 0s 6ms/step - loss: 244.6727 - accuracy: 0.0000e+00\n",
      "Epoch 33/100\n",
      "5/5 [==============================] - 0s 6ms/step - loss: 323.6514 - accuracy: 0.0000e+00\n",
      "Epoch 34/100\n",
      "5/5 [==============================] - 0s 5ms/step - loss: 259.1790 - accuracy: 0.0000e+00\n",
      "Epoch 35/100\n",
      "5/5 [==============================] - 0s 5ms/step - loss: 323.6514 - accuracy: 0.0000e+00\n",
      "Epoch 36/100\n",
      "5/5 [==============================] - 0s 6ms/step - loss: 244.6727 - accuracy: 0.0000e+00\n",
      "Epoch 37/100\n",
      "5/5 [==============================] - 0s 5ms/step - loss: 323.6514 - accuracy: 0.0000e+00\n",
      "Epoch 38/100\n",
      "5/5 [==============================] - 0s 6ms/step - loss: 323.6514 - accuracy: 0.0000e+00\n",
      "Epoch 39/100\n",
      "5/5 [==============================] - 0s 6ms/step - loss: 244.6727 - accuracy: 0.0000e+00\n",
      "Epoch 40/100\n",
      "5/5 [==============================] - 0s 5ms/step - loss: 323.6514 - accuracy: 0.0000e+00\n",
      "Epoch 41/100\n",
      "5/5 [==============================] - 0s 6ms/step - loss: 297.8624 - accuracy: 0.0000e+00\n",
      "Epoch 42/100\n",
      "5/5 [==============================] - 0s 5ms/step - loss: 317.2041 - accuracy: 0.0000e+00\n",
      "Epoch 43/100\n",
      "5/5 [==============================] - 0s 5ms/step - loss: 259.1790 - accuracy: 0.0000e+00\n",
      "Epoch 44/100\n",
      "5/5 [==============================] - 0s 5ms/step - loss: 259.1790 - accuracy: 0.0000e+00\n",
      "Epoch 45/100\n",
      "5/5 [==============================] - 0s 5ms/step - loss: 244.6727 - accuracy: 0.0000e+00\n",
      "Epoch 46/100\n",
      "5/5 [==============================] - 0s 5ms/step - loss: 323.6514 - accuracy: 0.0000e+00\n",
      "Epoch 47/100\n",
      "5/5 [==============================] - 0s 5ms/step - loss: 297.8624 - accuracy: 0.0000e+00\n",
      "Epoch 48/100\n",
      "5/5 [==============================] - 0s 5ms/step - loss: 317.2041 - accuracy: 0.0000e+00\n",
      "Epoch 49/100\n",
      "5/5 [==============================] - 0s 6ms/step - loss: 323.6514 - accuracy: 0.0000e+00\n",
      "Epoch 50/100\n",
      "5/5 [==============================] - 0s 5ms/step - loss: 323.6514 - accuracy: 0.0000e+00\n",
      "Epoch 51/100\n",
      "5/5 [==============================] - 0s 5ms/step - loss: 317.2041 - accuracy: 0.0000e+00\n",
      "Epoch 52/100\n",
      "5/5 [==============================] - 0s 5ms/step - loss: 317.2041 - accuracy: 0.0000e+00\n",
      "Epoch 53/100\n",
      "5/5 [==============================] - 0s 5ms/step - loss: 259.1790 - accuracy: 0.0000e+00\n",
      "Epoch 54/100\n",
      "5/5 [==============================] - 0s 6ms/step - loss: 259.1790 - accuracy: 0.0000e+00\n",
      "Epoch 55/100\n",
      "5/5 [==============================] - 0s 5ms/step - loss: 244.6727 - accuracy: 0.0000e+00\n",
      "Epoch 56/100\n",
      "5/5 [==============================] - 0s 4ms/step - loss: 317.2041 - accuracy: 0.0000e+00\n",
      "Epoch 57/100\n",
      "5/5 [==============================] - 0s 4ms/step - loss: 317.2041 - accuracy: 0.0000e+00\n",
      "Epoch 58/100\n",
      "5/5 [==============================] - 0s 5ms/step - loss: 259.1790 - accuracy: 0.0000e+00\n",
      "Epoch 59/100\n",
      "5/5 [==============================] - 0s 4ms/step - loss: 244.6727 - accuracy: 0.0000e+00\n",
      "Epoch 60/100\n",
      "5/5 [==============================] - 0s 4ms/step - loss: 323.6514 - accuracy: 0.0000e+00\n",
      "Epoch 61/100\n",
      "5/5 [==============================] - 0s 4ms/step - loss: 317.2041 - accuracy: 0.0000e+00\n",
      "Epoch 62/100\n",
      "5/5 [==============================] - 0s 4ms/step - loss: 297.8624 - accuracy: 0.0000e+00\n",
      "Epoch 63/100\n",
      "5/5 [==============================] - 0s 4ms/step - loss: 297.8624 - accuracy: 0.0000e+00\n",
      "Epoch 64/100\n",
      "5/5 [==============================] - 0s 4ms/step - loss: 259.1790 - accuracy: 0.0000e+00\n",
      "Epoch 65/100\n",
      "5/5 [==============================] - 0s 4ms/step - loss: 297.8624 - accuracy: 0.0000e+00\n",
      "Epoch 66/100\n",
      "5/5 [==============================] - 0s 4ms/step - loss: 244.6727 - accuracy: 0.0000e+00\n",
      "Epoch 67/100\n",
      "5/5 [==============================] - 0s 4ms/step - loss: 297.8624 - accuracy: 0.0000e+00\n",
      "Epoch 68/100\n",
      "5/5 [==============================] - 0s 4ms/step - loss: 244.6727 - accuracy: 0.0000e+00\n",
      "Epoch 69/100\n",
      "5/5 [==============================] - 0s 4ms/step - loss: 259.1790 - accuracy: 0.0000e+00\n",
      "Epoch 70/100\n",
      "5/5 [==============================] - 0s 4ms/step - loss: 244.6727 - accuracy: 0.0000e+00\n",
      "Epoch 71/100\n",
      "5/5 [==============================] - 0s 4ms/step - loss: 323.6514 - accuracy: 0.0000e+00\n",
      "Epoch 72/100\n",
      "5/5 [==============================] - 0s 4ms/step - loss: 317.2041 - accuracy: 0.0000e+00\n",
      "Epoch 73/100\n",
      "5/5 [==============================] - 0s 4ms/step - loss: 259.1790 - accuracy: 0.0000e+00\n",
      "Epoch 74/100\n",
      "5/5 [==============================] - 0s 4ms/step - loss: 244.6727 - accuracy: 0.0000e+00\n",
      "Epoch 75/100\n",
      "5/5 [==============================] - 0s 4ms/step - loss: 323.6514 - accuracy: 0.0000e+00\n",
      "Epoch 76/100\n",
      "5/5 [==============================] - 0s 4ms/step - loss: 244.6727 - accuracy: 0.0000e+00\n",
      "Epoch 77/100\n",
      "5/5 [==============================] - 0s 4ms/step - loss: 317.2041 - accuracy: 0.0000e+00\n",
      "Epoch 78/100\n",
      "5/5 [==============================] - 0s 4ms/step - loss: 297.8624 - accuracy: 0.0000e+00\n",
      "Epoch 79/100\n",
      "5/5 [==============================] - 0s 4ms/step - loss: 244.6727 - accuracy: 0.0000e+00\n",
      "Epoch 80/100\n",
      "5/5 [==============================] - 0s 4ms/step - loss: 297.8624 - accuracy: 0.0000e+00\n",
      "Epoch 81/100\n",
      "5/5 [==============================] - 0s 4ms/step - loss: 297.8624 - accuracy: 0.0000e+00\n",
      "Epoch 82/100\n",
      "5/5 [==============================] - 0s 4ms/step - loss: 297.8624 - accuracy: 0.0000e+00\n",
      "Epoch 83/100\n",
      "5/5 [==============================] - 0s 4ms/step - loss: 297.8624 - accuracy: 0.0000e+00\n",
      "Epoch 84/100\n",
      "5/5 [==============================] - 0s 4ms/step - loss: 317.2041 - accuracy: 0.0000e+00\n",
      "Epoch 85/100\n",
      "5/5 [==============================] - 0s 4ms/step - loss: 317.2041 - accuracy: 0.0000e+00\n",
      "Epoch 86/100\n",
      "5/5 [==============================] - 0s 4ms/step - loss: 259.1790 - accuracy: 0.0000e+00\n",
      "Epoch 87/100\n",
      "5/5 [==============================] - 0s 4ms/step - loss: 259.1790 - accuracy: 0.0000e+00\n",
      "Epoch 88/100\n",
      "5/5 [==============================] - 0s 4ms/step - loss: 297.8624 - accuracy: 0.0000e+00\n",
      "Epoch 89/100\n",
      "5/5 [==============================] - 0s 4ms/step - loss: 297.8624 - accuracy: 0.0000e+00\n",
      "Epoch 90/100\n",
      "5/5 [==============================] - 0s 4ms/step - loss: 323.6514 - accuracy: 0.0000e+00\n",
      "Epoch 91/100\n",
      "5/5 [==============================] - 0s 4ms/step - loss: 259.1790 - accuracy: 0.0000e+00\n",
      "Epoch 92/100\n",
      "5/5 [==============================] - 0s 4ms/step - loss: 323.6514 - accuracy: 0.0000e+00\n",
      "Epoch 93/100\n",
      "5/5 [==============================] - 0s 4ms/step - loss: 244.6727 - accuracy: 0.0000e+00\n",
      "Epoch 94/100\n",
      "5/5 [==============================] - 0s 4ms/step - loss: 244.6727 - accuracy: 0.0000e+00\n",
      "Epoch 95/100\n",
      "5/5 [==============================] - 0s 3ms/step - loss: 317.2041 - accuracy: 0.0000e+00\n",
      "Epoch 96/100\n",
      "5/5 [==============================] - 0s 4ms/step - loss: 317.2041 - accuracy: 0.0000e+00\n",
      "Epoch 97/100\n",
      "5/5 [==============================] - 0s 3ms/step - loss: 259.1790 - accuracy: 0.0000e+00\n",
      "Epoch 98/100\n",
      "5/5 [==============================] - 0s 3ms/step - loss: 297.8624 - accuracy: 0.0000e+00\n",
      "Epoch 99/100\n",
      "5/5 [==============================] - 0s 3ms/step - loss: 297.8624 - accuracy: 0.0000e+00\n",
      "Epoch 100/100\n",
      "5/5 [==============================] - 0s 3ms/step - loss: 317.2041 - accuracy: 0.0000e+00\n"
     ]
    },
    {
     "data": {
      "text/plain": [
       "<tensorflow.python.keras.callbacks.History at 0x7f876196b710>"
      ]
     },
     "execution_count": 104,
     "metadata": {},
     "output_type": "execute_result"
    }
   ],
   "source": [
    "model = CBOWModel(vocab_size = vocab_size, emb_size=emb_size)\n",
    "\n",
    "model.compile(optimizer=tf.keras.optimizers.Adam(0.001),\n",
    "              loss='categorical_crossentropy',\n",
    "              metrics=['accuracy'])\n",
    "\n",
    "model.fit(dataset, epochs=num_epochs)"
   ]
  },
  {
   "cell_type": "code",
   "execution_count": 109,
   "metadata": {},
   "outputs": [],
   "source": [
    "embedding_matrix = model.w_1.numpy()"
   ]
  },
  {
   "cell_type": "code",
   "execution_count": 110,
   "metadata": {
    "colab": {
     "base_uri": "https://localhost:8080/",
     "height": 185
    },
    "colab_type": "code",
    "executionInfo": {
     "elapsed": 844,
     "status": "ok",
     "timestamp": 1559969329139,
     "user": {
      "displayName": "ChangWook Jun",
      "photoUrl": "https://lh6.googleusercontent.com/-NHLAhAbNfPg/AAAAAAAAAAI/AAAAAAAAAEc/NDLQ8z7-qns/s64/photo.jpg",
      "userId": "00685987924881157185"
     },
     "user_tz": -540
    },
    "id": "74KYYRfbasDf",
    "outputId": "8de994c7-d3a6-4f92-b188-bfab494ac4aa",
    "scrolled": true
   },
   "outputs": [
    {
     "data": {
      "text/plain": [
       "array([[-0.9708998 ,  0.6570835 , -0.45693064, ...,  0.8140433 ,\n",
       "         0.43642712, -0.06114078],\n",
       "       [-0.31476718, -0.39372048, -0.5975746 , ..., -0.3960698 ,\n",
       "        -0.7127108 , -0.8098971 ],\n",
       "       [-0.95963395,  0.80812645,  0.8626077 , ..., -0.8325495 ,\n",
       "         0.61127555, -0.40324655],\n",
       "       ...,\n",
       "       [-0.48174757,  0.506489  , -0.7973695 , ..., -0.95553863,\n",
       "         0.75880694,  0.56994545],\n",
       "       [ 0.42679644, -0.8408401 , -0.17859936, ..., -0.49732232,\n",
       "        -0.1594503 , -0.6052067 ],\n",
       "       [ 0.96453214, -0.9757905 ,  0.6391945 , ..., -0.7596133 ,\n",
       "         0.23627067, -0.9073026 ]], dtype=float32)"
      ]
     },
     "execution_count": 110,
     "metadata": {},
     "output_type": "execute_result"
    }
   ],
   "source": [
    "embedding_matrix"
   ]
  },
  {
   "cell_type": "markdown",
   "metadata": {
    "colab_type": "text",
    "id": "1ykcnjQrpuCJ"
   },
   "source": [
    "### 임베딩 그림 그리기"
   ]
  },
  {
   "cell_type": "code",
   "execution_count": 111,
   "metadata": {
    "colab": {
     "base_uri": "https://localhost:8080/",
     "height": 84
    },
    "colab_type": "code",
    "executionInfo": {
     "elapsed": 883,
     "status": "ok",
     "timestamp": 1559967475546,
     "user": {
      "displayName": "ChangWook Jun",
      "photoUrl": "https://lh6.googleusercontent.com/-NHLAhAbNfPg/AAAAAAAAAAI/AAAAAAAAAEc/NDLQ8z7-qns/s64/photo.jpg",
      "userId": "00685987924881157185"
     },
     "user_tz": -540
    },
    "id": "15UYjxjghtjY",
    "outputId": "a8659864-0f8c-495d-8eeb-32807cb8cffa"
   },
   "outputs": [],
   "source": [
    "%matplotlib inline  \n",
    "\n",
    "import matplotlib.pyplot as plt  "
   ]
  },
  {
   "cell_type": "code",
   "execution_count": 112,
   "metadata": {},
   "outputs": [],
   "source": [
    "from sklearn.manifold import TSNE"
   ]
  },
  {
   "cell_type": "code",
   "execution_count": 114,
   "metadata": {},
   "outputs": [
    {
     "data": {
      "image/png": "[encoded data removed]",
      "text/plain": [
       "<Figure size 432x288 with 1 Axes>"
      ]
     },
     "metadata": {
      "needs_background": "light"
     },
     "output_type": "display_data"
    }
   ],
   "source": [
    "model = TSNE(learning_rate=100)\n",
    "transformed = model.fit_transform(embedding_matrix)\n",
    "\n",
    "xs = transformed[:,0]\n",
    "ys = transformed[:,1]\n",
    "\n",
    "for i, offset in enumerate(transformed[1:]):\n",
    "    x, y = offset\n",
    "    plt.scatter(x, y)\n",
    "    plt.annotate(index_to_word[i+1], xy=(x, y), xytext=(6, 4),\n",
    "                 textcoords='offset points', ha='right', va='bottom')\n",
    "\n",
    "plt.show()"
   ]
  },
  {
   "cell_type": "code",
   "execution_count": 117,
   "metadata": {},
   "outputs": [],
   "source": [
    "import matplotlib.font_manager as fm  "
   ]
  },
  {
   "cell_type": "code",
   "execution_count": 118,
   "metadata": {
    "colab": {},
    "colab_type": "code",
    "id": "_asKRYDyoYcs"
   },
   "outputs": [],
   "source": [
    "font_path = '/content/gdrive/My Drive/asset/font/NanumGothic.ttf'\n",
    "fontprop = fm.FontProperties(fname=font_path, size=12)"
   ]
  },
  {
   "cell_type": "code",
   "execution_count": 120,
   "metadata": {},
   "outputs": [
    {
     "data": {
      "image/png": "[encoded data removed]",
      "text/plain": [
       "<Figure size 432x288 with 1 Axes>"
      ]
     },
     "metadata": {
      "needs_background": "light"
     },
     "output_type": "display_data"
    }
   ],
   "source": [
    "xs = transformed[:,0]\n",
    "ys = transformed[:,1]\n",
    "\n",
    "for i, offset in enumerate(transformed[1:]):\n",
    "    x, y = offset\n",
    "    plt.scatter(x, y)\n",
    "    plt.annotate(index_to_word[i+1], xy=(x, y), xytext=(6, 4),\n",
    "                 textcoords='offset points', ha='right', va='bottom', fontproperties=fontprop)\n",
    "\n",
    "plt.show()"
   ]
  }
 ],
 "metadata": {
  "accelerator": "GPU",
  "colab": {
   "collapsed_sections": [],
   "name": "Day2_3_Word2Vec(CBOW).ipynb",
   "provenance": [],
   "version": "0.3.2"
  },
  "kernelspec": {
   "display_name": "Python 3",
   "language": "python",
   "name": "python3"
  },
  "language_info": {
   "codemirror_mode": {
    "name": "ipython",
    "version": 3
   },
   "file_extension": ".py",
   "mimetype": "text/x-python",
   "name": "python",
   "nbconvert_exporter": "python",
   "pygments_lexer": "ipython3",
   "version": "3.6.8"
  }
 },
 "nbformat": 4,
 "nbformat_minor": 1
}

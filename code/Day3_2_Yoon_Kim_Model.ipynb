{
 "cells": [
  {
   "cell_type": "markdown",
   "metadata": {
    "colab_type": "text",
    "id": "8Ly41MtkyKYE"
   },
   "source": [
    "# Yoon-Kim Model  (Convolutional Neural Networks for Sentence Classification)"
   ]
  },
  {
   "cell_type": "markdown",
   "metadata": {
    "colab_type": "text",
    "id": "DAUuyLJ2zEjL"
   },
   "source": [
    "### paper : https://www.aclweb.org/anthology/D14-1181"
   ]
  },
  {
   "cell_type": "code",
   "execution_count": 1,
   "metadata": {
    "colab": {},
    "colab_type": "code",
    "id": "__wZRde9yDVp"
   },
   "outputs": [],
   "source": [
    "import os\n",
    "from datetime import datetime\n",
    "import tensorflow as tf\n",
    "import numpy as np\n",
    "import json\n",
    "from sklearn.model_selection import train_test_split"
   ]
  },
  {
   "cell_type": "code",
   "execution_count": 2,
   "metadata": {
    "colab": {
     "base_uri": "https://localhost:8080/",
     "height": 34
    },
    "colab_type": "code",
    "executionInfo": {
     "elapsed": 5753,
     "status": "ok",
     "timestamp": 1560441829976,
     "user": {
      "displayName": "조중현",
      "photoUrl": "",
      "userId": "04275587646849861321"
     },
     "user_tz": -540
    },
    "id": "WCy9xt0byOEp",
    "outputId": "7c00e883-8467-425e-8096-7385315fa4bb"
   },
   "outputs": [
    {
     "name": "stdout",
     "output_type": "stream",
     "text": [
      "Drive already mounted at /content/gdrive; to attempt to forcibly remount, call drive.mount(\"/content/gdrive\", force_remount=True).\n"
     ]
    }
   ],
   "source": [
    "from google.colab import auth\n",
    "auth.authenticate_user()\n",
    "\n",
    "from google.colab import drive\n",
    "drive.mount('/content/gdrive')"
   ]
  },
  {
   "cell_type": "code",
   "execution_count": 2,
   "metadata": {},
   "outputs": [],
   "source": [
    "base_path = './gdrive/My Drive/Colab Notebooks'"
   ]
  },
  {
   "cell_type": "code",
   "execution_count": 4,
   "metadata": {
    "colab": {},
    "colab_type": "code",
    "id": "tmN9YnJafJCu"
   },
   "outputs": [],
   "source": [
    "data_in_path = base_path + '/data_in/'\n",
    "data_out_path = base_path + '/data_out/'\n",
    "train_input_data = 'nsmc_train_input.npy'\n",
    "train_label_data = 'nsmc_train_label.npy'\n",
    "data_configs = 'data_configs.json'\n",
    "\n",
    "input_data = np.load(open(data_in_path + train_input_data, 'rb'))\n",
    "label_data = np.load(open(data_in_path + train_label_data, 'rb'))\n",
    "prepro_configs = json.load(open(data_in_path + data_configs, 'r'))"
   ]
  },
  {
   "cell_type": "code",
   "execution_count": 5,
   "metadata": {
    "colab": {},
    "colab_type": "code",
    "id": "QTBitcD1foz8"
   },
   "outputs": [],
   "source": [
    "TEST_SPLIT = 0.1\n",
    "RNG_SEED = 100\n",
    "VOCAB_SIZE = prepro_configs['vocab_size']\n",
    "EMB_SIZE = 128\n",
    "BATCH_SIZE = 50\n",
    "NUM_EPOCHS = 16\n",
    "\n",
    "input_train, input_eval, label_train, label_eval = train_test_split(input_data,\n",
    "                                                                    label_data,\n",
    "                                                                    test_size=TEST_SPLIT,\n",
    "                                                                    random_state=RNG_SEED)"
   ]
  },
  {
   "cell_type": "code",
   "execution_count": 6,
   "metadata": {
    "colab": {},
    "colab_type": "code",
    "id": "FJHQ-5qsfqot"
   },
   "outputs": [],
   "source": [
    "def mapping_fn(X, Y):\n",
    "    input, label = {'x': X}, Y\n",
    "    return input, label\n",
    "\n",
    "def train_input_fn():\n",
    "    dataset = tf.data.Dataset.from_tensor_slices((input_train, label_train))\n",
    "    dataset = dataset.shuffle(buffer_size=len(input_train))\n",
    "    dataset = dataset.batch(BATCH_SIZE)\n",
    "    dataset = dataset.map(mapping_fn)\n",
    "    dataset = dataset.repeat(count=NUM_EPOCHS)\n",
    "    \n",
    "    return dataset\n",
    "\n",
    "def eval_input_fn():\n",
    "    dataset = tf.data.Dataset.from_tensor_slices((input_eval, label_eval))\n",
    "    dataset = dataset.shuffle(buffer_size=len(input_eval))\n",
    "    dataset = dataset.batch(BATCH_SIZE) \n",
    "    dataset = dataset.map(mapping_fn)\n",
    "    \n",
    "    return dataset"
   ]
  },
  {
   "cell_type": "code",
   "execution_count": 7,
   "metadata": {
    "colab": {},
    "colab_type": "code",
    "id": "2LwLM5e4ftJN"
   },
   "outputs": [],
   "source": [
    "def model_fn(features, labels, mode, params):\n",
    "    TRAIN = mode == tf.estimator.ModeKeys.TRAIN\n",
    "    EVAL = mode == tf.estimator.ModeKeys.EVAL\n",
    "    PREDICT = mode == tf.estimator.ModeKeys.PREDICT\n",
    "\n",
    "    embedding_layer = tf.keras.layers.Embedding(\n",
    "                    VOCAB_SIZE,\n",
    "                    EMB_SIZE)(features['x'])\n",
    "    \n",
    "    dropout_emb = tf.keras.layers.Dropout(rate = 0.5)(embedding_layer) \n",
    "    \n",
    "    filter_sizes = [3, 4, 5]\n",
    "    pooled_outputs = []\n",
    "    for filter_size in filter_sizes:\n",
    "        conv = tf.keras.layers.Conv1D(\n",
    "                  filters=100, \n",
    "                  kernel_size= filter_size, \n",
    "                  padding='valid',\n",
    "                  activation=tf.nn.relu,\n",
    "                  kernel_constraint = tf.keras.constraints.max_norm(3.))(dropout_emb)\n",
    "\n",
    "        pool = tf.keras.layers.GlobalMaxPool1D()(conv)\n",
    "        pooled_outputs.append(pool)\n",
    "\n",
    "    h_pool = tf.concat(pooled_outputs, axis=1)\n",
    "        \n",
    "    hidden = tf.keras.layers.Dense(units=250, activation=tf.nn.relu, kernel_constraint=tf.keras.constraints.max_norm(3.))(h_pool) \n",
    "    dropout_hidden = tf.keras.layers.Dropout(rate=0.5)(hidden, training = TRAIN)\n",
    "    logits = tf.keras.layers.Dense(units=1)(dropout_hidden)\n",
    "\n",
    "    if labels is not None:\n",
    "        labels = tf.reshape(labels, [-1, 1])\n",
    "        \n",
    "    if TRAIN:\n",
    "        global_step = tf.train.get_global_step()\n",
    "        loss = tf.losses.sigmoid_cross_entropy(labels, logits)\n",
    "        train_op = tf.train.AdamOptimizer(0.001).minimize(loss, global_step)\n",
    "\n",
    "        return tf.estimator.EstimatorSpec(mode=mode, train_op=train_op, loss = loss)\n",
    "    \n",
    "    elif EVAL:\n",
    "        loss = tf.losses.sigmoid_cross_entropy(labels, logits)\n",
    "        pred = tf.nn.sigmoid(logits)\n",
    "        accuracy = tf.metrics.accuracy(labels, tf.round(pred))\n",
    "        return tf.estimator.EstimatorSpec(mode=mode, loss=loss, eval_metric_ops={'acc': accuracy})\n",
    "        \n",
    "    elif PREDICT:\n",
    "        return tf.estimator.EstimatorSpec(\n",
    "            mode=mode,\n",
    "            predictions={\n",
    "                'prob': tf.nn.sigmoid(logits),\n",
    "            }\n",
    "        )"
   ]
  },
  {
   "cell_type": "code",
   "execution_count": 8,
   "metadata": {},
   "outputs": [],
   "source": [
    "tf.logging.set_verbosity(tf.logging.INFO)"
   ]
  },
  {
   "cell_type": "code",
   "execution_count": 9,
   "metadata": {
    "colab": {
     "base_uri": "https://localhost:8080/",
     "height": 190
    },
    "colab_type": "code",
    "executionInfo": {
     "elapsed": 3516,
     "status": "ok",
     "timestamp": 1560441928409,
     "user": {
      "displayName": "조중현",
      "photoUrl": "",
      "userId": "04275587646849861321"
     },
     "user_tz": -540
    },
    "id": "nA-0BCSVf69j",
    "outputId": "4a21f2a6-2932-4e7b-9af1-0f3fb7030f8d"
   },
   "outputs": [
    {
     "name": "stderr",
     "output_type": "stream",
     "text": [
      "WARNING: Logging before flag parsing goes to stderr.\n",
      "I0906 00:40:06.231225 4628440512 estimator.py:1790] Using default config.\n",
      "I0906 00:40:06.232880 4628440512 estimator.py:209] Using config: {'_model_dir': 'data_out/checkpoint/yoon_kim', '_tf_random_seed': None, '_save_summary_steps': 100, '_save_checkpoints_steps': None, '_save_checkpoints_secs': 600, '_session_config': allow_soft_placement: true\n",
      "graph_options {\n",
      "  rewrite_options {\n",
      "    meta_optimizer_iterations: ONE\n",
      "  }\n",
      "}\n",
      ", '_keep_checkpoint_max': 5, '_keep_checkpoint_every_n_hours': 10000, '_log_step_count_steps': 100, '_train_distribute': None, '_device_fn': None, '_protocol': None, '_eval_distribute': None, '_experimental_distribute': None, '_experimental_max_worker_delay_secs': None, '_service': None, '_cluster_spec': <tensorflow.python.training.server_lib.ClusterSpec object at 0x7f890456a630>, '_task_type': 'worker', '_task_id': 0, '_global_id_in_cluster': 0, '_master': '', '_evaluation_master': '', '_is_chief': True, '_num_ps_replicas': 0, '_num_worker_replicas': 1}\n",
      "W0906 00:40:06.234596 4628440512 model_fn.py:630] Estimator's model_fn (<function model_fn at 0x7f890454fae8>) includes params argument, but params are not passed to Estimator.\n"
     ]
    }
   ],
   "source": [
    "est = tf.estimator.Estimator(model_fn, model_dir=\"data_out/checkpoint/yoon_kim\")"
   ]
  },
  {
   "cell_type": "code",
   "execution_count": 10,
   "metadata": {
    "colab": {
     "base_uri": "https://localhost:8080/",
     "height": 1346
    },
    "colab_type": "code",
    "executionInfo": {
     "elapsed": 286931,
     "status": "ok",
     "timestamp": 1560442212404,
     "user": {
      "displayName": "조중현",
      "photoUrl": "",
      "userId": "04275587646849861321"
     },
     "user_tz": -540
    },
    "id": "2xeyXnCuf9Mi",
    "outputId": "33f8d7e4-f092-4af0-f561-21398a57e2ab",
    "scrolled": true
   },
   "outputs": [
    {
     "name": "stderr",
     "output_type": "stream",
     "text": [
      "W0906 00:40:09.857466 4628440512 deprecation.py:323] From /Users/chojunghyun/anaconda3/envs/tensorflow/lib/python3.6/site-packages/tensorflow/python/training/training_util.py:236: Variable.initialized_value (from tensorflow.python.ops.variables) is deprecated and will be removed in a future version.\n",
      "Instructions for updating:\n",
      "Use Variable.read_value. Variables in 2.X are initialized automatically both in eager and graph (inside tf.defun) contexts.\n",
      "I0906 00:40:09.951292 4628440512 estimator.py:1145] Calling model_fn.\n",
      "W0906 00:40:09.953172 4628440512 deprecation.py:506] From /Users/chojunghyun/anaconda3/envs/tensorflow/lib/python3.6/site-packages/tensorflow/python/keras/initializers.py:119: calling RandomUniform.__init__ (from tensorflow.python.ops.init_ops) with dtype is deprecated and will be removed in a future version.\n",
      "Instructions for updating:\n",
      "Call initializer instance with the dtype argument instead of passing it to the constructor\n",
      "W0906 00:40:09.982476 4628440512 deprecation.py:506] From /Users/chojunghyun/anaconda3/envs/tensorflow/lib/python3.6/site-packages/tensorflow/python/ops/init_ops.py:1251: calling VarianceScaling.__init__ (from tensorflow.python.ops.init_ops) with dtype is deprecated and will be removed in a future version.\n",
      "Instructions for updating:\n",
      "Call initializer instance with the dtype argument instead of passing it to the constructor\n",
      "W0906 00:40:10.072923 4628440512 deprecation.py:323] From /Users/chojunghyun/anaconda3/envs/tensorflow/lib/python3.6/site-packages/tensorflow/python/ops/nn_impl.py:180: add_dispatch_support.<locals>.wrapper (from tensorflow.python.ops.array_ops) is deprecated and will be removed in a future version.\n",
      "Instructions for updating:\n",
      "Use tf.where in 2.0, which has the same broadcast rule as np.where\n",
      "I0906 00:40:10.445230 4628440512 estimator.py:1147] Done calling model_fn.\n",
      "I0906 00:40:10.447043 4628440512 basic_session_run_hooks.py:541] Create CheckpointSaverHook.\n",
      "I0906 00:40:10.800683 4628440512 monitored_session.py:240] Graph was finalized.\n",
      "I0906 00:40:11.055570 4628440512 session_manager.py:500] Running local_init_op.\n",
      "I0906 00:40:11.076325 4628440512 session_manager.py:502] Done running local_init_op.\n",
      "I0906 00:40:13.144348 4628440512 basic_session_run_hooks.py:606] Saving checkpoints for 0 into data_out/checkpoint/yoon_kim/model.ckpt.\n",
      "I0906 00:40:14.136213 4628440512 basic_session_run_hooks.py:262] loss = 0.69510275, step = 1\n",
      "I0906 00:40:18.413992 4628440512 basic_session_run_hooks.py:692] global_step/sec: 23.3697\n",
      "I0906 00:40:18.415933 4628440512 basic_session_run_hooks.py:260] loss = 0.46269044, step = 101 (4.280 sec)\n",
      "I0906 00:40:22.528755 4628440512 basic_session_run_hooks.py:692] global_step/sec: 24.3026\n",
      "I0906 00:40:22.530740 4628440512 basic_session_run_hooks.py:260] loss = 0.42268974, step = 201 (4.115 sec)\n",
      "I0906 00:40:26.690428 4628440512 basic_session_run_hooks.py:692] global_step/sec: 24.0288\n",
      "I0906 00:40:26.692224 4628440512 basic_session_run_hooks.py:260] loss = 0.4565074, step = 301 (4.161 sec)\n",
      "I0906 00:40:30.894234 4628440512 basic_session_run_hooks.py:692] global_step/sec: 23.788\n",
      "I0906 00:40:30.895898 4628440512 basic_session_run_hooks.py:260] loss = 0.39563408, step = 401 (4.204 sec)\n",
      "I0906 00:40:35.167818 4628440512 basic_session_run_hooks.py:692] global_step/sec: 23.3996\n",
      "I0906 00:40:35.169754 4628440512 basic_session_run_hooks.py:260] loss = 0.42112195, step = 501 (4.274 sec)\n",
      "I0906 00:40:39.486172 4628440512 basic_session_run_hooks.py:692] global_step/sec: 23.157\n",
      "I0906 00:40:39.488124 4628440512 basic_session_run_hooks.py:260] loss = 0.5401972, step = 601 (4.318 sec)\n",
      "I0906 00:40:43.842276 4628440512 basic_session_run_hooks.py:692] global_step/sec: 22.9563\n",
      "I0906 00:40:43.844309 4628440512 basic_session_run_hooks.py:260] loss = 0.32404768, step = 701 (4.356 sec)\n",
      "I0906 00:40:48.323970 4628440512 basic_session_run_hooks.py:692] global_step/sec: 22.3129\n",
      "I0906 00:40:48.325670 4628440512 basic_session_run_hooks.py:260] loss = 0.37256107, step = 801 (4.481 sec)\n",
      "I0906 00:40:52.816844 4628440512 basic_session_run_hooks.py:692] global_step/sec: 22.2575\n",
      "I0906 00:40:52.818822 4628440512 basic_session_run_hooks.py:260] loss = 0.359051, step = 901 (4.493 sec)\n",
      "I0906 00:40:57.282927 4628440512 basic_session_run_hooks.py:692] global_step/sec: 22.391\n",
      "I0906 00:40:57.284978 4628440512 basic_session_run_hooks.py:260] loss = 0.23820455, step = 1001 (4.466 sec)\n",
      "I0906 00:41:01.739767 4628440512 basic_session_run_hooks.py:692] global_step/sec: 22.4374\n",
      "I0906 00:41:01.741379 4628440512 basic_session_run_hooks.py:260] loss = 0.3107332, step = 1101 (4.456 sec)\n",
      "I0906 00:41:06.403192 4628440512 basic_session_run_hooks.py:692] global_step/sec: 21.4435\n",
      "I0906 00:41:06.405152 4628440512 basic_session_run_hooks.py:260] loss = 0.31092006, step = 1201 (4.664 sec)\n",
      "I0906 00:41:11.021569 4628440512 basic_session_run_hooks.py:692] global_step/sec: 21.6526\n",
      "I0906 00:41:11.023423 4628440512 basic_session_run_hooks.py:260] loss = 0.43447876, step = 1301 (4.618 sec)\n",
      "I0906 00:41:15.592777 4628440512 basic_session_run_hooks.py:692] global_step/sec: 21.876\n",
      "I0906 00:41:15.594447 4628440512 basic_session_run_hooks.py:260] loss = 0.3873117, step = 1401 (4.571 sec)\n",
      "I0906 00:41:20.274924 4628440512 basic_session_run_hooks.py:692] global_step/sec: 21.3578\n",
      "I0906 00:41:20.276726 4628440512 basic_session_run_hooks.py:260] loss = 0.39466274, step = 1501 (4.682 sec)\n",
      "I0906 00:41:25.014160 4628440512 basic_session_run_hooks.py:692] global_step/sec: 21.1004\n",
      "I0906 00:41:25.015461 4628440512 basic_session_run_hooks.py:260] loss = 0.40301704, step = 1601 (4.739 sec)\n",
      "I0906 00:41:29.898213 4628440512 basic_session_run_hooks.py:692] global_step/sec: 20.4748\n",
      "I0906 00:41:29.900018 4628440512 basic_session_run_hooks.py:260] loss = 0.5250361, step = 1701 (4.885 sec)\n",
      "I0906 00:41:34.446165 4628440512 basic_session_run_hooks.py:692] global_step/sec: 21.988\n",
      "I0906 00:41:34.447937 4628440512 basic_session_run_hooks.py:260] loss = 0.5362674, step = 1801 (4.548 sec)\n",
      "I0906 00:41:39.284291 4628440512 basic_session_run_hooks.py:692] global_step/sec: 20.6691\n",
      "I0906 00:41:39.286071 4628440512 basic_session_run_hooks.py:260] loss = 0.31469288, step = 1901 (4.838 sec)\n",
      "I0906 00:41:44.076343 4628440512 basic_session_run_hooks.py:692] global_step/sec: 20.8679\n",
      "I0906 00:41:44.077773 4628440512 basic_session_run_hooks.py:260] loss = 0.36282593, step = 2001 (4.792 sec)\n",
      "I0906 00:41:48.921036 4628440512 basic_session_run_hooks.py:692] global_step/sec: 20.6411\n",
      "I0906 00:41:48.922848 4628440512 basic_session_run_hooks.py:260] loss = 0.2993388, step = 2101 (4.845 sec)\n",
      "I0906 00:41:53.752897 4628440512 basic_session_run_hooks.py:692] global_step/sec: 20.6959\n",
      "I0906 00:41:53.754642 4628440512 basic_session_run_hooks.py:260] loss = 0.29019082, step = 2201 (4.832 sec)\n",
      "I0906 00:41:58.668718 4628440512 basic_session_run_hooks.py:692] global_step/sec: 20.3425\n",
      "I0906 00:41:58.670409 4628440512 basic_session_run_hooks.py:260] loss = 0.35227215, step = 2301 (4.916 sec)\n",
      "I0906 00:42:03.445510 4628440512 basic_session_run_hooks.py:692] global_step/sec: 20.9346\n",
      "I0906 00:42:03.447394 4628440512 basic_session_run_hooks.py:260] loss = 0.38328058, step = 2401 (4.777 sec)\n",
      "I0906 00:42:08.301974 4628440512 basic_session_run_hooks.py:692] global_step/sec: 20.5911\n",
      "I0906 00:42:08.303539 4628440512 basic_session_run_hooks.py:260] loss = 0.42016414, step = 2501 (4.856 sec)\n",
      "I0906 00:42:13.265644 4628440512 basic_session_run_hooks.py:692] global_step/sec: 20.1464\n",
      "I0906 00:42:13.268551 4628440512 basic_session_run_hooks.py:260] loss = 0.4599712, step = 2601 (4.965 sec)\n",
      "I0906 00:42:18.090355 4628440512 basic_session_run_hooks.py:692] global_step/sec: 20.7265\n",
      "I0906 00:42:18.091452 4628440512 basic_session_run_hooks.py:260] loss = 0.21412013, step = 2701 (4.823 sec)\n",
      "I0906 00:42:23.009689 4628440512 basic_session_run_hooks.py:692] global_step/sec: 20.3281\n",
      "I0906 00:42:23.011632 4628440512 basic_session_run_hooks.py:260] loss = 0.26611334, step = 2801 (4.920 sec)\n",
      "I0906 00:42:27.932310 4628440512 basic_session_run_hooks.py:692] global_step/sec: 20.3144\n",
      "I0906 00:42:27.934525 4628440512 basic_session_run_hooks.py:260] loss = 0.33047715, step = 2901 (4.923 sec)\n",
      "I0906 00:42:32.814150 4628440512 basic_session_run_hooks.py:692] global_step/sec: 20.484\n"
     ]
    },
    {
     "name": "stderr",
     "output_type": "stream",
     "text": [
      "I0906 00:42:32.816013 4628440512 basic_session_run_hooks.py:260] loss = 0.36756676, step = 3001 (4.881 sec)\n",
      "I0906 00:42:37.617376 4628440512 basic_session_run_hooks.py:692] global_step/sec: 20.8194\n",
      "I0906 00:42:37.619321 4628440512 basic_session_run_hooks.py:260] loss = 0.25247204, step = 3101 (4.803 sec)\n",
      "I0906 00:42:42.542710 4628440512 basic_session_run_hooks.py:692] global_step/sec: 20.3032\n",
      "I0906 00:42:42.544681 4628440512 basic_session_run_hooks.py:260] loss = 0.28246468, step = 3201 (4.925 sec)\n",
      "I0906 00:42:47.554944 4628440512 basic_session_run_hooks.py:692] global_step/sec: 19.9512\n",
      "I0906 00:42:47.557000 4628440512 basic_session_run_hooks.py:260] loss = 0.17161113, step = 3301 (5.012 sec)\n",
      "I0906 00:42:52.492696 4628440512 basic_session_run_hooks.py:692] global_step/sec: 20.2521\n",
      "I0906 00:42:52.494549 4628440512 basic_session_run_hooks.py:260] loss = 0.25935006, step = 3401 (4.938 sec)\n",
      "I0906 00:42:57.382845 4628440512 basic_session_run_hooks.py:692] global_step/sec: 20.4493\n",
      "I0906 00:42:57.384773 4628440512 basic_session_run_hooks.py:260] loss = 0.26282498, step = 3501 (4.890 sec)\n",
      "I0906 00:43:02.032779 4628440512 basic_session_run_hooks.py:692] global_step/sec: 21.5057\n",
      "I0906 00:43:02.034598 4628440512 basic_session_run_hooks.py:260] loss = 0.27521494, step = 3601 (4.650 sec)\n",
      "I0906 00:43:06.849261 4628440512 basic_session_run_hooks.py:692] global_step/sec: 20.7621\n",
      "I0906 00:43:06.850874 4628440512 basic_session_run_hooks.py:260] loss = 0.29415, step = 3701 (4.816 sec)\n",
      "I0906 00:43:11.954074 4628440512 basic_session_run_hooks.py:692] global_step/sec: 19.5894\n",
      "I0906 00:43:11.955991 4628440512 basic_session_run_hooks.py:260] loss = 0.11318594, step = 3801 (5.105 sec)\n",
      "I0906 00:43:16.998149 4628440512 basic_session_run_hooks.py:692] global_step/sec: 19.8252\n",
      "I0906 00:43:16.999922 4628440512 basic_session_run_hooks.py:260] loss = 0.4201589, step = 3901 (5.044 sec)\n",
      "I0906 00:43:21.979837 4628440512 basic_session_run_hooks.py:692] global_step/sec: 20.0736\n",
      "I0906 00:43:21.981780 4628440512 basic_session_run_hooks.py:260] loss = 0.20249015, step = 4001 (4.982 sec)\n",
      "I0906 00:43:26.803116 4628440512 basic_session_run_hooks.py:692] global_step/sec: 20.7327\n",
      "I0906 00:43:26.804565 4628440512 basic_session_run_hooks.py:260] loss = 0.23394647, step = 4101 (4.823 sec)\n",
      "I0906 00:43:31.744718 4628440512 basic_session_run_hooks.py:692] global_step/sec: 20.2364\n",
      "I0906 00:43:31.746605 4628440512 basic_session_run_hooks.py:260] loss = 0.2846893, step = 4201 (4.942 sec)\n",
      "I0906 00:43:36.555836 4628440512 basic_session_run_hooks.py:692] global_step/sec: 20.7852\n",
      "I0906 00:43:36.557663 4628440512 basic_session_run_hooks.py:260] loss = 0.28186965, step = 4301 (4.811 sec)\n",
      "I0906 00:43:41.398970 4628440512 basic_session_run_hooks.py:692] global_step/sec: 20.6478\n",
      "I0906 00:43:41.400779 4628440512 basic_session_run_hooks.py:260] loss = 0.2978487, step = 4401 (4.843 sec)\n",
      "I0906 00:43:46.311365 4628440512 basic_session_run_hooks.py:692] global_step/sec: 20.3567\n",
      "I0906 00:43:46.313117 4628440512 basic_session_run_hooks.py:260] loss = 0.110735625, step = 4501 (4.912 sec)\n",
      "I0906 00:43:51.261725 4628440512 basic_session_run_hooks.py:692] global_step/sec: 20.2006\n",
      "I0906 00:43:51.263387 4628440512 basic_session_run_hooks.py:260] loss = 0.22309941, step = 4601 (4.950 sec)\n",
      "I0906 00:43:56.179365 4628440512 basic_session_run_hooks.py:692] global_step/sec: 20.335\n",
      "I0906 00:43:56.181323 4628440512 basic_session_run_hooks.py:260] loss = 0.27531072, step = 4701 (4.918 sec)\n",
      "I0906 00:44:01.092497 4628440512 basic_session_run_hooks.py:692] global_step/sec: 20.3536\n",
      "I0906 00:44:01.094225 4628440512 basic_session_run_hooks.py:260] loss = 0.19929884, step = 4801 (4.913 sec)\n",
      "I0906 00:44:06.127461 4628440512 basic_session_run_hooks.py:692] global_step/sec: 19.8611\n",
      "I0906 00:44:06.129266 4628440512 basic_session_run_hooks.py:260] loss = 0.35495135, step = 4901 (5.035 sec)\n",
      "I0906 00:44:11.119633 4628440512 basic_session_run_hooks.py:692] global_step/sec: 20.0314\n",
      "I0906 00:44:11.121575 4628440512 basic_session_run_hooks.py:260] loss = 0.18514329, step = 5001 (4.992 sec)\n",
      "I0906 00:44:16.043220 4628440512 basic_session_run_hooks.py:692] global_step/sec: 20.3104\n",
      "I0906 00:44:16.046065 4628440512 basic_session_run_hooks.py:260] loss = 0.3006332, step = 5101 (4.924 sec)\n",
      "I0906 00:44:20.906443 4628440512 basic_session_run_hooks.py:692] global_step/sec: 20.5625\n",
      "I0906 00:44:20.908235 4628440512 basic_session_run_hooks.py:260] loss = 0.12718937, step = 5201 (4.862 sec)\n",
      "I0906 00:44:25.793537 4628440512 basic_session_run_hooks.py:692] global_step/sec: 20.4621\n",
      "I0906 00:44:25.795346 4628440512 basic_session_run_hooks.py:260] loss = 0.27878457, step = 5301 (4.887 sec)\n",
      "I0906 00:44:30.807554 4628440512 basic_session_run_hooks.py:692] global_step/sec: 19.944\n",
      "I0906 00:44:30.809137 4628440512 basic_session_run_hooks.py:260] loss = 0.13120633, step = 5401 (5.014 sec)\n",
      "I0906 00:44:35.902896 4628440512 basic_session_run_hooks.py:692] global_step/sec: 19.6258\n",
      "I0906 00:44:35.904733 4628440512 basic_session_run_hooks.py:260] loss = 0.19833544, step = 5501 (5.096 sec)\n",
      "I0906 00:44:40.855852 4628440512 basic_session_run_hooks.py:692] global_step/sec: 20.19\n",
      "I0906 00:44:40.857541 4628440512 basic_session_run_hooks.py:260] loss = 0.092669345, step = 5601 (4.953 sec)\n",
      "I0906 00:44:45.821055 4628440512 basic_session_run_hooks.py:692] global_step/sec: 20.1401\n",
      "I0906 00:44:45.822780 4628440512 basic_session_run_hooks.py:260] loss = 0.08739931, step = 5701 (4.965 sec)\n",
      "I0906 00:44:50.948718 4628440512 basic_session_run_hooks.py:692] global_step/sec: 19.5021\n",
      "I0906 00:44:50.950145 4628440512 basic_session_run_hooks.py:260] loss = 0.08663415, step = 5801 (5.127 sec)\n",
      "I0906 00:44:56.047610 4628440512 basic_session_run_hooks.py:692] global_step/sec: 19.6121\n",
      "I0906 00:44:56.049453 4628440512 basic_session_run_hooks.py:260] loss = 0.14443246, step = 5901 (5.099 sec)\n",
      "I0906 00:45:01.236464 4628440512 basic_session_run_hooks.py:692] global_step/sec: 19.2721\n",
      "I0906 00:45:01.238219 4628440512 basic_session_run_hooks.py:260] loss = 0.18581492, step = 6001 (5.189 sec)\n",
      "I0906 00:45:06.197129 4628440512 basic_session_run_hooks.py:692] global_step/sec: 20.1586\n",
      "I0906 00:45:06.198635 4628440512 basic_session_run_hooks.py:260] loss = 0.107226856, step = 6101 (4.960 sec)\n",
      "I0906 00:45:11.266727 4628440512 basic_session_run_hooks.py:692] global_step/sec: 19.7254\n",
      "I0906 00:45:11.268539 4628440512 basic_session_run_hooks.py:260] loss = 0.12569134, step = 6201 (5.070 sec)\n",
      "I0906 00:45:16.445509 4628440512 basic_session_run_hooks.py:692] global_step/sec: 19.3095\n",
      "I0906 00:45:16.447293 4628440512 basic_session_run_hooks.py:260] loss = 0.14728113, step = 6301 (5.179 sec)\n",
      "I0906 00:45:21.612903 4628440512 basic_session_run_hooks.py:692] global_step/sec: 19.3525\n",
      "I0906 00:45:21.614795 4628440512 basic_session_run_hooks.py:260] loss = 0.27824366, step = 6401 (5.168 sec)\n",
      "I0906 00:45:26.892054 4628440512 basic_session_run_hooks.py:692] global_step/sec: 18.942\n",
      "I0906 00:45:26.894029 4628440512 basic_session_run_hooks.py:260] loss = 0.073471814, step = 6501 (5.279 sec)\n",
      "I0906 00:45:32.079483 4628440512 basic_session_run_hooks.py:692] global_step/sec: 19.2774\n",
      "I0906 00:45:32.081165 4628440512 basic_session_run_hooks.py:260] loss = 0.05418902, step = 6601 (5.187 sec)\n",
      "I0906 00:45:37.102054 4628440512 basic_session_run_hooks.py:692] global_step/sec: 19.9101\n",
      "I0906 00:45:37.103757 4628440512 basic_session_run_hooks.py:260] loss = 0.065175064, step = 6701 (5.023 sec)\n",
      "I0906 00:45:42.233562 4628440512 basic_session_run_hooks.py:692] global_step/sec: 19.4875\n",
      "I0906 00:45:42.234990 4628440512 basic_session_run_hooks.py:260] loss = 0.21418914, step = 6801 (5.131 sec)\n",
      "I0906 00:45:47.441864 4628440512 basic_session_run_hooks.py:692] global_step/sec: 19.2001\n",
      "I0906 00:45:47.443660 4628440512 basic_session_run_hooks.py:260] loss = 0.13873568, step = 6901 (5.209 sec)\n",
      "I0906 00:45:52.430557 4628440512 basic_session_run_hooks.py:692] global_step/sec: 20.0453\n",
      "I0906 00:45:52.432456 4628440512 basic_session_run_hooks.py:260] loss = 0.17740381, step = 7001 (4.989 sec)\n",
      "I0906 00:45:57.217206 4628440512 basic_session_run_hooks.py:692] global_step/sec: 20.8915\n",
      "I0906 00:45:57.219093 4628440512 basic_session_run_hooks.py:260] loss = 0.13987045, step = 7101 (4.787 sec)\n"
     ]
    },
    {
     "name": "stderr",
     "output_type": "stream",
     "text": [
      "I0906 00:46:02.272427 4628440512 basic_session_run_hooks.py:692] global_step/sec: 19.7814\n",
      "I0906 00:46:02.274024 4628440512 basic_session_run_hooks.py:260] loss = 0.21417734, step = 7201 (5.055 sec)\n",
      "I0906 00:46:07.188630 4628440512 basic_session_run_hooks.py:692] global_step/sec: 20.3409\n",
      "I0906 00:46:07.190068 4628440512 basic_session_run_hooks.py:260] loss = 0.08914221, step = 7301 (4.916 sec)\n",
      "I0906 00:46:12.371635 4628440512 basic_session_run_hooks.py:692] global_step/sec: 19.2938\n",
      "I0906 00:46:12.373620 4628440512 basic_session_run_hooks.py:260] loss = 0.19846609, step = 7401 (5.184 sec)\n"
     ]
    },
    {
     "ename": "KeyboardInterrupt",
     "evalue": "",
     "output_type": "error",
     "traceback": [
      "\u001b[0;31m---------------------------------------------------------------------------\u001b[0m",
      "\u001b[0;31mKeyboardInterrupt\u001b[0m                         Traceback (most recent call last)",
      "\u001b[0;32m<ipython-input-10-ca0c7121069b>\u001b[0m in \u001b[0;36m<module>\u001b[0;34m\u001b[0m\n\u001b[0;32m----> 1\u001b[0;31m \u001b[0mest\u001b[0m\u001b[0;34m.\u001b[0m\u001b[0mtrain\u001b[0m\u001b[0;34m(\u001b[0m\u001b[0mtrain_input_fn\u001b[0m\u001b[0;34m)\u001b[0m\u001b[0;34m\u001b[0m\u001b[0;34m\u001b[0m\u001b[0m\n\u001b[0m",
      "\u001b[0;32m~/anaconda3/envs/tensorflow/lib/python3.6/site-packages/tensorflow_estimator/python/estimator/estimator.py\u001b[0m in \u001b[0;36mtrain\u001b[0;34m(self, input_fn, hooks, steps, max_steps, saving_listeners)\u001b[0m\n\u001b[1;32m    365\u001b[0m \u001b[0;34m\u001b[0m\u001b[0m\n\u001b[1;32m    366\u001b[0m       \u001b[0msaving_listeners\u001b[0m \u001b[0;34m=\u001b[0m \u001b[0m_check_listeners_type\u001b[0m\u001b[0;34m(\u001b[0m\u001b[0msaving_listeners\u001b[0m\u001b[0;34m)\u001b[0m\u001b[0;34m\u001b[0m\u001b[0;34m\u001b[0m\u001b[0m\n\u001b[0;32m--> 367\u001b[0;31m       \u001b[0mloss\u001b[0m \u001b[0;34m=\u001b[0m \u001b[0mself\u001b[0m\u001b[0;34m.\u001b[0m\u001b[0m_train_model\u001b[0m\u001b[0;34m(\u001b[0m\u001b[0minput_fn\u001b[0m\u001b[0;34m,\u001b[0m \u001b[0mhooks\u001b[0m\u001b[0;34m,\u001b[0m \u001b[0msaving_listeners\u001b[0m\u001b[0;34m)\u001b[0m\u001b[0;34m\u001b[0m\u001b[0;34m\u001b[0m\u001b[0m\n\u001b[0m\u001b[1;32m    368\u001b[0m       \u001b[0mlogging\u001b[0m\u001b[0;34m.\u001b[0m\u001b[0minfo\u001b[0m\u001b[0;34m(\u001b[0m\u001b[0;34m'Loss for final step: %s.'\u001b[0m\u001b[0;34m,\u001b[0m \u001b[0mloss\u001b[0m\u001b[0;34m)\u001b[0m\u001b[0;34m\u001b[0m\u001b[0;34m\u001b[0m\u001b[0m\n\u001b[1;32m    369\u001b[0m       \u001b[0;32mreturn\u001b[0m \u001b[0mself\u001b[0m\u001b[0;34m\u001b[0m\u001b[0;34m\u001b[0m\u001b[0m\n",
      "\u001b[0;32m~/anaconda3/envs/tensorflow/lib/python3.6/site-packages/tensorflow_estimator/python/estimator/estimator.py\u001b[0m in \u001b[0;36m_train_model\u001b[0;34m(self, input_fn, hooks, saving_listeners)\u001b[0m\n\u001b[1;32m   1156\u001b[0m       \u001b[0;32mreturn\u001b[0m \u001b[0mself\u001b[0m\u001b[0;34m.\u001b[0m\u001b[0m_train_model_distributed\u001b[0m\u001b[0;34m(\u001b[0m\u001b[0minput_fn\u001b[0m\u001b[0;34m,\u001b[0m \u001b[0mhooks\u001b[0m\u001b[0;34m,\u001b[0m \u001b[0msaving_listeners\u001b[0m\u001b[0;34m)\u001b[0m\u001b[0;34m\u001b[0m\u001b[0;34m\u001b[0m\u001b[0m\n\u001b[1;32m   1157\u001b[0m     \u001b[0;32melse\u001b[0m\u001b[0;34m:\u001b[0m\u001b[0;34m\u001b[0m\u001b[0;34m\u001b[0m\u001b[0m\n\u001b[0;32m-> 1158\u001b[0;31m       \u001b[0;32mreturn\u001b[0m \u001b[0mself\u001b[0m\u001b[0;34m.\u001b[0m\u001b[0m_train_model_default\u001b[0m\u001b[0;34m(\u001b[0m\u001b[0minput_fn\u001b[0m\u001b[0;34m,\u001b[0m \u001b[0mhooks\u001b[0m\u001b[0;34m,\u001b[0m \u001b[0msaving_listeners\u001b[0m\u001b[0;34m)\u001b[0m\u001b[0;34m\u001b[0m\u001b[0;34m\u001b[0m\u001b[0m\n\u001b[0m\u001b[1;32m   1159\u001b[0m \u001b[0;34m\u001b[0m\u001b[0m\n\u001b[1;32m   1160\u001b[0m   \u001b[0;32mdef\u001b[0m \u001b[0m_train_model_default\u001b[0m\u001b[0;34m(\u001b[0m\u001b[0mself\u001b[0m\u001b[0;34m,\u001b[0m \u001b[0minput_fn\u001b[0m\u001b[0;34m,\u001b[0m \u001b[0mhooks\u001b[0m\u001b[0;34m,\u001b[0m \u001b[0msaving_listeners\u001b[0m\u001b[0;34m)\u001b[0m\u001b[0;34m:\u001b[0m\u001b[0;34m\u001b[0m\u001b[0;34m\u001b[0m\u001b[0m\n",
      "\u001b[0;32m~/anaconda3/envs/tensorflow/lib/python3.6/site-packages/tensorflow_estimator/python/estimator/estimator.py\u001b[0m in \u001b[0;36m_train_model_default\u001b[0;34m(self, input_fn, hooks, saving_listeners)\u001b[0m\n\u001b[1;32m   1190\u001b[0m       return self._train_with_estimator_spec(estimator_spec, worker_hooks,\n\u001b[1;32m   1191\u001b[0m                                              \u001b[0mhooks\u001b[0m\u001b[0;34m,\u001b[0m \u001b[0mglobal_step_tensor\u001b[0m\u001b[0;34m,\u001b[0m\u001b[0;34m\u001b[0m\u001b[0;34m\u001b[0m\u001b[0m\n\u001b[0;32m-> 1192\u001b[0;31m                                              saving_listeners)\n\u001b[0m\u001b[1;32m   1193\u001b[0m \u001b[0;34m\u001b[0m\u001b[0m\n\u001b[1;32m   1194\u001b[0m   \u001b[0;32mdef\u001b[0m \u001b[0m_train_model_distributed\u001b[0m\u001b[0;34m(\u001b[0m\u001b[0mself\u001b[0m\u001b[0;34m,\u001b[0m \u001b[0minput_fn\u001b[0m\u001b[0;34m,\u001b[0m \u001b[0mhooks\u001b[0m\u001b[0;34m,\u001b[0m \u001b[0msaving_listeners\u001b[0m\u001b[0;34m)\u001b[0m\u001b[0;34m:\u001b[0m\u001b[0;34m\u001b[0m\u001b[0;34m\u001b[0m\u001b[0m\n",
      "\u001b[0;32m~/anaconda3/envs/tensorflow/lib/python3.6/site-packages/tensorflow_estimator/python/estimator/estimator.py\u001b[0m in \u001b[0;36m_train_with_estimator_spec\u001b[0;34m(self, estimator_spec, worker_hooks, hooks, global_step_tensor, saving_listeners)\u001b[0m\n\u001b[1;32m   1482\u001b[0m       \u001b[0many_step_done\u001b[0m \u001b[0;34m=\u001b[0m \u001b[0;32mFalse\u001b[0m\u001b[0;34m\u001b[0m\u001b[0;34m\u001b[0m\u001b[0m\n\u001b[1;32m   1483\u001b[0m       \u001b[0;32mwhile\u001b[0m \u001b[0;32mnot\u001b[0m \u001b[0mmon_sess\u001b[0m\u001b[0;34m.\u001b[0m\u001b[0mshould_stop\u001b[0m\u001b[0;34m(\u001b[0m\u001b[0;34m)\u001b[0m\u001b[0;34m:\u001b[0m\u001b[0;34m\u001b[0m\u001b[0;34m\u001b[0m\u001b[0m\n\u001b[0;32m-> 1484\u001b[0;31m         \u001b[0m_\u001b[0m\u001b[0;34m,\u001b[0m \u001b[0mloss\u001b[0m \u001b[0;34m=\u001b[0m \u001b[0mmon_sess\u001b[0m\u001b[0;34m.\u001b[0m\u001b[0mrun\u001b[0m\u001b[0;34m(\u001b[0m\u001b[0;34m[\u001b[0m\u001b[0mestimator_spec\u001b[0m\u001b[0;34m.\u001b[0m\u001b[0mtrain_op\u001b[0m\u001b[0;34m,\u001b[0m \u001b[0mestimator_spec\u001b[0m\u001b[0;34m.\u001b[0m\u001b[0mloss\u001b[0m\u001b[0;34m]\u001b[0m\u001b[0;34m)\u001b[0m\u001b[0;34m\u001b[0m\u001b[0;34m\u001b[0m\u001b[0m\n\u001b[0m\u001b[1;32m   1485\u001b[0m         \u001b[0many_step_done\u001b[0m \u001b[0;34m=\u001b[0m \u001b[0;32mTrue\u001b[0m\u001b[0;34m\u001b[0m\u001b[0;34m\u001b[0m\u001b[0m\n\u001b[1;32m   1486\u001b[0m     \u001b[0;32mif\u001b[0m \u001b[0;32mnot\u001b[0m \u001b[0many_step_done\u001b[0m\u001b[0;34m:\u001b[0m\u001b[0;34m\u001b[0m\u001b[0;34m\u001b[0m\u001b[0m\n",
      "\u001b[0;32m~/anaconda3/envs/tensorflow/lib/python3.6/site-packages/tensorflow/python/training/monitored_session.py\u001b[0m in \u001b[0;36mrun\u001b[0;34m(self, fetches, feed_dict, options, run_metadata)\u001b[0m\n\u001b[1;32m    752\u001b[0m         \u001b[0mfeed_dict\u001b[0m\u001b[0;34m=\u001b[0m\u001b[0mfeed_dict\u001b[0m\u001b[0;34m,\u001b[0m\u001b[0;34m\u001b[0m\u001b[0;34m\u001b[0m\u001b[0m\n\u001b[1;32m    753\u001b[0m         \u001b[0moptions\u001b[0m\u001b[0;34m=\u001b[0m\u001b[0moptions\u001b[0m\u001b[0;34m,\u001b[0m\u001b[0;34m\u001b[0m\u001b[0;34m\u001b[0m\u001b[0m\n\u001b[0;32m--> 754\u001b[0;31m         run_metadata=run_metadata)\n\u001b[0m\u001b[1;32m    755\u001b[0m \u001b[0;34m\u001b[0m\u001b[0m\n\u001b[1;32m    756\u001b[0m   \u001b[0;32mdef\u001b[0m \u001b[0mrun_step_fn\u001b[0m\u001b[0;34m(\u001b[0m\u001b[0mself\u001b[0m\u001b[0;34m,\u001b[0m \u001b[0mstep_fn\u001b[0m\u001b[0;34m)\u001b[0m\u001b[0;34m:\u001b[0m\u001b[0;34m\u001b[0m\u001b[0;34m\u001b[0m\u001b[0m\n",
      "\u001b[0;32m~/anaconda3/envs/tensorflow/lib/python3.6/site-packages/tensorflow/python/training/monitored_session.py\u001b[0m in \u001b[0;36mrun\u001b[0;34m(self, fetches, feed_dict, options, run_metadata)\u001b[0m\n\u001b[1;32m   1250\u001b[0m             \u001b[0mfeed_dict\u001b[0m\u001b[0;34m=\u001b[0m\u001b[0mfeed_dict\u001b[0m\u001b[0;34m,\u001b[0m\u001b[0;34m\u001b[0m\u001b[0;34m\u001b[0m\u001b[0m\n\u001b[1;32m   1251\u001b[0m             \u001b[0moptions\u001b[0m\u001b[0;34m=\u001b[0m\u001b[0moptions\u001b[0m\u001b[0;34m,\u001b[0m\u001b[0;34m\u001b[0m\u001b[0;34m\u001b[0m\u001b[0m\n\u001b[0;32m-> 1252\u001b[0;31m             run_metadata=run_metadata)\n\u001b[0m\u001b[1;32m   1253\u001b[0m       \u001b[0;32mexcept\u001b[0m \u001b[0m_PREEMPTION_ERRORS\u001b[0m \u001b[0;32mas\u001b[0m \u001b[0me\u001b[0m\u001b[0;34m:\u001b[0m\u001b[0;34m\u001b[0m\u001b[0;34m\u001b[0m\u001b[0m\n\u001b[1;32m   1254\u001b[0m         logging.info(\n",
      "\u001b[0;32m~/anaconda3/envs/tensorflow/lib/python3.6/site-packages/tensorflow/python/training/monitored_session.py\u001b[0m in \u001b[0;36mrun\u001b[0;34m(self, *args, **kwargs)\u001b[0m\n\u001b[1;32m   1336\u001b[0m   \u001b[0;32mdef\u001b[0m \u001b[0mrun\u001b[0m\u001b[0;34m(\u001b[0m\u001b[0mself\u001b[0m\u001b[0;34m,\u001b[0m \u001b[0;34m*\u001b[0m\u001b[0margs\u001b[0m\u001b[0;34m,\u001b[0m \u001b[0;34m**\u001b[0m\u001b[0mkwargs\u001b[0m\u001b[0;34m)\u001b[0m\u001b[0;34m:\u001b[0m\u001b[0;34m\u001b[0m\u001b[0;34m\u001b[0m\u001b[0m\n\u001b[1;32m   1337\u001b[0m     \u001b[0;32mtry\u001b[0m\u001b[0;34m:\u001b[0m\u001b[0;34m\u001b[0m\u001b[0;34m\u001b[0m\u001b[0m\n\u001b[0;32m-> 1338\u001b[0;31m       \u001b[0;32mreturn\u001b[0m \u001b[0mself\u001b[0m\u001b[0;34m.\u001b[0m\u001b[0m_sess\u001b[0m\u001b[0;34m.\u001b[0m\u001b[0mrun\u001b[0m\u001b[0;34m(\u001b[0m\u001b[0;34m*\u001b[0m\u001b[0margs\u001b[0m\u001b[0;34m,\u001b[0m \u001b[0;34m**\u001b[0m\u001b[0mkwargs\u001b[0m\u001b[0;34m)\u001b[0m\u001b[0;34m\u001b[0m\u001b[0;34m\u001b[0m\u001b[0m\n\u001b[0m\u001b[1;32m   1339\u001b[0m     \u001b[0;32mexcept\u001b[0m \u001b[0m_PREEMPTION_ERRORS\u001b[0m\u001b[0;34m:\u001b[0m\u001b[0;34m\u001b[0m\u001b[0;34m\u001b[0m\u001b[0m\n\u001b[1;32m   1340\u001b[0m       \u001b[0;32mraise\u001b[0m\u001b[0;34m\u001b[0m\u001b[0;34m\u001b[0m\u001b[0m\n",
      "\u001b[0;32m~/anaconda3/envs/tensorflow/lib/python3.6/site-packages/tensorflow/python/training/monitored_session.py\u001b[0m in \u001b[0;36mrun\u001b[0;34m(self, fetches, feed_dict, options, run_metadata)\u001b[0m\n\u001b[1;32m   1409\u001b[0m         \u001b[0mfeed_dict\u001b[0m\u001b[0;34m=\u001b[0m\u001b[0mfeed_dict\u001b[0m\u001b[0;34m,\u001b[0m\u001b[0;34m\u001b[0m\u001b[0;34m\u001b[0m\u001b[0m\n\u001b[1;32m   1410\u001b[0m         \u001b[0moptions\u001b[0m\u001b[0;34m=\u001b[0m\u001b[0moptions\u001b[0m\u001b[0;34m,\u001b[0m\u001b[0;34m\u001b[0m\u001b[0;34m\u001b[0m\u001b[0m\n\u001b[0;32m-> 1411\u001b[0;31m         run_metadata=run_metadata)\n\u001b[0m\u001b[1;32m   1412\u001b[0m \u001b[0;34m\u001b[0m\u001b[0m\n\u001b[1;32m   1413\u001b[0m     \u001b[0;32mfor\u001b[0m \u001b[0mhook\u001b[0m \u001b[0;32min\u001b[0m \u001b[0mself\u001b[0m\u001b[0;34m.\u001b[0m\u001b[0m_hooks\u001b[0m\u001b[0;34m:\u001b[0m\u001b[0;34m\u001b[0m\u001b[0;34m\u001b[0m\u001b[0m\n",
      "\u001b[0;32m~/anaconda3/envs/tensorflow/lib/python3.6/site-packages/tensorflow/python/training/monitored_session.py\u001b[0m in \u001b[0;36mrun\u001b[0;34m(self, *args, **kwargs)\u001b[0m\n\u001b[1;32m   1167\u001b[0m \u001b[0;34m\u001b[0m\u001b[0m\n\u001b[1;32m   1168\u001b[0m   \u001b[0;32mdef\u001b[0m \u001b[0mrun\u001b[0m\u001b[0;34m(\u001b[0m\u001b[0mself\u001b[0m\u001b[0;34m,\u001b[0m \u001b[0;34m*\u001b[0m\u001b[0margs\u001b[0m\u001b[0;34m,\u001b[0m \u001b[0;34m**\u001b[0m\u001b[0mkwargs\u001b[0m\u001b[0;34m)\u001b[0m\u001b[0;34m:\u001b[0m\u001b[0;34m\u001b[0m\u001b[0;34m\u001b[0m\u001b[0m\n\u001b[0;32m-> 1169\u001b[0;31m     \u001b[0;32mreturn\u001b[0m \u001b[0mself\u001b[0m\u001b[0;34m.\u001b[0m\u001b[0m_sess\u001b[0m\u001b[0;34m.\u001b[0m\u001b[0mrun\u001b[0m\u001b[0;34m(\u001b[0m\u001b[0;34m*\u001b[0m\u001b[0margs\u001b[0m\u001b[0;34m,\u001b[0m \u001b[0;34m**\u001b[0m\u001b[0mkwargs\u001b[0m\u001b[0;34m)\u001b[0m\u001b[0;34m\u001b[0m\u001b[0;34m\u001b[0m\u001b[0m\n\u001b[0m\u001b[1;32m   1170\u001b[0m \u001b[0;34m\u001b[0m\u001b[0m\n\u001b[1;32m   1171\u001b[0m   \u001b[0;32mdef\u001b[0m \u001b[0mrun_step_fn\u001b[0m\u001b[0;34m(\u001b[0m\u001b[0mself\u001b[0m\u001b[0;34m,\u001b[0m \u001b[0mstep_fn\u001b[0m\u001b[0;34m,\u001b[0m \u001b[0mraw_session\u001b[0m\u001b[0;34m,\u001b[0m \u001b[0mrun_with_hooks\u001b[0m\u001b[0;34m)\u001b[0m\u001b[0;34m:\u001b[0m\u001b[0;34m\u001b[0m\u001b[0;34m\u001b[0m\u001b[0m\n",
      "\u001b[0;32m~/anaconda3/envs/tensorflow/lib/python3.6/site-packages/tensorflow/python/client/session.py\u001b[0m in \u001b[0;36mrun\u001b[0;34m(self, fetches, feed_dict, options, run_metadata)\u001b[0m\n\u001b[1;32m    948\u001b[0m     \u001b[0;32mtry\u001b[0m\u001b[0;34m:\u001b[0m\u001b[0;34m\u001b[0m\u001b[0;34m\u001b[0m\u001b[0m\n\u001b[1;32m    949\u001b[0m       result = self._run(None, fetches, feed_dict, options_ptr,\n\u001b[0;32m--> 950\u001b[0;31m                          run_metadata_ptr)\n\u001b[0m\u001b[1;32m    951\u001b[0m       \u001b[0;32mif\u001b[0m \u001b[0mrun_metadata\u001b[0m\u001b[0;34m:\u001b[0m\u001b[0;34m\u001b[0m\u001b[0;34m\u001b[0m\u001b[0m\n\u001b[1;32m    952\u001b[0m         \u001b[0mproto_data\u001b[0m \u001b[0;34m=\u001b[0m \u001b[0mtf_session\u001b[0m\u001b[0;34m.\u001b[0m\u001b[0mTF_GetBuffer\u001b[0m\u001b[0;34m(\u001b[0m\u001b[0mrun_metadata_ptr\u001b[0m\u001b[0;34m)\u001b[0m\u001b[0;34m\u001b[0m\u001b[0;34m\u001b[0m\u001b[0m\n",
      "\u001b[0;32m~/anaconda3/envs/tensorflow/lib/python3.6/site-packages/tensorflow/python/client/session.py\u001b[0m in \u001b[0;36m_run\u001b[0;34m(self, handle, fetches, feed_dict, options, run_metadata)\u001b[0m\n\u001b[1;32m   1171\u001b[0m     \u001b[0;32mif\u001b[0m \u001b[0mfinal_fetches\u001b[0m \u001b[0;32mor\u001b[0m \u001b[0mfinal_targets\u001b[0m \u001b[0;32mor\u001b[0m \u001b[0;34m(\u001b[0m\u001b[0mhandle\u001b[0m \u001b[0;32mand\u001b[0m \u001b[0mfeed_dict_tensor\u001b[0m\u001b[0;34m)\u001b[0m\u001b[0;34m:\u001b[0m\u001b[0;34m\u001b[0m\u001b[0;34m\u001b[0m\u001b[0m\n\u001b[1;32m   1172\u001b[0m       results = self._do_run(handle, final_targets, final_fetches,\n\u001b[0;32m-> 1173\u001b[0;31m                              feed_dict_tensor, options, run_metadata)\n\u001b[0m\u001b[1;32m   1174\u001b[0m     \u001b[0;32melse\u001b[0m\u001b[0;34m:\u001b[0m\u001b[0;34m\u001b[0m\u001b[0;34m\u001b[0m\u001b[0m\n\u001b[1;32m   1175\u001b[0m       \u001b[0mresults\u001b[0m \u001b[0;34m=\u001b[0m \u001b[0;34m[\u001b[0m\u001b[0;34m]\u001b[0m\u001b[0;34m\u001b[0m\u001b[0;34m\u001b[0m\u001b[0m\n",
      "\u001b[0;32m~/anaconda3/envs/tensorflow/lib/python3.6/site-packages/tensorflow/python/client/session.py\u001b[0m in \u001b[0;36m_do_run\u001b[0;34m(self, handle, target_list, fetch_list, feed_dict, options, run_metadata)\u001b[0m\n\u001b[1;32m   1348\u001b[0m     \u001b[0;32mif\u001b[0m \u001b[0mhandle\u001b[0m \u001b[0;32mis\u001b[0m \u001b[0;32mNone\u001b[0m\u001b[0;34m:\u001b[0m\u001b[0;34m\u001b[0m\u001b[0;34m\u001b[0m\u001b[0m\n\u001b[1;32m   1349\u001b[0m       return self._do_call(_run_fn, feeds, fetches, targets, options,\n\u001b[0;32m-> 1350\u001b[0;31m                            run_metadata)\n\u001b[0m\u001b[1;32m   1351\u001b[0m     \u001b[0;32melse\u001b[0m\u001b[0;34m:\u001b[0m\u001b[0;34m\u001b[0m\u001b[0;34m\u001b[0m\u001b[0m\n\u001b[1;32m   1352\u001b[0m       \u001b[0;32mreturn\u001b[0m \u001b[0mself\u001b[0m\u001b[0;34m.\u001b[0m\u001b[0m_do_call\u001b[0m\u001b[0;34m(\u001b[0m\u001b[0m_prun_fn\u001b[0m\u001b[0;34m,\u001b[0m \u001b[0mhandle\u001b[0m\u001b[0;34m,\u001b[0m \u001b[0mfeeds\u001b[0m\u001b[0;34m,\u001b[0m \u001b[0mfetches\u001b[0m\u001b[0;34m)\u001b[0m\u001b[0;34m\u001b[0m\u001b[0;34m\u001b[0m\u001b[0m\n",
      "\u001b[0;32m~/anaconda3/envs/tensorflow/lib/python3.6/site-packages/tensorflow/python/client/session.py\u001b[0m in \u001b[0;36m_do_call\u001b[0;34m(self, fn, *args)\u001b[0m\n\u001b[1;32m   1354\u001b[0m   \u001b[0;32mdef\u001b[0m \u001b[0m_do_call\u001b[0m\u001b[0;34m(\u001b[0m\u001b[0mself\u001b[0m\u001b[0;34m,\u001b[0m \u001b[0mfn\u001b[0m\u001b[0;34m,\u001b[0m \u001b[0;34m*\u001b[0m\u001b[0margs\u001b[0m\u001b[0;34m)\u001b[0m\u001b[0;34m:\u001b[0m\u001b[0;34m\u001b[0m\u001b[0;34m\u001b[0m\u001b[0m\n\u001b[1;32m   1355\u001b[0m     \u001b[0;32mtry\u001b[0m\u001b[0;34m:\u001b[0m\u001b[0;34m\u001b[0m\u001b[0;34m\u001b[0m\u001b[0m\n\u001b[0;32m-> 1356\u001b[0;31m       \u001b[0;32mreturn\u001b[0m \u001b[0mfn\u001b[0m\u001b[0;34m(\u001b[0m\u001b[0;34m*\u001b[0m\u001b[0margs\u001b[0m\u001b[0;34m)\u001b[0m\u001b[0;34m\u001b[0m\u001b[0;34m\u001b[0m\u001b[0m\n\u001b[0m\u001b[1;32m   1357\u001b[0m     \u001b[0;32mexcept\u001b[0m \u001b[0merrors\u001b[0m\u001b[0;34m.\u001b[0m\u001b[0mOpError\u001b[0m \u001b[0;32mas\u001b[0m \u001b[0me\u001b[0m\u001b[0;34m:\u001b[0m\u001b[0;34m\u001b[0m\u001b[0;34m\u001b[0m\u001b[0m\n\u001b[1;32m   1358\u001b[0m       \u001b[0mmessage\u001b[0m \u001b[0;34m=\u001b[0m \u001b[0mcompat\u001b[0m\u001b[0;34m.\u001b[0m\u001b[0mas_text\u001b[0m\u001b[0;34m(\u001b[0m\u001b[0me\u001b[0m\u001b[0;34m.\u001b[0m\u001b[0mmessage\u001b[0m\u001b[0;34m)\u001b[0m\u001b[0;34m\u001b[0m\u001b[0;34m\u001b[0m\u001b[0m\n",
      "\u001b[0;32m~/anaconda3/envs/tensorflow/lib/python3.6/site-packages/tensorflow/python/client/session.py\u001b[0m in \u001b[0;36m_run_fn\u001b[0;34m(feed_dict, fetch_list, target_list, options, run_metadata)\u001b[0m\n\u001b[1;32m   1339\u001b[0m       \u001b[0mself\u001b[0m\u001b[0;34m.\u001b[0m\u001b[0m_extend_graph\u001b[0m\u001b[0;34m(\u001b[0m\u001b[0;34m)\u001b[0m\u001b[0;34m\u001b[0m\u001b[0;34m\u001b[0m\u001b[0m\n\u001b[1;32m   1340\u001b[0m       return self._call_tf_sessionrun(\n\u001b[0;32m-> 1341\u001b[0;31m           options, feed_dict, fetch_list, target_list, run_metadata)\n\u001b[0m\u001b[1;32m   1342\u001b[0m \u001b[0;34m\u001b[0m\u001b[0m\n\u001b[1;32m   1343\u001b[0m     \u001b[0;32mdef\u001b[0m \u001b[0m_prun_fn\u001b[0m\u001b[0;34m(\u001b[0m\u001b[0mhandle\u001b[0m\u001b[0;34m,\u001b[0m \u001b[0mfeed_dict\u001b[0m\u001b[0;34m,\u001b[0m \u001b[0mfetch_list\u001b[0m\u001b[0;34m)\u001b[0m\u001b[0;34m:\u001b[0m\u001b[0;34m\u001b[0m\u001b[0;34m\u001b[0m\u001b[0m\n",
      "\u001b[0;32m~/anaconda3/envs/tensorflow/lib/python3.6/site-packages/tensorflow/python/client/session.py\u001b[0m in \u001b[0;36m_call_tf_sessionrun\u001b[0;34m(self, options, feed_dict, fetch_list, target_list, run_metadata)\u001b[0m\n\u001b[1;32m   1427\u001b[0m     return tf_session.TF_SessionRun_wrapper(\n\u001b[1;32m   1428\u001b[0m         \u001b[0mself\u001b[0m\u001b[0;34m.\u001b[0m\u001b[0m_session\u001b[0m\u001b[0;34m,\u001b[0m \u001b[0moptions\u001b[0m\u001b[0;34m,\u001b[0m \u001b[0mfeed_dict\u001b[0m\u001b[0;34m,\u001b[0m \u001b[0mfetch_list\u001b[0m\u001b[0;34m,\u001b[0m \u001b[0mtarget_list\u001b[0m\u001b[0;34m,\u001b[0m\u001b[0;34m\u001b[0m\u001b[0;34m\u001b[0m\u001b[0m\n\u001b[0;32m-> 1429\u001b[0;31m         run_metadata)\n\u001b[0m\u001b[1;32m   1430\u001b[0m \u001b[0;34m\u001b[0m\u001b[0m\n\u001b[1;32m   1431\u001b[0m   \u001b[0;32mdef\u001b[0m \u001b[0m_call_tf_sessionprun\u001b[0m\u001b[0;34m(\u001b[0m\u001b[0mself\u001b[0m\u001b[0;34m,\u001b[0m \u001b[0mhandle\u001b[0m\u001b[0;34m,\u001b[0m \u001b[0mfeed_dict\u001b[0m\u001b[0;34m,\u001b[0m \u001b[0mfetch_list\u001b[0m\u001b[0;34m)\u001b[0m\u001b[0;34m:\u001b[0m\u001b[0;34m\u001b[0m\u001b[0;34m\u001b[0m\u001b[0m\n",
      "\u001b[0;31mKeyboardInterrupt\u001b[0m: "
     ]
    }
   ],
   "source": [
    "est.train(train_input_fn)"
   ]
  },
  {
   "cell_type": "code",
   "execution_count": 11,
   "metadata": {
    "colab": {
     "base_uri": "https://localhost:8080/",
     "height": 258
    },
    "colab_type": "code",
    "executionInfo": {
     "elapsed": 2419,
     "status": "ok",
     "timestamp": 1560443420530,
     "user": {
      "displayName": "조중현",
      "photoUrl": "",
      "userId": "04275587646849861321"
     },
     "user_tz": -540
    },
    "id": "c3CRcSkWgAAJ",
    "outputId": "83ee00cc-f98c-4f95-b686-44659256120e"
   },
   "outputs": [
    {
     "name": "stderr",
     "output_type": "stream",
     "text": [
      "I0906 00:46:15.911833 4628440512 estimator.py:1145] Calling model_fn.\n",
      "I0906 00:46:16.112072 4628440512 estimator.py:1147] Done calling model_fn.\n",
      "I0906 00:46:16.127038 4628440512 evaluation.py:255] Starting evaluation at 2019-09-06T00:46:16Z\n",
      "I0906 00:46:16.184504 4628440512 monitored_session.py:240] Graph was finalized.\n",
      "W0906 00:46:16.185467 4628440512 deprecation.py:323] From /Users/chojunghyun/anaconda3/envs/tensorflow/lib/python3.6/site-packages/tensorflow/python/training/saver.py:1276: checkpoint_exists (from tensorflow.python.training.checkpoint_management) is deprecated and will be removed in a future version.\n",
      "Instructions for updating:\n",
      "Use standard file APIs to check for files with this prefix.\n",
      "I0906 00:46:16.186823 4628440512 saver.py:1280] Restoring parameters from data_out/checkpoint/yoon_kim/model.ckpt-0\n",
      "I0906 00:46:16.235255 4628440512 session_manager.py:500] Running local_init_op.\n",
      "I0906 00:46:16.245694 4628440512 session_manager.py:502] Done running local_init_op.\n",
      "I0906 00:46:18.505657 4628440512 evaluation.py:275] Finished evaluation at 2019-09-06-00:46:18\n",
      "I0906 00:46:18.506551 4628440512 estimator.py:2039] Saving dict for global step 0: acc = 0.5132, global_step = 0, loss = 0.6926488\n",
      "I0906 00:46:18.566651 4628440512 estimator.py:2099] Saving 'checkpoint_path' summary for global step 0: data_out/checkpoint/yoon_kim/model.ckpt-0\n"
     ]
    }
   ],
   "source": [
    "valid = est.evaluate(eval_input_fn)"
   ]
  },
  {
   "cell_type": "code",
   "execution_count": 12,
   "metadata": {
    "colab": {},
    "colab_type": "code",
    "id": "UvStrjAUgF2n"
   },
   "outputs": [],
   "source": [
    "test_input_data = 'nsmc_test_input.npy'\n",
    "test_label_data = 'nsmc_test_label.npy'\n",
    "\n",
    "test_input_data = np.load(open(data_in_path + test_input_data, 'rb'))\n",
    "test_label_data = np.load(open(data_in_path + test_label_data, 'rb'))"
   ]
  },
  {
   "cell_type": "code",
   "execution_count": 13,
   "metadata": {
    "colab": {},
    "colab_type": "code",
    "id": "eJQaMNtKgHtl"
   },
   "outputs": [],
   "source": [
    "def test_input_fn():\n",
    "    dataset = tf.data.Dataset.from_tensor_slices((test_input_data, test_label_data))\n",
    "    dataset = dataset.batch(BATCH_SIZE)\n",
    "    dataset = dataset.map(mapping_fn)\n",
    "    iterator = dataset.make_one_shot_iterator()\n",
    "    \n",
    "    return iterator.get_next()"
   ]
  },
  {
   "cell_type": "code",
   "execution_count": 14,
   "metadata": {
    "colab": {
     "base_uri": "https://localhost:8080/",
     "height": 119
    },
    "colab_type": "code",
    "executionInfo": {
     "elapsed": 7113,
     "status": "ok",
     "timestamp": 1560443462508,
     "user": {
      "displayName": "조중현",
      "photoUrl": "",
      "userId": "04275587646849861321"
     },
     "user_tz": -540
    },
    "id": "nuauqtp8gJuF",
    "outputId": "17f25e6a-c048-4e75-e86f-b71c06dfdfa6"
   },
   "outputs": [
    {
     "name": "stderr",
     "output_type": "stream",
     "text": [
      "W0906 00:46:20.519891 4628440512 deprecation.py:323] From <ipython-input-13-6a40635f2d03>:5: DatasetV1.make_one_shot_iterator (from tensorflow.python.data.ops.dataset_ops) is deprecated and will be removed in a future version.\n",
      "Instructions for updating:\n",
      "Use `for ... in dataset:` to iterate over a dataset. If using `tf.estimator`, return the `Dataset` object directly from your input function. As a last resort, you can use `tf.compat.v1.data.make_one_shot_iterator(dataset)`.\n",
      "I0906 00:46:20.557061 4628440512 estimator.py:1145] Calling model_fn.\n",
      "I0906 00:46:20.651206 4628440512 estimator.py:1147] Done calling model_fn.\n",
      "I0906 00:46:20.703778 4628440512 monitored_session.py:240] Graph was finalized.\n",
      "I0906 00:46:20.705287 4628440512 saver.py:1280] Restoring parameters from data_out/checkpoint/yoon_kim/model.ckpt-0\n",
      "I0906 00:46:20.817551 4628440512 session_manager.py:500] Running local_init_op.\n",
      "I0906 00:46:20.860391 4628440512 session_manager.py:502] Done running local_init_op.\n"
     ]
    }
   ],
   "source": [
    "test_output = [pred['prob'] for pred in est.predict(test_input_fn)]"
   ]
  },
  {
   "cell_type": "code",
   "execution_count": 15,
   "metadata": {
    "colab": {},
    "colab_type": "code",
    "id": "o86qAnC1Urhz"
   },
   "outputs": [],
   "source": [
    "test_output = np.array(test_output)"
   ]
  },
  {
   "cell_type": "code",
   "execution_count": 16,
   "metadata": {
    "colab": {
     "base_uri": "https://localhost:8080/",
     "height": 136
    },
    "colab_type": "code",
    "executionInfo": {
     "elapsed": 555,
     "status": "ok",
     "timestamp": 1560443487790,
     "user": {
      "displayName": "조중현",
      "photoUrl": "",
      "userId": "04275587646849861321"
     },
     "user_tz": -540
    },
    "id": "d_NNH_UlrcbU",
    "outputId": "7933c317-4ec7-4f16-c41e-94b19e427ee4"
   },
   "outputs": [
    {
     "data": {
      "text/plain": [
       "array([[0.4985856 ],\n",
       "       [0.50045043],\n",
       "       [0.48563147],\n",
       "       ...,\n",
       "       [0.49155244],\n",
       "       [0.47839737],\n",
       "       [0.49254864]], dtype=float32)"
      ]
     },
     "execution_count": 16,
     "metadata": {},
     "output_type": "execute_result"
    }
   ],
   "source": [
    "test_output"
   ]
  }
 ],
 "metadata": {
  "colab": {
   "collapsed_sections": [],
   "name": "Day3_2_Yoon_Kim_Model.ipynb의 사본",
   "provenance": [],
   "version": "0.3.2"
  },
  "kernelspec": {
   "display_name": "Python 3",
   "language": "python",
   "name": "python3"
  },
  "language_info": {
   "codemirror_mode": {
    "name": "ipython",
    "version": 3
   },
   "file_extension": ".py",
   "mimetype": "text/x-python",
   "name": "python",
   "nbconvert_exporter": "python",
   "pygments_lexer": "ipython3",
   "version": "3.6.8"
  }
 },
 "nbformat": 4,
 "nbformat_minor": 1
}

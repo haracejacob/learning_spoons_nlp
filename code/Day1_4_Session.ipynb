{
 "cells": [
  {
   "cell_type": "markdown",
   "metadata": {
    "colab_type": "text",
    "id": "qiXqB5sceNrC"
   },
   "source": [
    "# use session \n",
    "<b> session을 기본으로 하는 간단한 logistic regression을 만든다.  \n",
    "<b> source 설명 이후 실습을 진행한다.  "
   ]
  },
  {
   "cell_type": "code",
   "execution_count": 1,
   "metadata": {
    "colab": {},
    "colab_type": "code",
    "id": "5KtT9r76Payi"
   },
   "outputs": [],
   "source": [
    "samples = ['너 오늘 이뻐 보인다',\n",
    "          '나는 오늘 기분이 더러워',\n",
    "          '끝내주는데, 좋은 일이 있나봐',\n",
    "          '나 좋은 일이 생겼어',\n",
    "          '아 오늘 진짜 짜증나',\n",
    "          '환상적인데, 정말 좋은거 같아']\n",
    "\n",
    "targets =[[1], [0], [1], [1], [0], [1]]"
   ]
  },
  {
   "cell_type": "code",
   "execution_count": 2,
   "metadata": {
    "colab": {},
    "colab_type": "code",
    "id": "IQZ0G4TXSBUr"
   },
   "outputs": [],
   "source": [
    "import os\n",
    "import tensorflow as tf\n",
    "import numpy as np\n",
    "\n",
    "from tensorflow.keras import preprocessing"
   ]
  },
  {
   "cell_type": "code",
   "execution_count": 7,
   "metadata": {
    "colab": {},
    "colab_type": "code",
    "id": "N3haV_wvSC7i"
   },
   "outputs": [
    {
     "name": "stdout",
     "output_type": "stream",
     "text": [
      "index text data : \n",
      " [[ 4  1  5  6  0  0]\n",
      " [ 7  1  8  9  0  0]\n",
      " [10  2  3 11  0  0]\n",
      " [12  2  3 13  0  0]\n",
      " [14  1 15 16  0  0]\n",
      " [17 18 19 20  0  0]]\n",
      "shape of sequences: (6, 6)\n"
     ]
    }
   ],
   "source": [
    "tokenizer = preprocessing.text.Tokenizer() \n",
    "tokenizer.fit_on_texts(samples) \n",
    "sequences = tokenizer.texts_to_sequences(samples)\n",
    "sequences = preprocessing.sequence.pad_sequences(sequences, maxlen = 6, padding='post')\n",
    "\n",
    "targets = np.array(targets)\n",
    "\n",
    "word_index = tokenizer.word_index\n",
    "\n",
    "print(\"index text data : \\n\", sequences)\n",
    "print(\"shape of sequences:\", sequences.shape)"
   ]
  },
  {
   "cell_type": "code",
   "execution_count": 18,
   "metadata": {
    "colab": {},
    "colab_type": "code",
    "id": "C8BIwT2-SFap"
   },
   "outputs": [],
   "source": [
    "inputs_ph = tf.placeholder(dtype=tf.int32, shape=[None, 6], name='sequences')\n",
    "labels_ph = tf.placeholder(dtype=tf.int32, shape=[None, 1], name='labels')"
   ]
  },
  {
   "cell_type": "code",
   "execution_count": 27,
   "metadata": {
    "colab": {
     "base_uri": "https://localhost:8080/",
     "height": 190
    },
    "colab_type": "code",
    "executionInfo": {
     "elapsed": 903,
     "status": "ok",
     "timestamp": 1559362246315,
     "user": {
      "displayName": "조중현",
      "photoUrl": "",
      "userId": "04275587646849861321"
     },
     "user_tz": -540
    },
    "id": "nMxqXzghSLMF",
    "outputId": "47252f33-31ba-4612-e2f6-c11cf2be33b4"
   },
   "outputs": [],
   "source": [
    "epoch_size = 100\n",
    "batch_size = 2\n",
    "\n",
    "vocab_size = len(word_index) +1\n",
    "emb_size = 128\n",
    "\n",
    "\n",
    "# Embedding\n",
    "embed_input = tf.keras.layers.Embedding(vocab_size, emb_size)(inputs_ph)\n",
    "embed_input = tf.reduce_mean(embed_input, axis=-1)\n",
    "\n",
    "# Model\n",
    "hidden_layer = tf.keras.layers.Dense(128, activation=tf.nn.relu)(embed_input)\n",
    "output_layer = tf.keras.layers.Dense(1)(hidden_layer)\n",
    "output = tf.nn.sigmoid(output_layer)\n",
    "\n",
    "# # Loss\n",
    "loss = tf.losses.mean_squared_error(output, labels_ph)\n",
    "\n",
    "# Optimizer\n",
    "train_op = tf.train.AdamOptimizer(1e-3).minimize(loss)"
   ]
  },
  {
   "cell_type": "code",
   "execution_count": 28,
   "metadata": {
    "colab": {
     "base_uri": "https://localhost:8080/",
     "height": 187
    },
    "colab_type": "code",
    "executionInfo": {
     "elapsed": 1260,
     "status": "ok",
     "timestamp": 1559362471570,
     "user": {
      "displayName": "조중현",
      "photoUrl": "",
      "userId": "04275587646849861321"
     },
     "user_tz": -540
    },
    "id": "JtfngFG_SOZl",
    "outputId": "504d2da3-bd65-4fab-93dc-84dc2172038c",
    "scrolled": true
   },
   "outputs": [
    {
     "name": "stdout",
     "output_type": "stream",
     "text": [
      "# epoch0 loss:0.24945080280303955\n",
      "# epoch1 loss:0.24633264541625977\n",
      "# epoch2 loss:0.24837642908096313\n",
      "# epoch3 loss:0.24770233035087585\n",
      "# epoch4 loss:0.24650320410728455\n",
      "# epoch5 loss:0.24806645512580872\n",
      "# epoch6 loss:0.2298041731119156\n",
      "# epoch7 loss:0.26520705223083496\n",
      "# epoch8 loss:0.22161570191383362\n",
      "# epoch9 loss:0.24207474291324615\n",
      "# epoch10 loss:0.2143632173538208\n",
      "# epoch11 loss:0.23774723708629608\n",
      "# epoch12 loss:0.20544911921024323\n",
      "# epoch13 loss:0.20222309231758118\n",
      "# epoch14 loss:0.2335820198059082\n",
      "# epoch15 loss:0.2712663412094116\n",
      "# epoch16 loss:0.22631075978279114\n",
      "# epoch17 loss:0.22274845838546753\n",
      "# epoch18 loss:0.17809590697288513\n",
      "# epoch19 loss:0.264899343252182\n",
      "# epoch20 loss:0.2181352972984314\n",
      "# epoch21 loss:0.21432460844516754\n",
      "# epoch22 loss:0.2621909976005554\n",
      "# epoch23 loss:0.19951876997947693\n",
      "# epoch24 loss:0.14648136496543884\n",
      "# epoch25 loss:0.19337934255599976\n",
      "# epoch26 loss:0.18311923742294312\n",
      "# epoch27 loss:0.18419481813907623\n",
      "# epoch28 loss:0.16943511366844177\n",
      "# epoch29 loss:0.18041032552719116\n",
      "# epoch30 loss:0.1653868854045868\n",
      "# epoch31 loss:0.09714478999376297\n",
      "# epoch32 loss:0.14938226342201233\n",
      "# epoch33 loss:0.13749577105045319\n",
      "# epoch34 loss:0.13329795002937317\n",
      "# epoch35 loss:0.12896566092967987\n",
      "# epoch36 loss:0.18064431846141815\n",
      "# epoch37 loss:0.09420376271009445\n",
      "# epoch38 loss:0.10520129650831223\n",
      "# epoch39 loss:0.04853711277246475\n",
      "# epoch40 loss:0.1563146561384201\n",
      "# epoch41 loss:0.09115149825811386\n",
      "# epoch42 loss:0.0907592847943306\n",
      "# epoch43 loss:0.13302114605903625\n",
      "# epoch44 loss:0.07582592219114304\n",
      "# epoch45 loss:0.12114209681749344\n",
      "# epoch46 loss:0.023188648745417595\n",
      "# epoch47 loss:0.06360050290822983\n",
      "# epoch48 loss:0.06233047693967819\n",
      "# epoch49 loss:0.0161283016204834\n",
      "# epoch50 loss:0.05609946325421333\n",
      "# epoch51 loss:0.03029322810471058\n",
      "# epoch52 loss:0.05039764940738678\n",
      "# epoch53 loss:0.008382167667150497\n",
      "# epoch54 loss:0.04450653865933418\n",
      "# epoch55 loss:0.007985200732946396\n",
      "# epoch56 loss:0.03995708376169205\n",
      "# epoch57 loss:0.07208545506000519\n",
      "# epoch58 loss:0.03629062697291374\n",
      "# epoch59 loss:0.03454742580652237\n",
      "# epoch60 loss:0.014293511398136616\n",
      "# epoch61 loss:0.030823178589344025\n",
      "# epoch62 loss:0.008183438330888748\n",
      "# epoch63 loss:0.003339678980410099\n",
      "# epoch64 loss:0.026451220735907555\n",
      "# epoch65 loss:0.010169445537030697\n",
      "# epoch66 loss:0.027427412569522858\n",
      "# epoch67 loss:0.023159870877861977\n",
      "# epoch68 loss:0.04095425084233284\n",
      "# epoch69 loss:0.02300184778869152\n",
      "# epoch70 loss:0.019483491778373718\n",
      "# epoch71 loss:0.0019599408842623234\n",
      "# epoch72 loss:0.0018491677474230528\n",
      "# epoch73 loss:0.015761863440275192\n",
      "# epoch74 loss:0.015337287448346615\n",
      "# epoch75 loss:0.014326456002891064\n",
      "# epoch76 loss:0.0034465291537344456\n",
      "# epoch77 loss:0.001442101551219821\n",
      "# epoch78 loss:0.01221203338354826\n",
      "# epoch79 loss:0.013584802858531475\n",
      "# epoch80 loss:0.012795883230865002\n",
      "# epoch81 loss:0.01983429677784443\n",
      "# epoch82 loss:0.010233845561742783\n",
      "# epoch83 loss:0.00960903987288475\n",
      "# epoch84 loss:0.004245597403496504\n",
      "# epoch85 loss:0.010046628303825855\n",
      "# epoch86 loss:0.007874103263020515\n",
      "# epoch87 loss:0.002680338453501463\n",
      "# epoch88 loss:0.013465819880366325\n",
      "# epoch89 loss:0.006964476313441992\n",
      "# epoch90 loss:0.0012018124107271433\n",
      "# epoch91 loss:0.0011633915128186345\n",
      "# epoch92 loss:0.0008348010014742613\n",
      "# epoch93 loss:0.001085106865502894\n",
      "# epoch94 loss:0.010515657253563404\n",
      "# epoch95 loss:0.005206540692597628\n",
      "# epoch96 loss:0.001829330576583743\n",
      "# epoch97 loss:0.0009604374645277858\n",
      "# epoch98 loss:0.00476684607565403\n",
      "# epoch99 loss:0.008760180324316025\n"
     ]
    }
   ],
   "source": [
    "shuffle_sequence = []\n",
    "shuffle_label = []\n",
    "index = 0\n",
    "\n",
    "sess = tf.Session()\n",
    "#print(\"start time : \", start_time)\n",
    "sess.run(tf.global_variables_initializer())\n",
    "\n",
    "\n",
    "for epoch in range(epoch_size):\n",
    "    random_index = np.random.permutation(len(sequences))\n",
    "    shuffled_sequences = sequences[random_index]\n",
    "    shuffled_targets = targets[random_index]\n",
    "    for i in random_index[::batch_size]:\n",
    "        _, _loss = sess.run([train_op, loss],\n",
    "                             feed_dict={inputs_ph: shuffled_sequences[i:i+batch_size],\n",
    "                                        labels_ph: shuffled_targets[i:i+batch_size]})\n",
    "    if (epoch+1) % 10 == 0:\n",
    "        print(f'# epoch{epoch} loss:{_loss}')   \n",
    "\n",
    "    shuffle_sequence.clear()\n",
    "    shuffle_label.clear()"
   ]
  },
  {
   "cell_type": "code",
   "execution_count": null,
   "metadata": {},
   "outputs": [],
   "source": []
  }
 ],
 "metadata": {
  "colab": {
   "collapsed_sections": [],
   "name": "Day1_4_Session.ipynb",
   "provenance": [],
   "version": "0.3.2"
  },
  "kernelspec": {
   "display_name": "Python 3",
   "language": "python",
   "name": "python3"
  },
  "language_info": {
   "codemirror_mode": {
    "name": "ipython",
    "version": 3
   },
   "file_extension": ".py",
   "mimetype": "text/x-python",
   "name": "python",
   "nbconvert_exporter": "python",
   "pygments_lexer": "ipython3",
   "version": "3.7.1"
  }
 },
 "nbformat": 4,
 "nbformat_minor": 1
}

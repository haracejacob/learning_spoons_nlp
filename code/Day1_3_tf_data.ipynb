{
 "cells": [
  {
   "cell_type": "markdown",
   "metadata": {
    "colab_type": "text",
    "id": "35CY7g3QZYHM"
   },
   "source": [
    "# tf.data\n",
    "\n",
    "<b> 기존의 placeholder & feed_dict 방법보다 높은 성능 (속도 측면)  \n",
    "<b> 간단한 batch, epoch, shuffle, map 구현  \n",
    "<b> tf.estimator 와 같이 사용하기에 적합  \n"
   ]
  },
  {
   "cell_type": "markdown",
   "metadata": {
    "colab_type": "text",
    "id": "ZJ1fTPQYZvT_"
   },
   "source": [
    "### 긍정/부정 Make data (긍정: 1, 부정: 0)"
   ]
  },
  {
   "cell_type": "code",
   "execution_count": 2,
   "metadata": {
    "colab": {},
    "colab_type": "code",
    "id": "AGLNcEPEZSAm"
   },
   "outputs": [],
   "source": [
    "samples = ['너 오늘 이뻐 보인다',\n",
    "          '나는 오늘 기분이 더러워',\n",
    "          '끝내주는데, 좋은 일이 있나봐',\n",
    "          '나 오늘 좋은 일이 생겼어',\n",
    "          '아 진짜 짜증나',\n",
    "          '오, 이거 진짜 좋은 것 같은데']\n",
    "\n",
    "targets = [[1], [0], [1], [1], [0], [1]]"
   ]
  },
  {
   "cell_type": "markdown",
   "metadata": {
    "colab_type": "text",
    "id": "4tqYyfYFZzp1"
   },
   "source": [
    "### load need modules"
   ]
  },
  {
   "cell_type": "code",
   "execution_count": 3,
   "metadata": {
    "colab": {},
    "colab_type": "code",
    "id": "-oCkBbzgZX1A"
   },
   "outputs": [],
   "source": [
    "import os\n",
    "import tensorflow as tf\n",
    "import numpy as np\n",
    "\n",
    "from tensorflow.keras import preprocessing"
   ]
  },
  {
   "cell_type": "markdown",
   "metadata": {
    "colab_type": "text",
    "id": "oTkCqToPZ5uc"
   },
   "source": [
    "### Data Preprocessing"
   ]
  },
  {
   "cell_type": "code",
   "execution_count": 4,
   "metadata": {
    "colab": {
     "base_uri": "https://localhost:8080/",
     "height": 68
    },
    "colab_type": "code",
    "executionInfo": {
     "elapsed": 683,
     "status": "ok",
     "timestamp": 1559360542762,
     "user": {
      "displayName": "조중현",
      "photoUrl": "",
      "userId": "04275587646849861321"
     },
     "user_tz": -540
    },
    "id": "A8GLOmUKZ3F2",
    "outputId": "dfa4197e-4e41-4254-ae9a-546573e43421"
   },
   "outputs": [
    {
     "name": "stdout",
     "output_type": "stream",
     "text": [
      "index text data : \n",
      " [[ 5  1  6  7  0  0]\n",
      " [ 8  1  9 10  0  0]\n",
      " [11  2  3 12  0  0]\n",
      " [13  1  2  3 14  0]\n",
      " [15  4 16  0  0  0]\n",
      " [17 18  4  2 19 20]]\n",
      "shape of sequences: (6, 6)\n"
     ]
    }
   ],
   "source": [
    "tokenizer = preprocessing.text.Tokenizer() \n",
    "tokenizer.fit_on_texts(samples) \n",
    "sequences = tokenizer.texts_to_sequences(samples)\n",
    "sequences = preprocessing.sequence.pad_sequences(sequences, maxlen = 6, padding='post')\n",
    "\n",
    "targets = np.array(targets)\n",
    "\n",
    "print(\"index text data : \\n\", sequences)\n",
    "print(\"shape of sequences:\", sequences.shape)"
   ]
  },
  {
   "cell_type": "code",
   "execution_count": 5,
   "metadata": {
    "colab": {
     "base_uri": "https://localhost:8080/",
     "height": 71
    },
    "colab_type": "code",
    "executionInfo": {
     "elapsed": 670,
     "status": "ok",
     "timestamp": 1559360550775,
     "user": {
      "displayName": "조중현",
      "photoUrl": "",
      "userId": "04275587646849861321"
     },
     "user_tz": -540
    },
    "id": "J3ckGFqgaAA2",
    "outputId": "08714bad-8163-43c5-db3f-04c6daf1fee6"
   },
   "outputs": [
    {
     "name": "stdout",
     "output_type": "stream",
     "text": [
      "index of each word : \n",
      " {'오늘': 1, '좋은': 2, '일이': 3, '진짜': 4, '너': 5, '이뻐': 6, '보인다': 7, '나는': 8, '기분이': 9, '더러워': 10, '끝내주는데': 11, '있나봐': 12, '나': 13, '생겼어': 14, '아': 15, '짜증나': 16, '오': 17, '이거': 18, '것': 19, '같은데': 20}\n"
     ]
    }
   ],
   "source": [
    "word_index = tokenizer.word_index\n",
    "\n",
    "print(\"index of each word : \\n\", word_index)"
   ]
  },
  {
   "cell_type": "code",
   "execution_count": 6,
   "metadata": {
    "colab": {
     "base_uri": "https://localhost:8080/",
     "height": 51
    },
    "colab_type": "code",
    "executionInfo": {
     "elapsed": 618,
     "status": "ok",
     "timestamp": 1559360554285,
     "user": {
      "displayName": "조중현",
      "photoUrl": "",
      "userId": "04275587646849861321"
     },
     "user_tz": -540
    },
    "id": "zN9tuTz6aCZS",
    "outputId": "b3303bf3-0c11-4d2e-c71b-6c204319a31e"
   },
   "outputs": [
    {
     "name": "stdout",
     "output_type": "stream",
     "text": [
      "targets: \n",
      " [[1]\n",
      " [0]\n",
      " [1]\n",
      " [1]\n",
      " [0]\n",
      " [1]]\n",
      "shape of targets: (6, 1)\n"
     ]
    }
   ],
   "source": [
    "print(\"targets: \\n\", targets)\n",
    "print(\"shape of targets:\", targets.shape) "
   ]
  },
  {
   "cell_type": "markdown",
   "metadata": {
    "colab_type": "text",
    "id": "yorq9XGWZ9cu"
   },
   "source": [
    "###  tf.data data processing\n"
   ]
  },
  {
   "cell_type": "code",
   "execution_count": 16,
   "metadata": {
    "colab": {},
    "colab_type": "code",
    "id": "X6HYuBfKZ8hV"
   },
   "outputs": [],
   "source": [
    "dataset = tf.data.Dataset.from_tensor_slices((sequences, targets))\n",
    "iterator = dataset.make_one_shot_iterator()\n",
    "next_data = iterator.get_next()"
   ]
  },
  {
   "cell_type": "markdown",
   "metadata": {
    "colab_type": "text",
    "id": "7mtjS2qegxJj"
   },
   "source": [
    "### Session run"
   ]
  },
  {
   "cell_type": "code",
   "execution_count": 28,
   "metadata": {
    "colab": {
     "base_uri": "https://localhost:8080/",
     "height": 119
    },
    "colab_type": "code",
    "executionInfo": {
     "elapsed": 830,
     "status": "ok",
     "timestamp": 1559360740816,
     "user": {
      "displayName": "조중현",
      "photoUrl": "",
      "userId": "04275587646849861321"
     },
     "user_tz": -540
    },
    "id": "8S1FB3BEgSAt",
    "outputId": "2dd71135-3c19-430a-d52c-1f0b89ae5917"
   },
   "outputs": [
    {
     "name": "stdout",
     "output_type": "stream",
     "text": [
      "[array([5, 1, 6, 7, 0, 0], dtype=int32), array([1])]\n",
      "[array([ 8,  1,  9, 10,  0,  0], dtype=int32), array([0])]\n",
      "[array([11,  2,  3, 12,  0,  0], dtype=int32), array([1])]\n",
      "[array([13,  1,  2,  3, 14,  0], dtype=int32), array([1])]\n",
      "[array([15,  4, 16,  0,  0,  0], dtype=int32), array([0])]\n",
      "[array([17, 18,  4,  2, 19, 20], dtype=int32), array([1])]\n"
     ]
    }
   ],
   "source": [
    "with tf.Session() as sess:\n",
    "    while True:\n",
    "        try:\n",
    "            seq, lab = next_data\n",
    "            print(sess.run([seq, lab]))\n",
    "        except:\n",
    "            break"
   ]
  },
  {
   "cell_type": "markdown",
   "metadata": {
    "colab_type": "text",
    "id": "yuN-imuZg0DA"
   },
   "source": [
    "### shuffle data"
   ]
  },
  {
   "cell_type": "code",
   "execution_count": 32,
   "metadata": {
    "colab": {},
    "colab_type": "code",
    "id": "PxhER5iDgohp"
   },
   "outputs": [],
   "source": [
    "dataset = tf.data.Dataset.from_tensor_slices((sequences, targets))\n",
    "dataset = dataset.shuffle(len(sequences))\n",
    "iterator = dataset.make_one_shot_iterator()\n",
    "next_data = iterator.get_next()"
   ]
  },
  {
   "cell_type": "code",
   "execution_count": 33,
   "metadata": {
    "colab": {
     "base_uri": "https://localhost:8080/",
     "height": 119
    },
    "colab_type": "code",
    "executionInfo": {
     "elapsed": 669,
     "status": "ok",
     "timestamp": 1559360932297,
     "user": {
      "displayName": "조중현",
      "photoUrl": "",
      "userId": "04275587646849861321"
     },
     "user_tz": -540
    },
    "id": "IXjUVEPwiewm",
    "outputId": "db5a7d39-d7dc-4ef9-a7be-483c94e17394"
   },
   "outputs": [
    {
     "name": "stdout",
     "output_type": "stream",
     "text": [
      "[array([5, 1, 6, 7, 0, 0], dtype=int32), array([1])]\n",
      "[array([13,  1,  2,  3, 14,  0], dtype=int32), array([1])]\n",
      "[array([17, 18,  4,  2, 19, 20], dtype=int32), array([1])]\n",
      "[array([11,  2,  3, 12,  0,  0], dtype=int32), array([1])]\n",
      "[array([15,  4, 16,  0,  0,  0], dtype=int32), array([0])]\n",
      "[array([ 8,  1,  9, 10,  0,  0], dtype=int32), array([0])]\n"
     ]
    }
   ],
   "source": [
    "with tf.Session() as sess:\n",
    "    while True:\n",
    "        try:\n",
    "            seq, lab = next_data\n",
    "            print(sess.run([seq, lab]))\n",
    "        except:\n",
    "            break"
   ]
  },
  {
   "cell_type": "markdown",
   "metadata": {
    "colab_type": "text",
    "id": "GzvynQg1g4Ic"
   },
   "source": [
    "### make batch"
   ]
  },
  {
   "cell_type": "code",
   "execution_count": 36,
   "metadata": {
    "colab": {},
    "colab_type": "code",
    "id": "rRxFX3Pvg4Zb"
   },
   "outputs": [],
   "source": [
    "BATCH_SIZE = 2\n",
    "\n",
    "dataset = tf.data.Dataset.from_tensor_slices((sequences, targets))\n",
    "dataset = dataset.batch(BATCH_SIZE)\n",
    "dataset = dataset.shuffle(len(sequences))\n",
    "iterator = dataset.make_one_shot_iterator()\n",
    "next_data = iterator.get_next()"
   ]
  },
  {
   "cell_type": "code",
   "execution_count": 37,
   "metadata": {
    "colab": {
     "base_uri": "https://localhost:8080/",
     "height": 170
    },
    "colab_type": "code",
    "executionInfo": {
     "elapsed": 620,
     "status": "ok",
     "timestamp": 1559361060415,
     "user": {
      "displayName": "조중현",
      "photoUrl": "",
      "userId": "04275587646849861321"
     },
     "user_tz": -540
    },
    "id": "5HEI0EHsjoDQ",
    "outputId": "34d893c7-224c-4be5-e170-1d24b2644917"
   },
   "outputs": [
    {
     "name": "stdout",
     "output_type": "stream",
     "text": [
      "(array([[15,  4, 16,  0,  0,  0],\n",
      "       [17, 18,  4,  2, 19, 20]], dtype=int32), array([[0],\n",
      "       [1]]))\n",
      "(array([[11,  2,  3, 12,  0,  0],\n",
      "       [13,  1,  2,  3, 14,  0]], dtype=int32), array([[1],\n",
      "       [1]]))\n",
      "(array([[ 5,  1,  6,  7,  0,  0],\n",
      "       [ 8,  1,  9, 10,  0,  0]], dtype=int32), array([[1],\n",
      "       [0]]))\n"
     ]
    }
   ],
   "source": [
    "with tf.Session() as sess:\n",
    "    while True:\n",
    "        try:\n",
    "            print(sess.run(next_data))\n",
    "        except tf.errors.OutOfRangeError:\n",
    "            break"
   ]
  },
  {
   "cell_type": "markdown",
   "metadata": {
    "colab_type": "text",
    "id": "wyRO7ZK5g4ka"
   },
   "source": [
    "### 2 epoch"
   ]
  },
  {
   "cell_type": "code",
   "execution_count": 38,
   "metadata": {
    "colab": {},
    "colab_type": "code",
    "id": "rQ1yf16jg4uu"
   },
   "outputs": [],
   "source": [
    "BATCH_SIZE = 2\n",
    "EPOCH_SIZE = 2\n",
    "\n",
    "dataset = tf.data.Dataset.from_tensor_slices((sequences, targets))\n",
    "dataset = dataset.batch(BATCH_SIZE)\n",
    "dataset = dataset.shuffle(len(sequences))\n",
    "iterator = dataset.make_one_shot_iterator()\n",
    "next_data = iterator.get_next()"
   ]
  },
  {
   "cell_type": "code",
   "execution_count": 41,
   "metadata": {
    "colab": {
     "base_uri": "https://localhost:8080/",
     "height": 323
    },
    "colab_type": "code",
    "executionInfo": {
     "elapsed": 675,
     "status": "ok",
     "timestamp": 1559361090747,
     "user": {
      "displayName": "조중현",
      "photoUrl": "",
      "userId": "04275587646849861321"
     },
     "user_tz": -540
    },
    "id": "hUGQzUkPkMlV",
    "outputId": "706ef01e-50c0-4ebc-aff8-aa641c77e3b0"
   },
   "outputs": [
    {
     "name": "stdout",
     "output_type": "stream",
     "text": [
      "(array([[ 5,  1,  6,  7,  0,  0],\n",
      "       [ 8,  1,  9, 10,  0,  0]], dtype=int32), array([[1],\n",
      "       [0]]))\n",
      "(array([[15,  4, 16,  0,  0,  0],\n",
      "       [17, 18,  4,  2, 19, 20]], dtype=int32), array([[0],\n",
      "       [1]]))\n",
      "(array([[11,  2,  3, 12,  0,  0],\n",
      "       [13,  1,  2,  3, 14,  0]], dtype=int32), array([[1],\n",
      "       [1]]))\n"
     ]
    }
   ],
   "source": [
    "with tf.Session() as sess:\n",
    "    while True:\n",
    "        try:\n",
    "            print(sess.run(next_data))\n",
    "        except:\n",
    "            break"
   ]
  },
  {
   "cell_type": "markdown",
   "metadata": {
    "colab_type": "text",
    "id": "qtHPM0MFl_Q4"
   },
   "source": [
    "### use map "
   ]
  },
  {
   "cell_type": "code",
   "execution_count": 0,
   "metadata": {
    "colab": {},
    "colab_type": "code",
    "id": "yFBOLs7okNho"
   },
   "outputs": [],
   "source": [
    "def map_fn(X, Y=None):\n",
    "    inputs = {'x': X}\n",
    "    label = Y\n",
    "    return inputs, label\n",
    "\n",
    "dataset = tf.data.Dataset.from_tensor_slices((sequences, targets))\n",
    "dataset = dataset.map(map_fn)\n",
    "iterator = dataset.make_one_shot_iterator()\n",
    "next_data = iterator.get_next()"
   ]
  },
  {
   "cell_type": "code",
   "execution_count": 43,
   "metadata": {
    "colab": {
     "base_uri": "https://localhost:8080/",
     "height": 119
    },
    "colab_type": "code",
    "executionInfo": {
     "elapsed": 610,
     "status": "ok",
     "timestamp": 1559361288466,
     "user": {
      "displayName": "조중현",
      "photoUrl": "",
      "userId": "04275587646849861321"
     },
     "user_tz": -540
    },
    "id": "3FMHf6ISmmSB",
    "outputId": "230a1e79-809c-42c0-e46e-56d4ab52f0b8"
   },
   "outputs": [
    {
     "name": "stdout",
     "output_type": "stream",
     "text": [
      "(array([[15,  4, 16,  0,  0,  0],\n",
      "       [17, 18,  4,  2, 19, 20]], dtype=int32), array([[0],\n",
      "       [1]]))\n",
      "(array([[ 5,  1,  6,  7,  0,  0],\n",
      "       [ 8,  1,  9, 10,  0,  0]], dtype=int32), array([[1],\n",
      "       [0]]))\n",
      "(array([[11,  2,  3, 12,  0,  0],\n",
      "       [13,  1,  2,  3, 14,  0]], dtype=int32), array([[1],\n",
      "       [1]]))\n"
     ]
    }
   ],
   "source": [
    "with tf.Session() as sess:\n",
    "    while True:\n",
    "        try:\n",
    "            print(sess.run(next_data))\n",
    "        except:\n",
    "            break"
   ]
  },
  {
   "cell_type": "markdown",
   "metadata": {
    "colab_type": "text",
    "id": "f1CJheP-nRDs"
   },
   "source": [
    "### use map  two variable"
   ]
  },
  {
   "cell_type": "code",
   "execution_count": 47,
   "metadata": {
    "colab": {},
    "colab_type": "code",
    "id": "c66ELvKCmoPh"
   },
   "outputs": [],
   "source": [
    "def map_fn(X1, X2, Y=None):\n",
    "    inputs = {'x1': X1, 'x2': X2}\n",
    "    label = Y\n",
    "    return inputs, label\n",
    "\n",
    "\n",
    "dataset = tf.data.Dataset.from_tensor_slices((sequences, sequences, targets))\n",
    "dataset = dataset.map(map_fn)\n",
    "iterator = dataset.make_one_shot_iterator()\n",
    "next_data = iterator.get_next()"
   ]
  },
  {
   "cell_type": "code",
   "execution_count": 48,
   "metadata": {
    "colab": {
     "base_uri": "https://localhost:8080/",
     "height": 119
    },
    "colab_type": "code",
    "executionInfo": {
     "elapsed": 822,
     "status": "ok",
     "timestamp": 1559361307110,
     "user": {
      "displayName": "조중현",
      "photoUrl": "",
      "userId": "04275587646849861321"
     },
     "user_tz": -540
    },
    "id": "MZeo0D2_nL3e",
    "outputId": "3c5e68e1-2d3f-447f-cb2a-c159c448f942"
   },
   "outputs": [
    {
     "name": "stdout",
     "output_type": "stream",
     "text": [
      "({'x1': array([5, 1, 6, 7, 0, 0], dtype=int32), 'x2': array([5, 1, 6, 7, 0, 0], dtype=int32)}, array([1]))\n",
      "({'x1': array([ 8,  1,  9, 10,  0,  0], dtype=int32), 'x2': array([ 8,  1,  9, 10,  0,  0], dtype=int32)}, array([0]))\n",
      "({'x1': array([11,  2,  3, 12,  0,  0], dtype=int32), 'x2': array([11,  2,  3, 12,  0,  0], dtype=int32)}, array([1]))\n",
      "({'x1': array([13,  1,  2,  3, 14,  0], dtype=int32), 'x2': array([13,  1,  2,  3, 14,  0], dtype=int32)}, array([1]))\n",
      "({'x1': array([15,  4, 16,  0,  0,  0], dtype=int32), 'x2': array([15,  4, 16,  0,  0,  0], dtype=int32)}, array([0]))\n",
      "({'x1': array([17, 18,  4,  2, 19, 20], dtype=int32), 'x2': array([17, 18,  4,  2, 19, 20], dtype=int32)}, array([1]))\n"
     ]
    }
   ],
   "source": [
    "with tf.Session() as sess:\n",
    "    while True:\n",
    "        try:\n",
    "            print(sess.run(next_data))\n",
    "        except:\n",
    "            break"
   ]
  },
  {
   "cell_type": "markdown",
   "metadata": {
    "colab_type": "text",
    "id": "bQ6UMcgnn_bG"
   },
   "source": [
    "### Create All Feature (batch, shuffle, repeat, map)"
   ]
  },
  {
   "cell_type": "code",
   "execution_count": 49,
   "metadata": {
    "colab": {},
    "colab_type": "code",
    "id": "3x2-V71SdV1j"
   },
   "outputs": [],
   "source": [
    "BATCH_SIZE = 2\n",
    "EPOCH_SIZE = 2\n",
    "\n",
    "#############################################################\n",
    "# 지금까지 배운 API들을 사용해 본다. \n",
    "# 1. 주어진 데이터를 tf.data에 적용시킨다.\n",
    "# 2. map 사용한다.\n",
    "# 3. 배치 크기 만큼 가져온다.\n",
    "# 4. 순서를 섞어준다.\n",
    "# 5. 전체 데이터를 EPOCH SIZE 만큼 사용한다.\n",
    "# 6. 데이터를 하나씩 사용한다.\n",
    "# 7. iterator의 get_next를 통해 하나씩 가져오는 구조를 만든다.\n",
    "# 8. 세션을 구성해서 실행한다.\n",
    "#############################################################"
   ]
  },
  {
   "cell_type": "code",
   "execution_count": 52,
   "metadata": {
    "colab": {},
    "colab_type": "code",
    "id": "rg8gDin1nvEL"
   },
   "outputs": [],
   "source": [
    "# ANSWER\n",
    "BATCH_SIZE = 2\n",
    "EPOCH_SIZE = 2\n",
    "\n",
    "def map_fn(X, Y=None):\n",
    "    inputs = {'x': X}\n",
    "    label = Y\n",
    "    return inputs, label\n",
    "\n",
    "dataset = tf.data.Dataset.from_tensor_slices((sequences, targets))\n",
    "dataset = dataset.map(map_fn)\n",
    "dataset = dataset.batch(BATCH_SIZE)\n",
    "dataset = dataset.shuffle(len(sequences))\n",
    "dataset = dataset.repeat(EPOCH_SIZE)\n",
    "iterator = dataset.make_one_shot_iterator()\n",
    "next_data = iterator.get_next()"
   ]
  },
  {
   "cell_type": "code",
   "execution_count": 53,
   "metadata": {
    "colab": {
     "base_uri": "https://localhost:8080/",
     "height": 310
    },
    "colab_type": "code",
    "executionInfo": {
     "elapsed": 738,
     "status": "ok",
     "timestamp": 1556432950917,
     "user": {
      "displayName": "ChangWook Jun",
      "photoUrl": "https://lh6.googleusercontent.com/-NHLAhAbNfPg/AAAAAAAAAAI/AAAAAAAAAEc/NDLQ8z7-qns/s64/photo.jpg",
      "userId": "00685987924881157185"
     },
     "user_tz": -540
    },
    "id": "fLeeBv2NoPFf",
    "outputId": "64540b08-455c-48b4-f668-ab231c9d428e"
   },
   "outputs": [
    {
     "name": "stdout",
     "output_type": "stream",
     "text": [
      "({'x': array([[ 5,  1,  6,  7,  0,  0],\n",
      "       [ 8,  1,  9, 10,  0,  0]], dtype=int32)}, array([[1],\n",
      "       [0]]))\n",
      "({'x': array([[15,  4, 16,  0,  0,  0],\n",
      "       [17, 18,  4,  2, 19, 20]], dtype=int32)}, array([[0],\n",
      "       [1]]))\n",
      "({'x': array([[11,  2,  3, 12,  0,  0],\n",
      "       [13,  1,  2,  3, 14,  0]], dtype=int32)}, array([[1],\n",
      "       [1]]))\n",
      "({'x': array([[ 5,  1,  6,  7,  0,  0],\n",
      "       [ 8,  1,  9, 10,  0,  0]], dtype=int32)}, array([[1],\n",
      "       [0]]))\n",
      "({'x': array([[11,  2,  3, 12,  0,  0],\n",
      "       [13,  1,  2,  3, 14,  0]], dtype=int32)}, array([[1],\n",
      "       [1]]))\n",
      "({'x': array([[15,  4, 16,  0,  0,  0],\n",
      "       [17, 18,  4,  2, 19, 20]], dtype=int32)}, array([[0],\n",
      "       [1]]))\n"
     ]
    }
   ],
   "source": [
    "# ANSWER\n",
    "with tf.Session() as sess:\n",
    "    while True:\n",
    "        try:\n",
    "            print(sess.run(next_data))\n",
    "        except:\n",
    "            break"
   ]
  }
 ],
 "metadata": {
  "colab": {
   "collapsed_sections": [],
   "name": "Day1_3_tf_data.ipynb",
   "provenance": [],
   "version": "0.3.2"
  },
  "kernelspec": {
   "display_name": "Python 3",
   "language": "python",
   "name": "python3"
  },
  "language_info": {
   "codemirror_mode": {
    "name": "ipython",
    "version": 3
   },
   "file_extension": ".py",
   "mimetype": "text/x-python",
   "name": "python",
   "nbconvert_exporter": "python",
   "pygments_lexer": "ipython3",
   "version": "3.6.8"
  }
 },
 "nbformat": 4,
 "nbformat_minor": 1
}

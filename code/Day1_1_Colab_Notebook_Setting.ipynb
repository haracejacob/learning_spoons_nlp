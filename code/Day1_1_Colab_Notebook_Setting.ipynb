{
 "cells": [
  {
   "cell_type": "markdown",
   "metadata": {
    "colab_type": "text",
    "id": "HPzVz9PRd05s"
   },
   "source": [
    "# About Colab notebooks"
   ]
  },
  {
   "cell_type": "markdown",
   "metadata": {
    "colab_type": "text",
    "id": "bk2kdyeHTVNs"
   },
   "source": [
    "## 1) Get code from github\n",
    "<br>\n",
    "\n",
    "### Github link: https://github.com/reniew/learning_spoons\n",
    "\n",
    "* lecture_note\n",
    "* code\n",
    "\n",
    "![image.png](../asset/2.png)\n",
    "\n",
    "\n",
    "![image.png](../asset/1.png)"
   ]
  },
  {
   "cell_type": "markdown",
   "metadata": {
    "colab_type": "text",
    "id": "NtH_3UgvXfwT"
   },
   "source": [
    "## 2) Mount Google Drive"
   ]
  },
  {
   "cell_type": "code",
   "execution_count": 35,
   "metadata": {
    "colab": {
     "base_uri": "https://localhost:8080/",
     "height": 34
    },
    "colab_type": "code",
    "executionInfo": {
     "elapsed": 973,
     "status": "ok",
     "timestamp": 1566392446727,
     "user": {
      "displayName": "조중현",
      "photoUrl": "",
      "userId": "04275587646849861321"
     },
     "user_tz": -540
    },
    "id": "yvlIHHyjXHug",
    "outputId": "61cad924-0670-4e8c-e3a2-0f9dcbe83a3d"
   },
   "outputs": [
    {
     "name": "stdout",
     "output_type": "stream",
     "text": [
      "Drive already mounted at /content/gdrive; to attempt to forcibly remount, call drive.mount(\"/content/gdrive\", force_remount=True).\n"
     ]
    }
   ],
   "source": [
    "from google.colab import auth\n",
    "auth.authenticate_user()\n",
    "\n",
    "from google.colab import drive\n",
    "drive.mount('/content/gdrive')"
   ]
  },
  {
   "cell_type": "code",
   "execution_count": 36,
   "metadata": {
    "colab": {
     "base_uri": "https://localhost:8080/",
     "height": 34
    },
    "colab_type": "code",
    "executionInfo": {
     "elapsed": 22577,
     "status": "ok",
     "timestamp": 1566392488678,
     "user": {
      "displayName": "조중현",
      "photoUrl": "",
      "userId": "04275587646849861321"
     },
     "user_tz": -540
    },
    "id": "HEYLkVSNQvIS",
    "outputId": "59d57959-a09a-4bb7-f3c5-78384ac0b5cb"
   },
   "outputs": [
    {
     "name": "stdout",
     "output_type": "stream",
     "text": [
      "Mounted at /content/gdrive\n"
     ]
    }
   ],
   "source": [
    "drive.mount('/content/gdrive', force_remount=True)"
   ]
  },
  {
   "cell_type": "code",
   "execution_count": 1,
   "metadata": {
    "colab": {
     "base_uri": "https://localhost:8080/",
     "height": 68
    },
    "colab_type": "code",
    "executionInfo": {
     "elapsed": 3553,
     "status": "ok",
     "timestamp": 1566392869044,
     "user": {
      "displayName": "조중현",
      "photoUrl": "",
      "userId": "04275587646849861321"
     },
     "user_tz": -540
    },
    "id": "sabsXWBcROqY",
    "outputId": "a1392b13-a4d2-4805-8a3f-19bbb27dd4c4"
   },
   "outputs": [
    {
     "name": "stdout",
     "output_type": "stream",
     "text": [
      "ls: gdrive/My Drive/Colab Notebooks: No such file or directory\r\n"
     ]
    }
   ],
   "source": [
    "!ls gdrive/My\\ Drive/Colab\\ Notebooks"
   ]
  },
  {
   "cell_type": "markdown",
   "metadata": {
    "colab_type": "text",
    "id": "cD0KhhgnUyqx"
   },
   "source": [
    "## About Machine"
   ]
  },
  {
   "cell_type": "code",
   "execution_count": 47,
   "metadata": {
    "colab": {
     "base_uri": "https://localhost:8080/",
     "height": 306
    },
    "colab_type": "code",
    "executionInfo": {
     "elapsed": 3006,
     "status": "ok",
     "timestamp": 1566393706280,
     "user": {
      "displayName": "조중현",
      "photoUrl": "",
      "userId": "04275587646849861321"
     },
     "user_tz": -540
    },
    "id": "ISS4u4t3VwLa",
    "outputId": "f228c733-3200-40db-fdf2-2bafb83207bf"
   },
   "outputs": [
    {
     "name": "stdout",
     "output_type": "stream",
     "text": [
      "Wed Aug 21 13:21:44 2019       \n",
      "+-----------------------------------------------------------------------------+\n",
      "| NVIDIA-SMI 418.67       Driver Version: 410.79       CUDA Version: 10.0     |\n",
      "|-------------------------------+----------------------+----------------------+\n",
      "| GPU  Name        Persistence-M| Bus-Id        Disp.A | Volatile Uncorr. ECC |\n",
      "| Fan  Temp  Perf  Pwr:Usage/Cap|         Memory-Usage | GPU-Util  Compute M. |\n",
      "|===============================+======================+======================|\n",
      "|   0  Tesla K80           Off  | 00000000:00:04.0 Off |                    0 |\n",
      "| N/A   43C    P8    29W / 149W |      0MiB / 11441MiB |      0%      Default |\n",
      "+-------------------------------+----------------------+----------------------+\n",
      "                                                                               \n",
      "+-----------------------------------------------------------------------------+\n",
      "| Processes:                                                       GPU Memory |\n",
      "|  GPU       PID   Type   Process name                             Usage      |\n",
      "|=============================================================================|\n",
      "|  No running processes found                                                 |\n",
      "+-----------------------------------------------------------------------------+\n"
     ]
    }
   ],
   "source": [
    "!nvidia-smi"
   ]
  },
  {
   "cell_type": "code",
   "execution_count": 48,
   "metadata": {
    "colab": {
     "base_uri": "https://localhost:8080/",
     "height": 34
    },
    "colab_type": "code",
    "executionInfo": {
     "elapsed": 2859,
     "status": "ok",
     "timestamp": 1566393770464,
     "user": {
      "displayName": "조중현",
      "photoUrl": "",
      "userId": "04275587646849861321"
     },
     "user_tz": -540
    },
    "id": "hjM8wrMTVwJA",
    "outputId": "ad395b41-58ec-4fe2-e81b-90d418e76892"
   },
   "outputs": [
    {
     "name": "stdout",
     "output_type": "stream",
     "text": [
      "1.14.0\n"
     ]
    }
   ],
   "source": [
    "import tensorflow as tf\n",
    "print(tf.__version__)"
   ]
  },
  {
   "cell_type": "code",
   "execution_count": 50,
   "metadata": {
    "colab": {
     "base_uri": "https://localhost:8080/",
     "height": 34
    },
    "colab_type": "code",
    "executionInfo": {
     "elapsed": 831,
     "status": "ok",
     "timestamp": 1566393781449,
     "user": {
      "displayName": "조중현",
      "photoUrl": "",
      "userId": "04275587646849861321"
     },
     "user_tz": -540
    },
    "id": "JwAUKNyXVwGe",
    "outputId": "6afe8558-6d8c-4c41-93d5-047928d2c70e"
   },
   "outputs": [
    {
     "name": "stdout",
     "output_type": "stream",
     "text": [
      "1.1.0\n"
     ]
    }
   ],
   "source": [
    "import torch\n",
    "print(torch.__version__)"
   ]
  },
  {
   "cell_type": "code",
   "execution_count": 51,
   "metadata": {
    "colab": {
     "base_uri": "https://localhost:8080/",
     "height": 51
    },
    "colab_type": "code",
    "executionInfo": {
     "elapsed": 846,
     "status": "ok",
     "timestamp": 1566393790743,
     "user": {
      "displayName": "조중현",
      "photoUrl": "",
      "userId": "04275587646849861321"
     },
     "user_tz": -540
    },
    "id": "QYJeVjl4Vv9O",
    "outputId": "c3fe697c-de9e-4b05-ea7e-3ddcf6216e84"
   },
   "outputs": [
    {
     "name": "stdout",
     "output_type": "stream",
     "text": [
      "1.1.0\n"
     ]
    },
    {
     "name": "stderr",
     "output_type": "stream",
     "text": [
      "Using TensorFlow backend.\n"
     ]
    }
   ],
   "source": [
    "import keras\n",
    "print(torch.__version__)"
   ]
  }
 ],
 "metadata": {
  "accelerator": "GPU",
  "colab": {
   "collapsed_sections": [],
   "name": "Day1_1_Colab_Notebook_Setting.ipynb",
   "provenance": [],
   "version": "0.3.2"
  },
  "kernelspec": {
   "display_name": "Python 3",
   "language": "python",
   "name": "python3"
  },
  "language_info": {
   "codemirror_mode": {
    "name": "ipython",
    "version": 3
   },
   "file_extension": ".py",
   "mimetype": "text/x-python",
   "name": "python",
   "nbconvert_exporter": "python",
   "pygments_lexer": "ipython3",
   "version": "3.6.8"
  }
 },
 "nbformat": 4,
 "nbformat_minor": 1
}

{
 "cells": [
  {
   "cell_type": "markdown",
   "metadata": {
    "colab_type": "text",
    "id": "04smeG30KmAV"
   },
   "source": [
    "# Word2Vec(CBOW)"
   ]
  },
  {
   "cell_type": "code",
   "execution_count": 1,
   "metadata": {
    "colab": {},
    "colab_type": "code",
    "id": "5sImvpS59bi9"
   },
   "outputs": [],
   "source": [
    "import tensorflow as tf\n",
    "import numpy as np\n",
    "import os"
   ]
  },
  {
   "cell_type": "code",
   "execution_count": 2,
   "metadata": {
    "colab": {},
    "colab_type": "code",
    "id": "_nQHOs7iKuzC"
   },
   "outputs": [],
   "source": [
    "samples = [\"철수은 축구를 좋아한다\",\n",
    "          \"영희은 축구를 싫어한다\",\n",
    "          \"철수은 도서관을 좋아한다\",\n",
    "          \"영희은 도서관을 싫어한다\",\n",
    "          \"철수은 공부를 좋아한다\",\n",
    "          \"영희은 공부를 싫어한다\",\n",
    "          \"철수은 축구를 좋아한다 영희은 축구를 싫어한다\"]"
   ]
  },
  {
   "cell_type": "code",
   "execution_count": 3,
   "metadata": {
    "colab": {
     "base_uri": "https://localhost:8080/",
     "height": 70
    },
    "colab_type": "code",
    "executionInfo": {
     "elapsed": 884,
     "status": "ok",
     "timestamp": 1559966263240,
     "user": {
      "displayName": "ChangWook Jun",
      "photoUrl": "https://lh6.googleusercontent.com/-NHLAhAbNfPg/AAAAAAAAAAI/AAAAAAAAAEc/NDLQ8z7-qns/s64/photo.jpg",
      "userId": "00685987924881157185"
     },
     "user_tz": -540
    },
    "id": "jvV4yJMnKwRC",
    "outputId": "fe995772-5c47-495f-c8b0-3726ab512c4d"
   },
   "outputs": [],
   "source": [
    "from tensorflow.keras import preprocessing\n",
    "\n",
    "tokenizer = preprocessing.text.Tokenizer()\n",
    "tokenizer.fit_on_texts(samples) \n",
    "sequences = tokenizer.texts_to_sequences(samples) \n",
    "\n",
    "word_to_index = tokenizer.word_index"
   ]
  },
  {
   "cell_type": "code",
   "execution_count": 4,
   "metadata": {},
   "outputs": [
    {
     "data": {
      "text/plain": [
       "{'철수은': 1, '축구를': 2, '좋아한다': 3, '영희은': 4, '싫어한다': 5, '도서관을': 6, '공부를': 7}"
      ]
     },
     "execution_count": 4,
     "metadata": {},
     "output_type": "execute_result"
    }
   ],
   "source": [
    "word_to_index"
   ]
  },
  {
   "cell_type": "code",
   "execution_count": 5,
   "metadata": {
    "colab": {
     "base_uri": "https://localhost:8080/",
     "height": 54
    },
    "colab_type": "code",
    "executionInfo": {
     "elapsed": 706,
     "status": "ok",
     "timestamp": 1559966318640,
     "user": {
      "displayName": "ChangWook Jun",
      "photoUrl": "https://lh6.googleusercontent.com/-NHLAhAbNfPg/AAAAAAAAAAI/AAAAAAAAAEc/NDLQ8z7-qns/s64/photo.jpg",
      "userId": "00685987924881157185"
     },
     "user_tz": -540
    },
    "id": "ewtHb4vmK0o5",
    "outputId": "4c8021bd-c709-4112-e4ad-7e9c46343df6"
   },
   "outputs": [
    {
     "name": "stdout",
     "output_type": "stream",
     "text": [
      "{1: '철수은', 2: '축구를', 3: '좋아한다', 4: '영희은', 5: '싫어한다', 6: '도서관을', 7: '공부를'}\n"
     ]
    }
   ],
   "source": [
    "index_to_word = dict((i, w) for w, i in word_to_index.items())\n",
    "print(index_to_word)"
   ]
  },
  {
   "cell_type": "code",
   "execution_count": 6,
   "metadata": {
    "colab": {
     "base_uri": "https://localhost:8080/",
     "height": 87
    },
    "colab_type": "code",
    "executionInfo": {
     "elapsed": 978,
     "status": "ok",
     "timestamp": 1559966422468,
     "user": {
      "displayName": "ChangWook Jun",
      "photoUrl": "https://lh6.googleusercontent.com/-NHLAhAbNfPg/AAAAAAAAAAI/AAAAAAAAAEc/NDLQ8z7-qns/s64/photo.jpg",
      "userId": "00685987924881157185"
     },
     "user_tz": -540
    },
    "id": "YyzqgczgMbPC",
    "outputId": "ce191f5c-ee17-47fc-baef-d06b2ee3d6d0"
   },
   "outputs": [
    {
     "name": "stdout",
     "output_type": "stream",
     "text": [
      "sequences: [[1, 2, 3], [4, 2, 5], [1, 6, 3], [4, 6, 5], [1, 7, 3], [4, 7, 5], [1, 2, 3, 4, 2, 5]]\n",
      "cbow_data\n",
      "[[2, [1, 3]], [2, [4, 5]], [6, [1, 3]], [6, [4, 5]], [7, [1, 3]], [7, [4, 5]], [2, [1, 3]], [3, [2, 4]], [4, [3, 2]], [2, [4, 5]]]\n"
     ]
    }
   ],
   "source": [
    "cbow_data = []\n",
    "print(f'sequences: {sequences}')\n",
    "\n",
    "for sequence in sequences:\n",
    "    for i in range(1, len(sequence) - 1):\n",
    "        target = sequence[i]\n",
    "        context = [sequence[i - 1], sequence[i + 1]]\n",
    "        cbow_data.append([target, context])\n",
    "        \n",
    "print(f'cbow_data\\n{cbow_data}')"
   ]
  },
  {
   "cell_type": "code",
   "execution_count": 7,
   "metadata": {
    "colab": {},
    "colab_type": "code",
    "id": "lJljzCV_PB-j"
   },
   "outputs": [],
   "source": [
    "context_left = []\n",
    "context_right = []\n",
    "target = []\n",
    "for i in range(len(cbow_data)):\n",
    "    context_left.append(cbow_data[i][1][0])  # input1\n",
    "    context_right.append(cbow_data[i][1][1])  # input2\n",
    "    target.append(cbow_data[i][0])  # label"
   ]
  },
  {
   "cell_type": "code",
   "execution_count": 8,
   "metadata": {
    "colab": {},
    "colab_type": "code",
    "id": "BOyEUezOUEqF"
   },
   "outputs": [],
   "source": [
    "def mapping_fn(context_left, context_right, target):\n",
    "    features = {\"context_left\": context_left, \"context_right\": context_right}\n",
    "    return features, target"
   ]
  },
  {
   "cell_type": "code",
   "execution_count": 9,
   "metadata": {
    "colab": {},
    "colab_type": "code",
    "id": "5V1-b28KQ2wI"
   },
   "outputs": [],
   "source": [
    "EPOCH_SIZE = 1500\n",
    "BATCH_SIZE = 2\n",
    "\n",
    "def train_input_fn():\n",
    "    dataset = tf.data.Dataset.from_tensor_slices((context_left, context_right, target))\n",
    "    dataset = dataset.repeat(EPOCH_SIZE)\n",
    "    dataset = dataset.batch(BATCH_SIZE)\n",
    "    dataset = dataset.shuffle(len(cbow_data))\n",
    "    dataset = dataset.map(mapping_fn)\n",
    "\n",
    "    return dataset"
   ]
  },
  {
   "cell_type": "code",
   "execution_count": 10,
   "metadata": {
    "colab": {},
    "colab_type": "code",
    "id": "uUITRq1ZF0Ks"
   },
   "outputs": [],
   "source": [
    "VOCAB_SIZE = len(word_to_index) + 1\n",
    "EMB_SIZE = 128\n",
    "\n",
    "def model_fn(features, labels, mode):\n",
    "    \n",
    "    w_1 = tf.Variable(tf.random_uniform([VOCAB_SIZE, EMB_SIZE], -1.0, 1.0)) #(10, 2)\n",
    "    w_2 = tf.Variable(tf.random_uniform([EMB_SIZE, VOCAB_SIZE], -1.0, 1.0)) #(2, 10)\n",
    "\n",
    "    context_left = tf.one_hot(indices=features['context_left'], depth=VOCAB_SIZE) #(?, 10)\n",
    "    context_right = tf.one_hot(indices=features['context_right'], depth=VOCAB_SIZE) #(?, 10)\n",
    "    \n",
    "    h_1 = tf.matmul(context_left, w_1)\n",
    "    h_2 = tf.matmul(context_right, w_1)\n",
    "    hidden = (h_1 + h_2) / 2\n",
    "\n",
    "    output = tf.matmul(hidden, w_2) # (?, 2)*(2, 10) = (?, 10)\n",
    "                                   \n",
    "    targets = tf.one_hot(indices=labels, depth=VOCAB_SIZE)  \n",
    "                                                            \n",
    "    loss = tf.losses.softmax_cross_entropy(targets, output)\n",
    "\n",
    "    global_step = tf.train.get_global_step()\n",
    "    train_op = tf.train.AdamOptimizer(1e-3).minimize(loss, global_step)\n",
    "\n",
    "    return tf.estimator.EstimatorSpec(\n",
    "          mode=mode,\n",
    "          train_op=train_op,\n",
    "          loss=loss)"
   ]
  },
  {
   "cell_type": "code",
   "execution_count": 11,
   "metadata": {
    "colab": {
     "base_uri": "https://localhost:8080/",
     "height": 171
    },
    "colab_type": "code",
    "executionInfo": {
     "elapsed": 586,
     "status": "ok",
     "timestamp": 1559967273761,
     "user": {
      "displayName": "ChangWook Jun",
      "photoUrl": "https://lh6.googleusercontent.com/-NHLAhAbNfPg/AAAAAAAAAAI/AAAAAAAAAEc/NDLQ8z7-qns/s64/photo.jpg",
      "userId": "00685987924881157185"
     },
     "user_tz": -540
    },
    "id": "MvJy2iE2RYea",
    "outputId": "a6d4d3b8-034e-4dd7-e4c4-b6fa9f44c3dd"
   },
   "outputs": [],
   "source": [
    "DATA_OUT_PATH = './data_out/'\n",
    "\n",
    "if not os.path.exists(DATA_OUT_PATH):\n",
    "    os.makedirs(DATA_OUT_PATH)\n",
    "\n",
    "estimator = tf.estimator.Estimator(model_fn = model_fn, model_dir = DATA_OUT_PATH + 'checkpoint/cbow')"
   ]
  },
  {
   "cell_type": "code",
   "execution_count": 12,
   "metadata": {},
   "outputs": [],
   "source": [
    "tf.logging.set_verbosity(tf.logging.INFO)"
   ]
  },
  {
   "cell_type": "code",
   "execution_count": 13,
   "metadata": {
    "colab": {
     "base_uri": "https://localhost:8080/",
     "height": 1750
    },
    "colab_type": "code",
    "executionInfo": {
     "elapsed": 8876,
     "status": "ok",
     "timestamp": 1559967284485,
     "user": {
      "displayName": "ChangWook Jun",
      "photoUrl": "https://lh6.googleusercontent.com/-NHLAhAbNfPg/AAAAAAAAAAI/AAAAAAAAAEc/NDLQ8z7-qns/s64/photo.jpg",
      "userId": "00685987924881157185"
     },
     "user_tz": -540
    },
    "id": "oQQT8WjWRlDY",
    "outputId": "12b27495-98d5-4e0e-cd9c-49816254a222",
    "scrolled": true
   },
   "outputs": [
    {
     "name": "stderr",
     "output_type": "stream",
     "text": [
      "WARNING: Logging before flag parsing goes to stderr.\n",
      "W0831 01:20:16.684341 4609627584 deprecation.py:323] From /Users/chojunghyun/anaconda3/envs/tensorflow/lib/python3.6/site-packages/tensorflow/python/training/training_util.py:236: Variable.initialized_value (from tensorflow.python.ops.variables) is deprecated and will be removed in a future version.\n",
      "Instructions for updating:\n",
      "Use Variable.read_value. Variables in 2.X are initialized automatically both in eager and graph (inside tf.defun) contexts.\n",
      "I0831 01:20:16.725536 4609627584 estimator.py:1145] Calling model_fn.\n",
      "W0831 01:20:16.770097 4609627584 deprecation.py:323] From /Users/chojunghyun/anaconda3/envs/tensorflow/lib/python3.6/site-packages/tensorflow/python/ops/losses/losses_impl.py:121: add_dispatch_support.<locals>.wrapper (from tensorflow.python.ops.array_ops) is deprecated and will be removed in a future version.\n",
      "Instructions for updating:\n",
      "Use tf.where in 2.0, which has the same broadcast rule as np.where\n",
      "I0831 01:20:16.851708 4609627584 estimator.py:1147] Done calling model_fn.\n",
      "I0831 01:20:16.853312 4609627584 basic_session_run_hooks.py:541] Create CheckpointSaverHook.\n",
      "I0831 01:20:16.939156 4609627584 monitored_session.py:240] Graph was finalized.\n",
      "W0831 01:20:16.942110 4609627584 deprecation.py:323] From /Users/chojunghyun/anaconda3/envs/tensorflow/lib/python3.6/site-packages/tensorflow/python/training/saver.py:1276: checkpoint_exists (from tensorflow.python.training.checkpoint_management) is deprecated and will be removed in a future version.\n",
      "Instructions for updating:\n",
      "Use standard file APIs to check for files with this prefix.\n",
      "I0831 01:20:16.943518 4609627584 saver.py:1280] Restoring parameters from ./data_out/checkpoint/cbow/model.ckpt-7500\n",
      "W0831 01:20:16.959499 4609627584 deprecation.py:323] From /Users/chojunghyun/anaconda3/envs/tensorflow/lib/python3.6/site-packages/tensorflow/python/training/saver.py:1066: get_checkpoint_mtimes (from tensorflow.python.training.checkpoint_management) is deprecated and will be removed in a future version.\n",
      "Instructions for updating:\n",
      "Use standard file utilities to get mtimes.\n",
      "I0831 01:20:16.972081 4609627584 session_manager.py:500] Running local_init_op.\n",
      "I0831 01:20:16.977174 4609627584 session_manager.py:502] Done running local_init_op.\n",
      "I0831 01:20:17.092146 4609627584 basic_session_run_hooks.py:606] Saving checkpoints for 7500 into ./data_out/checkpoint/cbow/model.ckpt.\n",
      "I0831 01:20:17.185566 4609627584 basic_session_run_hooks.py:262] loss = 1.4253294, step = 7501\n",
      "I0831 01:20:17.266796 4609627584 basic_session_run_hooks.py:692] global_step/sec: 1227.4\n",
      "I0831 01:20:17.267505 4609627584 basic_session_run_hooks.py:260] loss = 0.3433458, step = 7601 (0.082 sec)\n",
      "I0831 01:20:17.312190 4609627584 basic_session_run_hooks.py:692] global_step/sec: 2202.64\n",
      "I0831 01:20:17.312922 4609627584 basic_session_run_hooks.py:260] loss = 0.58247185, step = 7701 (0.045 sec)\n",
      "I0831 01:20:17.357584 4609627584 basic_session_run_hooks.py:692] global_step/sec: 2202.95\n",
      "I0831 01:20:17.358314 4609627584 basic_session_run_hooks.py:260] loss = 1.5984759, step = 7801 (0.045 sec)\n",
      "I0831 01:20:17.404958 4609627584 basic_session_run_hooks.py:692] global_step/sec: 2111.39\n",
      "I0831 01:20:17.405709 4609627584 basic_session_run_hooks.py:260] loss = 0.36677727, step = 7901 (0.047 sec)\n",
      "I0831 01:20:17.450685 4609627584 basic_session_run_hooks.py:692] global_step/sec: 2186.26\n",
      "I0831 01:20:17.451411 4609627584 basic_session_run_hooks.py:260] loss = 0.73267114, step = 8001 (0.046 sec)\n",
      "I0831 01:20:17.498384 4609627584 basic_session_run_hooks.py:692] global_step/sec: 2096.61\n",
      "I0831 01:20:17.499101 4609627584 basic_session_run_hooks.py:260] loss = 1.3171072, step = 8101 (0.048 sec)\n",
      "I0831 01:20:17.544949 4609627584 basic_session_run_hooks.py:692] global_step/sec: 2147.59\n",
      "I0831 01:20:17.545646 4609627584 basic_session_run_hooks.py:260] loss = 0.3555389, step = 8201 (0.047 sec)\n",
      "I0831 01:20:17.590879 4609627584 basic_session_run_hooks.py:692] global_step/sec: 2177.04\n",
      "I0831 01:20:17.591575 4609627584 basic_session_run_hooks.py:260] loss = 1.4349912, step = 8301 (0.046 sec)\n",
      "I0831 01:20:17.636164 4609627584 basic_session_run_hooks.py:692] global_step/sec: 2208.24\n",
      "I0831 01:20:17.636891 4609627584 basic_session_run_hooks.py:260] loss = 1.3433369, step = 8401 (0.045 sec)\n",
      "I0831 01:20:17.682294 4609627584 basic_session_run_hooks.py:692] global_step/sec: 2168.25\n",
      "I0831 01:20:17.683299 4609627584 basic_session_run_hooks.py:260] loss = 1.4736435, step = 8501 (0.046 sec)\n",
      "I0831 01:20:17.728624 4609627584 basic_session_run_hooks.py:692] global_step/sec: 2158.06\n",
      "I0831 01:20:17.729331 4609627584 basic_session_run_hooks.py:260] loss = 0.43783942, step = 8601 (0.046 sec)\n",
      "I0831 01:20:17.773253 4609627584 basic_session_run_hooks.py:692] global_step/sec: 2240.59\n",
      "I0831 01:20:17.773994 4609627584 basic_session_run_hooks.py:260] loss = 1.4425391, step = 8701 (0.045 sec)\n",
      "I0831 01:20:17.819565 4609627584 basic_session_run_hooks.py:692] global_step/sec: 2159.69\n",
      "I0831 01:20:17.820353 4609627584 basic_session_run_hooks.py:260] loss = 0.35107973, step = 8801 (0.046 sec)\n",
      "I0831 01:20:17.866310 4609627584 basic_session_run_hooks.py:692] global_step/sec: 2138.81\n",
      "I0831 01:20:17.867002 4609627584 basic_session_run_hooks.py:260] loss = 0.34980786, step = 8901 (0.047 sec)\n",
      "I0831 01:20:17.913682 4609627584 basic_session_run_hooks.py:692] global_step/sec: 2111.18\n",
      "I0831 01:20:17.914481 4609627584 basic_session_run_hooks.py:260] loss = 1.4793808, step = 9001 (0.047 sec)\n",
      "I0831 01:20:17.960931 4609627584 basic_session_run_hooks.py:692] global_step/sec: 2117.29\n",
      "I0831 01:20:17.961681 4609627584 basic_session_run_hooks.py:260] loss = 0.39980137, step = 9101 (0.047 sec)\n",
      "I0831 01:20:18.008447 4609627584 basic_session_run_hooks.py:692] global_step/sec: 2104.07\n",
      "I0831 01:20:18.009293 4609627584 basic_session_run_hooks.py:260] loss = 1.4100394, step = 9201 (0.048 sec)\n",
      "I0831 01:20:18.054183 4609627584 basic_session_run_hooks.py:692] global_step/sec: 2186.13\n",
      "I0831 01:20:18.054905 4609627584 basic_session_run_hooks.py:260] loss = 0.6389078, step = 9301 (0.046 sec)\n",
      "I0831 01:20:18.101459 4609627584 basic_session_run_hooks.py:692] global_step/sec: 2115.25\n",
      "I0831 01:20:18.102272 4609627584 basic_session_run_hooks.py:260] loss = 0.26352, step = 9401 (0.047 sec)\n",
      "I0831 01:20:18.147181 4609627584 basic_session_run_hooks.py:692] global_step/sec: 2187.93\n",
      "I0831 01:20:18.147944 4609627584 basic_session_run_hooks.py:260] loss = 0.3993698, step = 9501 (0.046 sec)\n",
      "I0831 01:20:18.193831 4609627584 basic_session_run_hooks.py:692] global_step/sec: 2142.62\n",
      "I0831 01:20:18.194540 4609627584 basic_session_run_hooks.py:260] loss = 0.42126474, step = 9601 (0.047 sec)\n",
      "I0831 01:20:18.240552 4609627584 basic_session_run_hooks.py:692] global_step/sec: 2140.37\n",
      "I0831 01:20:18.241250 4609627584 basic_session_run_hooks.py:260] loss = 0.30493566, step = 9701 (0.047 sec)\n",
      "I0831 01:20:18.286565 4609627584 basic_session_run_hooks.py:692] global_step/sec: 2173.39\n",
      "I0831 01:20:18.287266 4609627584 basic_session_run_hooks.py:260] loss = 0.3630218, step = 9801 (0.046 sec)\n",
      "I0831 01:20:18.332890 4609627584 basic_session_run_hooks.py:692] global_step/sec: 2158.75\n",
      "I0831 01:20:18.333680 4609627584 basic_session_run_hooks.py:260] loss = 0.38761714, step = 9901 (0.046 sec)\n",
      "I0831 01:20:18.378763 4609627584 basic_session_run_hooks.py:692] global_step/sec: 2179.79\n",
      "I0831 01:20:18.379467 4609627584 basic_session_run_hooks.py:260] loss = 1.1919256, step = 10001 (0.046 sec)\n",
      "I0831 01:20:18.424712 4609627584 basic_session_run_hooks.py:692] global_step/sec: 2176.43\n",
      "I0831 01:20:18.425477 4609627584 basic_session_run_hooks.py:260] loss = 1.4036199, step = 10101 (0.046 sec)\n",
      "I0831 01:20:18.470897 4609627584 basic_session_run_hooks.py:692] global_step/sec: 2165.06\n",
      "I0831 01:20:18.471646 4609627584 basic_session_run_hooks.py:260] loss = 0.70730966, step = 10201 (0.046 sec)\n",
      "I0831 01:20:18.515857 4609627584 basic_session_run_hooks.py:692] global_step/sec: 2224.35\n",
      "I0831 01:20:18.516580 4609627584 basic_session_run_hooks.py:260] loss = 0.41261202, step = 10301 (0.045 sec)\n",
      "I0831 01:20:18.562852 4609627584 basic_session_run_hooks.py:692] global_step/sec: 2127.79\n",
      "I0831 01:20:18.563589 4609627584 basic_session_run_hooks.py:260] loss = 1.4090197, step = 10401 (0.047 sec)\n"
     ]
    },
    {
     "name": "stderr",
     "output_type": "stream",
     "text": [
      "I0831 01:20:18.608546 4609627584 basic_session_run_hooks.py:692] global_step/sec: 2188.61\n",
      "I0831 01:20:18.609292 4609627584 basic_session_run_hooks.py:260] loss = 1.3734701, step = 10501 (0.046 sec)\n",
      "I0831 01:20:18.654312 4609627584 basic_session_run_hooks.py:692] global_step/sec: 2185.11\n",
      "I0831 01:20:18.655019 4609627584 basic_session_run_hooks.py:260] loss = 1.3619967, step = 10601 (0.046 sec)\n",
      "I0831 01:20:18.699129 4609627584 basic_session_run_hooks.py:692] global_step/sec: 2231.16\n",
      "I0831 01:20:18.699836 4609627584 basic_session_run_hooks.py:260] loss = 1.403239, step = 10701 (0.045 sec)\n",
      "I0831 01:20:18.744530 4609627584 basic_session_run_hooks.py:692] global_step/sec: 2202.65\n",
      "I0831 01:20:18.745286 4609627584 basic_session_run_hooks.py:260] loss = 0.7138361, step = 10801 (0.045 sec)\n",
      "I0831 01:20:18.788611 4609627584 basic_session_run_hooks.py:692] global_step/sec: 2268.6\n",
      "I0831 01:20:18.789370 4609627584 basic_session_run_hooks.py:260] loss = 0.35309914, step = 10901 (0.044 sec)\n",
      "I0831 01:20:18.834292 4609627584 basic_session_run_hooks.py:692] global_step/sec: 2188.99\n",
      "I0831 01:20:18.835028 4609627584 basic_session_run_hooks.py:260] loss = 1.5182917, step = 11001 (0.046 sec)\n",
      "I0831 01:20:18.880567 4609627584 basic_session_run_hooks.py:692] global_step/sec: 2161\n",
      "I0831 01:20:18.881248 4609627584 basic_session_run_hooks.py:260] loss = 0.5870582, step = 11101 (0.046 sec)\n",
      "I0831 01:20:18.925983 4609627584 basic_session_run_hooks.py:692] global_step/sec: 2201.82\n",
      "I0831 01:20:18.926746 4609627584 basic_session_run_hooks.py:260] loss = 1.5644436, step = 11201 (0.045 sec)\n",
      "I0831 01:20:18.971982 4609627584 basic_session_run_hooks.py:692] global_step/sec: 2174\n",
      "I0831 01:20:18.972666 4609627584 basic_session_run_hooks.py:260] loss = 0.34462368, step = 11301 (0.046 sec)\n",
      "I0831 01:20:19.019716 4609627584 basic_session_run_hooks.py:692] global_step/sec: 2094.9\n",
      "I0831 01:20:19.020410 4609627584 basic_session_run_hooks.py:260] loss = 1.5827848, step = 11401 (0.048 sec)\n",
      "I0831 01:20:19.068292 4609627584 basic_session_run_hooks.py:692] global_step/sec: 2059.7\n",
      "I0831 01:20:19.069445 4609627584 basic_session_run_hooks.py:260] loss = 1.4364659, step = 11501 (0.049 sec)\n",
      "I0831 01:20:19.119967 4609627584 basic_session_run_hooks.py:692] global_step/sec: 1934.16\n",
      "I0831 01:20:19.120682 4609627584 basic_session_run_hooks.py:260] loss = 1.4066827, step = 11601 (0.051 sec)\n",
      "I0831 01:20:19.165443 4609627584 basic_session_run_hooks.py:692] global_step/sec: 2199.21\n",
      "I0831 01:20:19.166157 4609627584 basic_session_run_hooks.py:260] loss = 1.2874069, step = 11701 (0.045 sec)\n",
      "I0831 01:20:19.210078 4609627584 basic_session_run_hooks.py:692] global_step/sec: 2240.3\n",
      "I0831 01:20:19.210813 4609627584 basic_session_run_hooks.py:260] loss = 0.7029649, step = 11801 (0.045 sec)\n",
      "I0831 01:20:19.256357 4609627584 basic_session_run_hooks.py:692] global_step/sec: 2160.66\n",
      "I0831 01:20:19.257107 4609627584 basic_session_run_hooks.py:260] loss = 1.303116, step = 11901 (0.046 sec)\n",
      "I0831 01:20:19.304602 4609627584 basic_session_run_hooks.py:692] global_step/sec: 2072.88\n",
      "I0831 01:20:19.305408 4609627584 basic_session_run_hooks.py:260] loss = 1.291666, step = 12001 (0.048 sec)\n",
      "I0831 01:20:19.350464 4609627584 basic_session_run_hooks.py:692] global_step/sec: 2180.41\n",
      "I0831 01:20:19.351214 4609627584 basic_session_run_hooks.py:260] loss = 0.3663264, step = 12101 (0.046 sec)\n",
      "I0831 01:20:19.395582 4609627584 basic_session_run_hooks.py:692] global_step/sec: 2216.7\n",
      "I0831 01:20:19.396310 4609627584 basic_session_run_hooks.py:260] loss = 1.6155366, step = 12201 (0.045 sec)\n",
      "I0831 01:20:19.442713 4609627584 basic_session_run_hooks.py:692] global_step/sec: 2121.93\n",
      "I0831 01:20:19.443402 4609627584 basic_session_run_hooks.py:260] loss = 1.3680624, step = 12301 (0.047 sec)\n",
      "I0831 01:20:19.488346 4609627584 basic_session_run_hooks.py:692] global_step/sec: 2190.97\n",
      "I0831 01:20:19.489061 4609627584 basic_session_run_hooks.py:260] loss = 0.37362456, step = 12401 (0.046 sec)\n",
      "I0831 01:20:19.535006 4609627584 basic_session_run_hooks.py:692] global_step/sec: 2143.26\n",
      "I0831 01:20:19.535738 4609627584 basic_session_run_hooks.py:260] loss = 1.3275182, step = 12501 (0.047 sec)\n",
      "I0831 01:20:19.581660 4609627584 basic_session_run_hooks.py:692] global_step/sec: 2143.34\n",
      "I0831 01:20:19.582350 4609627584 basic_session_run_hooks.py:260] loss = 1.3669617, step = 12601 (0.047 sec)\n",
      "I0831 01:20:19.626493 4609627584 basic_session_run_hooks.py:692] global_step/sec: 2230.46\n",
      "I0831 01:20:19.627214 4609627584 basic_session_run_hooks.py:260] loss = 1.2879577, step = 12701 (0.045 sec)\n",
      "I0831 01:20:19.672901 4609627584 basic_session_run_hooks.py:692] global_step/sec: 2155.21\n",
      "I0831 01:20:19.673678 4609627584 basic_session_run_hooks.py:260] loss = 1.5466422, step = 12801 (0.046 sec)\n",
      "I0831 01:20:19.719423 4609627584 basic_session_run_hooks.py:692] global_step/sec: 2149.33\n",
      "I0831 01:20:19.720221 4609627584 basic_session_run_hooks.py:260] loss = 1.3806484, step = 12901 (0.047 sec)\n",
      "I0831 01:20:19.764918 4609627584 basic_session_run_hooks.py:692] global_step/sec: 2198.01\n",
      "I0831 01:20:19.765680 4609627584 basic_session_run_hooks.py:260] loss = 0.3434401, step = 13001 (0.045 sec)\n",
      "I0831 01:20:19.811028 4609627584 basic_session_run_hooks.py:692] global_step/sec: 2168.48\n",
      "I0831 01:20:19.811777 4609627584 basic_session_run_hooks.py:260] loss = 1.3261001, step = 13101 (0.046 sec)\n",
      "I0831 01:20:19.857614 4609627584 basic_session_run_hooks.py:692] global_step/sec: 2146.65\n",
      "I0831 01:20:19.858390 4609627584 basic_session_run_hooks.py:260] loss = 0.34534952, step = 13201 (0.047 sec)\n",
      "I0831 01:20:19.901557 4609627584 basic_session_run_hooks.py:692] global_step/sec: 2275.74\n",
      "I0831 01:20:19.902291 4609627584 basic_session_run_hooks.py:260] loss = 0.7503028, step = 13301 (0.044 sec)\n",
      "I0831 01:20:19.944933 4609627584 basic_session_run_hooks.py:692] global_step/sec: 2305.41\n",
      "I0831 01:20:19.945667 4609627584 basic_session_run_hooks.py:260] loss = 1.4119163, step = 13401 (0.043 sec)\n",
      "I0831 01:20:19.986911 4609627584 basic_session_run_hooks.py:692] global_step/sec: 2382.27\n",
      "I0831 01:20:19.987620 4609627584 basic_session_run_hooks.py:260] loss = 0.33183998, step = 13501 (0.042 sec)\n",
      "I0831 01:20:20.028762 4609627584 basic_session_run_hooks.py:692] global_step/sec: 2389.2\n",
      "I0831 01:20:20.029448 4609627584 basic_session_run_hooks.py:260] loss = 0.4447532, step = 13601 (0.042 sec)\n",
      "I0831 01:20:20.070935 4609627584 basic_session_run_hooks.py:692] global_step/sec: 2371.28\n",
      "I0831 01:20:20.071636 4609627584 basic_session_run_hooks.py:260] loss = 1.349536, step = 13701 (0.042 sec)\n",
      "I0831 01:20:20.113509 4609627584 basic_session_run_hooks.py:692] global_step/sec: 2348.75\n",
      "I0831 01:20:20.114228 4609627584 basic_session_run_hooks.py:260] loss = 1.4112949, step = 13801 (0.043 sec)\n",
      "I0831 01:20:20.157075 4609627584 basic_session_run_hooks.py:692] global_step/sec: 2295.26\n",
      "I0831 01:20:20.157804 4609627584 basic_session_run_hooks.py:260] loss = 0.6487179, step = 13901 (0.044 sec)\n",
      "I0831 01:20:20.202864 4609627584 basic_session_run_hooks.py:692] global_step/sec: 2184.17\n",
      "I0831 01:20:20.203578 4609627584 basic_session_run_hooks.py:260] loss = 0.36245292, step = 14001 (0.046 sec)\n",
      "I0831 01:20:20.248186 4609627584 basic_session_run_hooks.py:692] global_step/sec: 2206.44\n",
      "I0831 01:20:20.248898 4609627584 basic_session_run_hooks.py:260] loss = 0.35854506, step = 14101 (0.045 sec)\n",
      "I0831 01:20:20.296218 4609627584 basic_session_run_hooks.py:692] global_step/sec: 2081.98\n",
      "I0831 01:20:20.296922 4609627584 basic_session_run_hooks.py:260] loss = 0.28831175, step = 14201 (0.048 sec)\n",
      "I0831 01:20:20.341872 4609627584 basic_session_run_hooks.py:692] global_step/sec: 2190.34\n",
      "I0831 01:20:20.342565 4609627584 basic_session_run_hooks.py:260] loss = 0.3458653, step = 14301 (0.046 sec)\n",
      "I0831 01:20:20.387130 4609627584 basic_session_run_hooks.py:692] global_step/sec: 2209.42\n",
      "I0831 01:20:20.387906 4609627584 basic_session_run_hooks.py:260] loss = 0.3687224, step = 14401 (0.045 sec)\n",
      "I0831 01:20:20.434599 4609627584 basic_session_run_hooks.py:692] global_step/sec: 2106.8\n",
      "I0831 01:20:20.435355 4609627584 basic_session_run_hooks.py:260] loss = 1.4831872, step = 14501 (0.047 sec)\n",
      "I0831 01:20:20.481704 4609627584 basic_session_run_hooks.py:692] global_step/sec: 2122.92\n"
     ]
    },
    {
     "name": "stderr",
     "output_type": "stream",
     "text": [
      "I0831 01:20:20.482544 4609627584 basic_session_run_hooks.py:260] loss = 1.5112734, step = 14601 (0.047 sec)\n",
      "I0831 01:20:20.525414 4609627584 basic_session_run_hooks.py:692] global_step/sec: 2287.54\n",
      "I0831 01:20:20.526127 4609627584 basic_session_run_hooks.py:260] loss = 1.5756564, step = 14701 (0.044 sec)\n",
      "I0831 01:20:20.568524 4609627584 basic_session_run_hooks.py:692] global_step/sec: 2319.76\n",
      "I0831 01:20:20.569298 4609627584 basic_session_run_hooks.py:260] loss = 0.71244645, step = 14801 (0.043 sec)\n",
      "I0831 01:20:20.612902 4609627584 basic_session_run_hooks.py:692] global_step/sec: 2253.37\n",
      "I0831 01:20:20.613626 4609627584 basic_session_run_hooks.py:260] loss = 0.37854207, step = 14901 (0.044 sec)\n",
      "I0831 01:20:20.664997 4609627584 basic_session_run_hooks.py:606] Saving checkpoints for 15000 into ./data_out/checkpoint/cbow/model.ckpt.\n",
      "I0831 01:20:20.698696 4609627584 estimator.py:368] Loss for final step: 0.38482404.\n"
     ]
    },
    {
     "data": {
      "text/plain": [
       "<tensorflow_estimator.python.estimator.estimator.Estimator at 0x7f8a6435e470>"
      ]
     },
     "execution_count": 13,
     "metadata": {},
     "output_type": "execute_result"
    }
   ],
   "source": [
    "estimator.train(train_input_fn)"
   ]
  },
  {
   "cell_type": "code",
   "execution_count": 14,
   "metadata": {
    "colab": {},
    "colab_type": "code",
    "id": "9tKfzJevRnxo"
   },
   "outputs": [],
   "source": [
    "variable_names = estimator.get_variable_names()"
   ]
  },
  {
   "cell_type": "code",
   "execution_count": 15,
   "metadata": {
    "colab": {
     "base_uri": "https://localhost:8080/",
     "height": 168
    },
    "colab_type": "code",
    "executionInfo": {
     "elapsed": 1052,
     "status": "ok",
     "timestamp": 1559967322094,
     "user": {
      "displayName": "ChangWook Jun",
      "photoUrl": "https://lh6.googleusercontent.com/-NHLAhAbNfPg/AAAAAAAAAAI/AAAAAAAAAEc/NDLQ8z7-qns/s64/photo.jpg",
      "userId": "00685987924881157185"
     },
     "user_tz": -540
    },
    "id": "YnQlYU0RHap2",
    "outputId": "e487c3de-4063-4dd3-ba85-8e77e9132588"
   },
   "outputs": [
    {
     "data": {
      "text/plain": [
       "['Variable',\n",
       " 'Variable/Adam',\n",
       " 'Variable/Adam_1',\n",
       " 'Variable_1',\n",
       " 'Variable_1/Adam',\n",
       " 'Variable_1/Adam_1',\n",
       " 'beta1_power',\n",
       " 'beta2_power',\n",
       " 'global_step']"
      ]
     },
     "execution_count": 15,
     "metadata": {},
     "output_type": "execute_result"
    }
   ],
   "source": [
    "variable_names"
   ]
  },
  {
   "cell_type": "code",
   "execution_count": 16,
   "metadata": {
    "colab": {},
    "colab_type": "code",
    "id": "b3jCKr8zHbwG"
   },
   "outputs": [],
   "source": [
    "embdding_matrix = estimator.get_variable_value(variable_names[0])"
   ]
  },
  {
   "cell_type": "code",
   "execution_count": 17,
   "metadata": {
    "colab": {
     "base_uri": "https://localhost:8080/",
     "height": 185
    },
    "colab_type": "code",
    "executionInfo": {
     "elapsed": 844,
     "status": "ok",
     "timestamp": 1559969329139,
     "user": {
      "displayName": "ChangWook Jun",
      "photoUrl": "https://lh6.googleusercontent.com/-NHLAhAbNfPg/AAAAAAAAAAI/AAAAAAAAAEc/NDLQ8z7-qns/s64/photo.jpg",
      "userId": "00685987924881157185"
     },
     "user_tz": -540
    },
    "id": "74KYYRfbasDf",
    "outputId": "8de994c7-d3a6-4f92-b188-bfab494ac4aa",
    "scrolled": true
   },
   "outputs": [
    {
     "data": {
      "text/plain": [
       "array([[-0.14622808, -0.81225276,  0.9380224 , ...,  0.05378175,\n",
       "         0.20119476,  0.50088024],\n",
       "       [-0.3923105 , -0.8312887 ,  0.39931643, ...,  0.3924863 ,\n",
       "         1.1373515 , -0.5509348 ],\n",
       "       [-0.3215018 , -0.8170654 , -0.01663831, ...,  0.43194512,\n",
       "         0.3066686 , -0.93380404],\n",
       "       ...,\n",
       "       [-0.7240176 ,  0.77786535, -0.5087808 , ..., -0.2588671 ,\n",
       "        -0.7777245 , -0.14789672],\n",
       "       [-0.89858913,  0.6775603 , -0.7955756 , ..., -0.39293742,\n",
       "         0.00674939, -0.9907913 ],\n",
       "       [-0.355783  ,  0.713408  , -0.20145226, ...,  0.48307037,\n",
       "        -0.2784419 , -0.09202003]], dtype=float32)"
      ]
     },
     "execution_count": 17,
     "metadata": {},
     "output_type": "execute_result"
    }
   ],
   "source": [
    "embdding_matrix"
   ]
  },
  {
   "cell_type": "markdown",
   "metadata": {
    "colab_type": "text",
    "id": "1ykcnjQrpuCJ"
   },
   "source": [
    "### 임베딩 그림 그리기"
   ]
  },
  {
   "cell_type": "code",
   "execution_count": 18,
   "metadata": {
    "colab": {
     "base_uri": "https://localhost:8080/",
     "height": 84
    },
    "colab_type": "code",
    "executionInfo": {
     "elapsed": 883,
     "status": "ok",
     "timestamp": 1559967475546,
     "user": {
      "displayName": "ChangWook Jun",
      "photoUrl": "https://lh6.googleusercontent.com/-NHLAhAbNfPg/AAAAAAAAAAI/AAAAAAAAAEc/NDLQ8z7-qns/s64/photo.jpg",
      "userId": "00685987924881157185"
     },
     "user_tz": -540
    },
    "id": "15UYjxjghtjY",
    "outputId": "a8659864-0f8c-495d-8eeb-32807cb8cffa"
   },
   "outputs": [],
   "source": [
    "%matplotlib inline  \n",
    "\n",
    "import matplotlib.pyplot as plt  "
   ]
  },
  {
   "cell_type": "code",
   "execution_count": 19,
   "metadata": {},
   "outputs": [],
   "source": [
    "from sklearn.manifold import TSNE"
   ]
  },
  {
   "cell_type": "code",
   "execution_count": 20,
   "metadata": {},
   "outputs": [
    {
     "data": {
      "image/png": "[encoded data removed]",
      "text/plain": [
       "<Figure size 432x288 with 1 Axes>"
      ]
     },
     "metadata": {
      "needs_background": "light"
     },
     "output_type": "display_data"
    }
   ],
   "source": [
    "model = TSNE(learning_rate=100)\n",
    "transformed = model.fit_transform(embdding_matrix)\n",
    "\n",
    "xs = transformed[:,0]\n",
    "ys = transformed[:,1]\n",
    "\n",
    "for i, offset in enumerate(transformed[1:]):\n",
    "    x, y = offset\n",
    "    plt.scatter(x, y)\n",
    "    plt.annotate(index_to_word[i+1], xy=(x, y), xytext=(6, 4),\n",
    "                 textcoords='offset points', ha='right', va='bottom')\n",
    "\n",
    "plt.show()"
   ]
  },
  {
   "cell_type": "code",
   "execution_count": 21,
   "metadata": {},
   "outputs": [],
   "source": [
    "import matplotlib.font_manager as fm  "
   ]
  },
  {
   "cell_type": "code",
   "execution_count": 22,
   "metadata": {
    "colab": {},
    "colab_type": "code",
    "id": "_asKRYDyoYcs"
   },
   "outputs": [],
   "source": [
    "path = './NanumBarunGothic.ttf'\n",
    "fontprop = fm.FontProperties(fname=path, size=12)"
   ]
  },
  {
   "cell_type": "code",
   "execution_count": 23,
   "metadata": {},
   "outputs": [
    {
     "data": {
      "image/png": "[encoded data removed]",
      "text/plain": [
       "<Figure size 432x288 with 1 Axes>"
      ]
     },
     "metadata": {
      "needs_background": "light"
     },
     "output_type": "display_data"
    }
   ],
   "source": [
    "model = TSNE(learning_rate=100)\n",
    "transformed = model.fit_transform(embdding_matrix)\n",
    "\n",
    "xs = transformed[:,0]\n",
    "ys = transformed[:,1]\n",
    "\n",
    "for i, offset in enumerate(transformed[1:]):\n",
    "    x, y = offset\n",
    "    plt.scatter(x, y)\n",
    "    plt.annotate(index_to_word[i+1], xy=(x, y), xytext=(6, 4),\n",
    "                 textcoords='offset points', ha='right', va='bottom', fontproperties=fontprop)\n",
    "\n",
    "plt.show()"
   ]
  },
  {
   "cell_type": "code",
   "execution_count": null,
   "metadata": {},
   "outputs": [],
   "source": []
  }
 ],
 "metadata": {
  "accelerator": "GPU",
  "colab": {
   "collapsed_sections": [],
   "name": "Day2_3_Word2Vec(CBOW).ipynb",
   "provenance": [],
   "version": "0.3.2"
  },
  "kernelspec": {
   "display_name": "Python 3",
   "language": "python",
   "name": "python3"
  },
  "language_info": {
   "codemirror_mode": {
    "name": "ipython",
    "version": 3
   },
   "file_extension": ".py",
   "mimetype": "text/x-python",
   "name": "python",
   "nbconvert_exporter": "python",
   "pygments_lexer": "ipython3",
   "version": "3.6.8"
  }
 },
 "nbformat": 4,
 "nbformat_minor": 1
}
